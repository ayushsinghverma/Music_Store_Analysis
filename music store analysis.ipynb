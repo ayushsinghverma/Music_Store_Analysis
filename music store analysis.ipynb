{
 "cells": [
  {
   "cell_type": "code",
   "execution_count": 0,
   "metadata": {
    "application/vnd.databricks.v1+cell": {
     "cellMetadata": {
      "byteLimit": 2048000,
      "rowLimit": 10000
     },
     "inputWidgets": {},
     "nuid": "bfd65360-9bb5-4dcc-a55d-b715fa8cbc10",
     "showTitle": false,
     "title": ""
    }
   },
   "outputs": [
    {
     "output_type": "stream",
     "name": "stdout",
     "output_type": "stream",
     "text": [
      "Out[3]: True"
     ]
    }
   ],
   "source": [
    "dbutils.fs.mount(\n",
    "    source =\"wasbs://music-store-analysis-project@functionalstorage.blob.core.windows.net\",\n",
    "    mount_point = \"/mnt/raw3\" ,\n",
    "    extra_configs = {\"fs.azure.account.key.functionalstorage.blob.core.windows.net\":\"rE2w8hRoJD1rx2I529gtQaudYsyLscOWFmcEnNFyXMrINcl+NOuQ31v1zpHVqSPkQjI3ZO22gW49+ASt9qg6Jg==\"})"
   ]
  },
  {
   "cell_type": "code",
   "execution_count": 0,
   "metadata": {
    "application/vnd.databricks.v1+cell": {
     "cellMetadata": {
      "byteLimit": 2048000,
      "rowLimit": 10000
     },
     "inputWidgets": {},
     "nuid": "51336db7-20b6-49c8-9c02-73998e4e0a9a",
     "showTitle": false,
     "title": ""
    }
   },
   "outputs": [
    {
     "output_type": "stream",
     "name": "stdout",
     "output_type": "stream",
     "text": [
      "Out[4]: [FileInfo(path='dbfs:/mnt/raw3/album.csv', name='album.csv', size=11203, modificationTime=1707249502000),\n FileInfo(path='dbfs:/mnt/raw3/artist.csv', name='artist.csv', size=7293, modificationTime=1707249514000),\n FileInfo(path='dbfs:/mnt/raw3/customer.csv', name='customer.csv', size=6796, modificationTime=1707249530000),\n FileInfo(path='dbfs:/mnt/raw3/employee.csv', name='employee.csv', size=1707, modificationTime=1707249542000),\n FileInfo(path='dbfs:/mnt/raw3/genre.csv', name='genre.csv', size=355, modificationTime=1707249555000),\n FileInfo(path='dbfs:/mnt/raw3/invoice.csv', name='invoice.csv', size=50617, modificationTime=1707249567000),\n FileInfo(path='dbfs:/mnt/raw3/invoice_line.csv', name='invoice_line.csv', size=101153, modificationTime=1707249581000),\n FileInfo(path='dbfs:/mnt/raw3/media_type.csv', name='media_type.csv', size=144, modificationTime=1707249594000),\n FileInfo(path='dbfs:/mnt/raw3/playlist.csv', name='playlist.csv', size=318, modificationTime=1707249607000),\n FileInfo(path='dbfs:/mnt/raw3/playlist_track.csv', name='playlist_track.csv', size=67425, modificationTime=1707249622000),\n FileInfo(path='dbfs:/mnt/raw3/raw-data/', name='raw-data/', size=0, modificationTime=0),\n FileInfo(path='dbfs:/mnt/raw3/track.csv', name='track.csv', size=245249, modificationTime=1707249636000),\n FileInfo(path='dbfs:/mnt/raw3/transformed-data/', name='transformed-data/', size=0, modificationTime=0)]"
     ]
    }
   ],
   "source": [
    "dbutils.fs.ls(\"/mnt/raw3\")"
   ]
  },
  {
   "cell_type": "code",
   "execution_count": 0,
   "metadata": {
    "application/vnd.databricks.v1+cell": {
     "cellMetadata": {
      "byteLimit": 2048000,
      "rowLimit": 10000
     },
     "inputWidgets": {},
     "nuid": "637f9d35-49af-463a-a042-36176588d097",
     "showTitle": false,
     "title": ""
    }
   },
   "outputs": [],
   "source": [
    "album= spark.read.format(\"csv\").options(header='True',inferSchema='True').load('dbfs:/mnt/raw3/album.csv')\n",
    "artist= spark.read.format(\"csv\").options(header='True',inferSchema='True').load('dbfs:/mnt/raw3/artist.csv')\n",
    "customer= spark.read.format(\"csv\").options(header='True',inferSchema='True').load('dbfs:/mnt/raw3/customer.csv')\n",
    "employee= spark.read.format(\"csv\").options(header='True',inferSchema='True').load('dbfs:/mnt/raw3/employee.csv')\n",
    "genre= spark.read.format(\"csv\").options(header='True',inferSchema='True').load('dbfs:/mnt/raw3/genre.csv')\n",
    "invoice= spark.read.format(\"csv\").options(header='True',inferSchema='True').load('dbfs:/mnt/raw3/invoice.csv')\n",
    "invoice_line= spark.read.format(\"csv\").options(header='True',inferSchema='True').load('dbfs:/mnt/raw3/invoice_line.csv')\n",
    "media_type= spark.read.format(\"csv\").options(header='True',inferSchema='True').load('dbfs:/mnt/raw3/media_type.csv')\n",
    "playlist= spark.read.format(\"csv\").options(header='True',inferSchema='True').load('dbfs:/mnt/raw3/playlist.csv')\n",
    "playlist_track= spark.read.format(\"csv\").options(header='True',inferSchema='True').load('dbfs:/mnt/raw3/playlist_track.csv')\n",
    "track= spark.read.format(\"csv\").options(header='True',inferSchema='True').load('dbfs:/mnt/raw3/track.csv')"
   ]
  },
  {
   "cell_type": "code",
   "execution_count": 0,
   "metadata": {
    "application/vnd.databricks.v1+cell": {
     "cellMetadata": {
      "byteLimit": 2048000,
      "rowLimit": 10000
     },
     "inputWidgets": {},
     "nuid": "f0b86a6b-2a64-4de0-822e-9c0ca841915c",
     "showTitle": false,
     "title": ""
    }
   },
   "outputs": [
    {
     "output_type": "display_data",
     "data": {
      "application/vnd.databricks.v1+bamboolib_hint": "{\"pd.DataFrames\": [], \"version\": \"0.0.1\"}",
      "text/plain": []
     },
     "metadata": {},
     "output_type": "display_data"
    }
   ],
   "source": [
    "import numpy as np\n",
    "import pandas as pd\n",
    "import seaborn as sns\n",
    "import matplotlib.pyplot as plt"
   ]
  },
  {
   "cell_type": "code",
   "execution_count": 0,
   "metadata": {
    "application/vnd.databricks.v1+cell": {
     "cellMetadata": {
      "byteLimit": 2048000,
      "rowLimit": 10000
     },
     "inputWidgets": {},
     "nuid": "278ee412-e3e9-4d53-92d2-e60d66f6dbc4",
     "showTitle": false,
     "title": ""
    }
   },
   "outputs": [],
   "source": [
    "df11 = track.toPandas()"
   ]
  },
  {
   "cell_type": "code",
   "execution_count": 0,
   "metadata": {
    "application/vnd.databricks.v1+cell": {
     "cellMetadata": {
      "byteLimit": 2048000,
      "rowLimit": 10000
     },
     "inputWidgets": {},
     "nuid": "3f7ec0de-5d36-4505-8814-d10aaad82854",
     "showTitle": false,
     "title": ""
    }
   },
   "outputs": [
    {
     "output_type": "display_data",
     "data": {
      "image/png": "[encoded data removed]"
     },
     "metadata": {
      "application/vnd.databricks.v1+output": {
       "addedWidgets": {},
       "arguments": {},
       "data": "data:image/png;base64,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\n",
       "datasetInfos": [],
       "metadata": {},
       "removedWidgets": [],
       "type": "image"
      }
     },
     "output_type": "display_data"
    }
   ],
   "source": [
    "df11.composer.value_counts().head(7).plot(kind='barh')\n",
    "plt.title('Top 7 Composers')\n",
    "plt.show()"
   ]
  },
  {
   "cell_type": "code",
   "execution_count": 0,
   "metadata": {
    "application/vnd.databricks.v1+cell": {
     "cellMetadata": {
      "byteLimit": 2048000,
      "rowLimit": 10000
     },
     "inputWidgets": {},
     "nuid": "1b087e14-cc1c-46a3-ad5a-c24adc9e23ce",
     "showTitle": false,
     "title": ""
    }
   },
   "outputs": [],
   "source": [
    "album.createOrReplaceTempView(\"album\")\n",
    "artist.createOrReplaceTempView(\"artist\")\n",
    "customer.createOrReplaceTempView(\"customer\")\n",
    "genre.createOrReplaceTempView(\"genre\")\n",
    "invoice.createOrReplaceTempView(\"invoice\")\n",
    "invoice_line.createOrReplaceTempView(\"invoice_line\")\n",
    "media_type.createOrReplaceTempView(\"media_type\")\n",
    "playlist.createOrReplaceTempView(\"playlist\")\n",
    "playlist_track.createOrReplaceTempView(\"playlist_track\")\n",
    "track.createOrReplaceTempView(\"track\")"
   ]
  },
  {
   "cell_type": "markdown",
   "metadata": {
    "application/vnd.databricks.v1+cell": {
     "cellMetadata": {
      "byteLimit": 2048000,
      "rowLimit": 10000
     },
     "inputWidgets": {},
     "nuid": "96cd071b-a10a-407c-9614-49c1fbd8b028",
     "showTitle": false,
     "title": ""
    }
   },
   "source": [
    "## Q1: Who is the senior most employee based on job title?#"
   ]
  },
  {
   "cell_type": "code",
   "execution_count": 0,
   "metadata": {
    "application/vnd.databricks.v1+cell": {
     "cellMetadata": {
      "byteLimit": 2048000,
      "rowLimit": 10000
     },
     "inputWidgets": {},
     "nuid": "998aeaf9-76eb-4407-a470-76e86c303ef3",
     "showTitle": false,
     "title": ""
    }
   },
   "outputs": [],
   "source": [
    "employee.createOrReplaceTempView(\"employee\")"
   ]
  },
  {
   "cell_type": "code",
   "execution_count": 0,
   "metadata": {
    "application/vnd.databricks.v1+cell": {
     "cellMetadata": {
      "byteLimit": 2048000,
      "implicitDf": true,
      "rowLimit": 10000
     },
     "inputWidgets": {},
     "nuid": "f85ce871-6f6a-47e6-8627-6a79177ecf9e",
     "showTitle": false,
     "title": ""
    }
   },
   "outputs": [
    {
     "output_type": "display_data",
     "data": {
      "text/html": [
       "<style scoped>\n",
       "  .table-result-container {\n",
       "    max-height: 300px;\n",
       "    overflow: auto;\n",
       "  }\n",
       "  table, th, td {\n",
       "    border: 1px solid black;\n",
       "    border-collapse: collapse;\n",
       "  }\n",
       "  th, td {\n",
       "    padding: 5px;\n",
       "  }\n",
       "  th {\n",
       "    text-align: left;\n",
       "  }\n",
       "</style><div class='table-result-container'><table class='table-result'><thead style='background-color: white'><tr><th>first_name</th><th>last_name</th><th>title</th></tr></thead><tbody><tr><td>Mohan</td><td>Madan</td><td>Senior General Manager</td></tr></tbody></table></div>"
      ]
     },
     "metadata": {
      "application/vnd.databricks.v1+output": {
       "addedWidgets": {},
       "aggData": [],
       "aggError": "",
       "aggOverflow": false,
       "aggSchema": [],
       "aggSeriesLimitReached": false,
       "aggType": "",
       "arguments": {},
       "columnCustomDisplayInfos": {},
       "data": [
        [
         "Mohan",
         "Madan",
         "Senior General Manager"
        ]
       ],
       "datasetInfos": [],
       "dbfsResultPath": null,
       "isJsonSchema": true,
       "metadata": {},
       "overflow": false,
       "plotOptions": {
        "customPlotOptions": {},
        "displayType": "table",
        "pivotAggregation": null,
        "pivotColumns": null,
        "xColumns": null,
        "yColumns": null
       },
       "removedWidgets": [],
       "schema": [
        {
         "metadata": "{}",
         "name": "first_name",
         "type": "\"string\""
        },
        {
         "metadata": "{}",
         "name": "last_name",
         "type": "\"string\""
        },
        {
         "metadata": "{}",
         "name": "title",
         "type": "\"string\""
        }
       ],
       "type": "table"
      }
     },
     "output_type": "display_data"
    }
   ],
   "source": [
    "%sql\n",
    "select first_name, last_name , title from employee where reports_to is null;"
   ]
  },
  {
   "cell_type": "markdown",
   "metadata": {
    "application/vnd.databricks.v1+cell": {
     "cellMetadata": {
      "byteLimit": 2048000,
      "rowLimit": 10000
     },
     "inputWidgets": {},
     "nuid": "58ed2501-9cef-4928-a5ee-c922875f68a6",
     "showTitle": false,
     "title": ""
    }
   },
   "source": [
    "## Q2: Which Country have most invoices?"
   ]
  },
  {
   "cell_type": "code",
   "execution_count": 0,
   "metadata": {
    "application/vnd.databricks.v1+cell": {
     "cellMetadata": {
      "byteLimit": 2048000,
      "implicitDf": true,
      "rowLimit": 10000
     },
     "inputWidgets": {},
     "nuid": "d8d91644-8044-453e-8265-cdd0139b277e",
     "showTitle": false,
     "title": ""
    }
   },
   "outputs": [
    {
     "output_type": "display_data",
     "data": {
      "text/html": [
       "<style scoped>\n",
       "  .table-result-container {\n",
       "    max-height: 300px;\n",
       "    overflow: auto;\n",
       "  }\n",
       "  table, th, td {\n",
       "    border: 1px solid black;\n",
       "    border-collapse: collapse;\n",
       "  }\n",
       "  th, td {\n",
       "    padding: 5px;\n",
       "  }\n",
       "  th {\n",
       "    text-align: left;\n",
       "  }\n",
       "</style><div class='table-result-container'><table class='table-result'><thead style='background-color: white'><tr><th>billing_country</th><th>invoice_count</th></tr></thead><tbody><tr><td>USA</td><td>131</td></tr></tbody></table></div>"
      ]
     },
     "metadata": {
      "application/vnd.databricks.v1+output": {
       "addedWidgets": {},
       "aggData": [],
       "aggError": "",
       "aggOverflow": false,
       "aggSchema": [],
       "aggSeriesLimitReached": false,
       "aggType": "",
       "arguments": {},
       "columnCustomDisplayInfos": {},
       "data": [
        [
         "USA",
         131
        ]
       ],
       "datasetInfos": [],
       "dbfsResultPath": null,
       "isJsonSchema": true,
       "metadata": {},
       "overflow": false,
       "plotOptions": {
        "customPlotOptions": {},
        "displayType": "table",
        "pivotAggregation": null,
        "pivotColumns": null,
        "xColumns": null,
        "yColumns": null
       },
       "removedWidgets": [],
       "schema": [
        {
         "metadata": "{}",
         "name": "billing_country",
         "type": "\"string\""
        },
        {
         "metadata": "{}",
         "name": "invoice_count",
         "type": "\"long\""
        }
       ],
       "type": "table"
      }
     },
     "output_type": "display_data"
    }
   ],
   "source": [
    "%sql\n",
    "select billing_country, count(invoice_id) as invoice_count from invoice group by billing_country order by invoice_count desc limit 1;"
   ]
  },
  {
   "cell_type": "markdown",
   "metadata": {
    "application/vnd.databricks.v1+cell": {
     "cellMetadata": {
      "byteLimit": 2048000,
      "rowLimit": 10000
     },
     "inputWidgets": {},
     "nuid": "ad397dfa-9cba-46c1-9d8f-0847cd9d4dfc",
     "showTitle": false,
     "title": ""
    }
   },
   "source": [
    "## Q3: What are top 3 values of total invoice?"
   ]
  },
  {
   "cell_type": "code",
   "execution_count": 0,
   "metadata": {
    "application/vnd.databricks.v1+cell": {
     "cellMetadata": {
      "byteLimit": 2048000,
      "implicitDf": true,
      "rowLimit": 10000
     },
     "inputWidgets": {},
     "nuid": "f87e4f36-6d88-464b-a9b5-b4a98b9d00ca",
     "showTitle": false,
     "title": ""
    }
   },
   "outputs": [
    {
     "output_type": "display_data",
     "data": {
      "text/html": [
       "<style scoped>\n",
       "  .table-result-container {\n",
       "    max-height: 300px;\n",
       "    overflow: auto;\n",
       "  }\n",
       "  table, th, td {\n",
       "    border: 1px solid black;\n",
       "    border-collapse: collapse;\n",
       "  }\n",
       "  th, td {\n",
       "    padding: 5px;\n",
       "  }\n",
       "  th {\n",
       "    text-align: left;\n",
       "  }\n",
       "</style><div class='table-result-container'><table class='table-result'><thead style='background-color: white'><tr><th>total</th><th>invoice_id</th><th>customer_id</th></tr></thead><tbody><tr><td>23.759999999999998</td><td>183</td><td>42</td></tr><tr><td>19.8</td><td>362</td><td>29</td></tr><tr><td>19.8</td><td>31</td><td>3</td></tr></tbody></table></div>"
      ]
     },
     "metadata": {
      "application/vnd.databricks.v1+output": {
       "addedWidgets": {},
       "aggData": [],
       "aggError": "",
       "aggOverflow": false,
       "aggSchema": [],
       "aggSeriesLimitReached": false,
       "aggType": "",
       "arguments": {},
       "columnCustomDisplayInfos": {},
       "data": [
        [
         23.759999999999998,
         183,
         42
        ],
        [
         19.8,
         362,
         29
        ],
        [
         19.8,
         31,
         3
        ]
       ],
       "datasetInfos": [],
       "dbfsResultPath": null,
       "isJsonSchema": true,
       "metadata": {},
       "overflow": false,
       "plotOptions": {
        "customPlotOptions": {},
        "displayType": "table",
        "pivotAggregation": null,
        "pivotColumns": null,
        "xColumns": null,
        "yColumns": null
       },
       "removedWidgets": [],
       "schema": [
        {
         "metadata": "{}",
         "name": "total",
         "type": "\"double\""
        },
        {
         "metadata": "{}",
         "name": "invoice_id",
         "type": "\"integer\""
        },
        {
         "metadata": "{}",
         "name": "customer_id",
         "type": "\"integer\""
        }
       ],
       "type": "table"
      }
     },
     "output_type": "display_data"
    }
   ],
   "source": [
    "%sql\n",
    "select total, invoice_id, customer_id from invoice order by total desc limit 3;"
   ]
  },
  {
   "cell_type": "markdown",
   "metadata": {
    "application/vnd.databricks.v1+cell": {
     "cellMetadata": {
      "byteLimit": 2048000,
      "rowLimit": 10000
     },
     "inputWidgets": {},
     "nuid": "c48d145d-e619-475a-91fc-7e81fb255a66",
     "showTitle": false,
     "title": ""
    }
   },
   "source": [
    "## Q4: Which city has the best customers? We would like to throw a promotional Music Festival in the city we made the most money. Write a query that returns one city that has the highest sum of invoice totals. Return both the city name & sum of all invoice"
   ]
  },
  {
   "cell_type": "code",
   "execution_count": 0,
   "metadata": {
    "application/vnd.databricks.v1+cell": {
     "cellMetadata": {
      "byteLimit": 2048000,
      "implicitDf": true,
      "rowLimit": 10000
     },
     "inputWidgets": {},
     "nuid": "7f89f8f1-33c0-4ce9-9432-c3b792c4593e",
     "showTitle": false,
     "title": ""
    }
   },
   "outputs": [
    {
     "output_type": "display_data",
     "data": {
      "text/html": [
       "<style scoped>\n",
       "  .table-result-container {\n",
       "    max-height: 300px;\n",
       "    overflow: auto;\n",
       "  }\n",
       "  table, th, td {\n",
       "    border: 1px solid black;\n",
       "    border-collapse: collapse;\n",
       "  }\n",
       "  th, td {\n",
       "    padding: 5px;\n",
       "  }\n",
       "  th {\n",
       "    text-align: left;\n",
       "  }\n",
       "</style><div class='table-result-container'><table class='table-result'><thead style='background-color: white'><tr><th>billing_city</th><th>invoice_total</th></tr></thead><tbody><tr><td>Prague</td><td>273.24000000000007</td></tr></tbody></table></div>"
      ]
     },
     "metadata": {
      "application/vnd.databricks.v1+output": {
       "addedWidgets": {},
       "aggData": [],
       "aggError": "",
       "aggOverflow": false,
       "aggSchema": [],
       "aggSeriesLimitReached": false,
       "aggType": "",
       "arguments": {},
       "columnCustomDisplayInfos": {},
       "data": [
        [
         "Prague",
         273.24000000000007
        ]
       ],
       "datasetInfos": [],
       "dbfsResultPath": null,
       "isJsonSchema": true,
       "metadata": {},
       "overflow": false,
       "plotOptions": {
        "customPlotOptions": {},
        "displayType": "table",
        "pivotAggregation": null,
        "pivotColumns": null,
        "xColumns": null,
        "yColumns": null
       },
       "removedWidgets": [],
       "schema": [
        {
         "metadata": "{}",
         "name": "billing_city",
         "type": "\"string\""
        },
        {
         "metadata": "{}",
         "name": "invoice_total",
         "type": "\"double\""
        }
       ],
       "type": "table"
      }
     },
     "output_type": "display_data"
    }
   ],
   "source": [
    "%sql\n",
    "select billing_city, sum(total) as invoice_total from invoice group by billing_city order by invoice_total desc limit 1;"
   ]
  },
  {
   "cell_type": "markdown",
   "metadata": {
    "application/vnd.databricks.v1+cell": {
     "cellMetadata": {
      "byteLimit": 2048000,
      "rowLimit": 10000
     },
     "inputWidgets": {},
     "nuid": "565e3e14-c2c9-4c4f-8e4d-3b4ef4413a25",
     "showTitle": false,
     "title": ""
    }
   },
   "source": [
    "## Q5: Who is the best customer? The customer who has spent the most money will be declared the best customer. Write a query that returns the person who has spent the most money "
   ]
  },
  {
   "cell_type": "code",
   "execution_count": 0,
   "metadata": {
    "application/vnd.databricks.v1+cell": {
     "cellMetadata": {
      "byteLimit": 2048000,
      "implicitDf": true,
      "rowLimit": 10000
     },
     "inputWidgets": {},
     "nuid": "ece90f32-444e-4e3e-87a9-48096ed6ba2f",
     "showTitle": false,
     "title": ""
    }
   },
   "outputs": [
    {
     "output_type": "display_data",
     "data": {
      "text/html": [
       "<style scoped>\n",
       "  .table-result-container {\n",
       "    max-height: 300px;\n",
       "    overflow: auto;\n",
       "  }\n",
       "  table, th, td {\n",
       "    border: 1px solid black;\n",
       "    border-collapse: collapse;\n",
       "  }\n",
       "  th, td {\n",
       "    padding: 5px;\n",
       "  }\n",
       "  th {\n",
       "    text-align: left;\n",
       "  }\n",
       "</style><div class='table-result-container'><table class='table-result'><thead style='background-color: white'><tr><th>customer_id</th><th>sum(total)</th></tr></thead><tbody><tr><td>5</td><td>144.54000000000002</td></tr></tbody></table></div>"
      ]
     },
     "metadata": {
      "application/vnd.databricks.v1+output": {
       "addedWidgets": {},
       "aggData": [],
       "aggError": "",
       "aggOverflow": false,
       "aggSchema": [],
       "aggSeriesLimitReached": false,
       "aggType": "",
       "arguments": {},
       "columnCustomDisplayInfos": {},
       "data": [
        [
         5,
         144.54000000000002
        ]
       ],
       "datasetInfos": [],
       "dbfsResultPath": null,
       "isJsonSchema": true,
       "metadata": {},
       "overflow": false,
       "plotOptions": {
        "customPlotOptions": {},
        "displayType": "table",
        "pivotAggregation": null,
        "pivotColumns": null,
        "xColumns": null,
        "yColumns": null
       },
       "removedWidgets": [],
       "schema": [
        {
         "metadata": "{}",
         "name": "customer_id",
         "type": "\"integer\""
        },
        {
         "metadata": "{\"__autoGeneratedAlias\":\"true\"}",
         "name": "sum(total)",
         "type": "\"double\""
        }
       ],
       "type": "table"
      }
     },
     "output_type": "display_data"
    }
   ],
   "source": [
    "%sql\n",
    "select c.customer_id, sum(i.total) from customer as c join invoice as i on c.customer_id = i.customer_id group by c.customer_id order by sum(total) desc limit 1;"
   ]
  },
  {
   "cell_type": "markdown",
   "metadata": {
    "application/vnd.databricks.v1+cell": {
     "cellMetadata": {},
     "inputWidgets": {},
     "nuid": "0668f2e7-0b0b-449e-b072-aa644dcedc02",
     "showTitle": false,
     "title": ""
    }
   },
   "source": [
    "## Q6: Write query to return the email, first name, last name, & Genre of all Rock Music listeners. Return your list ordered alphabetically by email starting with A"
   ]
  },
  {
   "cell_type": "code",
   "execution_count": 0,
   "metadata": {
    "application/vnd.databricks.v1+cell": {
     "cellMetadata": {
      "byteLimit": 2048000,
      "implicitDf": true,
      "rowLimit": 10000
     },
     "inputWidgets": {},
     "nuid": "8d6f9488-41ae-404a-9fbb-534bde2a9e0c",
     "showTitle": false,
     "title": ""
    }
   },
   "outputs": [
    {
     "output_type": "display_data",
     "data": {
      "text/html": [
       "<style scoped>\n",
       "  .table-result-container {\n",
       "    max-height: 300px;\n",
       "    overflow: auto;\n",
       "  }\n",
       "  table, th, td {\n",
       "    border: 1px solid black;\n",
       "    border-collapse: collapse;\n",
       "  }\n",
       "  th, td {\n",
       "    padding: 5px;\n",
       "  }\n",
       "  th {\n",
       "    text-align: left;\n",
       "  }\n",
       "</style><div class='table-result-container'><table class='table-result'><thead style='background-color: white'><tr><th>email</th><th>first_name</th><th>last_name</th><th>invoice_id</th><th>genre_id</th><th>name</th></tr></thead><tbody><tr><td>aaronmitchell@yahoo.ca</td><td>Aaron</td><td>Mitchell</td><td>559</td><td>1</td><td>Rock</td></tr><tr><td>aaronmitchell@yahoo.ca</td><td>Aaron</td><td>Mitchell</td><td>107</td><td>1</td><td>Rock</td></tr><tr><td>aaronmitchell@yahoo.ca</td><td>Aaron</td><td>Mitchell</td><td>126</td><td>1</td><td>Rock</td></tr><tr><td>aaronmitchell@yahoo.ca</td><td>Aaron</td><td>Mitchell</td><td>519</td><td>1</td><td>Rock</td></tr><tr><td>aaronmitchell@yahoo.ca</td><td>Aaron</td><td>Mitchell</td><td>432</td><td>1</td><td>Rock</td></tr><tr><td>aaronmitchell@yahoo.ca</td><td>Aaron</td><td>Mitchell</td><td>546</td><td>1</td><td>Rock</td></tr><tr><td>alero@uol.com.br</td><td>Alexandre</td><td>Rocha</td><td>186</td><td>1</td><td>Rock</td></tr><tr><td>alero@uol.com.br</td><td>Alexandre</td><td>Rocha</td><td>439</td><td>1</td><td>Rock</td></tr><tr><td>alero@uol.com.br</td><td>Alexandre</td><td>Rocha</td><td>475</td><td>1</td><td>Rock</td></tr><tr><td>alero@uol.com.br</td><td>Alexandre</td><td>Rocha</td><td>135</td><td>1</td><td>Rock</td></tr><tr><td>alero@uol.com.br</td><td>Alexandre</td><td>Rocha</td><td>461</td><td>1</td><td>Rock</td></tr><tr><td>alero@uol.com.br</td><td>Alexandre</td><td>Rocha</td><td>206</td><td>1</td><td>Rock</td></tr><tr><td>astrid.gruber@apple.at</td><td>Astrid</td><td>Gruber</td><td>251</td><td>1</td><td>Rock</td></tr><tr><td>astrid.gruber@apple.at</td><td>Astrid</td><td>Gruber</td><td>472</td><td>1</td><td>Rock</td></tr><tr><td>astrid.gruber@apple.at</td><td>Astrid</td><td>Gruber</td><td>553</td><td>1</td><td>Rock</td></tr><tr><td>astrid.gruber@apple.at</td><td>Astrid</td><td>Gruber</td><td>123</td><td>1</td><td>Rock</td></tr><tr><td>astrid.gruber@apple.at</td><td>Astrid</td><td>Gruber</td><td>410</td><td>1</td><td>Rock</td></tr><tr><td>astrid.gruber@apple.at</td><td>Astrid</td><td>Gruber</td><td>337</td><td>1</td><td>Rock</td></tr><tr><td>astrid.gruber@apple.at</td><td>Astrid</td><td>Gruber</td><td>462</td><td>1</td><td>Rock</td></tr><tr><td>astrid.gruber@apple.at</td><td>Astrid</td><td>Gruber</td><td>225</td><td>1</td><td>Rock</td></tr><tr><td>bjorn.hansen@yahoo.no</td><td>Bjørn</td><td>Hansen</td><td>104</td><td>1</td><td>Rock</td></tr><tr><td>bjorn.hansen@yahoo.no</td><td>Bjørn</td><td>Hansen</td><td>24</td><td>1</td><td>Rock</td></tr><tr><td>bjorn.hansen@yahoo.no</td><td>Bjørn</td><td>Hansen</td><td>474</td><td>1</td><td>Rock</td></tr><tr><td>bjorn.hansen@yahoo.no</td><td>Bjørn</td><td>Hansen</td><td>292</td><td>1</td><td>Rock</td></tr><tr><td>bjorn.hansen@yahoo.no</td><td>Bjørn</td><td>Hansen</td><td>272</td><td>1</td><td>Rock</td></tr><tr><td>bjorn.hansen@yahoo.no</td><td>Bjørn</td><td>Hansen</td><td>208</td><td>1</td><td>Rock</td></tr><tr><td>bjorn.hansen@yahoo.no</td><td>Bjørn</td><td>Hansen</td><td>81</td><td>1</td><td>Rock</td></tr><tr><td>bjorn.hansen@yahoo.no</td><td>Bjørn</td><td>Hansen</td><td>46</td><td>1</td><td>Rock</td></tr><tr><td>camille.bernard@yahoo.fr</td><td>Camille</td><td>Bernard</td><td>39</td><td>1</td><td>Rock</td></tr><tr><td>camille.bernard@yahoo.fr</td><td>Camille</td><td>Bernard</td><td>503</td><td>1</td><td>Rock</td></tr><tr><td>camille.bernard@yahoo.fr</td><td>Camille</td><td>Bernard</td><td>373</td><td>1</td><td>Rock</td></tr><tr><td>camille.bernard@yahoo.fr</td><td>Camille</td><td>Bernard</td><td>25</td><td>1</td><td>Rock</td></tr><tr><td>camille.bernard@yahoo.fr</td><td>Camille</td><td>Bernard</td><td>154</td><td>1</td><td>Rock</td></tr><tr><td>camille.bernard@yahoo.fr</td><td>Camille</td><td>Bernard</td><td>201</td><td>1</td><td>Rock</td></tr><tr><td>camille.bernard@yahoo.fr</td><td>Camille</td><td>Bernard</td><td>103</td><td>1</td><td>Rock</td></tr><tr><td>camille.bernard@yahoo.fr</td><td>Camille</td><td>Bernard</td><td>67</td><td>1</td><td>Rock</td></tr><tr><td>daan_peeters@apple.be</td><td>Daan</td><td>Peeters</td><td>311</td><td>1</td><td>Rock</td></tr><tr><td>daan_peeters@apple.be</td><td>Daan</td><td>Peeters</td><td>102</td><td>1</td><td>Rock</td></tr><tr><td>daan_peeters@apple.be</td><td>Daan</td><td>Peeters</td><td>431</td><td>1</td><td>Rock</td></tr><tr><td>daan_peeters@apple.be</td><td>Daan</td><td>Peeters</td><td>97</td><td>1</td><td>Rock</td></tr><tr><td>daan_peeters@apple.be</td><td>Daan</td><td>Peeters</td><td>306</td><td>1</td><td>Rock</td></tr><tr><td>daan_peeters@apple.be</td><td>Daan</td><td>Peeters</td><td>124</td><td>1</td><td>Rock</td></tr><tr><td>diego.gutierrez@yahoo.ar</td><td>Diego</td><td>Gutiérrez</td><td>304</td><td>1</td><td>Rock</td></tr><tr><td>diego.gutierrez@yahoo.ar</td><td>Diego</td><td>Gutiérrez</td><td>380</td><td>1</td><td>Rock</td></tr><tr><td>diego.gutierrez@yahoo.ar</td><td>Diego</td><td>Gutiérrez</td><td>218</td><td>1</td><td>Rock</td></tr><tr><td>dmiller@comcast.com</td><td>Dan</td><td>Miller</td><td>159</td><td>1</td><td>Rock</td></tr><tr><td>dmiller@comcast.com</td><td>Dan</td><td>Miller</td><td>204</td><td>1</td><td>Rock</td></tr><tr><td>dmiller@comcast.com</td><td>Dan</td><td>Miller</td><td>101</td><td>1</td><td>Rock</td></tr><tr><td>dmiller@comcast.com</td><td>Dan</td><td>Miller</td><td>245</td><td>1</td><td>Rock</td></tr><tr><td>dmiller@comcast.com</td><td>Dan</td><td>Miller</td><td>219</td><td>1</td><td>Rock</td></tr><tr><td>dmiller@comcast.com</td><td>Dan</td><td>Miller</td><td>17</td><td>1</td><td>Rock</td></tr><tr><td>dmiller@comcast.com</td><td>Dan</td><td>Miller</td><td>420</td><td>1</td><td>Rock</td></tr><tr><td>dmiller@comcast.com</td><td>Dan</td><td>Miller</td><td>460</td><td>1</td><td>Rock</td></tr><tr><td>dmiller@comcast.com</td><td>Dan</td><td>Miller</td><td>199</td><td>1</td><td>Rock</td></tr><tr><td>dmiller@comcast.com</td><td>Dan</td><td>Miller</td><td>443</td><td>1</td><td>Rock</td></tr><tr><td>dmiller@comcast.com</td><td>Dan</td><td>Miller</td><td>613</td><td>1</td><td>Rock</td></tr><tr><td>dominiquelefebvre@gmail.com</td><td>Dominique</td><td>Lefebvre</td><td>346</td><td>1</td><td>Rock</td></tr><tr><td>dominiquelefebvre@gmail.com</td><td>Dominique</td><td>Lefebvre</td><td>305</td><td>1</td><td>Rock</td></tr><tr><td>dominiquelefebvre@gmail.com</td><td>Dominique</td><td>Lefebvre</td><td>3</td><td>1</td><td>Rock</td></tr><tr><td>dominiquelefebvre@gmail.com</td><td>Dominique</td><td>Lefebvre</td><td>317</td><td>1</td><td>Rock</td></tr><tr><td>dominiquelefebvre@gmail.com</td><td>Dominique</td><td>Lefebvre</td><td>76</td><td>1</td><td>Rock</td></tr><tr><td>dominiquelefebvre@gmail.com</td><td>Dominique</td><td>Lefebvre</td><td>585</td><td>1</td><td>Rock</td></tr><tr><td>dominiquelefebvre@gmail.com</td><td>Dominique</td><td>Lefebvre</td><td>367</td><td>1</td><td>Rock</td></tr><tr><td>edfrancis@yachoo.ca</td><td>Edward</td><td>Francis</td><td>584</td><td>1</td><td>Rock</td></tr><tr><td>edfrancis@yachoo.ca</td><td>Edward</td><td>Francis</td><td>313</td><td>1</td><td>Rock</td></tr><tr><td>edfrancis@yachoo.ca</td><td>Edward</td><td>Francis</td><td>552</td><td>1</td><td>Rock</td></tr><tr><td>edfrancis@yachoo.ca</td><td>Edward</td><td>Francis</td><td>2</td><td>1</td><td>Rock</td></tr><tr><td>edfrancis@yachoo.ca</td><td>Edward</td><td>Francis</td><td>299</td><td>1</td><td>Rock</td></tr><tr><td>edfrancis@yachoo.ca</td><td>Edward</td><td>Francis</td><td>525</td><td>1</td><td>Rock</td></tr><tr><td>edfrancis@yachoo.ca</td><td>Edward</td><td>Francis</td><td>391</td><td>1</td><td>Rock</td></tr><tr><td>edfrancis@yachoo.ca</td><td>Edward</td><td>Francis</td><td>466</td><td>1</td><td>Rock</td></tr><tr><td>edfrancis@yachoo.ca</td><td>Edward</td><td>Francis</td><td>554</td><td>1</td><td>Rock</td></tr><tr><td>edfrancis@yachoo.ca</td><td>Edward</td><td>Francis</td><td>548</td><td>1</td><td>Rock</td></tr><tr><td>edfrancis@yachoo.ca</td><td>Edward</td><td>Francis</td><td>32</td><td>1</td><td>Rock</td></tr><tr><td>edfrancis@yachoo.ca</td><td>Edward</td><td>Francis</td><td>108</td><td>1</td><td>Rock</td></tr><tr><td>edfrancis@yachoo.ca</td><td>Edward</td><td>Francis</td><td>87</td><td>1</td><td>Rock</td></tr><tr><td>eduardo@woodstock.com.br</td><td>Eduardo</td><td>Martins</td><td>19</td><td>1</td><td>Rock</td></tr><tr><td>eduardo@woodstock.com.br</td><td>Eduardo</td><td>Martins</td><td>260</td><td>1</td><td>Rock</td></tr><tr><td>eduardo@woodstock.com.br</td><td>Eduardo</td><td>Martins</td><td>352</td><td>1</td><td>Rock</td></tr><tr><td>eduardo@woodstock.com.br</td><td>Eduardo</td><td>Martins</td><td>406</td><td>1</td><td>Rock</td></tr><tr><td>eduardo@woodstock.com.br</td><td>Eduardo</td><td>Martins</td><td>240</td><td>1</td><td>Rock</td></tr><tr><td>eduardo@woodstock.com.br</td><td>Eduardo</td><td>Martins</td><td>49</td><td>1</td><td>Rock</td></tr><tr><td>eduardo@woodstock.com.br</td><td>Eduardo</td><td>Martins</td><td>328</td><td>1</td><td>Rock</td></tr><tr><td>eduardo@woodstock.com.br</td><td>Eduardo</td><td>Martins</td><td>482</td><td>1</td><td>Rock</td></tr><tr><td>eduardo@woodstock.com.br</td><td>Eduardo</td><td>Martins</td><td>534</td><td>1</td><td>Rock</td></tr><tr><td>ellie.sullivan@shaw.ca</td><td>Ellie</td><td>Sullivan</td><td>55</td><td>1</td><td>Rock</td></tr><tr><td>ellie.sullivan@shaw.ca</td><td>Ellie</td><td>Sullivan</td><td>295</td><td>1</td><td>Rock</td></tr><tr><td>ellie.sullivan@shaw.ca</td><td>Ellie</td><td>Sullivan</td><td>138</td><td>1</td><td>Rock</td></tr><tr><td>ellie.sullivan@shaw.ca</td><td>Ellie</td><td>Sullivan</td><td>172</td><td>1</td><td>Rock</td></tr><tr><td>ellie.sullivan@shaw.ca</td><td>Ellie</td><td>Sullivan</td><td>325</td><td>1</td><td>Rock</td></tr><tr><td>ellie.sullivan@shaw.ca</td><td>Ellie</td><td>Sullivan</td><td>85</td><td>1</td><td>Rock</td></tr><tr><td>ellie.sullivan@shaw.ca</td><td>Ellie</td><td>Sullivan</td><td>144</td><td>1</td><td>Rock</td></tr><tr><td>ellie.sullivan@shaw.ca</td><td>Ellie</td><td>Sullivan</td><td>433</td><td>1</td><td>Rock</td></tr><tr><td>ellie.sullivan@shaw.ca</td><td>Ellie</td><td>Sullivan</td><td>545</td><td>1</td><td>Rock</td></tr><tr><td>ellie.sullivan@shaw.ca</td><td>Ellie</td><td>Sullivan</td><td>136</td><td>1</td><td>Rock</td></tr><tr><td>ellie.sullivan@shaw.ca</td><td>Ellie</td><td>Sullivan</td><td>612</td><td>1</td><td>Rock</td></tr><tr><td>emma_jones@hotmail.com</td><td>Emma</td><td>Jones</td><td>611</td><td>1</td><td>Rock</td></tr><tr><td>emma_jones@hotmail.com</td><td>Emma</td><td>Jones</td><td>326</td><td>1</td><td>Rock</td></tr><tr><td>emma_jones@hotmail.com</td><td>Emma</td><td>Jones</td><td>444</td><td>1</td><td>Rock</td></tr><tr><td>emma_jones@hotmail.com</td><td>Emma</td><td>Jones</td><td>227</td><td>1</td><td>Rock</td></tr><tr><td>emma_jones@hotmail.com</td><td>Emma</td><td>Jones</td><td>237</td><td>1</td><td>Rock</td></tr><tr><td>emma_jones@hotmail.com</td><td>Emma</td><td>Jones</td><td>265</td><td>1</td><td>Rock</td></tr><tr><td>emma_jones@hotmail.com</td><td>Emma</td><td>Jones</td><td>64</td><td>1</td><td>Rock</td></tr><tr><td>enrique_munoz@yahoo.es</td><td>Enrique</td><td>Muñoz</td><td>41</td><td>1</td><td>Rock</td></tr><tr><td>enrique_munoz@yahoo.es</td><td>Enrique</td><td>Muñoz</td><td>384</td><td>1</td><td>Rock</td></tr><tr><td>enrique_munoz@yahoo.es</td><td>Enrique</td><td>Muñoz</td><td>369</td><td>1</td><td>Rock</td></tr><tr><td>enrique_munoz@yahoo.es</td><td>Enrique</td><td>Muñoz</td><td>528</td><td>1</td><td>Rock</td></tr><tr><td>enrique_munoz@yahoo.es</td><td>Enrique</td><td>Muñoz</td><td>459</td><td>1</td><td>Rock</td></tr><tr><td>enrique_munoz@yahoo.es</td><td>Enrique</td><td>Muñoz</td><td>115</td><td>1</td><td>Rock</td></tr><tr><td>enrique_munoz@yahoo.es</td><td>Enrique</td><td>Muñoz</td><td>523</td><td>1</td><td>Rock</td></tr><tr><td>enrique_munoz@yahoo.es</td><td>Enrique</td><td>Muñoz</td><td>319</td><td>1</td><td>Rock</td></tr><tr><td>enrique_munoz@yahoo.es</td><td>Enrique</td><td>Muñoz</td><td>345</td><td>1</td><td>Rock</td></tr><tr><td>fernadaramos4@uol.com.br</td><td>Fernanda</td><td>Ramos</td><td>198</td><td>1</td><td>Rock</td></tr><tr><td>fernadaramos4@uol.com.br</td><td>Fernanda</td><td>Ramos</td><td>256</td><td>1</td><td>Rock</td></tr><tr><td>fernadaramos4@uol.com.br</td><td>Fernanda</td><td>Ramos</td><td>73</td><td>1</td><td>Rock</td></tr><tr><td>fernadaramos4@uol.com.br</td><td>Fernanda</td><td>Ramos</td><td>456</td><td>1</td><td>Rock</td></tr><tr><td>fernadaramos4@uol.com.br</td><td>Fernanda</td><td>Ramos</td><td>521</td><td>1</td><td>Rock</td></tr><tr><td>fernadaramos4@uol.com.br</td><td>Fernanda</td><td>Ramos</td><td>111</td><td>1</td><td>Rock</td></tr><tr><td>fernadaramos4@uol.com.br</td><td>Fernanda</td><td>Ramos</td><td>189</td><td>1</td><td>Rock</td></tr><tr><td>fernadaramos4@uol.com.br</td><td>Fernanda</td><td>Ramos</td><td>357</td><td>1</td><td>Rock</td></tr><tr><td>fernadaramos4@uol.com.br</td><td>Fernanda</td><td>Ramos</td><td>597</td><td>1</td><td>Rock</td></tr><tr><td>fernadaramos4@uol.com.br</td><td>Fernanda</td><td>Ramos</td><td>498</td><td>1</td><td>Rock</td></tr><tr><td>fernadaramos4@uol.com.br</td><td>Fernanda</td><td>Ramos</td><td>113</td><td>1</td><td>Rock</td></tr><tr><td>fernadaramos4@uol.com.br</td><td>Fernanda</td><td>Ramos</td><td>130</td><td>1</td><td>Rock</td></tr><tr><td>fharris@google.com</td><td>Frank</td><td>Harris</td><td>591</td><td>1</td><td>Rock</td></tr><tr><td>fharris@google.com</td><td>Frank</td><td>Harris</td><td>66</td><td>1</td><td>Rock</td></tr><tr><td>fharris@google.com</td><td>Frank</td><td>Harris</td><td>289</td><td>1</td><td>Rock</td></tr><tr><td>fharris@google.com</td><td>Frank</td><td>Harris</td><td>389</td><td>1</td><td>Rock</td></tr><tr><td>fharris@google.com</td><td>Frank</td><td>Harris</td><td>268</td><td>1</td><td>Rock</td></tr><tr><td>fharris@google.com</td><td>Frank</td><td>Harris</td><td>75</td><td>1</td><td>Rock</td></tr><tr><td>fralston@gmail.com</td><td>Frank</td><td>Ralston</td><td>200</td><td>1</td><td>Rock</td></tr><tr><td>fralston@gmail.com</td><td>Frank</td><td>Ralston</td><td>18</td><td>1</td><td>Rock</td></tr><tr><td>fralston@gmail.com</td><td>Frank</td><td>Ralston</td><td>395</td><td>1</td><td>Rock</td></tr><tr><td>fralston@gmail.com</td><td>Frank</td><td>Ralston</td><td>161</td><td>1</td><td>Rock</td></tr><tr><td>fralston@gmail.com</td><td>Frank</td><td>Ralston</td><td>417</td><td>1</td><td>Rock</td></tr><tr><td>fralston@gmail.com</td><td>Frank</td><td>Ralston</td><td>580</td><td>1</td><td>Rock</td></tr><tr><td>frantisekw@jetbrains.com</td><td>František</td><td>Wichterlová</td><td>563</td><td>1</td><td>Rock</td></tr><tr><td>frantisekw@jetbrains.com</td><td>František</td><td>Wichterlová</td><td>467</td><td>1</td><td>Rock</td></tr><tr><td>frantisekw@jetbrains.com</td><td>František</td><td>Wichterlová</td><td>376</td><td>1</td><td>Rock</td></tr><tr><td>frantisekw@jetbrains.com</td><td>František</td><td>Wichterlová</td><td>520</td><td>1</td><td>Rock</td></tr><tr><td>frantisekw@jetbrains.com</td><td>František</td><td>Wichterlová</td><td>119</td><td>1</td><td>Rock</td></tr><tr><td>frantisekw@jetbrains.com</td><td>František</td><td>Wichterlová</td><td>560</td><td>1</td><td>Rock</td></tr><tr><td>frantisekw@jetbrains.com</td><td>František</td><td>Wichterlová</td><td>78</td><td>1</td><td>Rock</td></tr><tr><td>frantisekw@jetbrains.com</td><td>František</td><td>Wichterlová</td><td>388</td><td>1</td><td>Rock</td></tr><tr><td>frantisekw@jetbrains.com</td><td>František</td><td>Wichterlová</td><td>361</td><td>1</td><td>Rock</td></tr><tr><td>frantisekw@jetbrains.com</td><td>František</td><td>Wichterlová</td><td>526</td><td>1</td><td>Rock</td></tr><tr><td>frantisekw@jetbrains.com</td><td>František</td><td>Wichterlová</td><td>429</td><td>1</td><td>Rock</td></tr><tr><td>frantisekw@jetbrains.com</td><td>František</td><td>Wichterlová</td><td>477</td><td>1</td><td>Rock</td></tr><tr><td>frantisekw@jetbrains.com</td><td>František</td><td>Wichterlová</td><td>235</td><td>1</td><td>Rock</td></tr><tr><td>frantisekw@jetbrains.com</td><td>František</td><td>Wichterlová</td><td>588</td><td>1</td><td>Rock</td></tr><tr><td>ftremblay@gmail.com</td><td>François</td><td>Tremblay</td><td>344</td><td>1</td><td>Rock</td></tr><tr><td>ftremblay@gmail.com</td><td>François</td><td>Tremblay</td><td>342</td><td>1</td><td>Rock</td></tr><tr><td>ftremblay@gmail.com</td><td>François</td><td>Tremblay</td><td>419</td><td>1</td><td>Rock</td></tr><tr><td>ftremblay@gmail.com</td><td>François</td><td>Tremblay</td><td>71</td><td>1</td><td>Rock</td></tr><tr><td>ftremblay@gmail.com</td><td>François</td><td>Tremblay</td><td>248</td><td>1</td><td>Rock</td></tr><tr><td>ftremblay@gmail.com</td><td>François</td><td>Tremblay</td><td>517</td><td>1</td><td>Rock</td></tr><tr><td>ftremblay@gmail.com</td><td>François</td><td>Tremblay</td><td>31</td><td>1</td><td>Rock</td></tr><tr><td>ftremblay@gmail.com</td><td>François</td><td>Tremblay</td><td>125</td><td>1</td><td>Rock</td></tr><tr><td>fzimmermann@yahoo.de</td><td>Fynn</td><td>Zimmermann</td><td>40</td><td>1</td><td>Rock</td></tr><tr><td>fzimmermann@yahoo.de</td><td>Fynn</td><td>Zimmermann</td><td>566</td><td>1</td><td>Rock</td></tr><tr><td>fzimmermann@yahoo.de</td><td>Fynn</td><td>Zimmermann</td><td>457</td><td>1</td><td>Rock</td></tr><tr><td>fzimmermann@yahoo.de</td><td>Fynn</td><td>Zimmermann</td><td>349</td><td>1</td><td>Rock</td></tr><tr><td>fzimmermann@yahoo.de</td><td>Fynn</td><td>Zimmermann</td><td>308</td><td>1</td><td>Rock</td></tr><tr><td>fzimmermann@yahoo.de</td><td>Fynn</td><td>Zimmermann</td><td>485</td><td>1</td><td>Rock</td></tr><tr><td>fzimmermann@yahoo.de</td><td>Fynn</td><td>Zimmermann</td><td>426</td><td>1</td><td>Rock</td></tr><tr><td>fzimmermann@yahoo.de</td><td>Fynn</td><td>Zimmermann</td><td>273</td><td>1</td><td>Rock</td></tr><tr><td>hannah.schneider@yahoo.de</td><td>Hannah</td><td>Schneider</td><td>339</td><td>1</td><td>Rock</td></tr><tr><td>hannah.schneider@yahoo.de</td><td>Hannah</td><td>Schneider</td><td>91</td><td>1</td><td>Rock</td></tr><tr><td>hannah.schneider@yahoo.de</td><td>Hannah</td><td>Schneider</td><td>400</td><td>1</td><td>Rock</td></tr><tr><td>hannah.schneider@yahoo.de</td><td>Hannah</td><td>Schneider</td><td>242</td><td>1</td><td>Rock</td></tr><tr><td>hannah.schneider@yahoo.de</td><td>Hannah</td><td>Schneider</td><td>263</td><td>1</td><td>Rock</td></tr><tr><td>hannah.schneider@yahoo.de</td><td>Hannah</td><td>Schneider</td><td>309</td><td>1</td><td>Rock</td></tr><tr><td>hannah.schneider@yahoo.de</td><td>Hannah</td><td>Schneider</td><td>45</td><td>1</td><td>Rock</td></tr><tr><td>hannah.schneider@yahoo.de</td><td>Hannah</td><td>Schneider</td><td>500</td><td>1</td><td>Rock</td></tr><tr><td>hannah.schneider@yahoo.de</td><td>Hannah</td><td>Schneider</td><td>397</td><td>1</td><td>Rock</td></tr><tr><td>hholy@gmail.com</td><td>Helena</td><td>Holý</td><td>112</td><td>1</td><td>Rock</td></tr><tr><td>hholy@gmail.com</td><td>Helena</td><td>Holý</td><td>387</td><td>1</td><td>Rock</td></tr><tr><td>hholy@gmail.com</td><td>Helena</td><td>Holý</td><td>476</td><td>1</td><td>Rock</td></tr><tr><td>hholy@gmail.com</td><td>Helena</td><td>Holý</td><td>405</td><td>1</td><td>Rock</td></tr><tr><td>hholy@gmail.com</td><td>Helena</td><td>Holý</td><td>275</td><td>1</td><td>Rock</td></tr><tr><td>hholy@gmail.com</td><td>Helena</td><td>Holý</td><td>280</td><td>1</td><td>Rock</td></tr><tr><td>hholy@gmail.com</td><td>Helena</td><td>Holý</td><td>116</td><td>1</td><td>Rock</td></tr><tr><td>hholy@gmail.com</td><td>Helena</td><td>Holý</td><td>163</td><td>1</td><td>Rock</td></tr><tr><td>hholy@gmail.com</td><td>Helena</td><td>Holý</td><td>243</td><td>1</td><td>Rock</td></tr><tr><td>hholy@gmail.com</td><td>Helena</td><td>Holý</td><td>504</td><td>1</td><td>Rock</td></tr><tr><td>hholy@gmail.com</td><td>Helena</td><td>Holý</td><td>579</td><td>1</td><td>Rock</td></tr><tr><td>hleacock@gmail.com</td><td>Heather</td><td>Leacock</td><td>278</td><td>1</td><td>Rock</td></tr><tr><td>hleacock@gmail.com</td><td>Heather</td><td>Leacock</td><td>83</td><td>1</td><td>Rock</td></tr><tr><td>hleacock@gmail.com</td><td>Heather</td><td>Leacock</td><td>522</td><td>1</td><td>Rock</td></tr><tr><td>hleacock@gmail.com</td><td>Heather</td><td>Leacock</td><td>109</td><td>1</td><td>Rock</td></tr><tr><td>hleacock@gmail.com</td><td>Heather</td><td>Leacock</td><td>310</td><td>1</td><td>Rock</td></tr><tr><td>hleacock@gmail.com</td><td>Heather</td><td>Leacock</td><td>297</td><td>1</td><td>Rock</td></tr><tr><td>hleacock@gmail.com</td><td>Heather</td><td>Leacock</td><td>150</td><td>1</td><td>Rock</td></tr><tr><td>hleacock@gmail.com</td><td>Heather</td><td>Leacock</td><td>43</td><td>1</td><td>Rock</td></tr><tr><td>hughoreilly@apple.ie</td><td>Hugh</td><td>O'Reilly</td><td>539</td><td>1</td><td>Rock</td></tr><tr><td>hughoreilly@apple.ie</td><td>Hugh</td><td>O'Reilly</td><td>454</td><td>1</td><td>Rock</td></tr><tr><td>hughoreilly@apple.ie</td><td>Hugh</td><td>O'Reilly</td><td>401</td><td>1</td><td>Rock</td></tr><tr><td>hughoreilly@apple.ie</td><td>Hugh</td><td>O'Reilly</td><td>238</td><td>1</td><td>Rock</td></tr><tr><td>hughoreilly@apple.ie</td><td>Hugh</td><td>O'Reilly</td><td>176</td><td>1</td><td>Rock</td></tr><tr><td>hughoreilly@apple.ie</td><td>Hugh</td><td>O'Reilly</td><td>30</td><td>1</td><td>Rock</td></tr><tr><td>hughoreilly@apple.ie</td><td>Hugh</td><td>O'Reilly</td><td>197</td><td>1</td><td>Rock</td></tr><tr><td>hughoreilly@apple.ie</td><td>Hugh</td><td>O'Reilly</td><td>180</td><td>1</td><td>Rock</td></tr><tr><td>hughoreilly@apple.ie</td><td>Hugh</td><td>O'Reilly</td><td>479</td><td>1</td><td>Rock</td></tr><tr><td>hughoreilly@apple.ie</td><td>Hugh</td><td>O'Reilly</td><td>255</td><td>1</td><td>Rock</td></tr><tr><td>isabelle_mercier@apple.fr</td><td>Isabelle</td><td>Mercier</td><td>374</td><td>1</td><td>Rock</td></tr><tr><td>isabelle_mercier@apple.fr</td><td>Isabelle</td><td>Mercier</td><td>20</td><td>1</td><td>Rock</td></tr><tr><td>isabelle_mercier@apple.fr</td><td>Isabelle</td><td>Mercier</td><td>318</td><td>1</td><td>Rock</td></tr><tr><td>isabelle_mercier@apple.fr</td><td>Isabelle</td><td>Mercier</td><td>428</td><td>1</td><td>Rock</td></tr><tr><td>isabelle_mercier@apple.fr</td><td>Isabelle</td><td>Mercier</td><td>355</td><td>1</td><td>Rock</td></tr><tr><td>isabelle_mercier@apple.fr</td><td>Isabelle</td><td>Mercier</td><td>481</td><td>1</td><td>Rock</td></tr><tr><td>isabelle_mercier@apple.fr</td><td>Isabelle</td><td>Mercier</td><td>489</td><td>1</td><td>Rock</td></tr><tr><td>isabelle_mercier@apple.fr</td><td>Isabelle</td><td>Mercier</td><td>314</td><td>1</td><td>Rock</td></tr><tr><td>isabelle_mercier@apple.fr</td><td>Isabelle</td><td>Mercier</td><td>359</td><td>1</td><td>Rock</td></tr><tr><td>isabelle_mercier@apple.fr</td><td>Isabelle</td><td>Mercier</td><td>512</td><td>1</td><td>Rock</td></tr><tr><td>jacksmith@microsoft.com</td><td>Jack</td><td>Smith</td><td>436</td><td>1</td><td>Rock</td></tr><tr><td>jacksmith@microsoft.com</td><td>Jack</td><td>Smith</td><td>290</td><td>1</td><td>Rock</td></tr><tr><td>jacksmith@microsoft.com</td><td>Jack</td><td>Smith</td><td>393</td><td>1</td><td>Rock</td></tr><tr><td>jacksmith@microsoft.com</td><td>Jack</td><td>Smith</td><td>128</td><td>1</td><td>Rock</td></tr><tr><td>jacksmith@microsoft.com</td><td>Jack</td><td>Smith</td><td>543</td><td>1</td><td>Rock</td></tr><tr><td>jacksmith@microsoft.com</td><td>Jack</td><td>Smith</td><td>558</td><td>1</td><td>Rock</td></tr><tr><td>jacksmith@microsoft.com</td><td>Jack</td><td>Smith</td><td>207</td><td>1</td><td>Rock</td></tr><tr><td>jacksmith@microsoft.com</td><td>Jack</td><td>Smith</td><td>288</td><td>1</td><td>Rock</td></tr><tr><td>jacksmith@microsoft.com</td><td>Jack</td><td>Smith</td><td>129</td><td>1</td><td>Rock</td></tr><tr><td>jacksmith@microsoft.com</td><td>Jack</td><td>Smith</td><td>98</td><td>1</td><td>Rock</td></tr><tr><td>jacksmith@microsoft.com</td><td>Jack</td><td>Smith</td><td>166</td><td>1</td><td>Rock</td></tr><tr><td>jenniferp@rogers.ca</td><td>Jennifer</td><td>Peterson</td><td>142</td><td>1</td><td>Rock</td></tr><tr><td>jenniferp@rogers.ca</td><td>Jennifer</td><td>Peterson</td><td>575</td><td>1</td><td>Rock</td></tr><tr><td>jenniferp@rogers.ca</td><td>Jennifer</td><td>Peterson</td><td>606</td><td>1</td><td>Rock</td></tr><tr><td>jenniferp@rogers.ca</td><td>Jennifer</td><td>Peterson</td><td>229</td><td>1</td><td>Rock</td></tr><tr><td>jenniferp@rogers.ca</td><td>Jennifer</td><td>Peterson</td><td>483</td><td>1</td><td>Rock</td></tr><tr><td>jenniferp@rogers.ca</td><td>Jennifer</td><td>Peterson</td><td>567</td><td>1</td><td>Rock</td></tr><tr><td>jenniferp@rogers.ca</td><td>Jennifer</td><td>Peterson</td><td>110</td><td>1</td><td>Rock</td></tr><tr><td>jenniferp@rogers.ca</td><td>Jennifer</td><td>Peterson</td><td>60</td><td>1</td><td>Rock</td></tr><tr><td>jenniferp@rogers.ca</td><td>Jennifer</td><td>Peterson</td><td>564</td><td>1</td><td>Rock</td></tr><tr><td>jfernandes@yahoo.pt</td><td>João</td><td>Fernandes</td><td>224</td><td>1</td><td>Rock</td></tr><tr><td>jfernandes@yahoo.pt</td><td>João</td><td>Fernandes</td><td>449</td><td>1</td><td>Rock</td></tr><tr><td>jfernandes@yahoo.pt</td><td>João</td><td>Fernandes</td><td>497</td><td>1</td><td>Rock</td></tr><tr><td>jfernandes@yahoo.pt</td><td>João</td><td>Fernandes</td><td>137</td><td>1</td><td>Rock</td></tr><tr><td>jfernandes@yahoo.pt</td><td>João</td><td>Fernandes</td><td>301</td><td>1</td><td>Rock</td></tr><tr><td>jfernandes@yahoo.pt</td><td>João</td><td>Fernandes</td><td>572</td><td>1</td><td>Rock</td></tr><tr><td>jfernandes@yahoo.pt</td><td>João</td><td>Fernandes</td><td>56</td><td>1</td><td>Rock</td></tr><tr><td>jfernandes@yahoo.pt</td><td>João</td><td>Fernandes</td><td>463</td><td>1</td><td>Rock</td></tr><tr><td>jfernandes@yahoo.pt</td><td>João</td><td>Fernandes</td><td>390</td><td>1</td><td>Rock</td></tr><tr><td>jfernandes@yahoo.pt</td><td>João</td><td>Fernandes</td><td>35</td><td>1</td><td>Rock</td></tr><tr><td>joakim.johansson@yahoo.se</td><td>Joakim</td><td>Johansson</td><td>94</td><td>1</td><td>Rock</td></tr><tr><td>joakim.johansson@yahoo.se</td><td>Joakim</td><td>Johansson</td><td>399</td><td>1</td><td>Rock</td></tr><tr><td>joakim.johansson@yahoo.se</td><td>Joakim</td><td>Johansson</td><td>398</td><td>1</td><td>Rock</td></tr><tr><td>joakim.johansson@yahoo.se</td><td>Joakim</td><td>Johansson</td><td>571</td><td>1</td><td>Rock</td></tr><tr><td>joakim.johansson@yahoo.se</td><td>Joakim</td><td>Johansson</td><td>190</td><td>1</td><td>Rock</td></tr><tr><td>joakim.johansson@yahoo.se</td><td>Joakim</td><td>Johansson</td><td>590</td><td>1</td><td>Rock</td></tr><tr><td>joakim.johansson@yahoo.se</td><td>Joakim</td><td>Johansson</td><td>36</td><td>1</td><td>Rock</td></tr><tr><td>joakim.johansson@yahoo.se</td><td>Joakim</td><td>Johansson</td><td>191</td><td>1</td><td>Rock</td></tr><tr><td>joakim.johansson@yahoo.se</td><td>Joakim</td><td>Johansson</td><td>211</td><td>1</td><td>Rock</td></tr><tr><td>johavanderberg@yahoo.nl</td><td>Johannes</td><td>Van der Berg</td><td>421</td><td>1</td><td>Rock</td></tr><tr><td>johavanderberg@yahoo.nl</td><td>Johannes</td><td>Van der Berg</td><td>382</td><td>1</td><td>Rock</td></tr><tr><td>johavanderberg@yahoo.nl</td><td>Johannes</td><td>Van der Berg</td><td>409</td><td>1</td><td>Rock</td></tr><tr><td>johavanderberg@yahoo.nl</td><td>Johannes</td><td>Van der Berg</td><td>378</td><td>1</td><td>Rock</td></tr><tr><td>johavanderberg@yahoo.nl</td><td>Johannes</td><td>Van der Berg</td><td>258</td><td>1</td><td>Rock</td></tr><tr><td>johavanderberg@yahoo.nl</td><td>Johannes</td><td>Van der Berg</td><td>283</td><td>1</td><td>Rock</td></tr><tr><td>johavanderberg@yahoo.nl</td><td>Johannes</td><td>Van der Berg</td><td>174</td><td>1</td><td>Rock</td></tr><tr><td>johavanderberg@yahoo.nl</td><td>Johannes</td><td>Van der Berg</td><td>509</td><td>1</td><td>Rock</td></tr><tr><td>johngordon22@yahoo.com</td><td>John</td><td>Gordon</td><td>250</td><td>1</td><td>Rock</td></tr><tr><td>johngordon22@yahoo.com</td><td>John</td><td>Gordon</td><td>516</td><td>1</td><td>Rock</td></tr><tr><td>johngordon22@yahoo.com</td><td>John</td><td>Gordon</td><td>438</td><td>1</td><td>Rock</td></tr><tr><td>johngordon22@yahoo.com</td><td>John</td><td>Gordon</td><td>595</td><td>1</td><td>Rock</td></tr><tr><td>johngordon22@yahoo.com</td><td>John</td><td>Gordon</td><td>561</td><td>1</td><td>Rock</td></tr><tr><td>johngordon22@yahoo.com</td><td>John</td><td>Gordon</td><td>139</td><td>1</td><td>Rock</td></tr><tr><td>johngordon22@yahoo.com</td><td>John</td><td>Gordon</td><td>323</td><td>1</td><td>Rock</td></tr><tr><td>johngordon22@yahoo.com</td><td>John</td><td>Gordon</td><td>383</td><td>1</td><td>Rock</td></tr><tr><td>johngordon22@yahoo.com</td><td>John</td><td>Gordon</td><td>287</td><td>1</td><td>Rock</td></tr><tr><td>johngordon22@yahoo.com</td><td>John</td><td>Gordon</td><td>515</td><td>1</td><td>Rock</td></tr><tr><td>jubarnett@gmail.com</td><td>Julia</td><td>Barnett</td><td>118</td><td>1</td><td>Rock</td></tr><tr><td>jubarnett@gmail.com</td><td>Julia</td><td>Barnett</td><td>377</td><td>1</td><td>Rock</td></tr><tr><td>jubarnett@gmail.com</td><td>Julia</td><td>Barnett</td><td>145</td><td>1</td><td>Rock</td></tr><tr><td>jubarnett@gmail.com</td><td>Julia</td><td>Barnett</td><td>353</td><td>1</td><td>Rock</td></tr><tr><td>jubarnett@gmail.com</td><td>Julia</td><td>Barnett</td><td>192</td><td>1</td><td>Rock</td></tr><tr><td>jubarnett@gmail.com</td><td>Julia</td><td>Barnett</td><td>455</td><td>1</td><td>Rock</td></tr><tr><td>jubarnett@gmail.com</td><td>Julia</td><td>Barnett</td><td>577</td><td>1</td><td>Rock</td></tr><tr><td>jubarnett@gmail.com</td><td>Julia</td><td>Barnett</td><td>478</td><td>1</td><td>Rock</td></tr><tr><td>jubarnett@gmail.com</td><td>Julia</td><td>Barnett</td><td>303</td><td>1</td><td>Rock</td></tr><tr><td>kachase@hotmail.com</td><td>Kathy</td><td>Chase</td><td>602</td><td>1</td><td>Rock</td></tr><tr><td>kachase@hotmail.com</td><td>Kathy</td><td>Chase</td><td>44</td><td>1</td><td>Rock</td></tr><tr><td>kachase@hotmail.com</td><td>Kathy</td><td>Chase</td><td>185</td><td>1</td><td>Rock</td></tr><tr><td>kachase@hotmail.com</td><td>Kathy</td><td>Chase</td><td>322</td><td>1</td><td>Rock</td></tr><tr><td>kachase@hotmail.com</td><td>Kathy</td><td>Chase</td><td>556</td><td>1</td><td>Rock</td></tr><tr><td>kachase@hotmail.com</td><td>Kathy</td><td>Chase</td><td>496</td><td>1</td><td>Rock</td></tr><tr><td>kachase@hotmail.com</td><td>Kathy</td><td>Chase</td><td>169</td><td>1</td><td>Rock</td></tr><tr><td>kachase@hotmail.com</td><td>Kathy</td><td>Chase</td><td>167</td><td>1</td><td>Rock</td></tr><tr><td>kachase@hotmail.com</td><td>Kathy</td><td>Chase</td><td>423</td><td>1</td><td>Rock</td></tr><tr><td>kara.nielsen@jubii.dk</td><td>Kara</td><td>Nielsen</td><td>411</td><td>1</td><td>Rock</td></tr><tr><td>kara.nielsen@jubii.dk</td><td>Kara</td><td>Nielsen</td><td>122</td><td>1</td><td>Rock</td></tr><tr><td>kara.nielsen@jubii.dk</td><td>Kara</td><td>Nielsen</td><td>354</td><td>1</td><td>Rock</td></tr><tr><td>kara.nielsen@jubii.dk</td><td>Kara</td><td>Nielsen</td><td>329</td><td>1</td><td>Rock</td></tr><tr><td>kara.nielsen@jubii.dk</td><td>Kara</td><td>Nielsen</td><td>267</td><td>1</td><td>Rock</td></tr><tr><td>kara.nielsen@jubii.dk</td><td>Kara</td><td>Nielsen</td><td>470</td><td>1</td><td>Rock</td></tr><tr><td>kara.nielsen@jubii.dk</td><td>Kara</td><td>Nielsen</td><td>58</td><td>1</td><td>Rock</td></tr><tr><td>kara.nielsen@jubii.dk</td><td>Kara</td><td>Nielsen</td><td>62</td><td>1</td><td>Rock</td></tr><tr><td>kara.nielsen@jubii.dk</td><td>Kara</td><td>Nielsen</td><td>21</td><td>1</td><td>Rock</td></tr><tr><td>ladislav_kovacs@apple.hu</td><td>Ladislav</td><td>Kovács</td><td>181</td><td>1</td><td>Rock</td></tr><tr><td>ladislav_kovacs@apple.hu</td><td>Ladislav</td><td>Kovács</td><td>576</td><td>1</td><td>Rock</td></tr><tr><td>ladislav_kovacs@apple.hu</td><td>Ladislav</td><td>Kovács</td><td>360</td><td>1</td><td>Rock</td></tr><tr><td>ladislav_kovacs@apple.hu</td><td>Ladislav</td><td>Kovács</td><td>95</td><td>1</td><td>Rock</td></tr><tr><td>ladislav_kovacs@apple.hu</td><td>Ladislav</td><td>Kovács</td><td>141</td><td>1</td><td>Rock</td></tr><tr><td>ladislav_kovacs@apple.hu</td><td>Ladislav</td><td>Kovács</td><td>29</td><td>1</td><td>Rock</td></tr><tr><td>ladislav_kovacs@apple.hu</td><td>Ladislav</td><td>Kovács</td><td>170</td><td>1</td><td>Rock</td></tr><tr><td>ladislav_kovacs@apple.hu</td><td>Ladislav</td><td>Kovács</td><td>440</td><td>1</td><td>Rock</td></tr><tr><td>leonekohler@surfeu.de</td><td>Leonie</td><td>Köhler</td><td>343</td><td>1</td><td>Rock</td></tr><tr><td>leonekohler@surfeu.de</td><td>Leonie</td><td>Köhler</td><td>549</td><td>1</td><td>Rock</td></tr><tr><td>leonekohler@surfeu.de</td><td>Leonie</td><td>Köhler</td><td>222</td><td>1</td><td>Rock</td></tr><tr><td>leonekohler@surfeu.de</td><td>Leonie</td><td>Köhler</td><td>134</td><td>1</td><td>Rock</td></tr><tr><td>leonekohler@surfeu.de</td><td>Leonie</td><td>Köhler</td><td>557</td><td>1</td><td>Rock</td></tr><tr><td>leonekohler@surfeu.de</td><td>Leonie</td><td>Köhler</td><td>210</td><td>1</td><td>Rock</td></tr><tr><td>leonekohler@surfeu.de</td><td>Leonie</td><td>Köhler</td><td>131</td><td>1</td><td>Rock</td></tr><tr><td>leonekohler@surfeu.de</td><td>Leonie</td><td>Köhler</td><td>162</td><td>1</td><td>Rock</td></tr><tr><td>leonekohler@surfeu.de</td><td>Leonie</td><td>Köhler</td><td>592</td><td>1</td><td>Rock</td></tr><tr><td>leonekohler@surfeu.de</td><td>Leonie</td><td>Köhler</td><td>69</td><td>1</td><td>Rock</td></tr><tr><td>lucas.mancini@yahoo.it</td><td>Lucas</td><td>Mancini</td><td>452</td><td>1</td><td>Rock</td></tr><tr><td>lucas.mancini@yahoo.it</td><td>Lucas</td><td>Mancini</td><td>569</td><td>1</td><td>Rock</td></tr><tr><td>lucas.mancini@yahoo.it</td><td>Lucas</td><td>Mancini</td><td>271</td><td>1</td><td>Rock</td></tr><tr><td>lucas.mancini@yahoo.it</td><td>Lucas</td><td>Mancini</td><td>177</td><td>1</td><td>Rock</td></tr><tr><td>lucas.mancini@yahoo.it</td><td>Lucas</td><td>Mancini</td><td>168</td><td>1</td><td>Rock</td></tr><tr><td>lucas.mancini@yahoo.it</td><td>Lucas</td><td>Mancini</td><td>413</td><td>1</td><td>Rock</td></tr><tr><td>lucas.mancini@yahoo.it</td><td>Lucas</td><td>Mancini</td><td>72</td><td>1</td><td>Rock</td></tr><tr><td>luisg@embraer.com.br</td><td>Luís</td><td>Gonçalves</td><td>182</td><td>1</td><td>Rock</td></tr><tr><td>luisg@embraer.com.br</td><td>Luís</td><td>Gonçalves</td><td>223</td><td>1</td><td>Rock</td></tr><tr><td>luisg@embraer.com.br</td><td>Luís</td><td>Gonçalves</td><td>270</td><td>1</td><td>Rock</td></tr><tr><td>luisg@embraer.com.br</td><td>Luís</td><td>Gonçalves</td><td>16</td><td>1</td><td>Rock</td></tr><tr><td>luisg@embraer.com.br</td><td>Luís</td><td>Gonçalves</td><td>153</td><td>1</td><td>Rock</td></tr><tr><td>luisg@embraer.com.br</td><td>Luís</td><td>Gonçalves</td><td>464</td><td>1</td><td>Rock</td></tr><tr><td>luisg@embraer.com.br</td><td>Luís</td><td>Gonçalves</td><td>544</td><td>1</td><td>Rock</td></tr><tr><td>luisg@embraer.com.br</td><td>Luís</td><td>Gonçalves</td><td>149</td><td>1</td><td>Rock</td></tr><tr><td>luisg@embraer.com.br</td><td>Luís</td><td>Gonçalves</td><td>77</td><td>1</td><td>Rock</td></tr><tr><td>luisg@embraer.com.br</td><td>Luís</td><td>Gonçalves</td><td>536</td><td>1</td><td>Rock</td></tr><tr><td>luisg@embraer.com.br</td><td>Luís</td><td>Gonçalves</td><td>442</td><td>1</td><td>Rock</td></tr><tr><td>luisrojas@yahoo.cl</td><td>Luis</td><td>Rojas</td><td>335</td><td>1</td><td>Rock</td></tr><tr><td>luisrojas@yahoo.cl</td><td>Luis</td><td>Rojas</td><td>68</td><td>1</td><td>Rock</td></tr><tr><td>luisrojas@yahoo.cl</td><td>Luis</td><td>Rojas</td><td>351</td><td>1</td><td>Rock</td></tr><tr><td>luisrojas@yahoo.cl</td><td>Luis</td><td>Rojas</td><td>228</td><td>1</td><td>Rock</td></tr><tr><td>luisrojas@yahoo.cl</td><td>Luis</td><td>Rojas</td><td>527</td><td>1</td><td>Rock</td></tr><tr><td>luisrojas@yahoo.cl</td><td>Luis</td><td>Rojas</td><td>324</td><td>1</td><td>Rock</td></tr><tr><td>luisrojas@yahoo.cl</td><td>Luis</td><td>Rojas</td><td>158</td><td>1</td><td>Rock</td></tr><tr><td>luisrojas@yahoo.cl</td><td>Luis</td><td>Rojas</td><td>214</td><td>1</td><td>Rock</td></tr><tr><td>luisrojas@yahoo.cl</td><td>Luis</td><td>Rojas</td><td>254</td><td>1</td><td>Rock</td></tr><tr><td>luisrojas@yahoo.cl</td><td>Luis</td><td>Rojas</td><td>47</td><td>1</td><td>Rock</td></tr><tr><td>luisrojas@yahoo.cl</td><td>Luis</td><td>Rojas</td><td>232</td><td>1</td><td>Rock</td></tr><tr><td>luisrojas@yahoo.cl</td><td>Luis</td><td>Rojas</td><td>407</td><td>1</td><td>Rock</td></tr><tr><td>manoj.pareek@rediff.com</td><td>Manoj</td><td>Pareek</td><td>473</td><td>1</td><td>Rock</td></tr><tr><td>manoj.pareek@rediff.com</td><td>Manoj</td><td>Pareek</td><td>294</td><td>1</td><td>Rock</td></tr><tr><td>manoj.pareek@rediff.com</td><td>Manoj</td><td>Pareek</td><td>338</td><td>1</td><td>Rock</td></tr><tr><td>manoj.pareek@rediff.com</td><td>Manoj</td><td>Pareek</td><td>82</td><td>1</td><td>Rock</td></tr><tr><td>manoj.pareek@rediff.com</td><td>Manoj</td><td>Pareek</td><td>541</td><td>1</td><td>Rock</td></tr><tr><td>manoj.pareek@rediff.com</td><td>Manoj</td><td>Pareek</td><td>285</td><td>1</td><td>Rock</td></tr><tr><td>manoj.pareek@rediff.com</td><td>Manoj</td><td>Pareek</td><td>140</td><td>1</td><td>Rock</td></tr><tr><td>manoj.pareek@rediff.com</td><td>Manoj</td><td>Pareek</td><td>100</td><td>1</td><td>Rock</td></tr><tr><td>manoj.pareek@rediff.com</td><td>Manoj</td><td>Pareek</td><td>33</td><td>1</td><td>Rock</td></tr><tr><td>manoj.pareek@rediff.com</td><td>Manoj</td><td>Pareek</td><td>506</td><td>1</td><td>Rock</td></tr><tr><td>manoj.pareek@rediff.com</td><td>Manoj</td><td>Pareek</td><td>246</td><td>1</td><td>Rock</td></tr><tr><td>marc.dubois@hotmail.com</td><td>Marc</td><td>Dubois</td><td>547</td><td>1</td><td>Rock</td></tr><tr><td>marc.dubois@hotmail.com</td><td>Marc</td><td>Dubois</td><td>193</td><td>1</td><td>Rock</td></tr><tr><td>marc.dubois@hotmail.com</td><td>Marc</td><td>Dubois</td><td>279</td><td>1</td><td>Rock</td></tr><tr><td>marc.dubois@hotmail.com</td><td>Marc</td><td>Dubois</td><td>165</td><td>1</td><td>Rock</td></tr><tr><td>marc.dubois@hotmail.com</td><td>Marc</td><td>Dubois</td><td>513</td><td>1</td><td>Rock</td></tr><tr><td>marc.dubois@hotmail.com</td><td>Marc</td><td>Dubois</td><td>160</td><td>1</td><td>Rock</td></tr><tr><td>marc.dubois@hotmail.com</td><td>Marc</td><td>Dubois</td><td>524</td><td>1</td><td>Rock</td></tr><tr><td>marc.dubois@hotmail.com</td><td>Marc</td><td>Dubois</td><td>493</td><td>1</td><td>Rock</td></tr><tr><td>marc.dubois@hotmail.com</td><td>Marc</td><td>Dubois</td><td>589</td><td>1</td><td>Rock</td></tr><tr><td>mark.taylor@yahoo.au</td><td>Mark</td><td>Taylor</td><td>610</td><td>1</td><td>Rock</td></tr><tr><td>mark.taylor@yahoo.au</td><td>Mark</td><td>Taylor</td><td>427</td><td>1</td><td>Rock</td></tr><tr><td>mark.taylor@yahoo.au</td><td>Mark</td><td>Taylor</td><td>586</td><td>1</td><td>Rock</td></tr><tr><td>mark.taylor@yahoo.au</td><td>Mark</td><td>Taylor</td><td>430</td><td>1</td><td>Rock</td></tr><tr><td>mark.taylor@yahoo.au</td><td>Mark</td><td>Taylor</td><td>26</td><td>1</td><td>Rock</td></tr><tr><td>mark.taylor@yahoo.au</td><td>Mark</td><td>Taylor</td><td>450</td><td>1</td><td>Rock</td></tr><tr><td>mark.taylor@yahoo.au</td><td>Mark</td><td>Taylor</td><td>356</td><td>1</td><td>Rock</td></tr><tr><td>marthasilk@gmail.com</td><td>Martha</td><td>Silk</td><td>105</td><td>1</td><td>Rock</td></tr><tr><td>marthasilk@gmail.com</td><td>Martha</td><td>Silk</td><td>10</td><td>1</td><td>Rock</td></tr><tr><td>marthasilk@gmail.com</td><td>Martha</td><td>Silk</td><td>538</td><td>1</td><td>Rock</td></tr><tr><td>marthasilk@gmail.com</td><td>Martha</td><td>Silk</td><td>63</td><td>1</td><td>Rock</td></tr><tr><td>marthasilk@gmail.com</td><td>Martha</td><td>Silk</td><td>394</td><td>1</td><td>Rock</td></tr><tr><td>marthasilk@gmail.com</td><td>Martha</td><td>Silk</td><td>6</td><td>1</td><td>Rock</td></tr><tr><td>marthasilk@gmail.com</td><td>Martha</td><td>Silk</td><td>70</td><td>1</td><td>Rock</td></tr><tr><td>marthasilk@gmail.com</td><td>Martha</td><td>Silk</td><td>453</td><td>1</td><td>Rock</td></tr><tr><td>marthasilk@gmail.com</td><td>Martha</td><td>Silk</td><td>88</td><td>1</td><td>Rock</td></tr><tr><td>masampaio@sapo.pt</td><td>Madalena</td><td>Sampaio</td><td>291</td><td>1</td><td>Rock</td></tr><tr><td>masampaio@sapo.pt</td><td>Madalena</td><td>Sampaio</td><td>27</td><td>1</td><td>Rock</td></tr><tr><td>masampaio@sapo.pt</td><td>Madalena</td><td>Sampaio</td><td>368</td><td>1</td><td>Rock</td></tr><tr><td>masampaio@sapo.pt</td><td>Madalena</td><td>Sampaio</td><td>133</td><td>1</td><td>Rock</td></tr><tr><td>masampaio@sapo.pt</td><td>Madalena</td><td>Sampaio</td><td>424</td><td>1</td><td>Rock</td></tr><tr><td>masampaio@sapo.pt</td><td>Madalena</td><td>Sampaio</td><td>605</td><td>1</td><td>Rock</td></tr><tr><td>masampaio@sapo.pt</td><td>Madalena</td><td>Sampaio</td><td>221</td><td>1</td><td>Rock</td></tr><tr><td>masampaio@sapo.pt</td><td>Madalena</td><td>Sampaio</td><td>127</td><td>1</td><td>Rock</td></tr><tr><td>masampaio@sapo.pt</td><td>Madalena</td><td>Sampaio</td><td>236</td><td>1</td><td>Rock</td></tr><tr><td>masampaio@sapo.pt</td><td>Madalena</td><td>Sampaio</td><td>568</td><td>1</td><td>Rock</td></tr><tr><td>masampaio@sapo.pt</td><td>Madalena</td><td>Sampaio</td><td>22</td><td>1</td><td>Rock</td></tr><tr><td>masampaio@sapo.pt</td><td>Madalena</td><td>Sampaio</td><td>13</td><td>1</td><td>Rock</td></tr><tr><td>masampaio@sapo.pt</td><td>Madalena</td><td>Sampaio</td><td>348</td><td>1</td><td>Rock</td></tr><tr><td>masampaio@sapo.pt</td><td>Madalena</td><td>Sampaio</td><td>151</td><td>1</td><td>Rock</td></tr><tr><td>michelleb@aol.com</td><td>Michelle</td><td>Brooks</td><td>50</td><td>1</td><td>Rock</td></tr><tr><td>michelleb@aol.com</td><td>Michelle</td><td>Brooks</td><td>486</td><td>1</td><td>Rock</td></tr><tr><td>michelleb@aol.com</td><td>Michelle</td><td>Brooks</td><td>448</td><td>1</td><td>Rock</td></tr><tr><td>michelleb@aol.com</td><td>Michelle</td><td>Brooks</td><td>187</td><td>1</td><td>Rock</td></tr><tr><td>michelleb@aol.com</td><td>Michelle</td><td>Brooks</td><td>1</td><td>1</td><td>Rock</td></tr><tr><td>michelleb@aol.com</td><td>Michelle</td><td>Brooks</td><td>9</td><td>1</td><td>Rock</td></tr><tr><td>michelleb@aol.com</td><td>Michelle</td><td>Brooks</td><td>4</td><td>1</td><td>Rock</td></tr><tr><td>mphilips12@shaw.ca</td><td>Mark</td><td>Philips</td><td>469</td><td>1</td><td>Rock</td></tr><tr><td>mphilips12@shaw.ca</td><td>Mark</td><td>Philips</td><td>370</td><td>1</td><td>Rock</td></tr><tr><td>mphilips12@shaw.ca</td><td>Mark</td><td>Philips</td><td>293</td><td>1</td><td>Rock</td></tr><tr><td>mphilips12@shaw.ca</td><td>Mark</td><td>Philips</td><td>425</td><td>1</td><td>Rock</td></tr><tr><td>mphilips12@shaw.ca</td><td>Mark</td><td>Philips</td><td>233</td><td>1</td><td>Rock</td></tr><tr><td>mphilips12@shaw.ca</td><td>Mark</td><td>Philips</td><td>371</td><td>1</td><td>Rock</td></tr><tr><td>mphilips12@shaw.ca</td><td>Mark</td><td>Philips</td><td>609</td><td>1</td><td>Rock</td></tr><tr><td>mphilips12@shaw.ca</td><td>Mark</td><td>Philips</td><td>530</td><td>1</td><td>Rock</td></tr><tr><td>mphilips12@shaw.ca</td><td>Mark</td><td>Philips</td><td>132</td><td>1</td><td>Rock</td></tr><tr><td>nschroder@surfeu.de</td><td>Niklas</td><td>Schröder</td><td>435</td><td>1</td><td>Rock</td></tr><tr><td>nschroder@surfeu.de</td><td>Niklas</td><td>Schröder</td><td>203</td><td>1</td><td>Rock</td></tr><tr><td>nschroder@surfeu.de</td><td>Niklas</td><td>Schröder</td><td>11</td><td>1</td><td>Rock</td></tr><tr><td>nschroder@surfeu.de</td><td>Niklas</td><td>Schröder</td><td>508</td><td>1</td><td>Rock</td></tr><tr><td>nschroder@surfeu.de</td><td>Niklas</td><td>Schröder</td><td>239</td><td>1</td><td>Rock</td></tr><tr><td>nschroder@surfeu.de</td><td>Niklas</td><td>Schröder</td><td>59</td><td>1</td><td>Rock</td></tr><tr><td>nschroder@surfeu.de</td><td>Niklas</td><td>Schröder</td><td>363</td><td>1</td><td>Rock</td></tr><tr><td>nschroder@surfeu.de</td><td>Niklas</td><td>Schröder</td><td>259</td><td>1</td><td>Rock</td></tr><tr><td>patrick.gray@aol.com</td><td>Patrick</td><td>Gray</td><td>5</td><td>1</td><td>Rock</td></tr><tr><td>patrick.gray@aol.com</td><td>Patrick</td><td>Gray</td><td>209</td><td>1</td><td>Rock</td></tr><tr><td>patrick.gray@aol.com</td><td>Patrick</td><td>Gray</td><td>487</td><td>1</td><td>Rock</td></tr><tr><td>patrick.gray@aol.com</td><td>Patrick</td><td>Gray</td><td>247</td><td>1</td><td>Rock</td></tr><tr><td>patrick.gray@aol.com</td><td>Patrick</td><td>Gray</td><td>573</td><td>1</td><td>Rock</td></tr><tr><td>patrick.gray@aol.com</td><td>Patrick</td><td>Gray</td><td>195</td><td>1</td><td>Rock</td></tr><tr><td>patrick.gray@aol.com</td><td>Patrick</td><td>Gray</td><td>562</td><td>1</td><td>Rock</td></tr><tr><td>patrick.gray@aol.com</td><td>Patrick</td><td>Gray</td><td>286</td><td>1</td><td>Rock</td></tr><tr><td>phil.hughes@gmail.com</td><td>Phil</td><td>Hughes</td><td>565</td><td>1</td><td>Rock</td></tr><tr><td>phil.hughes@gmail.com</td><td>Phil</td><td>Hughes</td><td>277</td><td>1</td><td>Rock</td></tr><tr><td>phil.hughes@gmail.com</td><td>Phil</td><td>Hughes</td><td>422</td><td>1</td><td>Rock</td></tr><tr><td>phil.hughes@gmail.com</td><td>Phil</td><td>Hughes</td><td>23</td><td>1</td><td>Rock</td></tr><tr><td>phil.hughes@gmail.com</td><td>Phil</td><td>Hughes</td><td>213</td><td>1</td><td>Rock</td></tr><tr><td>phil.hughes@gmail.com</td><td>Phil</td><td>Hughes</td><td>614</td><td>1</td><td>Rock</td></tr><tr><td>phil.hughes@gmail.com</td><td>Phil</td><td>Hughes</td><td>502</td><td>1</td><td>Rock</td></tr><tr><td>phil.hughes@gmail.com</td><td>Phil</td><td>Hughes</td><td>244</td><td>1</td><td>Rock</td></tr><tr><td>phil.hughes@gmail.com</td><td>Phil</td><td>Hughes</td><td>96</td><td>1</td><td>Rock</td></tr><tr><td>ricunningham@hotmail.com</td><td>Richard</td><td>Cunningham</td><td>274</td><td>1</td><td>Rock</td></tr><tr><td>ricunningham@hotmail.com</td><td>Richard</td><td>Cunningham</td><td>366</td><td>1</td><td>Rock</td></tr><tr><td>ricunningham@hotmail.com</td><td>Richard</td><td>Cunningham</td><td>603</td><td>1</td><td>Rock</td></tr><tr><td>ricunningham@hotmail.com</td><td>Richard</td><td>Cunningham</td><td>74</td><td>1</td><td>Rock</td></tr><tr><td>ricunningham@hotmail.com</td><td>Richard</td><td>Cunningham</td><td>598</td><td>1</td><td>Rock</td></tr><tr><td>ricunningham@hotmail.com</td><td>Richard</td><td>Cunningham</td><td>364</td><td>1</td><td>Rock</td></tr><tr><td>ricunningham@hotmail.com</td><td>Richard</td><td>Cunningham</td><td>434</td><td>1</td><td>Rock</td></tr><tr><td>ricunningham@hotmail.com</td><td>Richard</td><td>Cunningham</td><td>307</td><td>1</td><td>Rock</td></tr><tr><td>ricunningham@hotmail.com</td><td>Richard</td><td>Cunningham</td><td>494</td><td>1</td><td>Rock</td></tr><tr><td>ricunningham@hotmail.com</td><td>Richard</td><td>Cunningham</td><td>386</td><td>1</td><td>Rock</td></tr><tr><td>rishabh_mishra@yahoo.in</td><td>Rishabh</td><td>Mishra</td><td>121</td><td>1</td><td>Rock</td></tr><tr><td>rishabh_mishra@yahoo.in</td><td>Rishabh</td><td>Mishra</td><td>37</td><td>1</td><td>Rock</td></tr><tr><td>rishabh_mishra@yahoo.in</td><td>Rishabh</td><td>Mishra</td><td>8</td><td>1</td><td>Rock</td></tr><tr><td>rishabh_mishra@yahoo.in</td><td>Rishabh</td><td>Mishra</td><td>61</td><td>1</td><td>Rock</td></tr><tr><td>rishabh_mishra@yahoo.in</td><td>Rishabh</td><td>Mishra</td><td>607</td><td>1</td><td>Rock</td></tr><tr><td>rishabh_mishra@yahoo.in</td><td>Rishabh</td><td>Mishra</td><td>599</td><td>1</td><td>Rock</td></tr><tr><td>rishabh_mishra@yahoo.in</td><td>Rishabh</td><td>Mishra</td><td>155</td><td>1</td><td>Rock</td></tr><tr><td>rishabh_mishra@yahoo.in</td><td>Rishabh</td><td>Mishra</td><td>220</td><td>1</td><td>Rock</td></tr><tr><td>robbrown@shaw.ca</td><td>Robert</td><td>Brown</td><td>362</td><td>1</td><td>Rock</td></tr><tr><td>robbrown@shaw.ca</td><td>Robert</td><td>Brown</td><td>120</td><td>1</td><td>Rock</td></tr><tr><td>robbrown@shaw.ca</td><td>Robert</td><td>Brown</td><td>332</td><td>1</td><td>Rock</td></tr><tr><td>robbrown@shaw.ca</td><td>Robert</td><td>Brown</td><td>600</td><td>1</td><td>Rock</td></tr><tr><td>roberto.almeida@riotur.gov.br</td><td>Roberto</td><td>Almeida</td><td>28</td><td>1</td><td>Rock</td></tr><tr><td>roberto.almeida@riotur.gov.br</td><td>Roberto</td><td>Almeida</td><td>114</td><td>1</td><td>Rock</td></tr><tr><td>roberto.almeida@riotur.gov.br</td><td>Roberto</td><td>Almeida</td><td>152</td><td>1</td><td>Rock</td></tr><tr><td>roberto.almeida@riotur.gov.br</td><td>Roberto</td><td>Almeida</td><td>593</td><td>1</td><td>Rock</td></tr><tr><td>roberto.almeida@riotur.gov.br</td><td>Roberto</td><td>Almeida</td><td>587</td><td>1</td><td>Rock</td></tr><tr><td>roberto.almeida@riotur.gov.br</td><td>Roberto</td><td>Almeida</td><td>333</td><td>1</td><td>Rock</td></tr><tr><td>roberto.almeida@riotur.gov.br</td><td>Roberto</td><td>Almeida</td><td>412</td><td>1</td><td>Rock</td></tr><tr><td>roberto.almeida@riotur.gov.br</td><td>Roberto</td><td>Almeida</td><td>298</td><td>1</td><td>Rock</td></tr><tr><td>stanisław.wójcik@wp.pl</td><td>Stanisław</td><td>Wójcik</td><td>164</td><td>1</td><td>Rock</td></tr><tr><td>stanisław.wójcik@wp.pl</td><td>Stanisław</td><td>Wójcik</td><td>7</td><td>1</td><td>Rock</td></tr><tr><td>stanisław.wójcik@wp.pl</td><td>Stanisław</td><td>Wójcik</td><td>327</td><td>1</td><td>Rock</td></tr><tr><td>stanisław.wójcik@wp.pl</td><td>Stanisław</td><td>Wójcik</td><td>261</td><td>1</td><td>Rock</td></tr><tr><td>stanisław.wójcik@wp.pl</td><td>Stanisław</td><td>Wójcik</td><td>216</td><td>1</td><td>Rock</td></tr><tr><td>stanisław.wójcik@wp.pl</td><td>Stanisław</td><td>Wójcik</td><td>608</td><td>1</td><td>Rock</td></tr><tr><td>stanisław.wójcik@wp.pl</td><td>Stanisław</td><td>Wójcik</td><td>574</td><td>1</td><td>Rock</td></tr><tr><td>stanisław.wójcik@wp.pl</td><td>Stanisław</td><td>Wójcik</td><td>446</td><td>1</td><td>Rock</td></tr><tr><td>stanisław.wójcik@wp.pl</td><td>Stanisław</td><td>Wójcik</td><td>38</td><td>1</td><td>Rock</td></tr><tr><td>steve.murray@yahoo.uk</td><td>Steve</td><td>Murray</td><td>492</td><td>1</td><td>Rock</td></tr><tr><td>steve.murray@yahoo.uk</td><td>Steve</td><td>Murray</td><td>415</td><td>1</td><td>Rock</td></tr><tr><td>steve.murray@yahoo.uk</td><td>Steve</td><td>Murray</td><td>403</td><td>1</td><td>Rock</td></tr><tr><td>steve.murray@yahoo.uk</td><td>Steve</td><td>Murray</td><td>106</td><td>1</td><td>Rock</td></tr><tr><td>steve.murray@yahoo.uk</td><td>Steve</td><td>Murray</td><td>230</td><td>1</td><td>Rock</td></tr><tr><td>steve.murray@yahoo.uk</td><td>Steve</td><td>Murray</td><td>414</td><td>1</td><td>Rock</td></tr><tr><td>steve.murray@yahoo.uk</td><td>Steve</td><td>Murray</td><td>379</td><td>1</td><td>Rock</td></tr><tr><td>steve.murray@yahoo.uk</td><td>Steve</td><td>Murray</td><td>402</td><td>1</td><td>Rock</td></tr><tr><td>steve.murray@yahoo.uk</td><td>Steve</td><td>Murray</td><td>437</td><td>1</td><td>Rock</td></tr><tr><td>terhi.hamalainen@apple.fi</td><td>Terhi</td><td>Hämäläinen</td><td>601</td><td>1</td><td>Rock</td></tr><tr><td>terhi.hamalainen@apple.fi</td><td>Terhi</td><td>Hämäläinen</td><td>48</td><td>1</td><td>Rock</td></tr><tr><td>terhi.hamalainen@apple.fi</td><td>Terhi</td><td>Hämäläinen</td><td>252</td><td>1</td><td>Rock</td></tr><tr><td>terhi.hamalainen@apple.fi</td><td>Terhi</td><td>Hämäläinen</td><td>266</td><td>1</td><td>Rock</td></tr><tr><td>terhi.hamalainen@apple.fi</td><td>Terhi</td><td>Hämäläinen</td><td>531</td><td>1</td><td>Rock</td></tr><tr><td>terhi.hamalainen@apple.fi</td><td>Terhi</td><td>Hämäläinen</td><td>347</td><td>1</td><td>Rock</td></tr><tr><td>terhi.hamalainen@apple.fi</td><td>Terhi</td><td>Hämäläinen</td><td>350</td><td>1</td><td>Rock</td></tr><tr><td>terhi.hamalainen@apple.fi</td><td>Terhi</td><td>Hämäläinen</td><td>117</td><td>1</td><td>Rock</td></tr><tr><td>terhi.hamalainen@apple.fi</td><td>Terhi</td><td>Hämäläinen</td><td>480</td><td>1</td><td>Rock</td></tr><tr><td>terhi.hamalainen@apple.fi</td><td>Terhi</td><td>Hämäläinen</td><td>441</td><td>1</td><td>Rock</td></tr><tr><td>terhi.hamalainen@apple.fi</td><td>Terhi</td><td>Hämäläinen</td><td>15</td><td>1</td><td>Rock</td></tr><tr><td>tgoyer@apple.com</td><td>Tim</td><td>Goyer</td><td>51</td><td>1</td><td>Rock</td></tr><tr><td>tgoyer@apple.com</td><td>Tim</td><td>Goyer</td><td>57</td><td>1</td><td>Rock</td></tr><tr><td>tgoyer@apple.com</td><td>Tim</td><td>Goyer</td><td>490</td><td>1</td><td>Rock</td></tr><tr><td>tgoyer@apple.com</td><td>Tim</td><td>Goyer</td><td>147</td><td>1</td><td>Rock</td></tr><tr><td>tgoyer@apple.com</td><td>Tim</td><td>Goyer</td><td>52</td><td>1</td><td>Rock</td></tr><tr><td>tgoyer@apple.com</td><td>Tim</td><td>Goyer</td><td>42</td><td>1</td><td>Rock</td></tr><tr><td>tgoyer@apple.com</td><td>Tim</td><td>Goyer</td><td>358</td><td>1</td><td>Rock</td></tr><tr><td>tgoyer@apple.com</td><td>Tim</td><td>Goyer</td><td>231</td><td>1</td><td>Rock</td></tr><tr><td>vstevens@yahoo.com</td><td>Victor</td><td>Stevens</td><td>202</td><td>1</td><td>Rock</td></tr><tr><td>vstevens@yahoo.com</td><td>Victor</td><td>Stevens</td><td>468</td><td>1</td><td>Rock</td></tr><tr><td>vstevens@yahoo.com</td><td>Victor</td><td>Stevens</td><td>179</td><td>1</td><td>Rock</td></tr><tr><td>vstevens@yahoo.com</td><td>Victor</td><td>Stevens</td><td>514</td><td>1</td><td>Rock</td></tr><tr><td>vstevens@yahoo.com</td><td>Victor</td><td>Stevens</td><td>578</td><td>1</td><td>Rock</td></tr><tr><td>vstevens@yahoo.com</td><td>Victor</td><td>Stevens</td><td>331</td><td>1</td><td>Rock</td></tr><tr><td>vstevens@yahoo.com</td><td>Victor</td><td>Stevens</td><td>300</td><td>1</td><td>Rock</td></tr><tr><td>wyatt.girard@yahoo.fr</td><td>Wyatt</td><td>Girard</td><td>226</td><td>1</td><td>Rock</td></tr><tr><td>wyatt.girard@yahoo.fr</td><td>Wyatt</td><td>Girard</td><td>312</td><td>1</td><td>Rock</td></tr><tr><td>wyatt.girard@yahoo.fr</td><td>Wyatt</td><td>Girard</td><td>12</td><td>1</td><td>Rock</td></tr><tr><td>wyatt.girard@yahoo.fr</td><td>Wyatt</td><td>Girard</td><td>148</td><td>1</td><td>Rock</td></tr><tr><td>wyatt.girard@yahoo.fr</td><td>Wyatt</td><td>Girard</td><td>93</td><td>1</td><td>Rock</td></tr><tr><td>wyatt.girard@yahoo.fr</td><td>Wyatt</td><td>Girard</td><td>396</td><td>1</td><td>Rock</td></tr><tr><td>wyatt.girard@yahoo.fr</td><td>Wyatt</td><td>Girard</td><td>385</td><td>1</td><td>Rock</td></tr><tr><td>wyatt.girard@yahoo.fr</td><td>Wyatt</td><td>Girard</td><td>596</td><td>1</td><td>Rock</td></tr></tbody></table></div>"
      ]
     },
     "metadata": {
      "application/vnd.databricks.v1+output": {
       "addedWidgets": {},
       "aggData": [],
       "aggError": "",
       "aggOverflow": false,
       "aggSchema": [],
       "aggSeriesLimitReached": false,
       "aggType": "",
       "arguments": {},
       "columnCustomDisplayInfos": {},
       "data": [
        [
         "aaronmitchell@yahoo.ca",
         "Aaron",
         "Mitchell",
         559,
         1,
         "Rock"
        ],
        [
         "aaronmitchell@yahoo.ca",
         "Aaron",
         "Mitchell",
         107,
         1,
         "Rock"
        ],
        [
         "aaronmitchell@yahoo.ca",
         "Aaron",
         "Mitchell",
         126,
         1,
         "Rock"
        ],
        [
         "aaronmitchell@yahoo.ca",
         "Aaron",
         "Mitchell",
         519,
         1,
         "Rock"
        ],
        [
         "aaronmitchell@yahoo.ca",
         "Aaron",
         "Mitchell",
         432,
         1,
         "Rock"
        ],
        [
         "aaronmitchell@yahoo.ca",
         "Aaron",
         "Mitchell",
         546,
         1,
         "Rock"
        ],
        [
         "alero@uol.com.br",
         "Alexandre",
         "Rocha",
         186,
         1,
         "Rock"
        ],
        [
         "alero@uol.com.br",
         "Alexandre",
         "Rocha",
         439,
         1,
         "Rock"
        ],
        [
         "alero@uol.com.br",
         "Alexandre",
         "Rocha",
         475,
         1,
         "Rock"
        ],
        [
         "alero@uol.com.br",
         "Alexandre",
         "Rocha",
         135,
         1,
         "Rock"
        ],
        [
         "alero@uol.com.br",
         "Alexandre",
         "Rocha",
         461,
         1,
         "Rock"
        ],
        [
         "alero@uol.com.br",
         "Alexandre",
         "Rocha",
         206,
         1,
         "Rock"
        ],
        [
         "astrid.gruber@apple.at",
         "Astrid",
         "Gruber",
         251,
         1,
         "Rock"
        ],
        [
         "astrid.gruber@apple.at",
         "Astrid",
         "Gruber",
         472,
         1,
         "Rock"
        ],
        [
         "astrid.gruber@apple.at",
         "Astrid",
         "Gruber",
         553,
         1,
         "Rock"
        ],
        [
         "astrid.gruber@apple.at",
         "Astrid",
         "Gruber",
         123,
         1,
         "Rock"
        ],
        [
         "astrid.gruber@apple.at",
         "Astrid",
         "Gruber",
         410,
         1,
         "Rock"
        ],
        [
         "astrid.gruber@apple.at",
         "Astrid",
         "Gruber",
         337,
         1,
         "Rock"
        ],
        [
         "astrid.gruber@apple.at",
         "Astrid",
         "Gruber",
         462,
         1,
         "Rock"
        ],
        [
         "astrid.gruber@apple.at",
         "Astrid",
         "Gruber",
         225,
         1,
         "Rock"
        ],
        [
         "bjorn.hansen@yahoo.no",
         "Bjørn",
         "Hansen",
         104,
         1,
         "Rock"
        ],
        [
         "bjorn.hansen@yahoo.no",
         "Bjørn",
         "Hansen",
         24,
         1,
         "Rock"
        ],
        [
         "bjorn.hansen@yahoo.no",
         "Bjørn",
         "Hansen",
         474,
         1,
         "Rock"
        ],
        [
         "bjorn.hansen@yahoo.no",
         "Bjørn",
         "Hansen",
         292,
         1,
         "Rock"
        ],
        [
         "bjorn.hansen@yahoo.no",
         "Bjørn",
         "Hansen",
         272,
         1,
         "Rock"
        ],
        [
         "bjorn.hansen@yahoo.no",
         "Bjørn",
         "Hansen",
         208,
         1,
         "Rock"
        ],
        [
         "bjorn.hansen@yahoo.no",
         "Bjørn",
         "Hansen",
         81,
         1,
         "Rock"
        ],
        [
         "bjorn.hansen@yahoo.no",
         "Bjørn",
         "Hansen",
         46,
         1,
         "Rock"
        ],
        [
         "camille.bernard@yahoo.fr",
         "Camille",
         "Bernard",
         39,
         1,
         "Rock"
        ],
        [
         "camille.bernard@yahoo.fr",
         "Camille",
         "Bernard",
         503,
         1,
         "Rock"
        ],
        [
         "camille.bernard@yahoo.fr",
         "Camille",
         "Bernard",
         373,
         1,
         "Rock"
        ],
        [
         "camille.bernard@yahoo.fr",
         "Camille",
         "Bernard",
         25,
         1,
         "Rock"
        ],
        [
         "camille.bernard@yahoo.fr",
         "Camille",
         "Bernard",
         154,
         1,
         "Rock"
        ],
        [
         "camille.bernard@yahoo.fr",
         "Camille",
         "Bernard",
         201,
         1,
         "Rock"
        ],
        [
         "camille.bernard@yahoo.fr",
         "Camille",
         "Bernard",
         103,
         1,
         "Rock"
        ],
        [
         "camille.bernard@yahoo.fr",
         "Camille",
         "Bernard",
         67,
         1,
         "Rock"
        ],
        [
         "daan_peeters@apple.be",
         "Daan",
         "Peeters",
         311,
         1,
         "Rock"
        ],
        [
         "daan_peeters@apple.be",
         "Daan",
         "Peeters",
         102,
         1,
         "Rock"
        ],
        [
         "daan_peeters@apple.be",
         "Daan",
         "Peeters",
         431,
         1,
         "Rock"
        ],
        [
         "daan_peeters@apple.be",
         "Daan",
         "Peeters",
         97,
         1,
         "Rock"
        ],
        [
         "daan_peeters@apple.be",
         "Daan",
         "Peeters",
         306,
         1,
         "Rock"
        ],
        [
         "daan_peeters@apple.be",
         "Daan",
         "Peeters",
         124,
         1,
         "Rock"
        ],
        [
         "diego.gutierrez@yahoo.ar",
         "Diego",
         "Gutiérrez",
         304,
         1,
         "Rock"
        ],
        [
         "diego.gutierrez@yahoo.ar",
         "Diego",
         "Gutiérrez",
         380,
         1,
         "Rock"
        ],
        [
         "diego.gutierrez@yahoo.ar",
         "Diego",
         "Gutiérrez",
         218,
         1,
         "Rock"
        ],
        [
         "dmiller@comcast.com",
         "Dan",
         "Miller",
         159,
         1,
         "Rock"
        ],
        [
         "dmiller@comcast.com",
         "Dan",
         "Miller",
         204,
         1,
         "Rock"
        ],
        [
         "dmiller@comcast.com",
         "Dan",
         "Miller",
         101,
         1,
         "Rock"
        ],
        [
         "dmiller@comcast.com",
         "Dan",
         "Miller",
         245,
         1,
         "Rock"
        ],
        [
         "dmiller@comcast.com",
         "Dan",
         "Miller",
         219,
         1,
         "Rock"
        ],
        [
         "dmiller@comcast.com",
         "Dan",
         "Miller",
         17,
         1,
         "Rock"
        ],
        [
         "dmiller@comcast.com",
         "Dan",
         "Miller",
         420,
         1,
         "Rock"
        ],
        [
         "dmiller@comcast.com",
         "Dan",
         "Miller",
         460,
         1,
         "Rock"
        ],
        [
         "dmiller@comcast.com",
         "Dan",
         "Miller",
         199,
         1,
         "Rock"
        ],
        [
         "dmiller@comcast.com",
         "Dan",
         "Miller",
         443,
         1,
         "Rock"
        ],
        [
         "dmiller@comcast.com",
         "Dan",
         "Miller",
         613,
         1,
         "Rock"
        ],
        [
         "dominiquelefebvre@gmail.com",
         "Dominique",
         "Lefebvre",
         346,
         1,
         "Rock"
        ],
        [
         "dominiquelefebvre@gmail.com",
         "Dominique",
         "Lefebvre",
         305,
         1,
         "Rock"
        ],
        [
         "dominiquelefebvre@gmail.com",
         "Dominique",
         "Lefebvre",
         3,
         1,
         "Rock"
        ],
        [
         "dominiquelefebvre@gmail.com",
         "Dominique",
         "Lefebvre",
         317,
         1,
         "Rock"
        ],
        [
         "dominiquelefebvre@gmail.com",
         "Dominique",
         "Lefebvre",
         76,
         1,
         "Rock"
        ],
        [
         "dominiquelefebvre@gmail.com",
         "Dominique",
         "Lefebvre",
         585,
         1,
         "Rock"
        ],
        [
         "dominiquelefebvre@gmail.com",
         "Dominique",
         "Lefebvre",
         367,
         1,
         "Rock"
        ],
        [
         "edfrancis@yachoo.ca",
         "Edward",
         "Francis",
         584,
         1,
         "Rock"
        ],
        [
         "edfrancis@yachoo.ca",
         "Edward",
         "Francis",
         313,
         1,
         "Rock"
        ],
        [
         "edfrancis@yachoo.ca",
         "Edward",
         "Francis",
         552,
         1,
         "Rock"
        ],
        [
         "edfrancis@yachoo.ca",
         "Edward",
         "Francis",
         2,
         1,
         "Rock"
        ],
        [
         "edfrancis@yachoo.ca",
         "Edward",
         "Francis",
         299,
         1,
         "Rock"
        ],
        [
         "edfrancis@yachoo.ca",
         "Edward",
         "Francis",
         525,
         1,
         "Rock"
        ],
        [
         "edfrancis@yachoo.ca",
         "Edward",
         "Francis",
         391,
         1,
         "Rock"
        ],
        [
         "edfrancis@yachoo.ca",
         "Edward",
         "Francis",
         466,
         1,
         "Rock"
        ],
        [
         "edfrancis@yachoo.ca",
         "Edward",
         "Francis",
         554,
         1,
         "Rock"
        ],
        [
         "edfrancis@yachoo.ca",
         "Edward",
         "Francis",
         548,
         1,
         "Rock"
        ],
        [
         "edfrancis@yachoo.ca",
         "Edward",
         "Francis",
         32,
         1,
         "Rock"
        ],
        [
         "edfrancis@yachoo.ca",
         "Edward",
         "Francis",
         108,
         1,
         "Rock"
        ],
        [
         "edfrancis@yachoo.ca",
         "Edward",
         "Francis",
         87,
         1,
         "Rock"
        ],
        [
         "eduardo@woodstock.com.br",
         "Eduardo",
         "Martins",
         19,
         1,
         "Rock"
        ],
        [
         "eduardo@woodstock.com.br",
         "Eduardo",
         "Martins",
         260,
         1,
         "Rock"
        ],
        [
         "eduardo@woodstock.com.br",
         "Eduardo",
         "Martins",
         352,
         1,
         "Rock"
        ],
        [
         "eduardo@woodstock.com.br",
         "Eduardo",
         "Martins",
         406,
         1,
         "Rock"
        ],
        [
         "eduardo@woodstock.com.br",
         "Eduardo",
         "Martins",
         240,
         1,
         "Rock"
        ],
        [
         "eduardo@woodstock.com.br",
         "Eduardo",
         "Martins",
         49,
         1,
         "Rock"
        ],
        [
         "eduardo@woodstock.com.br",
         "Eduardo",
         "Martins",
         328,
         1,
         "Rock"
        ],
        [
         "eduardo@woodstock.com.br",
         "Eduardo",
         "Martins",
         482,
         1,
         "Rock"
        ],
        [
         "eduardo@woodstock.com.br",
         "Eduardo",
         "Martins",
         534,
         1,
         "Rock"
        ],
        [
         "ellie.sullivan@shaw.ca",
         "Ellie",
         "Sullivan",
         55,
         1,
         "Rock"
        ],
        [
         "ellie.sullivan@shaw.ca",
         "Ellie",
         "Sullivan",
         295,
         1,
         "Rock"
        ],
        [
         "ellie.sullivan@shaw.ca",
         "Ellie",
         "Sullivan",
         138,
         1,
         "Rock"
        ],
        [
         "ellie.sullivan@shaw.ca",
         "Ellie",
         "Sullivan",
         172,
         1,
         "Rock"
        ],
        [
         "ellie.sullivan@shaw.ca",
         "Ellie",
         "Sullivan",
         325,
         1,
         "Rock"
        ],
        [
         "ellie.sullivan@shaw.ca",
         "Ellie",
         "Sullivan",
         85,
         1,
         "Rock"
        ],
        [
         "ellie.sullivan@shaw.ca",
         "Ellie",
         "Sullivan",
         144,
         1,
         "Rock"
        ],
        [
         "ellie.sullivan@shaw.ca",
         "Ellie",
         "Sullivan",
         433,
         1,
         "Rock"
        ],
        [
         "ellie.sullivan@shaw.ca",
         "Ellie",
         "Sullivan",
         545,
         1,
         "Rock"
        ],
        [
         "ellie.sullivan@shaw.ca",
         "Ellie",
         "Sullivan",
         136,
         1,
         "Rock"
        ],
        [
         "ellie.sullivan@shaw.ca",
         "Ellie",
         "Sullivan",
         612,
         1,
         "Rock"
        ],
        [
         "emma_jones@hotmail.com",
         "Emma",
         "Jones",
         611,
         1,
         "Rock"
        ],
        [
         "emma_jones@hotmail.com",
         "Emma",
         "Jones",
         326,
         1,
         "Rock"
        ],
        [
         "emma_jones@hotmail.com",
         "Emma",
         "Jones",
         444,
         1,
         "Rock"
        ],
        [
         "emma_jones@hotmail.com",
         "Emma",
         "Jones",
         227,
         1,
         "Rock"
        ],
        [
         "emma_jones@hotmail.com",
         "Emma",
         "Jones",
         237,
         1,
         "Rock"
        ],
        [
         "emma_jones@hotmail.com",
         "Emma",
         "Jones",
         265,
         1,
         "Rock"
        ],
        [
         "emma_jones@hotmail.com",
         "Emma",
         "Jones",
         64,
         1,
         "Rock"
        ],
        [
         "enrique_munoz@yahoo.es",
         "Enrique",
         "Muñoz",
         41,
         1,
         "Rock"
        ],
        [
         "enrique_munoz@yahoo.es",
         "Enrique",
         "Muñoz",
         384,
         1,
         "Rock"
        ],
        [
         "enrique_munoz@yahoo.es",
         "Enrique",
         "Muñoz",
         369,
         1,
         "Rock"
        ],
        [
         "enrique_munoz@yahoo.es",
         "Enrique",
         "Muñoz",
         528,
         1,
         "Rock"
        ],
        [
         "enrique_munoz@yahoo.es",
         "Enrique",
         "Muñoz",
         459,
         1,
         "Rock"
        ],
        [
         "enrique_munoz@yahoo.es",
         "Enrique",
         "Muñoz",
         115,
         1,
         "Rock"
        ],
        [
         "enrique_munoz@yahoo.es",
         "Enrique",
         "Muñoz",
         523,
         1,
         "Rock"
        ],
        [
         "enrique_munoz@yahoo.es",
         "Enrique",
         "Muñoz",
         319,
         1,
         "Rock"
        ],
        [
         "enrique_munoz@yahoo.es",
         "Enrique",
         "Muñoz",
         345,
         1,
         "Rock"
        ],
        [
         "fernadaramos4@uol.com.br",
         "Fernanda",
         "Ramos",
         198,
         1,
         "Rock"
        ],
        [
         "fernadaramos4@uol.com.br",
         "Fernanda",
         "Ramos",
         256,
         1,
         "Rock"
        ],
        [
         "fernadaramos4@uol.com.br",
         "Fernanda",
         "Ramos",
         73,
         1,
         "Rock"
        ],
        [
         "fernadaramos4@uol.com.br",
         "Fernanda",
         "Ramos",
         456,
         1,
         "Rock"
        ],
        [
         "fernadaramos4@uol.com.br",
         "Fernanda",
         "Ramos",
         521,
         1,
         "Rock"
        ],
        [
         "fernadaramos4@uol.com.br",
         "Fernanda",
         "Ramos",
         111,
         1,
         "Rock"
        ],
        [
         "fernadaramos4@uol.com.br",
         "Fernanda",
         "Ramos",
         189,
         1,
         "Rock"
        ],
        [
         "fernadaramos4@uol.com.br",
         "Fernanda",
         "Ramos",
         357,
         1,
         "Rock"
        ],
        [
         "fernadaramos4@uol.com.br",
         "Fernanda",
         "Ramos",
         597,
         1,
         "Rock"
        ],
        [
         "fernadaramos4@uol.com.br",
         "Fernanda",
         "Ramos",
         498,
         1,
         "Rock"
        ],
        [
         "fernadaramos4@uol.com.br",
         "Fernanda",
         "Ramos",
         113,
         1,
         "Rock"
        ],
        [
         "fernadaramos4@uol.com.br",
         "Fernanda",
         "Ramos",
         130,
         1,
         "Rock"
        ],
        [
         "fharris@google.com",
         "Frank",
         "Harris",
         591,
         1,
         "Rock"
        ],
        [
         "fharris@google.com",
         "Frank",
         "Harris",
         66,
         1,
         "Rock"
        ],
        [
         "fharris@google.com",
         "Frank",
         "Harris",
         289,
         1,
         "Rock"
        ],
        [
         "fharris@google.com",
         "Frank",
         "Harris",
         389,
         1,
         "Rock"
        ],
        [
         "fharris@google.com",
         "Frank",
         "Harris",
         268,
         1,
         "Rock"
        ],
        [
         "fharris@google.com",
         "Frank",
         "Harris",
         75,
         1,
         "Rock"
        ],
        [
         "fralston@gmail.com",
         "Frank",
         "Ralston",
         200,
         1,
         "Rock"
        ],
        [
         "fralston@gmail.com",
         "Frank",
         "Ralston",
         18,
         1,
         "Rock"
        ],
        [
         "fralston@gmail.com",
         "Frank",
         "Ralston",
         395,
         1,
         "Rock"
        ],
        [
         "fralston@gmail.com",
         "Frank",
         "Ralston",
         161,
         1,
         "Rock"
        ],
        [
         "fralston@gmail.com",
         "Frank",
         "Ralston",
         417,
         1,
         "Rock"
        ],
        [
         "fralston@gmail.com",
         "Frank",
         "Ralston",
         580,
         1,
         "Rock"
        ],
        [
         "frantisekw@jetbrains.com",
         "František",
         "Wichterlová",
         563,
         1,
         "Rock"
        ],
        [
         "frantisekw@jetbrains.com",
         "František",
         "Wichterlová",
         467,
         1,
         "Rock"
        ],
        [
         "frantisekw@jetbrains.com",
         "František",
         "Wichterlová",
         376,
         1,
         "Rock"
        ],
        [
         "frantisekw@jetbrains.com",
         "František",
         "Wichterlová",
         520,
         1,
         "Rock"
        ],
        [
         "frantisekw@jetbrains.com",
         "František",
         "Wichterlová",
         119,
         1,
         "Rock"
        ],
        [
         "frantisekw@jetbrains.com",
         "František",
         "Wichterlová",
         560,
         1,
         "Rock"
        ],
        [
         "frantisekw@jetbrains.com",
         "František",
         "Wichterlová",
         78,
         1,
         "Rock"
        ],
        [
         "frantisekw@jetbrains.com",
         "František",
         "Wichterlová",
         388,
         1,
         "Rock"
        ],
        [
         "frantisekw@jetbrains.com",
         "František",
         "Wichterlová",
         361,
         1,
         "Rock"
        ],
        [
         "frantisekw@jetbrains.com",
         "František",
         "Wichterlová",
         526,
         1,
         "Rock"
        ],
        [
         "frantisekw@jetbrains.com",
         "František",
         "Wichterlová",
         429,
         1,
         "Rock"
        ],
        [
         "frantisekw@jetbrains.com",
         "František",
         "Wichterlová",
         477,
         1,
         "Rock"
        ],
        [
         "frantisekw@jetbrains.com",
         "František",
         "Wichterlová",
         235,
         1,
         "Rock"
        ],
        [
         "frantisekw@jetbrains.com",
         "František",
         "Wichterlová",
         588,
         1,
         "Rock"
        ],
        [
         "ftremblay@gmail.com",
         "François",
         "Tremblay",
         344,
         1,
         "Rock"
        ],
        [
         "ftremblay@gmail.com",
         "François",
         "Tremblay",
         342,
         1,
         "Rock"
        ],
        [
         "ftremblay@gmail.com",
         "François",
         "Tremblay",
         419,
         1,
         "Rock"
        ],
        [
         "ftremblay@gmail.com",
         "François",
         "Tremblay",
         71,
         1,
         "Rock"
        ],
        [
         "ftremblay@gmail.com",
         "François",
         "Tremblay",
         248,
         1,
         "Rock"
        ],
        [
         "ftremblay@gmail.com",
         "François",
         "Tremblay",
         517,
         1,
         "Rock"
        ],
        [
         "ftremblay@gmail.com",
         "François",
         "Tremblay",
         31,
         1,
         "Rock"
        ],
        [
         "ftremblay@gmail.com",
         "François",
         "Tremblay",
         125,
         1,
         "Rock"
        ],
        [
         "fzimmermann@yahoo.de",
         "Fynn",
         "Zimmermann",
         40,
         1,
         "Rock"
        ],
        [
         "fzimmermann@yahoo.de",
         "Fynn",
         "Zimmermann",
         566,
         1,
         "Rock"
        ],
        [
         "fzimmermann@yahoo.de",
         "Fynn",
         "Zimmermann",
         457,
         1,
         "Rock"
        ],
        [
         "fzimmermann@yahoo.de",
         "Fynn",
         "Zimmermann",
         349,
         1,
         "Rock"
        ],
        [
         "fzimmermann@yahoo.de",
         "Fynn",
         "Zimmermann",
         308,
         1,
         "Rock"
        ],
        [
         "fzimmermann@yahoo.de",
         "Fynn",
         "Zimmermann",
         485,
         1,
         "Rock"
        ],
        [
         "fzimmermann@yahoo.de",
         "Fynn",
         "Zimmermann",
         426,
         1,
         "Rock"
        ],
        [
         "fzimmermann@yahoo.de",
         "Fynn",
         "Zimmermann",
         273,
         1,
         "Rock"
        ],
        [
         "hannah.schneider@yahoo.de",
         "Hannah",
         "Schneider",
         339,
         1,
         "Rock"
        ],
        [
         "hannah.schneider@yahoo.de",
         "Hannah",
         "Schneider",
         91,
         1,
         "Rock"
        ],
        [
         "hannah.schneider@yahoo.de",
         "Hannah",
         "Schneider",
         400,
         1,
         "Rock"
        ],
        [
         "hannah.schneider@yahoo.de",
         "Hannah",
         "Schneider",
         242,
         1,
         "Rock"
        ],
        [
         "hannah.schneider@yahoo.de",
         "Hannah",
         "Schneider",
         263,
         1,
         "Rock"
        ],
        [
         "hannah.schneider@yahoo.de",
         "Hannah",
         "Schneider",
         309,
         1,
         "Rock"
        ],
        [
         "hannah.schneider@yahoo.de",
         "Hannah",
         "Schneider",
         45,
         1,
         "Rock"
        ],
        [
         "hannah.schneider@yahoo.de",
         "Hannah",
         "Schneider",
         500,
         1,
         "Rock"
        ],
        [
         "hannah.schneider@yahoo.de",
         "Hannah",
         "Schneider",
         397,
         1,
         "Rock"
        ],
        [
         "hholy@gmail.com",
         "Helena",
         "Holý",
         112,
         1,
         "Rock"
        ],
        [
         "hholy@gmail.com",
         "Helena",
         "Holý",
         387,
         1,
         "Rock"
        ],
        [
         "hholy@gmail.com",
         "Helena",
         "Holý",
         476,
         1,
         "Rock"
        ],
        [
         "hholy@gmail.com",
         "Helena",
         "Holý",
         405,
         1,
         "Rock"
        ],
        [
         "hholy@gmail.com",
         "Helena",
         "Holý",
         275,
         1,
         "Rock"
        ],
        [
         "hholy@gmail.com",
         "Helena",
         "Holý",
         280,
         1,
         "Rock"
        ],
        [
         "hholy@gmail.com",
         "Helena",
         "Holý",
         116,
         1,
         "Rock"
        ],
        [
         "hholy@gmail.com",
         "Helena",
         "Holý",
         163,
         1,
         "Rock"
        ],
        [
         "hholy@gmail.com",
         "Helena",
         "Holý",
         243,
         1,
         "Rock"
        ],
        [
         "hholy@gmail.com",
         "Helena",
         "Holý",
         504,
         1,
         "Rock"
        ],
        [
         "hholy@gmail.com",
         "Helena",
         "Holý",
         579,
         1,
         "Rock"
        ],
        [
         "hleacock@gmail.com",
         "Heather",
         "Leacock",
         278,
         1,
         "Rock"
        ],
        [
         "hleacock@gmail.com",
         "Heather",
         "Leacock",
         83,
         1,
         "Rock"
        ],
        [
         "hleacock@gmail.com",
         "Heather",
         "Leacock",
         522,
         1,
         "Rock"
        ],
        [
         "hleacock@gmail.com",
         "Heather",
         "Leacock",
         109,
         1,
         "Rock"
        ],
        [
         "hleacock@gmail.com",
         "Heather",
         "Leacock",
         310,
         1,
         "Rock"
        ],
        [
         "hleacock@gmail.com",
         "Heather",
         "Leacock",
         297,
         1,
         "Rock"
        ],
        [
         "hleacock@gmail.com",
         "Heather",
         "Leacock",
         150,
         1,
         "Rock"
        ],
        [
         "hleacock@gmail.com",
         "Heather",
         "Leacock",
         43,
         1,
         "Rock"
        ],
        [
         "hughoreilly@apple.ie",
         "Hugh",
         "O'Reilly",
         539,
         1,
         "Rock"
        ],
        [
         "hughoreilly@apple.ie",
         "Hugh",
         "O'Reilly",
         454,
         1,
         "Rock"
        ],
        [
         "hughoreilly@apple.ie",
         "Hugh",
         "O'Reilly",
         401,
         1,
         "Rock"
        ],
        [
         "hughoreilly@apple.ie",
         "Hugh",
         "O'Reilly",
         238,
         1,
         "Rock"
        ],
        [
         "hughoreilly@apple.ie",
         "Hugh",
         "O'Reilly",
         176,
         1,
         "Rock"
        ],
        [
         "hughoreilly@apple.ie",
         "Hugh",
         "O'Reilly",
         30,
         1,
         "Rock"
        ],
        [
         "hughoreilly@apple.ie",
         "Hugh",
         "O'Reilly",
         197,
         1,
         "Rock"
        ],
        [
         "hughoreilly@apple.ie",
         "Hugh",
         "O'Reilly",
         180,
         1,
         "Rock"
        ],
        [
         "hughoreilly@apple.ie",
         "Hugh",
         "O'Reilly",
         479,
         1,
         "Rock"
        ],
        [
         "hughoreilly@apple.ie",
         "Hugh",
         "O'Reilly",
         255,
         1,
         "Rock"
        ],
        [
         "isabelle_mercier@apple.fr",
         "Isabelle",
         "Mercier",
         374,
         1,
         "Rock"
        ],
        [
         "isabelle_mercier@apple.fr",
         "Isabelle",
         "Mercier",
         20,
         1,
         "Rock"
        ],
        [
         "isabelle_mercier@apple.fr",
         "Isabelle",
         "Mercier",
         318,
         1,
         "Rock"
        ],
        [
         "isabelle_mercier@apple.fr",
         "Isabelle",
         "Mercier",
         428,
         1,
         "Rock"
        ],
        [
         "isabelle_mercier@apple.fr",
         "Isabelle",
         "Mercier",
         355,
         1,
         "Rock"
        ],
        [
         "isabelle_mercier@apple.fr",
         "Isabelle",
         "Mercier",
         481,
         1,
         "Rock"
        ],
        [
         "isabelle_mercier@apple.fr",
         "Isabelle",
         "Mercier",
         489,
         1,
         "Rock"
        ],
        [
         "isabelle_mercier@apple.fr",
         "Isabelle",
         "Mercier",
         314,
         1,
         "Rock"
        ],
        [
         "isabelle_mercier@apple.fr",
         "Isabelle",
         "Mercier",
         359,
         1,
         "Rock"
        ],
        [
         "isabelle_mercier@apple.fr",
         "Isabelle",
         "Mercier",
         512,
         1,
         "Rock"
        ],
        [
         "jacksmith@microsoft.com",
         "Jack",
         "Smith",
         436,
         1,
         "Rock"
        ],
        [
         "jacksmith@microsoft.com",
         "Jack",
         "Smith",
         290,
         1,
         "Rock"
        ],
        [
         "jacksmith@microsoft.com",
         "Jack",
         "Smith",
         393,
         1,
         "Rock"
        ],
        [
         "jacksmith@microsoft.com",
         "Jack",
         "Smith",
         128,
         1,
         "Rock"
        ],
        [
         "jacksmith@microsoft.com",
         "Jack",
         "Smith",
         543,
         1,
         "Rock"
        ],
        [
         "jacksmith@microsoft.com",
         "Jack",
         "Smith",
         558,
         1,
         "Rock"
        ],
        [
         "jacksmith@microsoft.com",
         "Jack",
         "Smith",
         207,
         1,
         "Rock"
        ],
        [
         "jacksmith@microsoft.com",
         "Jack",
         "Smith",
         288,
         1,
         "Rock"
        ],
        [
         "jacksmith@microsoft.com",
         "Jack",
         "Smith",
         129,
         1,
         "Rock"
        ],
        [
         "jacksmith@microsoft.com",
         "Jack",
         "Smith",
         98,
         1,
         "Rock"
        ],
        [
         "jacksmith@microsoft.com",
         "Jack",
         "Smith",
         166,
         1,
         "Rock"
        ],
        [
         "jenniferp@rogers.ca",
         "Jennifer",
         "Peterson",
         142,
         1,
         "Rock"
        ],
        [
         "jenniferp@rogers.ca",
         "Jennifer",
         "Peterson",
         575,
         1,
         "Rock"
        ],
        [
         "jenniferp@rogers.ca",
         "Jennifer",
         "Peterson",
         606,
         1,
         "Rock"
        ],
        [
         "jenniferp@rogers.ca",
         "Jennifer",
         "Peterson",
         229,
         1,
         "Rock"
        ],
        [
         "jenniferp@rogers.ca",
         "Jennifer",
         "Peterson",
         483,
         1,
         "Rock"
        ],
        [
         "jenniferp@rogers.ca",
         "Jennifer",
         "Peterson",
         567,
         1,
         "Rock"
        ],
        [
         "jenniferp@rogers.ca",
         "Jennifer",
         "Peterson",
         110,
         1,
         "Rock"
        ],
        [
         "jenniferp@rogers.ca",
         "Jennifer",
         "Peterson",
         60,
         1,
         "Rock"
        ],
        [
         "jenniferp@rogers.ca",
         "Jennifer",
         "Peterson",
         564,
         1,
         "Rock"
        ],
        [
         "jfernandes@yahoo.pt",
         "João",
         "Fernandes",
         224,
         1,
         "Rock"
        ],
        [
         "jfernandes@yahoo.pt",
         "João",
         "Fernandes",
         449,
         1,
         "Rock"
        ],
        [
         "jfernandes@yahoo.pt",
         "João",
         "Fernandes",
         497,
         1,
         "Rock"
        ],
        [
         "jfernandes@yahoo.pt",
         "João",
         "Fernandes",
         137,
         1,
         "Rock"
        ],
        [
         "jfernandes@yahoo.pt",
         "João",
         "Fernandes",
         301,
         1,
         "Rock"
        ],
        [
         "jfernandes@yahoo.pt",
         "João",
         "Fernandes",
         572,
         1,
         "Rock"
        ],
        [
         "jfernandes@yahoo.pt",
         "João",
         "Fernandes",
         56,
         1,
         "Rock"
        ],
        [
         "jfernandes@yahoo.pt",
         "João",
         "Fernandes",
         463,
         1,
         "Rock"
        ],
        [
         "jfernandes@yahoo.pt",
         "João",
         "Fernandes",
         390,
         1,
         "Rock"
        ],
        [
         "jfernandes@yahoo.pt",
         "João",
         "Fernandes",
         35,
         1,
         "Rock"
        ],
        [
         "joakim.johansson@yahoo.se",
         "Joakim",
         "Johansson",
         94,
         1,
         "Rock"
        ],
        [
         "joakim.johansson@yahoo.se",
         "Joakim",
         "Johansson",
         399,
         1,
         "Rock"
        ],
        [
         "joakim.johansson@yahoo.se",
         "Joakim",
         "Johansson",
         398,
         1,
         "Rock"
        ],
        [
         "joakim.johansson@yahoo.se",
         "Joakim",
         "Johansson",
         571,
         1,
         "Rock"
        ],
        [
         "joakim.johansson@yahoo.se",
         "Joakim",
         "Johansson",
         190,
         1,
         "Rock"
        ],
        [
         "joakim.johansson@yahoo.se",
         "Joakim",
         "Johansson",
         590,
         1,
         "Rock"
        ],
        [
         "joakim.johansson@yahoo.se",
         "Joakim",
         "Johansson",
         36,
         1,
         "Rock"
        ],
        [
         "joakim.johansson@yahoo.se",
         "Joakim",
         "Johansson",
         191,
         1,
         "Rock"
        ],
        [
         "joakim.johansson@yahoo.se",
         "Joakim",
         "Johansson",
         211,
         1,
         "Rock"
        ],
        [
         "johavanderberg@yahoo.nl",
         "Johannes",
         "Van der Berg",
         421,
         1,
         "Rock"
        ],
        [
         "johavanderberg@yahoo.nl",
         "Johannes",
         "Van der Berg",
         382,
         1,
         "Rock"
        ],
        [
         "johavanderberg@yahoo.nl",
         "Johannes",
         "Van der Berg",
         409,
         1,
         "Rock"
        ],
        [
         "johavanderberg@yahoo.nl",
         "Johannes",
         "Van der Berg",
         378,
         1,
         "Rock"
        ],
        [
         "johavanderberg@yahoo.nl",
         "Johannes",
         "Van der Berg",
         258,
         1,
         "Rock"
        ],
        [
         "johavanderberg@yahoo.nl",
         "Johannes",
         "Van der Berg",
         283,
         1,
         "Rock"
        ],
        [
         "johavanderberg@yahoo.nl",
         "Johannes",
         "Van der Berg",
         174,
         1,
         "Rock"
        ],
        [
         "johavanderberg@yahoo.nl",
         "Johannes",
         "Van der Berg",
         509,
         1,
         "Rock"
        ],
        [
         "johngordon22@yahoo.com",
         "John",
         "Gordon",
         250,
         1,
         "Rock"
        ],
        [
         "johngordon22@yahoo.com",
         "John",
         "Gordon",
         516,
         1,
         "Rock"
        ],
        [
         "johngordon22@yahoo.com",
         "John",
         "Gordon",
         438,
         1,
         "Rock"
        ],
        [
         "johngordon22@yahoo.com",
         "John",
         "Gordon",
         595,
         1,
         "Rock"
        ],
        [
         "johngordon22@yahoo.com",
         "John",
         "Gordon",
         561,
         1,
         "Rock"
        ],
        [
         "johngordon22@yahoo.com",
         "John",
         "Gordon",
         139,
         1,
         "Rock"
        ],
        [
         "johngordon22@yahoo.com",
         "John",
         "Gordon",
         323,
         1,
         "Rock"
        ],
        [
         "johngordon22@yahoo.com",
         "John",
         "Gordon",
         383,
         1,
         "Rock"
        ],
        [
         "johngordon22@yahoo.com",
         "John",
         "Gordon",
         287,
         1,
         "Rock"
        ],
        [
         "johngordon22@yahoo.com",
         "John",
         "Gordon",
         515,
         1,
         "Rock"
        ],
        [
         "jubarnett@gmail.com",
         "Julia",
         "Barnett",
         118,
         1,
         "Rock"
        ],
        [
         "jubarnett@gmail.com",
         "Julia",
         "Barnett",
         377,
         1,
         "Rock"
        ],
        [
         "jubarnett@gmail.com",
         "Julia",
         "Barnett",
         145,
         1,
         "Rock"
        ],
        [
         "jubarnett@gmail.com",
         "Julia",
         "Barnett",
         353,
         1,
         "Rock"
        ],
        [
         "jubarnett@gmail.com",
         "Julia",
         "Barnett",
         192,
         1,
         "Rock"
        ],
        [
         "jubarnett@gmail.com",
         "Julia",
         "Barnett",
         455,
         1,
         "Rock"
        ],
        [
         "jubarnett@gmail.com",
         "Julia",
         "Barnett",
         577,
         1,
         "Rock"
        ],
        [
         "jubarnett@gmail.com",
         "Julia",
         "Barnett",
         478,
         1,
         "Rock"
        ],
        [
         "jubarnett@gmail.com",
         "Julia",
         "Barnett",
         303,
         1,
         "Rock"
        ],
        [
         "kachase@hotmail.com",
         "Kathy",
         "Chase",
         602,
         1,
         "Rock"
        ],
        [
         "kachase@hotmail.com",
         "Kathy",
         "Chase",
         44,
         1,
         "Rock"
        ],
        [
         "kachase@hotmail.com",
         "Kathy",
         "Chase",
         185,
         1,
         "Rock"
        ],
        [
         "kachase@hotmail.com",
         "Kathy",
         "Chase",
         322,
         1,
         "Rock"
        ],
        [
         "kachase@hotmail.com",
         "Kathy",
         "Chase",
         556,
         1,
         "Rock"
        ],
        [
         "kachase@hotmail.com",
         "Kathy",
         "Chase",
         496,
         1,
         "Rock"
        ],
        [
         "kachase@hotmail.com",
         "Kathy",
         "Chase",
         169,
         1,
         "Rock"
        ],
        [
         "kachase@hotmail.com",
         "Kathy",
         "Chase",
         167,
         1,
         "Rock"
        ],
        [
         "kachase@hotmail.com",
         "Kathy",
         "Chase",
         423,
         1,
         "Rock"
        ],
        [
         "kara.nielsen@jubii.dk",
         "Kara",
         "Nielsen",
         411,
         1,
         "Rock"
        ],
        [
         "kara.nielsen@jubii.dk",
         "Kara",
         "Nielsen",
         122,
         1,
         "Rock"
        ],
        [
         "kara.nielsen@jubii.dk",
         "Kara",
         "Nielsen",
         354,
         1,
         "Rock"
        ],
        [
         "kara.nielsen@jubii.dk",
         "Kara",
         "Nielsen",
         329,
         1,
         "Rock"
        ],
        [
         "kara.nielsen@jubii.dk",
         "Kara",
         "Nielsen",
         267,
         1,
         "Rock"
        ],
        [
         "kara.nielsen@jubii.dk",
         "Kara",
         "Nielsen",
         470,
         1,
         "Rock"
        ],
        [
         "kara.nielsen@jubii.dk",
         "Kara",
         "Nielsen",
         58,
         1,
         "Rock"
        ],
        [
         "kara.nielsen@jubii.dk",
         "Kara",
         "Nielsen",
         62,
         1,
         "Rock"
        ],
        [
         "kara.nielsen@jubii.dk",
         "Kara",
         "Nielsen",
         21,
         1,
         "Rock"
        ],
        [
         "ladislav_kovacs@apple.hu",
         "Ladislav",
         "Kovács",
         181,
         1,
         "Rock"
        ],
        [
         "ladislav_kovacs@apple.hu",
         "Ladislav",
         "Kovács",
         576,
         1,
         "Rock"
        ],
        [
         "ladislav_kovacs@apple.hu",
         "Ladislav",
         "Kovács",
         360,
         1,
         "Rock"
        ],
        [
         "ladislav_kovacs@apple.hu",
         "Ladislav",
         "Kovács",
         95,
         1,
         "Rock"
        ],
        [
         "ladislav_kovacs@apple.hu",
         "Ladislav",
         "Kovács",
         141,
         1,
         "Rock"
        ],
        [
         "ladislav_kovacs@apple.hu",
         "Ladislav",
         "Kovács",
         29,
         1,
         "Rock"
        ],
        [
         "ladislav_kovacs@apple.hu",
         "Ladislav",
         "Kovács",
         170,
         1,
         "Rock"
        ],
        [
         "ladislav_kovacs@apple.hu",
         "Ladislav",
         "Kovács",
         440,
         1,
         "Rock"
        ],
        [
         "leonekohler@surfeu.de",
         "Leonie",
         "Köhler",
         343,
         1,
         "Rock"
        ],
        [
         "leonekohler@surfeu.de",
         "Leonie",
         "Köhler",
         549,
         1,
         "Rock"
        ],
        [
         "leonekohler@surfeu.de",
         "Leonie",
         "Köhler",
         222,
         1,
         "Rock"
        ],
        [
         "leonekohler@surfeu.de",
         "Leonie",
         "Köhler",
         134,
         1,
         "Rock"
        ],
        [
         "leonekohler@surfeu.de",
         "Leonie",
         "Köhler",
         557,
         1,
         "Rock"
        ],
        [
         "leonekohler@surfeu.de",
         "Leonie",
         "Köhler",
         210,
         1,
         "Rock"
        ],
        [
         "leonekohler@surfeu.de",
         "Leonie",
         "Köhler",
         131,
         1,
         "Rock"
        ],
        [
         "leonekohler@surfeu.de",
         "Leonie",
         "Köhler",
         162,
         1,
         "Rock"
        ],
        [
         "leonekohler@surfeu.de",
         "Leonie",
         "Köhler",
         592,
         1,
         "Rock"
        ],
        [
         "leonekohler@surfeu.de",
         "Leonie",
         "Köhler",
         69,
         1,
         "Rock"
        ],
        [
         "lucas.mancini@yahoo.it",
         "Lucas",
         "Mancini",
         452,
         1,
         "Rock"
        ],
        [
         "lucas.mancini@yahoo.it",
         "Lucas",
         "Mancini",
         569,
         1,
         "Rock"
        ],
        [
         "lucas.mancini@yahoo.it",
         "Lucas",
         "Mancini",
         271,
         1,
         "Rock"
        ],
        [
         "lucas.mancini@yahoo.it",
         "Lucas",
         "Mancini",
         177,
         1,
         "Rock"
        ],
        [
         "lucas.mancini@yahoo.it",
         "Lucas",
         "Mancini",
         168,
         1,
         "Rock"
        ],
        [
         "lucas.mancini@yahoo.it",
         "Lucas",
         "Mancini",
         413,
         1,
         "Rock"
        ],
        [
         "lucas.mancini@yahoo.it",
         "Lucas",
         "Mancini",
         72,
         1,
         "Rock"
        ],
        [
         "luisg@embraer.com.br",
         "Luís",
         "Gonçalves",
         182,
         1,
         "Rock"
        ],
        [
         "luisg@embraer.com.br",
         "Luís",
         "Gonçalves",
         223,
         1,
         "Rock"
        ],
        [
         "luisg@embraer.com.br",
         "Luís",
         "Gonçalves",
         270,
         1,
         "Rock"
        ],
        [
         "luisg@embraer.com.br",
         "Luís",
         "Gonçalves",
         16,
         1,
         "Rock"
        ],
        [
         "luisg@embraer.com.br",
         "Luís",
         "Gonçalves",
         153,
         1,
         "Rock"
        ],
        [
         "luisg@embraer.com.br",
         "Luís",
         "Gonçalves",
         464,
         1,
         "Rock"
        ],
        [
         "luisg@embraer.com.br",
         "Luís",
         "Gonçalves",
         544,
         1,
         "Rock"
        ],
        [
         "luisg@embraer.com.br",
         "Luís",
         "Gonçalves",
         149,
         1,
         "Rock"
        ],
        [
         "luisg@embraer.com.br",
         "Luís",
         "Gonçalves",
         77,
         1,
         "Rock"
        ],
        [
         "luisg@embraer.com.br",
         "Luís",
         "Gonçalves",
         536,
         1,
         "Rock"
        ],
        [
         "luisg@embraer.com.br",
         "Luís",
         "Gonçalves",
         442,
         1,
         "Rock"
        ],
        [
         "luisrojas@yahoo.cl",
         "Luis",
         "Rojas",
         335,
         1,
         "Rock"
        ],
        [
         "luisrojas@yahoo.cl",
         "Luis",
         "Rojas",
         68,
         1,
         "Rock"
        ],
        [
         "luisrojas@yahoo.cl",
         "Luis",
         "Rojas",
         351,
         1,
         "Rock"
        ],
        [
         "luisrojas@yahoo.cl",
         "Luis",
         "Rojas",
         228,
         1,
         "Rock"
        ],
        [
         "luisrojas@yahoo.cl",
         "Luis",
         "Rojas",
         527,
         1,
         "Rock"
        ],
        [
         "luisrojas@yahoo.cl",
         "Luis",
         "Rojas",
         324,
         1,
         "Rock"
        ],
        [
         "luisrojas@yahoo.cl",
         "Luis",
         "Rojas",
         158,
         1,
         "Rock"
        ],
        [
         "luisrojas@yahoo.cl",
         "Luis",
         "Rojas",
         214,
         1,
         "Rock"
        ],
        [
         "luisrojas@yahoo.cl",
         "Luis",
         "Rojas",
         254,
         1,
         "Rock"
        ],
        [
         "luisrojas@yahoo.cl",
         "Luis",
         "Rojas",
         47,
         1,
         "Rock"
        ],
        [
         "luisrojas@yahoo.cl",
         "Luis",
         "Rojas",
         232,
         1,
         "Rock"
        ],
        [
         "luisrojas@yahoo.cl",
         "Luis",
         "Rojas",
         407,
         1,
         "Rock"
        ],
        [
         "manoj.pareek@rediff.com",
         "Manoj",
         "Pareek",
         473,
         1,
         "Rock"
        ],
        [
         "manoj.pareek@rediff.com",
         "Manoj",
         "Pareek",
         294,
         1,
         "Rock"
        ],
        [
         "manoj.pareek@rediff.com",
         "Manoj",
         "Pareek",
         338,
         1,
         "Rock"
        ],
        [
         "manoj.pareek@rediff.com",
         "Manoj",
         "Pareek",
         82,
         1,
         "Rock"
        ],
        [
         "manoj.pareek@rediff.com",
         "Manoj",
         "Pareek",
         541,
         1,
         "Rock"
        ],
        [
         "manoj.pareek@rediff.com",
         "Manoj",
         "Pareek",
         285,
         1,
         "Rock"
        ],
        [
         "manoj.pareek@rediff.com",
         "Manoj",
         "Pareek",
         140,
         1,
         "Rock"
        ],
        [
         "manoj.pareek@rediff.com",
         "Manoj",
         "Pareek",
         100,
         1,
         "Rock"
        ],
        [
         "manoj.pareek@rediff.com",
         "Manoj",
         "Pareek",
         33,
         1,
         "Rock"
        ],
        [
         "manoj.pareek@rediff.com",
         "Manoj",
         "Pareek",
         506,
         1,
         "Rock"
        ],
        [
         "manoj.pareek@rediff.com",
         "Manoj",
         "Pareek",
         246,
         1,
         "Rock"
        ],
        [
         "marc.dubois@hotmail.com",
         "Marc",
         "Dubois",
         547,
         1,
         "Rock"
        ],
        [
         "marc.dubois@hotmail.com",
         "Marc",
         "Dubois",
         193,
         1,
         "Rock"
        ],
        [
         "marc.dubois@hotmail.com",
         "Marc",
         "Dubois",
         279,
         1,
         "Rock"
        ],
        [
         "marc.dubois@hotmail.com",
         "Marc",
         "Dubois",
         165,
         1,
         "Rock"
        ],
        [
         "marc.dubois@hotmail.com",
         "Marc",
         "Dubois",
         513,
         1,
         "Rock"
        ],
        [
         "marc.dubois@hotmail.com",
         "Marc",
         "Dubois",
         160,
         1,
         "Rock"
        ],
        [
         "marc.dubois@hotmail.com",
         "Marc",
         "Dubois",
         524,
         1,
         "Rock"
        ],
        [
         "marc.dubois@hotmail.com",
         "Marc",
         "Dubois",
         493,
         1,
         "Rock"
        ],
        [
         "marc.dubois@hotmail.com",
         "Marc",
         "Dubois",
         589,
         1,
         "Rock"
        ],
        [
         "mark.taylor@yahoo.au",
         "Mark",
         "Taylor",
         610,
         1,
         "Rock"
        ],
        [
         "mark.taylor@yahoo.au",
         "Mark",
         "Taylor",
         427,
         1,
         "Rock"
        ],
        [
         "mark.taylor@yahoo.au",
         "Mark",
         "Taylor",
         586,
         1,
         "Rock"
        ],
        [
         "mark.taylor@yahoo.au",
         "Mark",
         "Taylor",
         430,
         1,
         "Rock"
        ],
        [
         "mark.taylor@yahoo.au",
         "Mark",
         "Taylor",
         26,
         1,
         "Rock"
        ],
        [
         "mark.taylor@yahoo.au",
         "Mark",
         "Taylor",
         450,
         1,
         "Rock"
        ],
        [
         "mark.taylor@yahoo.au",
         "Mark",
         "Taylor",
         356,
         1,
         "Rock"
        ],
        [
         "marthasilk@gmail.com",
         "Martha",
         "Silk",
         105,
         1,
         "Rock"
        ],
        [
         "marthasilk@gmail.com",
         "Martha",
         "Silk",
         10,
         1,
         "Rock"
        ],
        [
         "marthasilk@gmail.com",
         "Martha",
         "Silk",
         538,
         1,
         "Rock"
        ],
        [
         "marthasilk@gmail.com",
         "Martha",
         "Silk",
         63,
         1,
         "Rock"
        ],
        [
         "marthasilk@gmail.com",
         "Martha",
         "Silk",
         394,
         1,
         "Rock"
        ],
        [
         "marthasilk@gmail.com",
         "Martha",
         "Silk",
         6,
         1,
         "Rock"
        ],
        [
         "marthasilk@gmail.com",
         "Martha",
         "Silk",
         70,
         1,
         "Rock"
        ],
        [
         "marthasilk@gmail.com",
         "Martha",
         "Silk",
         453,
         1,
         "Rock"
        ],
        [
         "marthasilk@gmail.com",
         "Martha",
         "Silk",
         88,
         1,
         "Rock"
        ],
        [
         "masampaio@sapo.pt",
         "Madalena",
         "Sampaio",
         291,
         1,
         "Rock"
        ],
        [
         "masampaio@sapo.pt",
         "Madalena",
         "Sampaio",
         27,
         1,
         "Rock"
        ],
        [
         "masampaio@sapo.pt",
         "Madalena",
         "Sampaio",
         368,
         1,
         "Rock"
        ],
        [
         "masampaio@sapo.pt",
         "Madalena",
         "Sampaio",
         133,
         1,
         "Rock"
        ],
        [
         "masampaio@sapo.pt",
         "Madalena",
         "Sampaio",
         424,
         1,
         "Rock"
        ],
        [
         "masampaio@sapo.pt",
         "Madalena",
         "Sampaio",
         605,
         1,
         "Rock"
        ],
        [
         "masampaio@sapo.pt",
         "Madalena",
         "Sampaio",
         221,
         1,
         "Rock"
        ],
        [
         "masampaio@sapo.pt",
         "Madalena",
         "Sampaio",
         127,
         1,
         "Rock"
        ],
        [
         "masampaio@sapo.pt",
         "Madalena",
         "Sampaio",
         236,
         1,
         "Rock"
        ],
        [
         "masampaio@sapo.pt",
         "Madalena",
         "Sampaio",
         568,
         1,
         "Rock"
        ],
        [
         "masampaio@sapo.pt",
         "Madalena",
         "Sampaio",
         22,
         1,
         "Rock"
        ],
        [
         "masampaio@sapo.pt",
         "Madalena",
         "Sampaio",
         13,
         1,
         "Rock"
        ],
        [
         "masampaio@sapo.pt",
         "Madalena",
         "Sampaio",
         348,
         1,
         "Rock"
        ],
        [
         "masampaio@sapo.pt",
         "Madalena",
         "Sampaio",
         151,
         1,
         "Rock"
        ],
        [
         "michelleb@aol.com",
         "Michelle",
         "Brooks",
         50,
         1,
         "Rock"
        ],
        [
         "michelleb@aol.com",
         "Michelle",
         "Brooks",
         486,
         1,
         "Rock"
        ],
        [
         "michelleb@aol.com",
         "Michelle",
         "Brooks",
         448,
         1,
         "Rock"
        ],
        [
         "michelleb@aol.com",
         "Michelle",
         "Brooks",
         187,
         1,
         "Rock"
        ],
        [
         "michelleb@aol.com",
         "Michelle",
         "Brooks",
         1,
         1,
         "Rock"
        ],
        [
         "michelleb@aol.com",
         "Michelle",
         "Brooks",
         9,
         1,
         "Rock"
        ],
        [
         "michelleb@aol.com",
         "Michelle",
         "Brooks",
         4,
         1,
         "Rock"
        ],
        [
         "mphilips12@shaw.ca",
         "Mark",
         "Philips",
         469,
         1,
         "Rock"
        ],
        [
         "mphilips12@shaw.ca",
         "Mark",
         "Philips",
         370,
         1,
         "Rock"
        ],
        [
         "mphilips12@shaw.ca",
         "Mark",
         "Philips",
         293,
         1,
         "Rock"
        ],
        [
         "mphilips12@shaw.ca",
         "Mark",
         "Philips",
         425,
         1,
         "Rock"
        ],
        [
         "mphilips12@shaw.ca",
         "Mark",
         "Philips",
         233,
         1,
         "Rock"
        ],
        [
         "mphilips12@shaw.ca",
         "Mark",
         "Philips",
         371,
         1,
         "Rock"
        ],
        [
         "mphilips12@shaw.ca",
         "Mark",
         "Philips",
         609,
         1,
         "Rock"
        ],
        [
         "mphilips12@shaw.ca",
         "Mark",
         "Philips",
         530,
         1,
         "Rock"
        ],
        [
         "mphilips12@shaw.ca",
         "Mark",
         "Philips",
         132,
         1,
         "Rock"
        ],
        [
         "nschroder@surfeu.de",
         "Niklas",
         "Schröder",
         435,
         1,
         "Rock"
        ],
        [
         "nschroder@surfeu.de",
         "Niklas",
         "Schröder",
         203,
         1,
         "Rock"
        ],
        [
         "nschroder@surfeu.de",
         "Niklas",
         "Schröder",
         11,
         1,
         "Rock"
        ],
        [
         "nschroder@surfeu.de",
         "Niklas",
         "Schröder",
         508,
         1,
         "Rock"
        ],
        [
         "nschroder@surfeu.de",
         "Niklas",
         "Schröder",
         239,
         1,
         "Rock"
        ],
        [
         "nschroder@surfeu.de",
         "Niklas",
         "Schröder",
         59,
         1,
         "Rock"
        ],
        [
         "nschroder@surfeu.de",
         "Niklas",
         "Schröder",
         363,
         1,
         "Rock"
        ],
        [
         "nschroder@surfeu.de",
         "Niklas",
         "Schröder",
         259,
         1,
         "Rock"
        ],
        [
         "patrick.gray@aol.com",
         "Patrick",
         "Gray",
         5,
         1,
         "Rock"
        ],
        [
         "patrick.gray@aol.com",
         "Patrick",
         "Gray",
         209,
         1,
         "Rock"
        ],
        [
         "patrick.gray@aol.com",
         "Patrick",
         "Gray",
         487,
         1,
         "Rock"
        ],
        [
         "patrick.gray@aol.com",
         "Patrick",
         "Gray",
         247,
         1,
         "Rock"
        ],
        [
         "patrick.gray@aol.com",
         "Patrick",
         "Gray",
         573,
         1,
         "Rock"
        ],
        [
         "patrick.gray@aol.com",
         "Patrick",
         "Gray",
         195,
         1,
         "Rock"
        ],
        [
         "patrick.gray@aol.com",
         "Patrick",
         "Gray",
         562,
         1,
         "Rock"
        ],
        [
         "patrick.gray@aol.com",
         "Patrick",
         "Gray",
         286,
         1,
         "Rock"
        ],
        [
         "phil.hughes@gmail.com",
         "Phil",
         "Hughes",
         565,
         1,
         "Rock"
        ],
        [
         "phil.hughes@gmail.com",
         "Phil",
         "Hughes",
         277,
         1,
         "Rock"
        ],
        [
         "phil.hughes@gmail.com",
         "Phil",
         "Hughes",
         422,
         1,
         "Rock"
        ],
        [
         "phil.hughes@gmail.com",
         "Phil",
         "Hughes",
         23,
         1,
         "Rock"
        ],
        [
         "phil.hughes@gmail.com",
         "Phil",
         "Hughes",
         213,
         1,
         "Rock"
        ],
        [
         "phil.hughes@gmail.com",
         "Phil",
         "Hughes",
         614,
         1,
         "Rock"
        ],
        [
         "phil.hughes@gmail.com",
         "Phil",
         "Hughes",
         502,
         1,
         "Rock"
        ],
        [
         "phil.hughes@gmail.com",
         "Phil",
         "Hughes",
         244,
         1,
         "Rock"
        ],
        [
         "phil.hughes@gmail.com",
         "Phil",
         "Hughes",
         96,
         1,
         "Rock"
        ],
        [
         "ricunningham@hotmail.com",
         "Richard",
         "Cunningham",
         274,
         1,
         "Rock"
        ],
        [
         "ricunningham@hotmail.com",
         "Richard",
         "Cunningham",
         366,
         1,
         "Rock"
        ],
        [
         "ricunningham@hotmail.com",
         "Richard",
         "Cunningham",
         603,
         1,
         "Rock"
        ],
        [
         "ricunningham@hotmail.com",
         "Richard",
         "Cunningham",
         74,
         1,
         "Rock"
        ],
        [
         "ricunningham@hotmail.com",
         "Richard",
         "Cunningham",
         598,
         1,
         "Rock"
        ],
        [
         "ricunningham@hotmail.com",
         "Richard",
         "Cunningham",
         364,
         1,
         "Rock"
        ],
        [
         "ricunningham@hotmail.com",
         "Richard",
         "Cunningham",
         434,
         1,
         "Rock"
        ],
        [
         "ricunningham@hotmail.com",
         "Richard",
         "Cunningham",
         307,
         1,
         "Rock"
        ],
        [
         "ricunningham@hotmail.com",
         "Richard",
         "Cunningham",
         494,
         1,
         "Rock"
        ],
        [
         "ricunningham@hotmail.com",
         "Richard",
         "Cunningham",
         386,
         1,
         "Rock"
        ],
        [
         "rishabh_mishra@yahoo.in",
         "Rishabh",
         "Mishra",
         121,
         1,
         "Rock"
        ],
        [
         "rishabh_mishra@yahoo.in",
         "Rishabh",
         "Mishra",
         37,
         1,
         "Rock"
        ],
        [
         "rishabh_mishra@yahoo.in",
         "Rishabh",
         "Mishra",
         8,
         1,
         "Rock"
        ],
        [
         "rishabh_mishra@yahoo.in",
         "Rishabh",
         "Mishra",
         61,
         1,
         "Rock"
        ],
        [
         "rishabh_mishra@yahoo.in",
         "Rishabh",
         "Mishra",
         607,
         1,
         "Rock"
        ],
        [
         "rishabh_mishra@yahoo.in",
         "Rishabh",
         "Mishra",
         599,
         1,
         "Rock"
        ],
        [
         "rishabh_mishra@yahoo.in",
         "Rishabh",
         "Mishra",
         155,
         1,
         "Rock"
        ],
        [
         "rishabh_mishra@yahoo.in",
         "Rishabh",
         "Mishra",
         220,
         1,
         "Rock"
        ],
        [
         "robbrown@shaw.ca",
         "Robert",
         "Brown",
         362,
         1,
         "Rock"
        ],
        [
         "robbrown@shaw.ca",
         "Robert",
         "Brown",
         120,
         1,
         "Rock"
        ],
        [
         "robbrown@shaw.ca",
         "Robert",
         "Brown",
         332,
         1,
         "Rock"
        ],
        [
         "robbrown@shaw.ca",
         "Robert",
         "Brown",
         600,
         1,
         "Rock"
        ],
        [
         "roberto.almeida@riotur.gov.br",
         "Roberto",
         "Almeida",
         28,
         1,
         "Rock"
        ],
        [
         "roberto.almeida@riotur.gov.br",
         "Roberto",
         "Almeida",
         114,
         1,
         "Rock"
        ],
        [
         "roberto.almeida@riotur.gov.br",
         "Roberto",
         "Almeida",
         152,
         1,
         "Rock"
        ],
        [
         "roberto.almeida@riotur.gov.br",
         "Roberto",
         "Almeida",
         593,
         1,
         "Rock"
        ],
        [
         "roberto.almeida@riotur.gov.br",
         "Roberto",
         "Almeida",
         587,
         1,
         "Rock"
        ],
        [
         "roberto.almeida@riotur.gov.br",
         "Roberto",
         "Almeida",
         333,
         1,
         "Rock"
        ],
        [
         "roberto.almeida@riotur.gov.br",
         "Roberto",
         "Almeida",
         412,
         1,
         "Rock"
        ],
        [
         "roberto.almeida@riotur.gov.br",
         "Roberto",
         "Almeida",
         298,
         1,
         "Rock"
        ],
        [
         "stanisław.wójcik@wp.pl",
         "Stanisław",
         "Wójcik",
         164,
         1,
         "Rock"
        ],
        [
         "stanisław.wójcik@wp.pl",
         "Stanisław",
         "Wójcik",
         7,
         1,
         "Rock"
        ],
        [
         "stanisław.wójcik@wp.pl",
         "Stanisław",
         "Wójcik",
         327,
         1,
         "Rock"
        ],
        [
         "stanisław.wójcik@wp.pl",
         "Stanisław",
         "Wójcik",
         261,
         1,
         "Rock"
        ],
        [
         "stanisław.wójcik@wp.pl",
         "Stanisław",
         "Wójcik",
         216,
         1,
         "Rock"
        ],
        [
         "stanisław.wójcik@wp.pl",
         "Stanisław",
         "Wójcik",
         608,
         1,
         "Rock"
        ],
        [
         "stanisław.wójcik@wp.pl",
         "Stanisław",
         "Wójcik",
         574,
         1,
         "Rock"
        ],
        [
         "stanisław.wójcik@wp.pl",
         "Stanisław",
         "Wójcik",
         446,
         1,
         "Rock"
        ],
        [
         "stanisław.wójcik@wp.pl",
         "Stanisław",
         "Wójcik",
         38,
         1,
         "Rock"
        ],
        [
         "steve.murray@yahoo.uk",
         "Steve",
         "Murray",
         492,
         1,
         "Rock"
        ],
        [
         "steve.murray@yahoo.uk",
         "Steve",
         "Murray",
         415,
         1,
         "Rock"
        ],
        [
         "steve.murray@yahoo.uk",
         "Steve",
         "Murray",
         403,
         1,
         "Rock"
        ],
        [
         "steve.murray@yahoo.uk",
         "Steve",
         "Murray",
         106,
         1,
         "Rock"
        ],
        [
         "steve.murray@yahoo.uk",
         "Steve",
         "Murray",
         230,
         1,
         "Rock"
        ],
        [
         "steve.murray@yahoo.uk",
         "Steve",
         "Murray",
         414,
         1,
         "Rock"
        ],
        [
         "steve.murray@yahoo.uk",
         "Steve",
         "Murray",
         379,
         1,
         "Rock"
        ],
        [
         "steve.murray@yahoo.uk",
         "Steve",
         "Murray",
         402,
         1,
         "Rock"
        ],
        [
         "steve.murray@yahoo.uk",
         "Steve",
         "Murray",
         437,
         1,
         "Rock"
        ],
        [
         "terhi.hamalainen@apple.fi",
         "Terhi",
         "Hämäläinen",
         601,
         1,
         "Rock"
        ],
        [
         "terhi.hamalainen@apple.fi",
         "Terhi",
         "Hämäläinen",
         48,
         1,
         "Rock"
        ],
        [
         "terhi.hamalainen@apple.fi",
         "Terhi",
         "Hämäläinen",
         252,
         1,
         "Rock"
        ],
        [
         "terhi.hamalainen@apple.fi",
         "Terhi",
         "Hämäläinen",
         266,
         1,
         "Rock"
        ],
        [
         "terhi.hamalainen@apple.fi",
         "Terhi",
         "Hämäläinen",
         531,
         1,
         "Rock"
        ],
        [
         "terhi.hamalainen@apple.fi",
         "Terhi",
         "Hämäläinen",
         347,
         1,
         "Rock"
        ],
        [
         "terhi.hamalainen@apple.fi",
         "Terhi",
         "Hämäläinen",
         350,
         1,
         "Rock"
        ],
        [
         "terhi.hamalainen@apple.fi",
         "Terhi",
         "Hämäläinen",
         117,
         1,
         "Rock"
        ],
        [
         "terhi.hamalainen@apple.fi",
         "Terhi",
         "Hämäläinen",
         480,
         1,
         "Rock"
        ],
        [
         "terhi.hamalainen@apple.fi",
         "Terhi",
         "Hämäläinen",
         441,
         1,
         "Rock"
        ],
        [
         "terhi.hamalainen@apple.fi",
         "Terhi",
         "Hämäläinen",
         15,
         1,
         "Rock"
        ],
        [
         "tgoyer@apple.com",
         "Tim",
         "Goyer",
         51,
         1,
         "Rock"
        ],
        [
         "tgoyer@apple.com",
         "Tim",
         "Goyer",
         57,
         1,
         "Rock"
        ],
        [
         "tgoyer@apple.com",
         "Tim",
         "Goyer",
         490,
         1,
         "Rock"
        ],
        [
         "tgoyer@apple.com",
         "Tim",
         "Goyer",
         147,
         1,
         "Rock"
        ],
        [
         "tgoyer@apple.com",
         "Tim",
         "Goyer",
         52,
         1,
         "Rock"
        ],
        [
         "tgoyer@apple.com",
         "Tim",
         "Goyer",
         42,
         1,
         "Rock"
        ],
        [
         "tgoyer@apple.com",
         "Tim",
         "Goyer",
         358,
         1,
         "Rock"
        ],
        [
         "tgoyer@apple.com",
         "Tim",
         "Goyer",
         231,
         1,
         "Rock"
        ],
        [
         "vstevens@yahoo.com",
         "Victor",
         "Stevens",
         202,
         1,
         "Rock"
        ],
        [
         "vstevens@yahoo.com",
         "Victor",
         "Stevens",
         468,
         1,
         "Rock"
        ],
        [
         "vstevens@yahoo.com",
         "Victor",
         "Stevens",
         179,
         1,
         "Rock"
        ],
        [
         "vstevens@yahoo.com",
         "Victor",
         "Stevens",
         514,
         1,
         "Rock"
        ],
        [
         "vstevens@yahoo.com",
         "Victor",
         "Stevens",
         578,
         1,
         "Rock"
        ],
        [
         "vstevens@yahoo.com",
         "Victor",
         "Stevens",
         331,
         1,
         "Rock"
        ],
        [
         "vstevens@yahoo.com",
         "Victor",
         "Stevens",
         300,
         1,
         "Rock"
        ],
        [
         "wyatt.girard@yahoo.fr",
         "Wyatt",
         "Girard",
         226,
         1,
         "Rock"
        ],
        [
         "wyatt.girard@yahoo.fr",
         "Wyatt",
         "Girard",
         312,
         1,
         "Rock"
        ],
        [
         "wyatt.girard@yahoo.fr",
         "Wyatt",
         "Girard",
         12,
         1,
         "Rock"
        ],
        [
         "wyatt.girard@yahoo.fr",
         "Wyatt",
         "Girard",
         148,
         1,
         "Rock"
        ],
        [
         "wyatt.girard@yahoo.fr",
         "Wyatt",
         "Girard",
         93,
         1,
         "Rock"
        ],
        [
         "wyatt.girard@yahoo.fr",
         "Wyatt",
         "Girard",
         396,
         1,
         "Rock"
        ],
        [
         "wyatt.girard@yahoo.fr",
         "Wyatt",
         "Girard",
         385,
         1,
         "Rock"
        ],
        [
         "wyatt.girard@yahoo.fr",
         "Wyatt",
         "Girard",
         596,
         1,
         "Rock"
        ]
       ],
       "datasetInfos": [],
       "dbfsResultPath": null,
       "isJsonSchema": true,
       "metadata": {},
       "overflow": false,
       "plotOptions": {
        "customPlotOptions": {},
        "displayType": "table",
        "pivotAggregation": null,
        "pivotColumns": null,
        "xColumns": null,
        "yColumns": null
       },
       "removedWidgets": [],
       "schema": [
        {
         "metadata": "{}",
         "name": "email",
         "type": "\"string\""
        },
        {
         "metadata": "{}",
         "name": "first_name",
         "type": "\"string\""
        },
        {
         "metadata": "{}",
         "name": "last_name",
         "type": "\"string\""
        },
        {
         "metadata": "{}",
         "name": "invoice_id",
         "type": "\"integer\""
        },
        {
         "metadata": "{}",
         "name": "genre_id",
         "type": "\"integer\""
        },
        {
         "metadata": "{}",
         "name": "name",
         "type": "\"string\""
        }
       ],
       "type": "table"
      }
     },
     "output_type": "display_data"
    }
   ],
   "source": [
    "%sql\n",
    "select DISTINCT (c.email),c.first_name,c.last_name, i.invoice_id,g.genre_id,g.name from customer c join invoice i on \n",
    "c.customer_id = i.customer_id join invoice_line il on i.invoice_id = il.invoice_id join track t on il.track_id = t.track_id \n",
    "join genre g on t.genre_id = g.genre_id where g.name in (select name from genre where name like 'Rock' or name like 'rock') order by email;"
   ]
  },
  {
   "cell_type": "markdown",
   "metadata": {
    "application/vnd.databricks.v1+cell": {
     "cellMetadata": {},
     "inputWidgets": {},
     "nuid": "a2a0894f-17d9-4922-9cab-30c2ec61df55",
     "showTitle": false,
     "title": ""
    }
   },
   "source": [
    "## Q7: Let's invite the artists who have written the most rock music in our dataset. Write a query that returns the Artist name and total track count of the top 10 rock bands"
   ]
  },
  {
   "cell_type": "code",
   "execution_count": 0,
   "metadata": {
    "application/vnd.databricks.v1+cell": {
     "cellMetadata": {
      "byteLimit": 2048000,
      "implicitDf": true,
      "rowLimit": 10000
     },
     "inputWidgets": {},
     "nuid": "bfac8b47-8ff6-45f8-b2b8-f3e3d0a17b60",
     "showTitle": false,
     "title": ""
    }
   },
   "outputs": [
    {
     "output_type": "display_data",
     "data": {
      "text/html": [
       "<style scoped>\n",
       "  .table-result-container {\n",
       "    max-height: 300px;\n",
       "    overflow: auto;\n",
       "  }\n",
       "  table, th, td {\n",
       "    border: 1px solid black;\n",
       "    border-collapse: collapse;\n",
       "  }\n",
       "  th, td {\n",
       "    padding: 5px;\n",
       "  }\n",
       "  th {\n",
       "    text-align: left;\n",
       "  }\n",
       "</style><div class='table-result-container'><table class='table-result'><thead style='background-color: white'><tr><th>artist_id</th><th>name</th><th>title</th><th>track_count</th><th>genre_id</th><th>name</th></tr></thead><tbody><tr><td>100</td><td>Lenny Kravitz</td><td>Greatest Hits</td><td>30</td><td>1</td><td>Rock</td></tr><tr><td>144</td><td>The Who</td><td>My Generation - The Very Best Of The Who</td><td>20</td><td>1</td><td>Rock</td></tr><tr><td>52</td><td>Kiss</td><td>Greatest Kiss</td><td>20</td><td>1</td><td>Rock</td></tr><tr><td>76</td><td>Creedence Clearwater Revival</td><td>Chronicle, Vol. 1</td><td>20</td><td>1</td><td>Rock</td></tr><tr><td>76</td><td>Creedence Clearwater Revival</td><td>Chronicle, Vol. 2</td><td>20</td><td>1</td><td>Rock</td></tr><tr><td>139</td><td>The Cult</td><td>Pure Cult: The Best Of The Cult (For Rockers, Ravers, Lovers & Sinners) [uk]</td><td>18</td><td>1</td><td>Rock</td></tr><tr><td>51</td><td>Queen</td><td>Greatest Hits II</td><td>17</td><td>1</td><td>Rock</td></tr><tr><td>132</td><td>Soundgarden</td><td>A-Sides</td><td>17</td><td>1</td><td>Rock</td></tr><tr><td>150</td><td>U2</td><td>Rattle And Hum</td><td>17</td><td>1</td><td>Rock</td></tr><tr><td>51</td><td>Queen</td><td>Greatest Hits I</td><td>17</td><td>1</td><td>Rock</td></tr></tbody></table></div>"
      ]
     },
     "metadata": {
      "application/vnd.databricks.v1+output": {
       "addedWidgets": {},
       "aggData": [],
       "aggError": "",
       "aggOverflow": false,
       "aggSchema": [],
       "aggSeriesLimitReached": false,
       "aggType": "",
       "arguments": {},
       "columnCustomDisplayInfos": {},
       "data": [
        [
         100,
         "Lenny Kravitz",
         "Greatest Hits",
         30,
         1,
         "Rock"
        ],
        [
         144,
         "The Who",
         "My Generation - The Very Best Of The Who",
         20,
         1,
         "Rock"
        ],
        [
         52,
         "Kiss",
         "Greatest Kiss",
         20,
         1,
         "Rock"
        ],
        [
         76,
         "Creedence Clearwater Revival",
         "Chronicle, Vol. 1",
         20,
         1,
         "Rock"
        ],
        [
         76,
         "Creedence Clearwater Revival",
         "Chronicle, Vol. 2",
         20,
         1,
         "Rock"
        ],
        [
         139,
         "The Cult",
         "Pure Cult: The Best Of The Cult (For Rockers, Ravers, Lovers & Sinners) [uk]",
         18,
         1,
         "Rock"
        ],
        [
         51,
         "Queen",
         "Greatest Hits II",
         17,
         1,
         "Rock"
        ],
        [
         132,
         "Soundgarden",
         "A-Sides",
         17,
         1,
         "Rock"
        ],
        [
         150,
         "U2",
         "Rattle And Hum",
         17,
         1,
         "Rock"
        ],
        [
         51,
         "Queen",
         "Greatest Hits I",
         17,
         1,
         "Rock"
        ]
       ],
       "datasetInfos": [],
       "dbfsResultPath": null,
       "isJsonSchema": true,
       "metadata": {},
       "overflow": false,
       "plotOptions": {
        "customPlotOptions": {},
        "displayType": "table",
        "pivotAggregation": null,
        "pivotColumns": null,
        "xColumns": null,
        "yColumns": null
       },
       "removedWidgets": [],
       "schema": [
        {
         "metadata": "{}",
         "name": "artist_id",
         "type": "\"integer\""
        },
        {
         "metadata": "{}",
         "name": "name",
         "type": "\"string\""
        },
        {
         "metadata": "{}",
         "name": "title",
         "type": "\"string\""
        },
        {
         "metadata": "{}",
         "name": "track_count",
         "type": "\"long\""
        },
        {
         "metadata": "{}",
         "name": "genre_id",
         "type": "\"integer\""
        },
        {
         "metadata": "{}",
         "name": "name",
         "type": "\"string\""
        }
       ],
       "type": "table"
      }
     },
     "output_type": "display_data"
    }
   ],
   "source": [
    "%sql\n",
    "select ar.artist_id, ar.name, al.title, count(t.track_id) as track_count, t.genre_id, g.name \n",
    "from artist ar \n",
    "join album al on ar.artist_id = al.artist_id \n",
    "join track t on al.album_id = t.album_id \n",
    "join genre g on t.genre_id = g.genre_id \n",
    "where g.name='Rock' \n",
    "group by ar.artist_id, ar.name, al.title, t.genre_id, g.name \n",
    "order by track_count desc \n",
    "limit 10;"
   ]
  },
  {
   "cell_type": "markdown",
   "metadata": {
    "application/vnd.databricks.v1+cell": {
     "cellMetadata": {},
     "inputWidgets": {},
     "nuid": "663b9bef-0f7d-4df5-b2ac-8aed35ed1da2",
     "showTitle": false,
     "title": ""
    }
   },
   "source": [
    "## Q8: Return all the track names that have a song length longer than the average song length. Return the Name and Milliseconds for each track. Order by the song length with the longest songs listed first"
   ]
  },
  {
   "cell_type": "code",
   "execution_count": 0,
   "metadata": {
    "application/vnd.databricks.v1+cell": {
     "cellMetadata": {
      "byteLimit": 2048000,
      "implicitDf": true,
      "rowLimit": 10000
     },
     "inputWidgets": {},
     "nuid": "6b4c8c76-e8cb-40fc-8f19-4e3fe58612a3",
     "showTitle": false,
     "title": ""
    }
   },
   "outputs": [
    {
     "output_type": "display_data",
     "data": {
      "text/html": [
       "<style scoped>\n",
       "  .table-result-container {\n",
       "    max-height: 300px;\n",
       "    overflow: auto;\n",
       "  }\n",
       "  table, th, td {\n",
       "    border: 1px solid black;\n",
       "    border-collapse: collapse;\n",
       "  }\n",
       "  th, td {\n",
       "    padding: 5px;\n",
       "  }\n",
       "  th {\n",
       "    text-align: left;\n",
       "  }\n",
       "</style><div class='table-result-container'><table class='table-result'><thead style='background-color: white'><tr><th>name</th><th>milliseconds</th></tr></thead><tbody><tr><td>Funky Piano</td><td>934791</td></tr><tr><td>Going Down / Highway Star</td><td>913658</td></tr><tr><td>My Funny Valentine (Live)</td><td>907520</td></tr><tr><td>Santana Jam</td><td>882834</td></tr><tr><td>The Sun Road</td><td>880640</td></tr><tr><td>Whole Lotta Love</td><td>863895</td></tr><tr><td>Mistreated (Alternate Version)</td><td>854700</td></tr><tr><td>Just Ain't Good Enough</td><td>850259</td></tr><tr><td>Miles Runs The Voodoo Down</td><td>843964</td></tr><tr><td>Whole Lotta Love (Medley)</td><td>825103</td></tr><tr><td>Rime of the Ancient Mariner</td><td>816509</td></tr><tr><td>Walkin'</td><td>807392</td></tr><tr><td>You Fool No One</td><td>804101</td></tr><tr><td>Rime Of The Ancient Mariner</td><td>789472</td></tr><tr><td>Moby Dick</td><td>766354</td></tr><tr><td>You Fool No One (Alternate Version)</td><td>763924</td></tr><tr><td>Mistreated</td><td>758648</td></tr><tr><td>No Quarter</td><td>749897</td></tr><tr><td>The Calling</td><td>747755</td></tr><tr><td>El Corazon Manda</td><td>713534</td></tr><tr><td>How Many More Times</td><td>711836</td></tr><tr><td>The End</td><td>701831</td></tr><tr><td>Sign Of The Cross</td><td>678008</td></tr><tr><td>Advance Romance</td><td>677694</td></tr><tr><td>Reach Down</td><td>672773</td></tr><tr><td>Mercyful Fate</td><td>671712</td></tr><tr><td>Xanadu</td><td>667428</td></tr><tr><td>In My Time Of Dying</td><td>666017</td></tr><tr><td>I Heard It Through The Grapevine</td><td>664894</td></tr><tr><td>Outbreak</td><td>659226</td></tr><tr><td>Stairway To Heaven</td><td>657293</td></tr><tr><td>Sign Of The Cross</td><td>649116</td></tr><tr><td>Sleeping Village</td><td>644571</td></tr><tr><td>Fried Neckbones And Home Fries</td><td>638563</td></tr><tr><td>Carouselambra</td><td>634435</td></tr><tr><td>La Puesta Del Sol</td><td>628062</td></tr><tr><td>Achilles Last Stand</td><td>625502</td></tr><tr><td>Child In Time</td><td>620460</td></tr><tr><td>You Shook Me(2)</td><td>619467</td></tr><tr><td>The Way You Do To Mer</td><td>618344</td></tr><tr><td>Smoke On The Water</td><td>618031</td></tr><tr><td>Revolution 1993</td><td>616829</td></tr><tr><td>Coma</td><td>616511</td></tr><tr><td>Child In Time (Son Of Aleric - Instrumental)</td><td>602880</td></tr><tr><td>Adagio for Strings from the String Quartet, Op. 11</td><td>596519</td></tr><tr><td>Seventh Son of a Seventh Son</td><td>593580</td></tr><tr><td>Jingo</td><td>592953</td></tr><tr><td>The Angel And The Gambler</td><td>592744</td></tr><tr><td>All I Want Is You</td><td>591986</td></tr><tr><td>Talkin' 'Bout Women Obviously</td><td>589531</td></tr><tr><td>The Outlaw Torn</td><td>588721</td></tr><tr><td>To Live Is To Die</td><td>588564</td></tr><tr><td>...And Justice For All</td><td>585769</td></tr><tr><td>Book of Hours</td><td>583366</td></tr><tr><td>Stratus</td><td>582086</td></tr><tr><td>The Messiah: Behold, I Tell You a Mystery... The Trumpet Shall Sound</td><td>582029</td></tr><tr><td>Dream Of Mirrors</td><td>578324</td></tr><tr><td>La Villa Strangiato</td><td>577488</td></tr><tr><td>Blind Curve: Vocal Under A Bloodlight / Passing Strangers / Mylo / Perimeter Walk / Threshold</td><td>569704</td></tr><tr><td>\"Symphony No. 3 Op. 36 for Orchestra and Soprano \"\"Symfonia Piesni Zalosnych\"\" \\ Lento E Largo - Tranquillissimo\"</td><td>567494</td></tr><tr><td>Tea For One</td><td>566752</td></tr><tr><td>For the Greater Good of God</td><td>564893</td></tr><tr><td>So What</td><td>564009</td></tr><tr><td>Estranged</td><td>563800</td></tr><tr><td>The Legacy</td><td>562966</td></tr><tr><td>Symphonie Fantastique, Op. 14: V. Songe d'une nuit du sabbat</td><td>561967</td></tr><tr><td>Dream Of Mirrors</td><td>561162</td></tr><tr><td>Concerto for Piano No. 2 in F Minor, Op. 21: II. Larghetto</td><td>560342</td></tr><tr><td>The Clansman</td><td>559203</td></tr><tr><td>Homecoming / The Death Of St. Jimmy / East 12th St. / Nobody Likes You / Rock And Roll Girlfriend / We're Coming Home Again</td><td>558602</td></tr><tr><td>No More Tears</td><td>555075</td></tr><tr><td>Iron Man/Children of the Grave</td><td>552308</td></tr><tr><td>Falling in Circles</td><td>549093</td></tr><tr><td>Jesus Of Suburbia / City Of The Damned / I Don't Care / Dearly Beloved / Tales Of Another Broken Home</td><td>548336</td></tr><tr><td>The Nomad</td><td>546115</td></tr><tr><td>Release</td><td>546063</td></tr><tr><td>Tuesday's Gone</td><td>545750</td></tr><tr><td>Scheherazade, Op. 35: I. The Sea and Sindbad's Ship</td><td>545203</td></tr><tr><td>Someday My Prince Will Come</td><td>544078</td></tr><tr><td>Faroeste Caboclo</td><td>543007</td></tr><tr><td>The Clansman</td><td>539689</td></tr><tr><td>November Rain</td><td>537540</td></tr><tr><td>The Call Of Ktulu</td><td>534883</td></tr><tr><td>Chaos-Control</td><td>529841</td></tr><tr><td>Just Another Story</td><td>529684</td></tr><tr><td>Stairway To Heaven</td><td>529658</td></tr><tr><td>Occupation / Precipice</td><td>5286953</td></tr><tr><td>Riviera Paradise</td><td>528692</td></tr><tr><td>She Wears Black</td><td>528666</td></tr><tr><td>All Within My Hands</td><td>527986</td></tr><tr><td>In The Light</td><td>526785</td></tr><tr><td>On the Beautiful Blue Danube</td><td>526696</td></tr><tr><td>Black Light Syndrome</td><td>526471</td></tr><tr><td>Brighter Than a Thousand Suns</td><td>526255</td></tr><tr><td>Whistle Stop</td><td>526132</td></tr><tr><td>Locomotive</td><td>522396</td></tr><tr><td>Jupiter, the Bringer of Jollity</td><td>522099</td></tr><tr><td>By-Tor And The Snow Dog</td><td>519888</td></tr><tr><td>A E O Z</td><td>518556</td></tr><tr><td>Dance Of Death</td><td>516649</td></tr><tr><td>Alexander the Great</td><td>515631</td></tr><tr><td>War Pigs</td><td>515435</td></tr><tr><td>Master Of Puppets</td><td>515239</td></tr><tr><td>Year to the Day</td><td>514612</td></tr><tr><td>Won't Get Fooled Again (Full Length Version)</td><td>513750</td></tr><tr><td>Dark Corners</td><td>513541</td></tr><tr><td>Blow Your Mind</td><td>512339</td></tr><tr><td>Invisible Kid</td><td>510197</td></tr><tr><td>The Alchemist</td><td>509413</td></tr><tr><td>Through a Looking Glass</td><td>5088838</td></tr><tr><td>Kashmir</td><td>508604</td></tr><tr><td>Paschendale</td><td>508107</td></tr><tr><td>How Many More Times</td><td>508055</td></tr><tr><td>The Thin Line Between Love & Hate</td><td>506801</td></tr><tr><td>Where The River Goes</td><td>505991</td></tr><tr><td>Rain Song</td><td>505808</td></tr><tr><td>Some Kind Of Monster</td><td>505626</td></tr><tr><td>Title Song</td><td>505521</td></tr><tr><td>Miserere mei, Deus</td><td>501503</td></tr><tr><td>Fools</td><td>500427</td></tr><tr><td>Orion</td><td>500062</td></tr><tr><td>Bleeding Me</td><td>497998</td></tr><tr><td>LOST In 8:15</td><td>497163</td></tr><tr><td>Disposable Heroes</td><td>496718</td></tr><tr><td>Sir Psycho Sexy</td><td>496692</td></tr><tr><td>Fixxxer</td><td>496065</td></tr><tr><td>Iron Maiden</td><td>494602</td></tr><tr><td>Wheels Of Confusion / The Straightener</td><td>494524</td></tr><tr><td>Book Of Thel</td><td>494393</td></tr><tr><td>The Real Thing</td><td>493635</td></tr><tr><td>Concerto for Violin, Strings and Continuo in G Major, Op. 3, No. 9: I. Allegro</td><td>493573</td></tr><tr><td>You Oughta Know (Alternate)</td><td>491885</td></tr><tr><td>The Unbeliever</td><td>490422</td></tr><tr><td>Petits Machins (Little Stuff)</td><td>487392</td></tr><tr><td>Steal Away (The Night)</td><td>485720</td></tr><tr><td>Don't Look To The Eyes Of A Stranger</td><td>483657</td></tr><tr><td>Concerto for Cello and Orchestra in E minor, Op. 85: I. Adagio - Moderato</td><td>483133</td></tr><tr><td>Terra</td><td>482429</td></tr><tr><td>Stairway To Heaven</td><td>481619</td></tr><tr><td>Out Of Control</td><td>479242</td></tr><tr><td>Flight Of The Rat</td><td>478302</td></tr><tr><td>The Evil That Men Do</td><td>478145</td></tr><tr><td>Bye Bye Blackbird</td><td>476003</td></tr><tr><td>Evil Ways</td><td>475402</td></tr><tr><td>Running Free</td><td>474017</td></tr><tr><td>Nefertiti</td><td>473495</td></tr><tr><td>Aeroplane Flies High</td><td>473391</td></tr><tr><td>Old Love</td><td>472920</td></tr><tr><td>Loverman</td><td>472764</td></tr><tr><td>Hallowed Be Thy Name</td><td>471849</td></tr><tr><td>Am I Evil?</td><td>470256</td></tr><tr><td>Come Back</td><td>469968</td></tr><tr><td>The Longest Day</td><td>467810</td></tr><tr><td>Suicide Solution (With Guitar Solo)</td><td>467069</td></tr><tr><td>War Pigs</td><td>464770</td></tr><tr><td>Smoke On The Water</td><td>464378</td></tr><tr><td>The Frayed Ends Of Sanity</td><td>464039</td></tr><tr><td>Once</td><td>462837</td></tr><tr><td>Civil War</td><td>461165</td></tr><tr><td>Us And Them</td><td>461035</td></tr><tr><td>Fear Of The Dark</td><td>460695</td></tr><tr><td>Wiser Time</td><td>459990</td></tr><tr><td>The Rain Song</td><td>459180</td></tr><tr><td>Low Man's Lyric</td><td>457639</td></tr><tr><td>Snoopy's search-Red baron</td><td>456071</td></tr><tr><td>Powerslave</td><td>454974</td></tr><tr><td>Burn</td><td>453955</td></tr><tr><td>País Tropical</td><td>452519</td></tr><tr><td>Sometimes I Feel Like Screaming</td><td>451840</td></tr><tr><td>Hallowed Be Thy Name</td><td>451422</td></tr><tr><td>Heaven Can Wait</td><td>448574</td></tr><tr><td>Hallowed Be Thy Name</td><td>447791</td></tr><tr><td>Duende</td><td>447582</td></tr><tr><td>One</td><td>446484</td></tr><tr><td>Caught Somewhere in Time</td><td>445779</td></tr><tr><td>To Tame A Land</td><td>445283</td></tr><tr><td>Lord of Light</td><td>444614</td></tr><tr><td>No More Tears</td><td>444358</td></tr><tr><td>Since I've Been Loving You</td><td>444055</td></tr><tr><td>Hallowed Be Thy Name</td><td>443977</td></tr><tr><td>Fortunes Of War</td><td>443977</td></tr><tr><td>The Reincarnation of Benjamin Breeg</td><td>442106</td></tr><tr><td>Lazy</td><td>442096</td></tr><tr><td>No More Lies</td><td>441782</td></tr><tr><td>Heaven Can Wait</td><td>441417</td></tr><tr><td>St. Anger</td><td>441234</td></tr><tr><td>Phantom Of The Opera</td><td>441155</td></tr><tr><td>Heaven Can Wait</td><td>440555</td></tr><tr><td>River Song</td><td>439510</td></tr><tr><td>Leave</td><td>437968</td></tr><tr><td>Fear Of The Dark</td><td>436976</td></tr><tr><td>Sozinho (Hitmakers Classic Mix)</td><td>436636</td></tr><tr><td>Master Of Puppets</td><td>436453</td></tr><tr><td>Blood Brothers</td><td>435513</td></tr><tr><td>Blood Brothers</td><td>434442</td></tr><tr><td>Stone Crazy</td><td>433397</td></tr><tr><td>The Four Horsemen</td><td>433188</td></tr><tr><td>Fear Of The Dark</td><td>431542</td></tr><tr><td>Fear Of The Dark</td><td>431333</td></tr><tr><td>Hallowed Be Thy Name (Live) [Non Album Bonus Track]</td><td>431262</td></tr><tr><td>Hard Lovin' Man</td><td>431203</td></tr><tr><td>Victim Of Change (Live)</td><td>430942</td></tr><tr><td>Layla</td><td>430733</td></tr><tr><td>Shoot Me Again</td><td>430210</td></tr><tr><td>The Unnamed Feeling</td><td>429479</td></tr><tr><td>Hallowed Be Thy Name</td><td>428669</td></tr><tr><td>Inside Job</td><td>428643</td></tr><tr><td>Light My Fire</td><td>428329</td></tr><tr><td>05 - Phantom of the Opera</td><td>428016</td></tr><tr><td>When The Levee Breaks</td><td>427702</td></tr><tr><td>Journeyman</td><td>427023</td></tr><tr><td>Time</td><td>425195</td></tr><tr><td>Breakdown</td><td>424960</td></tr><tr><td>Knocking At Your Back Door</td><td>424829</td></tr><tr><td>Otay</td><td>423653</td></tr><tr><td>Scam</td><td>422321</td></tr><tr><td>Voce Nao Entende Nada - Cotidiano</td><td>421982</td></tr><tr><td>A Bencao E Outros</td><td>421093</td></tr><tr><td>No Quarter</td><td>420493</td></tr><tr><td>Snowblind</td><td>420022</td></tr><tr><td>Lemon</td><td>418324</td></tr><tr><td>Rehab (Hot Chip Remix)</td><td>418293</td></tr><tr><td>Phantom Of The Opera</td><td>418168</td></tr><tr><td>Afraid To Shoot Strangers</td><td>416496</td></tr><tr><td>Since I've Been Loving You</td><td>416365</td></tr><tr><td>Seek & Destroy</td><td>415817</td></tr><tr><td>Black</td><td>415712</td></tr><tr><td>No No No</td><td>414902</td></tr><tr><td>Fade To Black</td><td>414824</td></tr><tr><td>Four Walled World</td><td>414474</td></tr><tr><td>Where The Wild Things Are</td><td>414380</td></tr><tr><td>Norwegian Wood</td><td>413910</td></tr><tr><td>Afraid To Shoot Strangers</td><td>412525</td></tr><tr><td>These Colours Don't Run</td><td>412152</td></tr><tr><td>Wellington's Victory or the Battle Symphony, Op.91: 2. Symphony of Triumph</td><td>412000</td></tr><tr><td>In The Evening</td><td>410566</td></tr><tr><td>Se Liga</td><td>410409</td></tr><tr><td>Ghost Of The Navigator</td><td>410070</td></tr><tr><td>Samba Da Bênção</td><td>409965</td></tr><tr><td>You Sent Me Flying / Cherry</td><td>409906</td></tr><tr><td>My Friend Of Misery</td><td>409547</td></tr><tr><td>Revelations</td><td>408607</td></tr><tr><td>Ghost Of The Navigator</td><td>408607</td></tr><tr><td>Down by the Sea</td><td>408163</td></tr><tr><td>Afraid To Shoot Strangers</td><td>407980</td></tr><tr><td>Powerslave</td><td>407823</td></tr><tr><td>Daughter</td><td>407484</td></tr><tr><td>Paradise City</td><td>406347</td></tr><tr><td>Karelia Suite, Op.11: 2. Ballade (Tempo Di Menuetto)</td><td>406000</td></tr><tr><td>Blue Train</td><td>405028</td></tr><tr><td>The Educated Fool</td><td>404767</td></tr><tr><td>Girl From A Pawnshop</td><td>404688</td></tr><tr><td>Third Stone From The Sun</td><td>404453</td></tr><tr><td>Computadores Fazem Arte</td><td>404323</td></tr><tr><td>Wherever I May Roam</td><td>404323</td></tr><tr><td>The Small Hours</td><td>403435</td></tr><tr><td>Blackened</td><td>403382</td></tr><tr><td>Jerusalem</td><td>402390</td></tr><tr><td>Dazed and Confused</td><td>401920</td></tr><tr><td>Babe I'm Gonna Leave You</td><td>401475</td></tr><tr><td>Terra</td><td>401319</td></tr><tr><td>Soot & Stars</td><td>399986</td></tr><tr><td>The Edge Of Darkness</td><td>399333</td></tr><tr><td>The House Jack Built</td><td>398942</td></tr><tr><td>Jizzlobber</td><td>398341</td></tr><tr><td>Helpless</td><td>398315</td></tr><tr><td>Thank You</td><td>398262</td></tr><tr><td>Still Of The Night</td><td>398210</td></tr><tr><td>Ride The Lightning</td><td>397740</td></tr><tr><td>Astronomy</td><td>397531</td></tr><tr><td>Creeping Death</td><td>396878</td></tr><tr><td>Deep Waters</td><td>396460</td></tr><tr><td>Save Me (Remix)</td><td>396303</td></tr><tr><td>The Thing That Should Not Be</td><td>396199</td></tr><tr><td>King For A Day</td><td>395859</td></tr><tr><td>22 Acacia Avenue</td><td>395572</td></tr><tr><td>The Unforgiven II</td><td>395520</td></tr><tr><td>The Shortest Straw</td><td>395389</td></tr><tr><td>Concerto for Clarinet in A Major, K. 622: II. Adagio</td><td>394482</td></tr><tr><td>Wicked Ways</td><td>393691</td></tr><tr><td>Greetings from Earth, Pt. 1</td><td>2960293</td></tr><tr><td>The Man With Nine Lives</td><td>2956998</td></tr><tr><td>Battlestar Galactica, Pt. 2</td><td>2956081</td></tr><tr><td>Battlestar Galactica, Pt. 1</td><td>2952702</td></tr><tr><td>Murder On the Rising Star</td><td>2935894</td></tr><tr><td>Battlestar Galactica, Pt. 3</td><td>2927802</td></tr><tr><td>Take the Celestra</td><td>2927677</td></tr><tr><td>Fire In Space</td><td>2926593</td></tr><tr><td>The Long Patrol</td><td>2925008</td></tr><tr><td>The Magnificent Warriors</td><td>2924716</td></tr><tr><td>The Living Legend, Pt. 1</td><td>2924507</td></tr><tr><td>The Gun On Ice Planet Zero, Pt. 2</td><td>2924341</td></tr><tr><td>The Hand of God</td><td>2924007</td></tr><tr><td>Experiment In Terra</td><td>2923548</td></tr><tr><td>War of the Gods, Pt. 2</td><td>2923381</td></tr><tr><td>The Living Legend, Pt. 2</td><td>2923298</td></tr><tr><td>War of the Gods, Pt. 1</td><td>2922630</td></tr><tr><td>Lost Planet of the Gods, Pt. 1</td><td>2922547</td></tr><tr><td>Baltar's Escape</td><td>2922088</td></tr><tr><td>The Lost Warrior</td><td>2920045</td></tr><tr><td>Lost Planet of the Gods, Pt. 2</td><td>2914664</td></tr><tr><td>The Gun On Ice Planet Zero, Pt. 1</td><td>2907615</td></tr><tr><td>Greetings from Earth, Pt. 2</td><td>2903778</td></tr><tr><td>Crossroads, Pt. 2</td><td>2869953</td></tr><tr><td>The Young Lords</td><td>2863571</td></tr><tr><td>Dave</td><td>2825166</td></tr><tr><td>\"\"\"?\"\"\"</td><td>2782333</td></tr><tr><td>Maternity Leave</td><td>2780416</td></tr><tr><td>Three Minutes</td><td>2763666</td></tr><tr><td>Hero</td><td>2713755</td></tr><tr><td>One of Them</td><td>2698791</td></tr><tr><td>How to Stop an Exploding Man</td><td>2687103</td></tr><tr><td>The Long Con</td><td>2679583</td></tr><tr><td>Live Together, Die Alone, Pt. 2</td><td>2656531</td></tr><tr><td>S.O.S.</td><td>2639541</td></tr><tr><td>One of Us</td><td>2638096</td></tr><tr><td>The Man from Tallahassee</td><td>2637637</td></tr><tr><td>The Cost of Living</td><td>2637500</td></tr><tr><td>The Glass Ballerina</td><td>2637458</td></tr><tr><td>Every Man for Himself</td><td>2637387</td></tr><tr><td>Not In Portland</td><td>2637345</td></tr><tr><td>Not In Portland</td><td>2637303</td></tr><tr><td>A Tale of Two Cities</td><td>2636970</td></tr><tr><td>Flashes Before Your Eyes</td><td>2636636</td></tr><tr><td>Stranger In a Strange Land</td><td>2636428</td></tr><tr><td>Left Behind</td><td>2635343</td></tr><tr><td>Tricia Tanaka Is Dead</td><td>2635010</td></tr><tr><td>Lost Survival Guide</td><td>2632590</td></tr><tr><td>The Moth</td><td>2631327</td></tr><tr><td>Torn</td><td>2631291</td></tr><tr><td>Par Avion</td><td>2629879</td></tr><tr><td>Enter 77</td><td>2629796</td></tr><tr><td>Dirty Hands</td><td>2627961</td></tr><tr><td>I Do</td><td>2627791</td></tr><tr><td>Tabula Rasa</td><td>2627105</td></tr><tr><td>Collaborators</td><td>2626626</td></tr><tr><td>The Woman King</td><td>2626376</td></tr><tr><td>Rapture</td><td>2624541</td></tr><tr><td>Taking a Break from All Your Worries</td><td>2624207</td></tr><tr><td>The Passage</td><td>2623875</td></tr><tr><td>Crossroads, Pt. 1</td><td>2622622</td></tr><tr><td>Maelstrom</td><td>2622372</td></tr><tr><td>Battlestar Galactica: The Story So Far</td><td>2622250</td></tr><tr><td>Unfinished Business</td><td>2622038</td></tr><tr><td>The Son Also Rises</td><td>2621830</td></tr><tr><td>Exodus, Pt. 1</td><td>2621708</td></tr><tr><td>Exodus (Part 1)</td><td>2620747</td></tr><tr><td>A Day In the Life</td><td>2620245</td></tr><tr><td>Outlaws</td><td>2619887</td></tr><tr><td>Exodus (Part 3) [Season Finale]</td><td>2619869</td></tr><tr><td>Hearts and Minds</td><td>2619462</td></tr><tr><td>The Eye of Jupiter</td><td>2618750</td></tr><tr><td>Born to Run</td><td>2618619</td></tr><tr><td>Special</td><td>2618530</td></tr><tr><td>Do No Harm</td><td>2618487</td></tr><tr><td>Exodus, Pt. 2</td><td>2618000</td></tr><tr><td>The Greater Good</td><td>2617784</td></tr><tr><td>The Brig</td><td>2617325</td></tr><tr><td>Greatest Hits</td><td>2617117</td></tr><tr><td>Through the Looking Glass, Pt. 2</td><td>2617117</td></tr><tr><td>Whatever the Case May Be</td><td>2616410</td></tr><tr><td>D.O.C.</td><td>2616032</td></tr><tr><td>The Man Behind the Curtain</td><td>2615990</td></tr><tr><td>Confidence Man</td><td>2615244</td></tr><tr><td>Seven Minutes to Midnight</td><td>2613988</td></tr><tr><td>Solitary</td><td>2612894</td></tr><tr><td>Something Nice Back Home</td><td>2612779</td></tr><tr><td>Man of Science, Man of Faith (Premiere)</td><td>2612250</td></tr><tr><td>Meet Kevin Johnson</td><td>2612028</td></tr><tr><td>Cabin Fever</td><td>2612028</td></tr><tr><td>Genesis</td><td>2611986</td></tr><tr><td>Confirmed Dead</td><td>2611986</td></tr><tr><td>The Beginning of the End</td><td>2611903</td></tr><tr><td>The Constant</td><td>2611569</td></tr><tr><td>The Hunting Party</td><td>2611333</td></tr><tr><td>Two for the Road</td><td>2610958</td></tr><tr><td>Through the Looking Glass, Pt. 1</td><td>2610860</td></tr><tr><td>The Other 48 Days</td><td>2610625</td></tr><tr><td>The 23rd Psalm</td><td>2610416</td></tr><tr><td>What Kate Did</td><td>2610250</td></tr><tr><td>Lockdown</td><td>2610250</td></tr><tr><td>The Whole Truth</td><td>2610125</td></tr><tr><td>Numbers</td><td>2609772</td></tr><tr><td>There's No Place Like Home, Pt. 1</td><td>2609526</td></tr><tr><td>Everybody Hates Hugo</td><td>2609192</td></tr><tr><td>Orientation</td><td>2609083</td></tr><tr><td>The Economist</td><td>2609025</td></tr><tr><td>Eggtown</td><td>2608817</td></tr><tr><td>One Giant Leap</td><td>2607649</td></tr><tr><td>Nothing to Hide</td><td>2605647</td></tr><tr><td>Exodus (Part 2) [Season Finale]</td><td>2605557</td></tr><tr><td>Collision</td><td>2605480</td></tr><tr><td>The Other Woman</td><td>2605021</td></tr><tr><td>...In Translation</td><td>2604575</td></tr><tr><td>Six Months Ago</td><td>2602852</td></tr><tr><td>Parasite</td><td>2602727</td></tr><tr><td>Run!</td><td>2602602</td></tr><tr><td>Homecoming</td><td>2601351</td></tr><tr><td>Company Man</td><td>2601226</td></tr><tr><td>Company Man</td><td>2601101</td></tr><tr><td>The Hard Part</td><td>2601017</td></tr><tr><td>Landslide</td><td>2600725</td></tr><tr><td>Fire + Water</td><td>2600333</td></tr><tr><td>The Fix</td><td>2600266</td></tr><tr><td>Unexpected</td><td>2598139</td></tr><tr><td>Fallout</td><td>2594761</td></tr><tr><td>Exposé</td><td>2593760</td></tr><tr><td>The Shape of Things to Come</td><td>2591299</td></tr><tr><td>Raised By Another</td><td>2590459</td></tr><tr><td>Distractions</td><td>2590382</td></tr><tr><td>House of the Rising Sun</td><td>2590032</td></tr><tr><td>Ji Yeon</td><td>2588797</td></tr><tr><td>Five Years Gone</td><td>2587712</td></tr><tr><td>Walkabout</td><td>2587370</td></tr><tr><td>Abandoned</td><td>2587041</td></tr><tr><td>.07%</td><td>2585794</td></tr><tr><td>There's No Place Like Home, Pt. 3</td><td>2582957</td></tr><tr><td>Deus Ex Machina</td><td>2582009</td></tr><tr><td>Better Halves</td><td>2573031</td></tr><tr><td>White Rabbit</td><td>2571965</td></tr><tr><td>Don't Look Back</td><td>2571154</td></tr><tr><td>Adrift</td><td>2564958</td></tr><tr><td>Collision</td><td>2564916</td></tr><tr><td>Further Instructions</td><td>2563980</td></tr><tr><td>A Measure of Salvation</td><td>2563938</td></tr><tr><td>...And Found</td><td>2563833</td></tr><tr><td>Catch-22</td><td>2561394</td></tr><tr><td>All the Best Cowboys Have Daddy Issues</td><td>2555492</td></tr><tr><td>Lost (Pilot, Part 1) [premiere]</td><td>2548875</td></tr><tr><td>The Job</td><td>2541875</td></tr><tr><td>Hiros</td><td>2533575</td></tr><tr><td>A Benihana Christmas, Pts. 1 & 2</td><td>2519436</td></tr><tr><td>Homecoming</td><td>2515882</td></tr><tr><td>There's No Place Like Home, Pt. 2</td><td>2497956</td></tr><tr><td>Past, Present, and Future</td><td>2492867</td></tr><tr><td>Pilot</td><td>2484567</td></tr><tr><td>Live Together, Die Alone, Pt. 1</td><td>2478041</td></tr><tr><td>Lost (Pilot, Part 2)</td><td>2436583</td></tr><tr><td>Branch Closing</td><td>1822781</td></tr><tr><td>Branch Closing</td><td>1814855</td></tr><tr><td>The Merger</td><td>1801926</td></tr><tr><td>The Negotiation</td><td>1767851</td></tr><tr><td>Women's Appreciation</td><td>1732649</td></tr><tr><td>Casino Night - Season Finale</td><td>1712791</td></tr><tr><td>The Return</td><td>1705080</td></tr><tr><td>Producer's Cut: The Return</td><td>1700241</td></tr><tr><td>Beach Games</td><td>1676134</td></tr><tr><td>Dazed And Confused</td><td>1612329</td></tr><tr><td>The Office: An American Workplace (Pilot)</td><td>1380833</td></tr><tr><td>Email Surveillance</td><td>1328870</td></tr><tr><td>Gay Witch Hunt</td><td>1326534</td></tr><tr><td>Hot Girl</td><td>1325458</td></tr><tr><td>Basketball</td><td>1323541</td></tr><tr><td>Health Care</td><td>1321791</td></tr><tr><td>The Fight</td><td>1320028</td></tr><tr><td>The Alliance</td><td>1317125</td></tr><tr><td>Halloween</td><td>1315333</td></tr><tr><td>Diversity Day</td><td>1306416</td></tr><tr><td>Business School</td><td>1302093</td></tr><tr><td>The Client</td><td>1299341</td></tr><tr><td>The Convention</td><td>1297213</td></tr><tr><td>Sexual Harassment</td><td>1294541</td></tr><tr><td>Performance Review</td><td>1292458</td></tr><tr><td>Office Olympics</td><td>1290458</td></tr><tr><td>Traveling Salesmen</td><td>1289039</td></tr><tr><td>The Fire</td><td>1288166</td></tr><tr><td>Grief Counseling</td><td>1282615</td></tr><tr><td>Christmas Party</td><td>1282115</td></tr><tr><td>The Initiation</td><td>1280113</td></tr><tr><td>Diwali</td><td>1279904</td></tr><tr><td>Drug Testing</td><td>1278625</td></tr><tr><td>Boys and Girls</td><td>1278333</td></tr><tr><td>Dwight's Speech</td><td>1278041</td></tr><tr><td>The Coup</td><td>1276526</td></tr><tr><td>The Injury</td><td>1275275</td></tr><tr><td>Conflict Resolution</td><td>1274583</td></tr><tr><td>The Convict</td><td>1273064</td></tr><tr><td>Cocktails</td><td>1272522</td></tr><tr><td>Ben Franklin</td><td>1271938</td></tr><tr><td>Back from Vacation</td><td>1271688</td></tr><tr><td>Phyllis's Wedding</td><td>1271521</td></tr><tr><td>Safety Training</td><td>1271229</td></tr><tr><td>Valentine's Day</td><td>1270375</td></tr><tr><td>Take Your Daughter to Work Day</td><td>1268333</td></tr><tr><td>Product Recall</td><td>1268268</td></tr><tr><td>Booze Cruise</td><td>1267958</td></tr><tr><td>The Secret</td><td>1264875</td></tr><tr><td>The Carpet</td><td>1264375</td></tr><tr><td>The Dundies</td><td>1253541</td></tr><tr><td>Michael's Birthday</td><td>1237791</td></tr><tr><td>Space Truckin'</td><td>1196094</td></tr><tr><td>Dazed And Confused</td><td>1116734</td></tr><tr><td>We've Got To Get Together/Jingo</td><td>1070027</td></tr></tbody></table></div>"
      ]
     },
     "metadata": {
      "application/vnd.databricks.v1+output": {
       "addedWidgets": {},
       "aggData": [],
       "aggError": "",
       "aggOverflow": false,
       "aggSchema": [],
       "aggSeriesLimitReached": false,
       "aggType": "",
       "arguments": {},
       "columnCustomDisplayInfos": {},
       "data": [
        [
         "Funky Piano",
         "934791"
        ],
        [
         "Going Down / Highway Star",
         "913658"
        ],
        [
         "My Funny Valentine (Live)",
         "907520"
        ],
        [
         "Santana Jam",
         "882834"
        ],
        [
         "The Sun Road",
         "880640"
        ],
        [
         "Whole Lotta Love",
         "863895"
        ],
        [
         "Mistreated (Alternate Version)",
         "854700"
        ],
        [
         "Just Ain't Good Enough",
         "850259"
        ],
        [
         "Miles Runs The Voodoo Down",
         "843964"
        ],
        [
         "Whole Lotta Love (Medley)",
         "825103"
        ],
        [
         "Rime of the Ancient Mariner",
         "816509"
        ],
        [
         "Walkin'",
         "807392"
        ],
        [
         "You Fool No One",
         "804101"
        ],
        [
         "Rime Of The Ancient Mariner",
         "789472"
        ],
        [
         "Moby Dick",
         "766354"
        ],
        [
         "You Fool No One (Alternate Version)",
         "763924"
        ],
        [
         "Mistreated",
         "758648"
        ],
        [
         "No Quarter",
         "749897"
        ],
        [
         "The Calling",
         "747755"
        ],
        [
         "El Corazon Manda",
         "713534"
        ],
        [
         "How Many More Times",
         "711836"
        ],
        [
         "The End",
         "701831"
        ],
        [
         "Sign Of The Cross",
         "678008"
        ],
        [
         "Advance Romance",
         "677694"
        ],
        [
         "Reach Down",
         "672773"
        ],
        [
         "Mercyful Fate",
         "671712"
        ],
        [
         "Xanadu",
         "667428"
        ],
        [
         "In My Time Of Dying",
         "666017"
        ],
        [
         "I Heard It Through The Grapevine",
         "664894"
        ],
        [
         "Outbreak",
         "659226"
        ],
        [
         "Stairway To Heaven",
         "657293"
        ],
        [
         "Sign Of The Cross",
         "649116"
        ],
        [
         "Sleeping Village",
         "644571"
        ],
        [
         "Fried Neckbones And Home Fries",
         "638563"
        ],
        [
         "Carouselambra",
         "634435"
        ],
        [
         "La Puesta Del Sol",
         "628062"
        ],
        [
         "Achilles Last Stand",
         "625502"
        ],
        [
         "Child In Time",
         "620460"
        ],
        [
         "You Shook Me(2)",
         "619467"
        ],
        [
         "The Way You Do To Mer",
         "618344"
        ],
        [
         "Smoke On The Water",
         "618031"
        ],
        [
         "Revolution 1993",
         "616829"
        ],
        [
         "Coma",
         "616511"
        ],
        [
         "Child In Time (Son Of Aleric - Instrumental)",
         "602880"
        ],
        [
         "Adagio for Strings from the String Quartet, Op. 11",
         "596519"
        ],
        [
         "Seventh Son of a Seventh Son",
         "593580"
        ],
        [
         "Jingo",
         "592953"
        ],
        [
         "The Angel And The Gambler",
         "592744"
        ],
        [
         "All I Want Is You",
         "591986"
        ],
        [
         "Talkin' 'Bout Women Obviously",
         "589531"
        ],
        [
         "The Outlaw Torn",
         "588721"
        ],
        [
         "To Live Is To Die",
         "588564"
        ],
        [
         "...And Justice For All",
         "585769"
        ],
        [
         "Book of Hours",
         "583366"
        ],
        [
         "Stratus",
         "582086"
        ],
        [
         "The Messiah: Behold, I Tell You a Mystery... The Trumpet Shall Sound",
         "582029"
        ],
        [
         "Dream Of Mirrors",
         "578324"
        ],
        [
         "La Villa Strangiato",
         "577488"
        ],
        [
         "Blind Curve: Vocal Under A Bloodlight / Passing Strangers / Mylo / Perimeter Walk / Threshold",
         "569704"
        ],
        [
         "\"Symphony No. 3 Op. 36 for Orchestra and Soprano \"\"Symfonia Piesni Zalosnych\"\" \\ Lento E Largo - Tranquillissimo\"",
         "567494"
        ],
        [
         "Tea For One",
         "566752"
        ],
        [
         "For the Greater Good of God",
         "564893"
        ],
        [
         "So What",
         "564009"
        ],
        [
         "Estranged",
         "563800"
        ],
        [
         "The Legacy",
         "562966"
        ],
        [
         "Symphonie Fantastique, Op. 14: V. Songe d'une nuit du sabbat",
         "561967"
        ],
        [
         "Dream Of Mirrors",
         "561162"
        ],
        [
         "Concerto for Piano No. 2 in F Minor, Op. 21: II. Larghetto",
         "560342"
        ],
        [
         "The Clansman",
         "559203"
        ],
        [
         "Homecoming / The Death Of St. Jimmy / East 12th St. / Nobody Likes You / Rock And Roll Girlfriend / We're Coming Home Again",
         "558602"
        ],
        [
         "No More Tears",
         "555075"
        ],
        [
         "Iron Man/Children of the Grave",
         "552308"
        ],
        [
         "Falling in Circles",
         "549093"
        ],
        [
         "Jesus Of Suburbia / City Of The Damned / I Don't Care / Dearly Beloved / Tales Of Another Broken Home",
         "548336"
        ],
        [
         "The Nomad",
         "546115"
        ],
        [
         "Release",
         "546063"
        ],
        [
         "Tuesday's Gone",
         "545750"
        ],
        [
         "Scheherazade, Op. 35: I. The Sea and Sindbad's Ship",
         "545203"
        ],
        [
         "Someday My Prince Will Come",
         "544078"
        ],
        [
         "Faroeste Caboclo",
         "543007"
        ],
        [
         "The Clansman",
         "539689"
        ],
        [
         "November Rain",
         "537540"
        ],
        [
         "The Call Of Ktulu",
         "534883"
        ],
        [
         "Chaos-Control",
         "529841"
        ],
        [
         "Just Another Story",
         "529684"
        ],
        [
         "Stairway To Heaven",
         "529658"
        ],
        [
         "Occupation / Precipice",
         "5286953"
        ],
        [
         "Riviera Paradise",
         "528692"
        ],
        [
         "She Wears Black",
         "528666"
        ],
        [
         "All Within My Hands",
         "527986"
        ],
        [
         "In The Light",
         "526785"
        ],
        [
         "On the Beautiful Blue Danube",
         "526696"
        ],
        [
         "Black Light Syndrome",
         "526471"
        ],
        [
         "Brighter Than a Thousand Suns",
         "526255"
        ],
        [
         "Whistle Stop",
         "526132"
        ],
        [
         "Locomotive",
         "522396"
        ],
        [
         "Jupiter, the Bringer of Jollity",
         "522099"
        ],
        [
         "By-Tor And The Snow Dog",
         "519888"
        ],
        [
         "A E O Z",
         "518556"
        ],
        [
         "Dance Of Death",
         "516649"
        ],
        [
         "Alexander the Great",
         "515631"
        ],
        [
         "War Pigs",
         "515435"
        ],
        [
         "Master Of Puppets",
         "515239"
        ],
        [
         "Year to the Day",
         "514612"
        ],
        [
         "Won't Get Fooled Again (Full Length Version)",
         "513750"
        ],
        [
         "Dark Corners",
         "513541"
        ],
        [
         "Blow Your Mind",
         "512339"
        ],
        [
         "Invisible Kid",
         "510197"
        ],
        [
         "The Alchemist",
         "509413"
        ],
        [
         "Through a Looking Glass",
         "5088838"
        ],
        [
         "Kashmir",
         "508604"
        ],
        [
         "Paschendale",
         "508107"
        ],
        [
         "How Many More Times",
         "508055"
        ],
        [
         "The Thin Line Between Love & Hate",
         "506801"
        ],
        [
         "Where The River Goes",
         "505991"
        ],
        [
         "Rain Song",
         "505808"
        ],
        [
         "Some Kind Of Monster",
         "505626"
        ],
        [
         "Title Song",
         "505521"
        ],
        [
         "Miserere mei, Deus",
         "501503"
        ],
        [
         "Fools",
         "500427"
        ],
        [
         "Orion",
         "500062"
        ],
        [
         "Bleeding Me",
         "497998"
        ],
        [
         "LOST In 8:15",
         "497163"
        ],
        [
         "Disposable Heroes",
         "496718"
        ],
        [
         "Sir Psycho Sexy",
         "496692"
        ],
        [
         "Fixxxer",
         "496065"
        ],
        [
         "Iron Maiden",
         "494602"
        ],
        [
         "Wheels Of Confusion / The Straightener",
         "494524"
        ],
        [
         "Book Of Thel",
         "494393"
        ],
        [
         "The Real Thing",
         "493635"
        ],
        [
         "Concerto for Violin, Strings and Continuo in G Major, Op. 3, No. 9: I. Allegro",
         "493573"
        ],
        [
         "You Oughta Know (Alternate)",
         "491885"
        ],
        [
         "The Unbeliever",
         "490422"
        ],
        [
         "Petits Machins (Little Stuff)",
         "487392"
        ],
        [
         "Steal Away (The Night)",
         "485720"
        ],
        [
         "Don't Look To The Eyes Of A Stranger",
         "483657"
        ],
        [
         "Concerto for Cello and Orchestra in E minor, Op. 85: I. Adagio - Moderato",
         "483133"
        ],
        [
         "Terra",
         "482429"
        ],
        [
         "Stairway To Heaven",
         "481619"
        ],
        [
         "Out Of Control",
         "479242"
        ],
        [
         "Flight Of The Rat",
         "478302"
        ],
        [
         "The Evil That Men Do",
         "478145"
        ],
        [
         "Bye Bye Blackbird",
         "476003"
        ],
        [
         "Evil Ways",
         "475402"
        ],
        [
         "Running Free",
         "474017"
        ],
        [
         "Nefertiti",
         "473495"
        ],
        [
         "Aeroplane Flies High",
         "473391"
        ],
        [
         "Old Love",
         "472920"
        ],
        [
         "Loverman",
         "472764"
        ],
        [
         "Hallowed Be Thy Name",
         "471849"
        ],
        [
         "Am I Evil?",
         "470256"
        ],
        [
         "Come Back",
         "469968"
        ],
        [
         "The Longest Day",
         "467810"
        ],
        [
         "Suicide Solution (With Guitar Solo)",
         "467069"
        ],
        [
         "War Pigs",
         "464770"
        ],
        [
         "Smoke On The Water",
         "464378"
        ],
        [
         "The Frayed Ends Of Sanity",
         "464039"
        ],
        [
         "Once",
         "462837"
        ],
        [
         "Civil War",
         "461165"
        ],
        [
         "Us And Them",
         "461035"
        ],
        [
         "Fear Of The Dark",
         "460695"
        ],
        [
         "Wiser Time",
         "459990"
        ],
        [
         "The Rain Song",
         "459180"
        ],
        [
         "Low Man's Lyric",
         "457639"
        ],
        [
         "Snoopy's search-Red baron",
         "456071"
        ],
        [
         "Powerslave",
         "454974"
        ],
        [
         "Burn",
         "453955"
        ],
        [
         "País Tropical",
         "452519"
        ],
        [
         "Sometimes I Feel Like Screaming",
         "451840"
        ],
        [
         "Hallowed Be Thy Name",
         "451422"
        ],
        [
         "Heaven Can Wait",
         "448574"
        ],
        [
         "Hallowed Be Thy Name",
         "447791"
        ],
        [
         "Duende",
         "447582"
        ],
        [
         "One",
         "446484"
        ],
        [
         "Caught Somewhere in Time",
         "445779"
        ],
        [
         "To Tame A Land",
         "445283"
        ],
        [
         "Lord of Light",
         "444614"
        ],
        [
         "No More Tears",
         "444358"
        ],
        [
         "Since I've Been Loving You",
         "444055"
        ],
        [
         "Hallowed Be Thy Name",
         "443977"
        ],
        [
         "Fortunes Of War",
         "443977"
        ],
        [
         "The Reincarnation of Benjamin Breeg",
         "442106"
        ],
        [
         "Lazy",
         "442096"
        ],
        [
         "No More Lies",
         "441782"
        ],
        [
         "Heaven Can Wait",
         "441417"
        ],
        [
         "St. Anger",
         "441234"
        ],
        [
         "Phantom Of The Opera",
         "441155"
        ],
        [
         "Heaven Can Wait",
         "440555"
        ],
        [
         "River Song",
         "439510"
        ],
        [
         "Leave",
         "437968"
        ],
        [
         "Fear Of The Dark",
         "436976"
        ],
        [
         "Sozinho (Hitmakers Classic Mix)",
         "436636"
        ],
        [
         "Master Of Puppets",
         "436453"
        ],
        [
         "Blood Brothers",
         "435513"
        ],
        [
         "Blood Brothers",
         "434442"
        ],
        [
         "Stone Crazy",
         "433397"
        ],
        [
         "The Four Horsemen",
         "433188"
        ],
        [
         "Fear Of The Dark",
         "431542"
        ],
        [
         "Fear Of The Dark",
         "431333"
        ],
        [
         "Hallowed Be Thy Name (Live) [Non Album Bonus Track]",
         "431262"
        ],
        [
         "Hard Lovin' Man",
         "431203"
        ],
        [
         "Victim Of Change (Live)",
         "430942"
        ],
        [
         "Layla",
         "430733"
        ],
        [
         "Shoot Me Again",
         "430210"
        ],
        [
         "The Unnamed Feeling",
         "429479"
        ],
        [
         "Hallowed Be Thy Name",
         "428669"
        ],
        [
         "Inside Job",
         "428643"
        ],
        [
         "Light My Fire",
         "428329"
        ],
        [
         "05 - Phantom of the Opera",
         "428016"
        ],
        [
         "When The Levee Breaks",
         "427702"
        ],
        [
         "Journeyman",
         "427023"
        ],
        [
         "Time",
         "425195"
        ],
        [
         "Breakdown",
         "424960"
        ],
        [
         "Knocking At Your Back Door",
         "424829"
        ],
        [
         "Otay",
         "423653"
        ],
        [
         "Scam",
         "422321"
        ],
        [
         "Voce Nao Entende Nada - Cotidiano",
         "421982"
        ],
        [
         "A Bencao E Outros",
         "421093"
        ],
        [
         "No Quarter",
         "420493"
        ],
        [
         "Snowblind",
         "420022"
        ],
        [
         "Lemon",
         "418324"
        ],
        [
         "Rehab (Hot Chip Remix)",
         "418293"
        ],
        [
         "Phantom Of The Opera",
         "418168"
        ],
        [
         "Afraid To Shoot Strangers",
         "416496"
        ],
        [
         "Since I've Been Loving You",
         "416365"
        ],
        [
         "Seek & Destroy",
         "415817"
        ],
        [
         "Black",
         "415712"
        ],
        [
         "No No No",
         "414902"
        ],
        [
         "Fade To Black",
         "414824"
        ],
        [
         "Four Walled World",
         "414474"
        ],
        [
         "Where The Wild Things Are",
         "414380"
        ],
        [
         "Norwegian Wood",
         "413910"
        ],
        [
         "Afraid To Shoot Strangers",
         "412525"
        ],
        [
         "These Colours Don't Run",
         "412152"
        ],
        [
         "Wellington's Victory or the Battle Symphony, Op.91: 2. Symphony of Triumph",
         "412000"
        ],
        [
         "In The Evening",
         "410566"
        ],
        [
         "Se Liga",
         "410409"
        ],
        [
         "Ghost Of The Navigator",
         "410070"
        ],
        [
         "Samba Da Bênção",
         "409965"
        ],
        [
         "You Sent Me Flying / Cherry",
         "409906"
        ],
        [
         "My Friend Of Misery",
         "409547"
        ],
        [
         "Revelations",
         "408607"
        ],
        [
         "Ghost Of The Navigator",
         "408607"
        ],
        [
         "Down by the Sea",
         "408163"
        ],
        [
         "Afraid To Shoot Strangers",
         "407980"
        ],
        [
         "Powerslave",
         "407823"
        ],
        [
         "Daughter",
         "407484"
        ],
        [
         "Paradise City",
         "406347"
        ],
        [
         "Karelia Suite, Op.11: 2. Ballade (Tempo Di Menuetto)",
         "406000"
        ],
        [
         "Blue Train",
         "405028"
        ],
        [
         "The Educated Fool",
         "404767"
        ],
        [
         "Girl From A Pawnshop",
         "404688"
        ],
        [
         "Third Stone From The Sun",
         "404453"
        ],
        [
         "Computadores Fazem Arte",
         "404323"
        ],
        [
         "Wherever I May Roam",
         "404323"
        ],
        [
         "The Small Hours",
         "403435"
        ],
        [
         "Blackened",
         "403382"
        ],
        [
         "Jerusalem",
         "402390"
        ],
        [
         "Dazed and Confused",
         "401920"
        ],
        [
         "Babe I'm Gonna Leave You",
         "401475"
        ],
        [
         "Terra",
         "401319"
        ],
        [
         "Soot & Stars",
         "399986"
        ],
        [
         "The Edge Of Darkness",
         "399333"
        ],
        [
         "The House Jack Built",
         "398942"
        ],
        [
         "Jizzlobber",
         "398341"
        ],
        [
         "Helpless",
         "398315"
        ],
        [
         "Thank You",
         "398262"
        ],
        [
         "Still Of The Night",
         "398210"
        ],
        [
         "Ride The Lightning",
         "397740"
        ],
        [
         "Astronomy",
         "397531"
        ],
        [
         "Creeping Death",
         "396878"
        ],
        [
         "Deep Waters",
         "396460"
        ],
        [
         "Save Me (Remix)",
         "396303"
        ],
        [
         "The Thing That Should Not Be",
         "396199"
        ],
        [
         "King For A Day",
         "395859"
        ],
        [
         "22 Acacia Avenue",
         "395572"
        ],
        [
         "The Unforgiven II",
         "395520"
        ],
        [
         "The Shortest Straw",
         "395389"
        ],
        [
         "Concerto for Clarinet in A Major, K. 622: II. Adagio",
         "394482"
        ],
        [
         "Wicked Ways",
         "393691"
        ],
        [
         "Greetings from Earth, Pt. 1",
         "2960293"
        ],
        [
         "The Man With Nine Lives",
         "2956998"
        ],
        [
         "Battlestar Galactica, Pt. 2",
         "2956081"
        ],
        [
         "Battlestar Galactica, Pt. 1",
         "2952702"
        ],
        [
         "Murder On the Rising Star",
         "2935894"
        ],
        [
         "Battlestar Galactica, Pt. 3",
         "2927802"
        ],
        [
         "Take the Celestra",
         "2927677"
        ],
        [
         "Fire In Space",
         "2926593"
        ],
        [
         "The Long Patrol",
         "2925008"
        ],
        [
         "The Magnificent Warriors",
         "2924716"
        ],
        [
         "The Living Legend, Pt. 1",
         "2924507"
        ],
        [
         "The Gun On Ice Planet Zero, Pt. 2",
         "2924341"
        ],
        [
         "The Hand of God",
         "2924007"
        ],
        [
         "Experiment In Terra",
         "2923548"
        ],
        [
         "War of the Gods, Pt. 2",
         "2923381"
        ],
        [
         "The Living Legend, Pt. 2",
         "2923298"
        ],
        [
         "War of the Gods, Pt. 1",
         "2922630"
        ],
        [
         "Lost Planet of the Gods, Pt. 1",
         "2922547"
        ],
        [
         "Baltar's Escape",
         "2922088"
        ],
        [
         "The Lost Warrior",
         "2920045"
        ],
        [
         "Lost Planet of the Gods, Pt. 2",
         "2914664"
        ],
        [
         "The Gun On Ice Planet Zero, Pt. 1",
         "2907615"
        ],
        [
         "Greetings from Earth, Pt. 2",
         "2903778"
        ],
        [
         "Crossroads, Pt. 2",
         "2869953"
        ],
        [
         "The Young Lords",
         "2863571"
        ],
        [
         "Dave",
         "2825166"
        ],
        [
         "\"\"\"?\"\"\"",
         "2782333"
        ],
        [
         "Maternity Leave",
         "2780416"
        ],
        [
         "Three Minutes",
         "2763666"
        ],
        [
         "Hero",
         "2713755"
        ],
        [
         "One of Them",
         "2698791"
        ],
        [
         "How to Stop an Exploding Man",
         "2687103"
        ],
        [
         "The Long Con",
         "2679583"
        ],
        [
         "Live Together, Die Alone, Pt. 2",
         "2656531"
        ],
        [
         "S.O.S.",
         "2639541"
        ],
        [
         "One of Us",
         "2638096"
        ],
        [
         "The Man from Tallahassee",
         "2637637"
        ],
        [
         "The Cost of Living",
         "2637500"
        ],
        [
         "The Glass Ballerina",
         "2637458"
        ],
        [
         "Every Man for Himself",
         "2637387"
        ],
        [
         "Not In Portland",
         "2637345"
        ],
        [
         "Not In Portland",
         "2637303"
        ],
        [
         "A Tale of Two Cities",
         "2636970"
        ],
        [
         "Flashes Before Your Eyes",
         "2636636"
        ],
        [
         "Stranger In a Strange Land",
         "2636428"
        ],
        [
         "Left Behind",
         "2635343"
        ],
        [
         "Tricia Tanaka Is Dead",
         "2635010"
        ],
        [
         "Lost Survival Guide",
         "2632590"
        ],
        [
         "The Moth",
         "2631327"
        ],
        [
         "Torn",
         "2631291"
        ],
        [
         "Par Avion",
         "2629879"
        ],
        [
         "Enter 77",
         "2629796"
        ],
        [
         "Dirty Hands",
         "2627961"
        ],
        [
         "I Do",
         "2627791"
        ],
        [
         "Tabula Rasa",
         "2627105"
        ],
        [
         "Collaborators",
         "2626626"
        ],
        [
         "The Woman King",
         "2626376"
        ],
        [
         "Rapture",
         "2624541"
        ],
        [
         "Taking a Break from All Your Worries",
         "2624207"
        ],
        [
         "The Passage",
         "2623875"
        ],
        [
         "Crossroads, Pt. 1",
         "2622622"
        ],
        [
         "Maelstrom",
         "2622372"
        ],
        [
         "Battlestar Galactica: The Story So Far",
         "2622250"
        ],
        [
         "Unfinished Business",
         "2622038"
        ],
        [
         "The Son Also Rises",
         "2621830"
        ],
        [
         "Exodus, Pt. 1",
         "2621708"
        ],
        [
         "Exodus (Part 1)",
         "2620747"
        ],
        [
         "A Day In the Life",
         "2620245"
        ],
        [
         "Outlaws",
         "2619887"
        ],
        [
         "Exodus (Part 3) [Season Finale]",
         "2619869"
        ],
        [
         "Hearts and Minds",
         "2619462"
        ],
        [
         "The Eye of Jupiter",
         "2618750"
        ],
        [
         "Born to Run",
         "2618619"
        ],
        [
         "Special",
         "2618530"
        ],
        [
         "Do No Harm",
         "2618487"
        ],
        [
         "Exodus, Pt. 2",
         "2618000"
        ],
        [
         "The Greater Good",
         "2617784"
        ],
        [
         "The Brig",
         "2617325"
        ],
        [
         "Greatest Hits",
         "2617117"
        ],
        [
         "Through the Looking Glass, Pt. 2",
         "2617117"
        ],
        [
         "Whatever the Case May Be",
         "2616410"
        ],
        [
         "D.O.C.",
         "2616032"
        ],
        [
         "The Man Behind the Curtain",
         "2615990"
        ],
        [
         "Confidence Man",
         "2615244"
        ],
        [
         "Seven Minutes to Midnight",
         "2613988"
        ],
        [
         "Solitary",
         "2612894"
        ],
        [
         "Something Nice Back Home",
         "2612779"
        ],
        [
         "Man of Science, Man of Faith (Premiere)",
         "2612250"
        ],
        [
         "Meet Kevin Johnson",
         "2612028"
        ],
        [
         "Cabin Fever",
         "2612028"
        ],
        [
         "Genesis",
         "2611986"
        ],
        [
         "Confirmed Dead",
         "2611986"
        ],
        [
         "The Beginning of the End",
         "2611903"
        ],
        [
         "The Constant",
         "2611569"
        ],
        [
         "The Hunting Party",
         "2611333"
        ],
        [
         "Two for the Road",
         "2610958"
        ],
        [
         "Through the Looking Glass, Pt. 1",
         "2610860"
        ],
        [
         "The Other 48 Days",
         "2610625"
        ],
        [
         "The 23rd Psalm",
         "2610416"
        ],
        [
         "What Kate Did",
         "2610250"
        ],
        [
         "Lockdown",
         "2610250"
        ],
        [
         "The Whole Truth",
         "2610125"
        ],
        [
         "Numbers",
         "2609772"
        ],
        [
         "There's No Place Like Home, Pt. 1",
         "2609526"
        ],
        [
         "Everybody Hates Hugo",
         "2609192"
        ],
        [
         "Orientation",
         "2609083"
        ],
        [
         "The Economist",
         "2609025"
        ],
        [
         "Eggtown",
         "2608817"
        ],
        [
         "One Giant Leap",
         "2607649"
        ],
        [
         "Nothing to Hide",
         "2605647"
        ],
        [
         "Exodus (Part 2) [Season Finale]",
         "2605557"
        ],
        [
         "Collision",
         "2605480"
        ],
        [
         "The Other Woman",
         "2605021"
        ],
        [
         "...In Translation",
         "2604575"
        ],
        [
         "Six Months Ago",
         "2602852"
        ],
        [
         "Parasite",
         "2602727"
        ],
        [
         "Run!",
         "2602602"
        ],
        [
         "Homecoming",
         "2601351"
        ],
        [
         "Company Man",
         "2601226"
        ],
        [
         "Company Man",
         "2601101"
        ],
        [
         "The Hard Part",
         "2601017"
        ],
        [
         "Landslide",
         "2600725"
        ],
        [
         "Fire + Water",
         "2600333"
        ],
        [
         "The Fix",
         "2600266"
        ],
        [
         "Unexpected",
         "2598139"
        ],
        [
         "Fallout",
         "2594761"
        ],
        [
         "Exposé",
         "2593760"
        ],
        [
         "The Shape of Things to Come",
         "2591299"
        ],
        [
         "Raised By Another",
         "2590459"
        ],
        [
         "Distractions",
         "2590382"
        ],
        [
         "House of the Rising Sun",
         "2590032"
        ],
        [
         "Ji Yeon",
         "2588797"
        ],
        [
         "Five Years Gone",
         "2587712"
        ],
        [
         "Walkabout",
         "2587370"
        ],
        [
         "Abandoned",
         "2587041"
        ],
        [
         ".07%",
         "2585794"
        ],
        [
         "There's No Place Like Home, Pt. 3",
         "2582957"
        ],
        [
         "Deus Ex Machina",
         "2582009"
        ],
        [
         "Better Halves",
         "2573031"
        ],
        [
         "White Rabbit",
         "2571965"
        ],
        [
         "Don't Look Back",
         "2571154"
        ],
        [
         "Adrift",
         "2564958"
        ],
        [
         "Collision",
         "2564916"
        ],
        [
         "Further Instructions",
         "2563980"
        ],
        [
         "A Measure of Salvation",
         "2563938"
        ],
        [
         "...And Found",
         "2563833"
        ],
        [
         "Catch-22",
         "2561394"
        ],
        [
         "All the Best Cowboys Have Daddy Issues",
         "2555492"
        ],
        [
         "Lost (Pilot, Part 1) [premiere]",
         "2548875"
        ],
        [
         "The Job",
         "2541875"
        ],
        [
         "Hiros",
         "2533575"
        ],
        [
         "A Benihana Christmas, Pts. 1 & 2",
         "2519436"
        ],
        [
         "Homecoming",
         "2515882"
        ],
        [
         "There's No Place Like Home, Pt. 2",
         "2497956"
        ],
        [
         "Past, Present, and Future",
         "2492867"
        ],
        [
         "Pilot",
         "2484567"
        ],
        [
         "Live Together, Die Alone, Pt. 1",
         "2478041"
        ],
        [
         "Lost (Pilot, Part 2)",
         "2436583"
        ],
        [
         "Branch Closing",
         "1822781"
        ],
        [
         "Branch Closing",
         "1814855"
        ],
        [
         "The Merger",
         "1801926"
        ],
        [
         "The Negotiation",
         "1767851"
        ],
        [
         "Women's Appreciation",
         "1732649"
        ],
        [
         "Casino Night - Season Finale",
         "1712791"
        ],
        [
         "The Return",
         "1705080"
        ],
        [
         "Producer's Cut: The Return",
         "1700241"
        ],
        [
         "Beach Games",
         "1676134"
        ],
        [
         "Dazed And Confused",
         "1612329"
        ],
        [
         "The Office: An American Workplace (Pilot)",
         "1380833"
        ],
        [
         "Email Surveillance",
         "1328870"
        ],
        [
         "Gay Witch Hunt",
         "1326534"
        ],
        [
         "Hot Girl",
         "1325458"
        ],
        [
         "Basketball",
         "1323541"
        ],
        [
         "Health Care",
         "1321791"
        ],
        [
         "The Fight",
         "1320028"
        ],
        [
         "The Alliance",
         "1317125"
        ],
        [
         "Halloween",
         "1315333"
        ],
        [
         "Diversity Day",
         "1306416"
        ],
        [
         "Business School",
         "1302093"
        ],
        [
         "The Client",
         "1299341"
        ],
        [
         "The Convention",
         "1297213"
        ],
        [
         "Sexual Harassment",
         "1294541"
        ],
        [
         "Performance Review",
         "1292458"
        ],
        [
         "Office Olympics",
         "1290458"
        ],
        [
         "Traveling Salesmen",
         "1289039"
        ],
        [
         "The Fire",
         "1288166"
        ],
        [
         "Grief Counseling",
         "1282615"
        ],
        [
         "Christmas Party",
         "1282115"
        ],
        [
         "The Initiation",
         "1280113"
        ],
        [
         "Diwali",
         "1279904"
        ],
        [
         "Drug Testing",
         "1278625"
        ],
        [
         "Boys and Girls",
         "1278333"
        ],
        [
         "Dwight's Speech",
         "1278041"
        ],
        [
         "The Coup",
         "1276526"
        ],
        [
         "The Injury",
         "1275275"
        ],
        [
         "Conflict Resolution",
         "1274583"
        ],
        [
         "The Convict",
         "1273064"
        ],
        [
         "Cocktails",
         "1272522"
        ],
        [
         "Ben Franklin",
         "1271938"
        ],
        [
         "Back from Vacation",
         "1271688"
        ],
        [
         "Phyllis's Wedding",
         "1271521"
        ],
        [
         "Safety Training",
         "1271229"
        ],
        [
         "Valentine's Day",
         "1270375"
        ],
        [
         "Take Your Daughter to Work Day",
         "1268333"
        ],
        [
         "Product Recall",
         "1268268"
        ],
        [
         "Booze Cruise",
         "1267958"
        ],
        [
         "The Secret",
         "1264875"
        ],
        [
         "The Carpet",
         "1264375"
        ],
        [
         "The Dundies",
         "1253541"
        ],
        [
         "Michael's Birthday",
         "1237791"
        ],
        [
         "Space Truckin'",
         "1196094"
        ],
        [
         "Dazed And Confused",
         "1116734"
        ],
        [
         "We've Got To Get Together/Jingo",
         "1070027"
        ]
       ],
       "datasetInfos": [],
       "dbfsResultPath": null,
       "isJsonSchema": true,
       "metadata": {},
       "overflow": false,
       "plotOptions": {
        "customPlotOptions": {},
        "displayType": "table",
        "pivotAggregation": null,
        "pivotColumns": null,
        "xColumns": null,
        "yColumns": null
       },
       "removedWidgets": [],
       "schema": [
        {
         "metadata": "{}",
         "name": "name",
         "type": "\"string\""
        },
        {
         "metadata": "{}",
         "name": "milliseconds",
         "type": "\"string\""
        }
       ],
       "type": "table"
      }
     },
     "output_type": "display_data"
    }
   ],
   "source": [
    "%sql\n",
    "select name, milliseconds from track where\n",
    "milliseconds > (select avg(milliseconds) as avg_track_length from track) order by milliseconds desc;"
   ]
  },
  {
   "cell_type": "markdown",
   "metadata": {
    "application/vnd.databricks.v1+cell": {
     "cellMetadata": {},
     "inputWidgets": {},
     "nuid": "edaf4171-d89d-405a-9a04-d6001793137e",
     "showTitle": false,
     "title": ""
    }
   },
   "source": [
    "## Q9: Find how much amount spent by each customer on artists? Write a query to return customer name, artist name and total spent"
   ]
  },
  {
   "cell_type": "code",
   "execution_count": 0,
   "metadata": {
    "application/vnd.databricks.v1+cell": {
     "cellMetadata": {
      "byteLimit": 2048000,
      "implicitDf": true,
      "rowLimit": 10000
     },
     "inputWidgets": {},
     "nuid": "c943806f-8f04-4c7b-9363-35535d255050",
     "showTitle": false,
     "title": ""
    }
   },
   "outputs": [
    {
     "output_type": "display_data",
     "data": {
      "text/html": [
       "<style scoped>\n",
       "  .table-result-container {\n",
       "    max-height: 300px;\n",
       "    overflow: auto;\n",
       "  }\n",
       "  table, th, td {\n",
       "    border: 1px solid black;\n",
       "    border-collapse: collapse;\n",
       "  }\n",
       "  th, td {\n",
       "    padding: 5px;\n",
       "  }\n",
       "  th {\n",
       "    text-align: left;\n",
       "  }\n",
       "</style><div class='table-result-container'><table class='table-result'><thead style='background-color: white'><tr><th>concat_ws( , first_name, last_name)</th><th>name</th><th>Invoice</th></tr></thead><tbody><tr><td>Hugh O'Reilly</td><td>Queen</td><td>27.719999999999985</td></tr><tr><td>Wyatt Girard</td><td>Frank Sinatra</td><td>23.75999999999999</td></tr><tr><td>Helena Holý</td><td>Red Hot Chili Peppers</td><td>19.799999999999997</td></tr><tr><td>Robert Brown</td><td>Creedence Clearwater Revival</td><td>19.799999999999997</td></tr><tr><td>Aaron Mitchell</td><td>James Brown</td><td>19.799999999999997</td></tr><tr><td>František Wichterlová</td><td>Kiss</td><td>19.799999999999997</td></tr><tr><td>François Tremblay</td><td>The Who</td><td>19.799999999999997</td></tr><tr><td>Hugh O'Reilly</td><td>Nirvana</td><td>18.81</td></tr><tr><td>Heather Leacock</td><td>House Of Pain</td><td>18.81</td></tr><tr><td>Niklas Schröder</td><td>Queen</td><td>18.81</td></tr><tr><td>Mark Taylor</td><td>The Clash</td><td>17.82</td></tr><tr><td>Dan Miller</td><td>Eric Clapton</td><td>17.82</td></tr><tr><td>Hugh O'Reilly</td><td>Marisa Monte</td><td>17.82</td></tr><tr><td>Luís Gonçalves</td><td>The Cult</td><td>17.82</td></tr><tr><td>François Tremblay</td><td>Queen</td><td>17.82</td></tr><tr><td>Richard Cunningham</td><td>Marvin Gaye</td><td>17.82</td></tr><tr><td>Camille Bernard</td><td>Marisa Monte</td><td>17.82</td></tr><tr><td>František Wichterlová</td><td>Eric Clapton</td><td>17.82</td></tr><tr><td>Steve Murray</td><td>AC/DC</td><td>17.82</td></tr><tr><td>Ladislav Kovács</td><td>The Cult</td><td>17.82</td></tr><tr><td>François Tremblay</td><td>Jimi Hendrix</td><td>16.830000000000002</td></tr><tr><td>Manoj Pareek</td><td>Jimi Hendrix</td><td>16.830000000000002</td></tr><tr><td>Fynn Zimmermann</td><td>Jimi Hendrix</td><td>16.830000000000002</td></tr><tr><td>Julia Barnett</td><td>Jimi Hendrix</td><td>16.830000000000002</td></tr><tr><td>Enrique Muñoz</td><td>Jimi Hendrix</td><td>16.830000000000002</td></tr><tr><td>Frank Harris</td><td>Van Halen</td><td>16.830000000000002</td></tr><tr><td>Roberto Almeida</td><td>Jimi Hendrix</td><td>16.830000000000002</td></tr><tr><td>Manoj Pareek</td><td>O Rappa</td><td>16.830000000000002</td></tr><tr><td>João Fernandes</td><td>Queen</td><td>16.830000000000002</td></tr><tr><td>Patrick Gray</td><td>Nirvana</td><td>16.830000000000002</td></tr><tr><td>João Fernandes</td><td>Jimi Hendrix</td><td>16.830000000000002</td></tr><tr><td>Joakim Johansson</td><td>Soundgarden</td><td>16.830000000000002</td></tr><tr><td>Helena Holý</td><td>Jimi Hendrix</td><td>16.830000000000002</td></tr><tr><td>Lucas Mancini</td><td>The Rolling Stones</td><td>15.840000000000002</td></tr><tr><td>Emma Jones</td><td>Red Hot Chili Peppers</td><td>15.840000000000002</td></tr><tr><td>Fynn Zimmermann</td><td>Kiss</td><td>15.840000000000002</td></tr><tr><td>Victor Stevens</td><td>Pearl Jam</td><td>15.840000000000002</td></tr><tr><td>Michelle Brooks</td><td>Guns N' Roses</td><td>15.840000000000002</td></tr><tr><td>Fernanda Ramos</td><td>Red Hot Chili Peppers</td><td>15.840000000000002</td></tr><tr><td>Luis Rojas</td><td>Red Hot Chili Peppers</td><td>14.850000000000001</td></tr><tr><td>Dominique Lefebvre</td><td>Pearl Jam</td><td>14.850000000000001</td></tr><tr><td>Mark Taylor</td><td>Aerosmith</td><td>14.850000000000001</td></tr><tr><td>Astrid Gruber</td><td>Miles Davis</td><td>14.850000000000001</td></tr><tr><td>Eduardo Martins</td><td>Metallica</td><td>14.850000000000001</td></tr><tr><td>Phil Hughes</td><td>Motörhead</td><td>14.850000000000001</td></tr><tr><td>Martha Silk</td><td>Guns N' Roses</td><td>14.850000000000001</td></tr><tr><td>Jennifer Peterson</td><td>Aerosmith</td><td>14.850000000000001</td></tr><tr><td>Hannah Schneider</td><td>Miles Davis</td><td>13.860000000000001</td></tr><tr><td>Phil Hughes</td><td>The Police</td><td>13.860000000000001</td></tr><tr><td>Helena Holý</td><td>Van Halen</td><td>13.860000000000001</td></tr><tr><td>Joakim Johansson</td><td>Guns N' Roses</td><td>13.860000000000001</td></tr><tr><td>Fernanda Ramos</td><td>Antônio Carlos Jobim</td><td>13.860000000000001</td></tr><tr><td>Heather Leacock</td><td>Green Day</td><td>13.860000000000001</td></tr><tr><td>Luís Gonçalves</td><td>Rush</td><td>13.860000000000001</td></tr><tr><td>Michelle Brooks</td><td>Os Mutantes</td><td>13.860000000000001</td></tr><tr><td>Enrique Muñoz</td><td>Miles Davis</td><td>13.860000000000001</td></tr><tr><td>Leonie Köhler</td><td>Audioslave</td><td>13.860000000000001</td></tr><tr><td>Aaron Mitchell</td><td>Chris Cornell</td><td>13.860000000000001</td></tr><tr><td>Frank Ralston</td><td>Chris Cornell</td><td>13.860000000000001</td></tr><tr><td>Alexandre Rocha</td><td>Pearl Jam</td><td>13.860000000000001</td></tr><tr><td>Terhi Hämäläinen</td><td>The Police</td><td>13.860000000000001</td></tr><tr><td>Diego Gutiérrez</td><td>Green Day</td><td>13.860000000000001</td></tr><tr><td>Luís Gonçalves</td><td>JET</td><td>12.870000000000001</td></tr><tr><td>Ellie Sullivan</td><td>Pearl Jam</td><td>12.870000000000001</td></tr><tr><td>Alexandre Rocha</td><td>JET</td><td>12.870000000000001</td></tr><tr><td>Phil Hughes</td><td>JET</td><td>12.870000000000001</td></tr><tr><td>Edward Francis</td><td>Alanis Morissette</td><td>12.870000000000001</td></tr><tr><td>Emma Jones</td><td>Alanis Morissette</td><td>12.870000000000001</td></tr><tr><td>Dominique Lefebvre</td><td>Foo Fighters</td><td>12.870000000000001</td></tr><tr><td>Fynn Zimmermann</td><td>U2</td><td>12.870000000000001</td></tr><tr><td>Johannes Van der Berg</td><td>Amy Winehouse</td><td>12.870000000000001</td></tr><tr><td>František Wichterlová</td><td>R.E.M.</td><td>12.870000000000001</td></tr><tr><td>Astrid Gruber</td><td>Nirvana</td><td>12.870000000000001</td></tr><tr><td>Manoj Pareek</td><td>JET</td><td>12.870000000000001</td></tr><tr><td>Kathy Chase</td><td>Van Halen</td><td>12.870000000000001</td></tr><tr><td>João Fernandes</td><td>Alanis Morissette</td><td>12.870000000000001</td></tr><tr><td>João Fernandes</td><td>Godsmack</td><td>11.88</td></tr><tr><td>Rishabh Mishra</td><td>The Cult</td><td>11.88</td></tr><tr><td>Victor Stevens</td><td>Alice In Chains</td><td>11.88</td></tr><tr><td>Jack Smith</td><td>Foo Fighters</td><td>11.88</td></tr><tr><td>Bjørn Hansen</td><td>Guns N' Roses</td><td>11.88</td></tr><tr><td>Dan Miller</td><td>Foo Fighters</td><td>11.88</td></tr><tr><td>Ladislav Kovács</td><td>Godsmack</td><td>11.88</td></tr><tr><td>Frank Harris</td><td>R.E.M.</td><td>11.88</td></tr><tr><td>Marc Dubois</td><td>Queen</td><td>11.88</td></tr><tr><td>Daan Peeters</td><td>Godsmack</td><td>11.88</td></tr><tr><td>Steve Murray</td><td>Stone Temple Pilots</td><td>11.88</td></tr><tr><td>Camille Bernard</td><td>Scorpions</td><td>11.88</td></tr><tr><td>Heather Leacock</td><td>Amy Winehouse</td><td>11.88</td></tr><tr><td>Fynn Zimmermann</td><td>Amy Winehouse</td><td>11.88</td></tr><tr><td>Luis Rojas</td><td>Pearl Jam</td><td>11.88</td></tr><tr><td>Wyatt Girard</td><td>Godsmack</td><td>11.88</td></tr><tr><td>Tim Goyer</td><td>The Rolling Stones</td><td>11.88</td></tr><tr><td>Richard Cunningham</td><td>Scorpions</td><td>11.88</td></tr><tr><td>Dominique Lefebvre</td><td>Scorpions</td><td>11.88</td></tr><tr><td>Jennifer Peterson</td><td>Nirvana</td><td>11.88</td></tr><tr><td>František Wichterlová</td><td>Jota Quest</td><td>11.88</td></tr><tr><td>Phil Hughes</td><td>Queen</td><td>11.88</td></tr><tr><td>Frank Harris</td><td>Godsmack</td><td>11.88</td></tr><tr><td>Victor Stevens</td><td>The Rolling Stones</td><td>11.88</td></tr><tr><td>Patrick Gray</td><td>The Doors</td><td>10.89</td></tr><tr><td>Roberto Almeida</td><td>Metallica</td><td>10.89</td></tr><tr><td>Bjørn Hansen</td><td>The Doors</td><td>10.89</td></tr><tr><td>František Wichterlová</td><td>Foo Fighters</td><td>10.89</td></tr><tr><td>Mark Taylor</td><td>System Of A Down</td><td>10.89</td></tr><tr><td>Roberto Almeida</td><td>R.E.M.</td><td>10.89</td></tr><tr><td>Lucas Mancini</td><td>Queen</td><td>10.89</td></tr><tr><td>Phil Hughes</td><td>AC/DC</td><td>10.89</td></tr><tr><td>Patrick Gray</td><td>System Of A Down</td><td>10.89</td></tr><tr><td>Kathy Chase</td><td>AC/DC</td><td>10.89</td></tr><tr><td>Ellie Sullivan</td><td>Queen</td><td>10.89</td></tr><tr><td>Stanisław Wójcik</td><td>Buddy Guy</td><td>10.89</td></tr><tr><td>Fernanda Ramos</td><td>Jamiroquai</td><td>10.89</td></tr><tr><td>Bjørn Hansen</td><td>Metallica</td><td>10.89</td></tr><tr><td>Victor Stevens</td><td>R.E.M.</td><td>10.89</td></tr><tr><td>Kathy Chase</td><td>Skank</td><td>10.89</td></tr><tr><td>Fynn Zimmermann</td><td>Iron Maiden</td><td>9.9</td></tr><tr><td>Madalena Sampaio</td><td>Iron Maiden</td><td>9.9</td></tr><tr><td>Fynn Zimmermann</td><td>Jamiroquai</td><td>9.9</td></tr><tr><td>Rishabh Mishra</td><td>Marillion</td><td>9.9</td></tr><tr><td>Stanisław Wójcik</td><td>AC/DC</td><td>9.9</td></tr><tr><td>Isabelle Mercier</td><td>Deep Purple</td><td>9.9</td></tr><tr><td>Joakim Johansson</td><td>Iron Maiden</td><td>9.9</td></tr><tr><td>Emma Jones</td><td>Pink Floyd</td><td>8.91</td></tr><tr><td>François Tremblay</td><td>Apocalyptica</td><td>7.920000000000001</td></tr><tr><td>Alexandre Rocha</td><td>Metallica</td><td>7.920000000000001</td></tr><tr><td>Luís Gonçalves</td><td>AC/DC</td><td>7.920000000000001</td></tr><tr><td>Frank Ralston</td><td>AC/DC</td><td>7.920000000000001</td></tr><tr><td>Kathy Chase</td><td>Black Sabbath</td><td>7.920000000000001</td></tr><tr><td>Frank Ralston</td><td>Black Sabbath</td><td>6.930000000000001</td></tr><tr><td>Dan Miller</td><td>Van Halen</td><td>4.95</td></tr><tr><td>Edward Francis</td><td>Eric Clapton</td><td>4.95</td></tr><tr><td>Jack Smith</td><td>U2</td><td>4.95</td></tr><tr><td>Madalena Sampaio</td><td>Jimi Hendrix</td><td>4.95</td></tr><tr><td>John Gordon</td><td>Green Day</td><td>4.95</td></tr><tr><td>František Wichterlová</td><td>Nirvana</td><td>4.95</td></tr><tr><td>Jack Smith</td><td>Amy Winehouse</td><td>4.95</td></tr><tr><td>Daan Peeters</td><td>Foo Fighters</td><td>4.95</td></tr><tr><td>Manoj Pareek</td><td>Foo Fighters</td><td>3.96</td></tr><tr><td>Isabelle Mercier</td><td>Metallica</td><td>3.96</td></tr><tr><td>Manoj Pareek</td><td>The Rolling Stones</td><td>3.96</td></tr><tr><td>Niklas Schröder</td><td>Amy Winehouse</td><td>3.96</td></tr><tr><td>Bjørn Hansen</td><td>System Of A Down</td><td>3.96</td></tr><tr><td>Luis Rojas</td><td>Green Day</td><td>3.96</td></tr><tr><td>John Gordon</td><td>The Who</td><td>3.96</td></tr><tr><td>Julia Barnett</td><td>R.E.M.</td><td>3.96</td></tr><tr><td>Terhi Hämäläinen</td><td>The Clash</td><td>3.96</td></tr><tr><td>Isabelle Mercier</td><td>Led Zeppelin</td><td>3.96</td></tr><tr><td>Michelle Brooks</td><td>Pearl Jam</td><td>3.96</td></tr><tr><td>František Wichterlová</td><td>Queen</td><td>3.96</td></tr><tr><td>Hannah Schneider</td><td>Metallica</td><td>3.96</td></tr><tr><td>Enrique Muñoz</td><td>Frank Sinatra</td><td>3.96</td></tr><tr><td>Jack Smith</td><td>Def Leppard</td><td>3.96</td></tr><tr><td>François Tremblay</td><td>Black Sabbath</td><td>3.96</td></tr><tr><td>Enrique Muñoz</td><td>Foo Fighters</td><td>3.96</td></tr><tr><td>Bjørn Hansen</td><td>Van Halen</td><td>3.96</td></tr><tr><td>Wyatt Girard</td><td>Amy Winehouse</td><td>3.96</td></tr><tr><td>Martha Silk</td><td>Red Hot Chili Peppers</td><td>3.96</td></tr><tr><td>Julia Barnett</td><td>The Doors</td><td>3.96</td></tr><tr><td>Marc Dubois</td><td>Amy Winehouse</td><td>3.96</td></tr><tr><td>Martha Silk</td><td>AC/DC</td><td>3.96</td></tr><tr><td>Ellie Sullivan</td><td>The Rolling Stones</td><td>3.96</td></tr><tr><td>Luis Rojas</td><td>Guns N' Roses</td><td>3.96</td></tr><tr><td>Jack Smith</td><td>Metallica</td><td>3.96</td></tr><tr><td>Kara Nielsen</td><td>Jamiroquai</td><td>3.96</td></tr><tr><td>Terhi Hämäläinen</td><td>Jimi Hendrix</td><td>3.96</td></tr><tr><td>Dan Miller</td><td>Red Hot Chili Peppers</td><td>3.96</td></tr><tr><td>Dan Miller</td><td>Queen</td><td>3.96</td></tr><tr><td>Jack Smith</td><td>Nirvana</td><td>3.96</td></tr><tr><td>Dan Miller</td><td>The Who</td><td>3.96</td></tr><tr><td>Manoj Pareek</td><td>Iron Maiden</td><td>3.96</td></tr><tr><td>Hannah Schneider</td><td>U2</td><td>3.96</td></tr><tr><td>Victor Stevens</td><td>The Clash</td><td>3.96</td></tr><tr><td>Isabelle Mercier</td><td>Green Day</td><td>3.96</td></tr><tr><td>Heather Leacock</td><td>Guns N' Roses</td><td>3.96</td></tr><tr><td>Edward Francis</td><td>Led Zeppelin</td><td>2.9699999999999998</td></tr><tr><td>Bjørn Hansen</td><td>JET</td><td>2.9699999999999998</td></tr><tr><td>Jack Smith</td><td>Red Hot Chili Peppers</td><td>2.9699999999999998</td></tr><tr><td>Daan Peeters</td><td>R.E.M.</td><td>2.9699999999999998</td></tr><tr><td>Jack Smith</td><td>Led Zeppelin</td><td>2.9699999999999998</td></tr><tr><td>Victor Stevens</td><td>Eric Clapton</td><td>2.9699999999999998</td></tr><tr><td>Steve Murray</td><td>Pearl Jam</td><td>2.9699999999999998</td></tr><tr><td>Hannah Schneider</td><td>System Of A Down</td><td>2.9699999999999998</td></tr><tr><td>František Wichterlová</td><td>System Of A Down</td><td>2.9699999999999998</td></tr><tr><td>Steve Murray</td><td>Jimi Hendrix</td><td>2.9699999999999998</td></tr><tr><td>Hannah Schneider</td><td>Black Sabbath</td><td>2.9699999999999998</td></tr><tr><td>Kara Nielsen</td><td>Gilberto Gil</td><td>2.9699999999999998</td></tr><tr><td>Terhi Hämäläinen</td><td>AC/DC</td><td>2.9699999999999998</td></tr><tr><td>Kathy Chase</td><td>Led Zeppelin</td><td>2.9699999999999998</td></tr><tr><td>Fynn Zimmermann</td><td>System Of A Down</td><td>2.9699999999999998</td></tr><tr><td>Kathy Chase</td><td>Nirvana</td><td>2.9699999999999998</td></tr><tr><td>Richard Cunningham</td><td>Jamiroquai</td><td>2.9699999999999998</td></tr><tr><td>Manoj Pareek</td><td>Scorpions</td><td>2.9699999999999998</td></tr><tr><td>Joakim Johansson</td><td>Jimi Hendrix</td><td>2.9699999999999998</td></tr><tr><td>Dan Miller</td><td>Alice In Chains</td><td>2.9699999999999998</td></tr><tr><td>Tim Goyer</td><td>Nirvana</td><td>2.9699999999999998</td></tr><tr><td>Jack Smith</td><td>Green Day</td><td>2.9699999999999998</td></tr><tr><td>Luis Rojas</td><td>Aerosmith</td><td>2.9699999999999998</td></tr><tr><td>Wyatt Girard</td><td>AC/DC</td><td>2.9699999999999998</td></tr><tr><td>Stanisław Wójcik</td><td>U2</td><td>2.9699999999999998</td></tr><tr><td>Hugh O'Reilly</td><td>Red Hot Chili Peppers</td><td>2.9699999999999998</td></tr><tr><td>Hannah Schneider</td><td>Red Hot Chili Peppers</td><td>2.9699999999999998</td></tr><tr><td>Richard Cunningham</td><td>U2</td><td>2.9699999999999998</td></tr><tr><td>Julia Barnett</td><td>Amy Winehouse</td><td>2.9699999999999998</td></tr><tr><td>Eduardo Martins</td><td>Iron Maiden</td><td>2.9699999999999998</td></tr><tr><td>Fernanda Ramos</td><td>Alanis Morissette</td><td>2.9699999999999998</td></tr><tr><td>Leonie Köhler</td><td>The Rolling Stones</td><td>2.9699999999999998</td></tr><tr><td>Helena Holý</td><td>AC/DC</td><td>2.9699999999999998</td></tr><tr><td>Leonie Köhler</td><td>Chris Cornell</td><td>2.9699999999999998</td></tr><tr><td>Roberto Almeida</td><td>The Who</td><td>2.9699999999999998</td></tr><tr><td>Astrid Gruber</td><td>Black Label Society</td><td>2.9699999999999998</td></tr><tr><td>Julia Barnett</td><td>JET</td><td>2.9699999999999998</td></tr><tr><td>Wyatt Girard</td><td>Eric Clapton</td><td>2.9699999999999998</td></tr><tr><td>Michelle Brooks</td><td>Judas Priest</td><td>2.9699999999999998</td></tr><tr><td>Niklas Schröder</td><td>AC/DC</td><td>2.9699999999999998</td></tr><tr><td>Manoj Pareek</td><td>Rush</td><td>2.9699999999999998</td></tr><tr><td>Fernanda Ramos</td><td>Foo Fighters</td><td>2.9699999999999998</td></tr><tr><td>Madalena Sampaio</td><td>Pink Floyd</td><td>2.9699999999999998</td></tr><tr><td>Hugh O'Reilly</td><td>Rush</td><td>2.9699999999999998</td></tr><tr><td>Helena Holý</td><td>Deep Purple</td><td>2.9699999999999998</td></tr><tr><td>Luís Gonçalves</td><td>Miles Davis</td><td>2.9699999999999998</td></tr><tr><td>Hannah Schneider</td><td>Marvin Gaye</td><td>2.9699999999999998</td></tr><tr><td>Ellie Sullivan</td><td>Led Zeppelin</td><td>2.9699999999999998</td></tr><tr><td>Luís Gonçalves</td><td>Guns N' Roses</td><td>2.9699999999999998</td></tr><tr><td>Madalena Sampaio</td><td>AC/DC</td><td>2.9699999999999998</td></tr><tr><td>Eduardo Martins</td><td>Foo Fighters</td><td>2.9699999999999998</td></tr><tr><td>Mark Philips</td><td>Pink Floyd</td><td>2.9699999999999998</td></tr><tr><td>Enrique Muñoz</td><td>The Police</td><td>2.9699999999999998</td></tr><tr><td>Steve Murray</td><td>Queen</td><td>2.9699999999999998</td></tr><tr><td>Hugh O'Reilly</td><td>Ozzy Osbourne</td><td>2.9699999999999998</td></tr><tr><td>Leonie Köhler</td><td>System Of A Down</td><td>2.9699999999999998</td></tr><tr><td>Helena Holý</td><td>Iron Maiden</td><td>2.9699999999999998</td></tr><tr><td>Steve Murray</td><td>The Rolling Stones</td><td>2.9699999999999998</td></tr><tr><td>Wyatt Girard</td><td>Deep Purple</td><td>2.9699999999999998</td></tr><tr><td>Julia Barnett</td><td>Black Sabbath</td><td>2.9699999999999998</td></tr><tr><td>Jack Smith</td><td>Miles Davis</td><td>2.9699999999999998</td></tr><tr><td>Ladislav Kovács</td><td>Red Hot Chili Peppers</td><td>2.9699999999999998</td></tr><tr><td>Kathy Chase</td><td>Pearl Jam</td><td>2.9699999999999998</td></tr><tr><td>Madalena Sampaio</td><td>System Of A Down</td><td>2.9699999999999998</td></tr><tr><td>Wyatt Girard</td><td>Green Day</td><td>2.9699999999999998</td></tr><tr><td>Ellie Sullivan</td><td>Guns N' Roses</td><td>2.9699999999999998</td></tr><tr><td>Bjørn Hansen</td><td>Def Leppard</td><td>2.9699999999999998</td></tr><tr><td>Ellie Sullivan</td><td>System Of A Down</td><td>2.9699999999999998</td></tr><tr><td>Astrid Gruber</td><td>Jimi Hendrix</td><td>2.9699999999999998</td></tr><tr><td>Jack Smith</td><td>The Rolling Stones</td><td>2.9699999999999998</td></tr><tr><td>Camille Bernard</td><td>Rush</td><td>2.9699999999999998</td></tr><tr><td>Leonie Köhler</td><td>The Doors</td><td>2.9699999999999998</td></tr><tr><td>Fernanda Ramos</td><td>The Who</td><td>2.9699999999999998</td></tr><tr><td>Frank Ralston</td><td>U2</td><td>2.9699999999999998</td></tr><tr><td>Terhi Hämäläinen</td><td>Pearl Jam</td><td>2.9699999999999998</td></tr><tr><td>Phil Hughes</td><td>Foo Fighters</td><td>2.9699999999999998</td></tr><tr><td>François Tremblay</td><td>Eric Clapton</td><td>2.9699999999999998</td></tr><tr><td>Hannah Schneider</td><td>Jimi Hendrix</td><td>2.9699999999999998</td></tr><tr><td>Edward Francis</td><td>Pink Floyd</td><td>2.9699999999999998</td></tr><tr><td>John Gordon</td><td>Queen</td><td>2.9699999999999998</td></tr><tr><td>Eduardo Martins</td><td>Jamiroquai</td><td>2.9699999999999998</td></tr><tr><td>John Gordon</td><td>Scorpions</td><td>2.9699999999999998</td></tr><tr><td>Isabelle Mercier</td><td>Aerosmith</td><td>2.9699999999999998</td></tr><tr><td>Tim Goyer</td><td>Creedence Clearwater Revival</td><td>2.9699999999999998</td></tr><tr><td>Johannes Van der Berg</td><td>Foo Fighters</td><td>2.9699999999999998</td></tr><tr><td>Helena Holý</td><td>The Doors</td><td>2.9699999999999998</td></tr><tr><td>Patrick Gray</td><td>Guns N' Roses</td><td>2.9699999999999998</td></tr><tr><td>Heather Leacock</td><td>The Doors</td><td>2.9699999999999998</td></tr><tr><td>Marc Dubois</td><td>Guns N' Roses</td><td>2.9699999999999998</td></tr><tr><td>Hannah Schneider</td><td>Led Zeppelin</td><td>2.9699999999999998</td></tr><tr><td>Camille Bernard</td><td>R.E.M.</td><td>2.9699999999999998</td></tr><tr><td>Joakim Johansson</td><td>Alanis Morissette</td><td>2.9699999999999998</td></tr><tr><td>Leonie Köhler</td><td>The Clash</td><td>2.9699999999999998</td></tr><tr><td>Martha Silk</td><td>The Rolling Stones</td><td>2.9699999999999998</td></tr><tr><td>Edward Francis</td><td>Iron Maiden</td><td>2.9699999999999998</td></tr><tr><td>Diego Gutiérrez</td><td>Nirvana</td><td>2.9699999999999998</td></tr><tr><td>Isabelle Mercier</td><td>The Rolling Stones</td><td>2.9699999999999998</td></tr><tr><td>Edward Francis</td><td>The Rolling Stones</td><td>2.9699999999999998</td></tr><tr><td>Astrid Gruber</td><td>Ozzy Osbourne</td><td>2.9699999999999998</td></tr><tr><td>Dan Miller</td><td>Soundgarden</td><td>2.9699999999999998</td></tr><tr><td>Julia Barnett</td><td>Red Hot Chili Peppers</td><td>2.9699999999999998</td></tr><tr><td>Eduardo Martins</td><td>System Of A Down</td><td>2.9699999999999998</td></tr><tr><td>Leonie Köhler</td><td>Eric Clapton</td><td>2.9699999999999998</td></tr><tr><td>Dominique Lefebvre</td><td>Black Sabbath</td><td>2.9699999999999998</td></tr><tr><td>Stanisław Wójcik</td><td>Red Hot Chili Peppers</td><td>2.9699999999999998</td></tr><tr><td>Kathy Chase</td><td>Pink Floyd</td><td>2.9699999999999998</td></tr><tr><td>Joakim Johansson</td><td>The Rolling Stones</td><td>2.9699999999999998</td></tr><tr><td>Kathy Chase</td><td>Metallica</td><td>2.9699999999999998</td></tr><tr><td>Martha Silk</td><td>Frank Sinatra</td><td>2.9699999999999998</td></tr><tr><td>Leonie Köhler</td><td>Kiss</td><td>2.9699999999999998</td></tr><tr><td>Helena Holý</td><td>U2</td><td>2.9699999999999998</td></tr><tr><td>Helena Holý</td><td>System Of A Down</td><td>2.9699999999999998</td></tr><tr><td>Leonie Köhler</td><td>Pearl Jam</td><td>2.9699999999999998</td></tr><tr><td>Robert Brown</td><td>Led Zeppelin</td><td>2.9699999999999998</td></tr><tr><td>Fernanda Ramos</td><td>U2</td><td>2.9699999999999998</td></tr><tr><td>Jack Smith</td><td>Creedence Clearwater Revival</td><td>2.9699999999999998</td></tr><tr><td>Edward Francis</td><td>Jamiroquai</td><td>2.9699999999999998</td></tr><tr><td>Isabelle Mercier</td><td>R.E.M.</td><td>2.9699999999999998</td></tr><tr><td>Eduardo Martins</td><td>Guns N' Roses</td><td>2.9699999999999998</td></tr><tr><td>Marc Dubois</td><td>Frank Sinatra</td><td>2.9699999999999998</td></tr><tr><td>Manoj Pareek</td><td>Alice In Chains</td><td>2.9699999999999998</td></tr><tr><td>Dominique Lefebvre</td><td>The Who</td><td>2.9699999999999998</td></tr><tr><td>Dan Miller</td><td>The Rolling Stones</td><td>2.9699999999999998</td></tr><tr><td>Dan Miller</td><td>U2</td><td>2.9699999999999998</td></tr><tr><td>Isabelle Mercier</td><td>Foo Fighters</td><td>2.9699999999999998</td></tr><tr><td>João Fernandes</td><td>Green Day</td><td>2.9699999999999998</td></tr><tr><td>Steve Murray</td><td>Green Day</td><td>2.9699999999999998</td></tr><tr><td>Fernanda Ramos</td><td>Pearl Jam</td><td>2.9699999999999998</td></tr><tr><td>Dan Miller</td><td>Nirvana</td><td>2.9699999999999998</td></tr><tr><td>Terhi Hämäläinen</td><td>The Who</td><td>2.9699999999999998</td></tr><tr><td>Mark Philips</td><td>Lenny Kravitz</td><td>2.9699999999999998</td></tr><tr><td>František Wichterlová</td><td>The Clash</td><td>2.9699999999999998</td></tr><tr><td>Luis Rojas</td><td>Nirvana</td><td>2.9699999999999998</td></tr><tr><td>Bjørn Hansen</td><td>Green Day</td><td>2.9699999999999998</td></tr><tr><td>Hannah Schneider</td><td>Green Day</td><td>2.9699999999999998</td></tr><tr><td>Phil Hughes</td><td>Pink Floyd</td><td>2.9699999999999998</td></tr><tr><td>Wyatt Girard</td><td>Alice In Chains</td><td>2.9699999999999998</td></tr><tr><td>John Gordon</td><td>R.E.M.</td><td>2.9699999999999998</td></tr><tr><td>Martha Silk</td><td>Nirvana</td><td>2.9699999999999998</td></tr><tr><td>Frank Harris</td><td>AC/DC</td><td>2.9699999999999998</td></tr><tr><td>Michelle Brooks</td><td>Amy Winehouse</td><td>2.9699999999999998</td></tr><tr><td>Frank Harris</td><td>Jamiroquai</td><td>2.9699999999999998</td></tr><tr><td>Martha Silk</td><td>Queen</td><td>2.9699999999999998</td></tr><tr><td>John Gordon</td><td>Frank Sinatra</td><td>2.9699999999999998</td></tr><tr><td>Wyatt Girard</td><td>Led Zeppelin</td><td>2.9699999999999998</td></tr><tr><td>Luís Gonçalves</td><td>Aerosmith</td><td>2.9699999999999998</td></tr><tr><td>Ladislav Kovács</td><td>Foo Fighters</td><td>2.9699999999999998</td></tr><tr><td>Eduardo Martins</td><td>The Police</td><td>2.9699999999999998</td></tr><tr><td>Heather Leacock</td><td>Led Zeppelin</td><td>1.98</td></tr><tr><td>Lucas Mancini</td><td>Led Zeppelin</td><td>1.98</td></tr><tr><td>Niklas Schröder</td><td>Led Zeppelin</td><td>1.98</td></tr><tr><td>Johannes Van der Berg</td><td>Jimi Hendrix</td><td>1.98</td></tr><tr><td>Stanisław Wójcik</td><td>Black Sabbath</td><td>1.98</td></tr><tr><td>Marc Dubois</td><td>Van Halen</td><td>1.98</td></tr><tr><td>Joakim Johansson</td><td>The Police</td><td>1.98</td></tr><tr><td>Johannes Van der Berg</td><td>The Rolling Stones</td><td>1.98</td></tr><tr><td>Johannes Van der Berg</td><td>Eric Clapton</td><td>1.98</td></tr><tr><td>Hugh O'Reilly</td><td>Metallica</td><td>1.98</td></tr><tr><td>Richard Cunningham</td><td>Chris Cornell</td><td>1.98</td></tr><tr><td>Julia Barnett</td><td>Queen</td><td>1.98</td></tr><tr><td>Fernanda Ramos</td><td>Pink Floyd</td><td>1.98</td></tr><tr><td>Hannah Schneider</td><td>Scorpions</td><td>1.98</td></tr><tr><td>Robert Brown</td><td>James Brown</td><td>1.98</td></tr><tr><td>Martha Silk</td><td>Green Day</td><td>1.98</td></tr><tr><td>Luis Rojas</td><td>Deep Purple</td><td>1.98</td></tr><tr><td>Leonie Köhler</td><td>Faith No More</td><td>1.98</td></tr><tr><td>Hannah Schneider</td><td>Queen</td><td>1.98</td></tr><tr><td>Jack Smith</td><td>Soundgarden</td><td>1.98</td></tr><tr><td>Frank Ralston</td><td>Soundgarden</td><td>1.98</td></tr><tr><td>Hannah Schneider</td><td>The Who</td><td>1.98</td></tr><tr><td>Manoj Pareek</td><td>Velvet Revolver</td><td>1.98</td></tr><tr><td>Hugh O'Reilly</td><td>Amy Winehouse</td><td>1.98</td></tr><tr><td>Wyatt Girard</td><td>Queen</td><td>1.98</td></tr><tr><td>Emma Jones</td><td>Metallica</td><td>1.98</td></tr><tr><td>Leonie Köhler</td><td>The Police</td><td>1.98</td></tr><tr><td>François Tremblay</td><td>Soundgarden</td><td>1.98</td></tr><tr><td>Ladislav Kovács</td><td>Stone Temple Pilots</td><td>1.98</td></tr><tr><td>Camille Bernard</td><td>The Rolling Stones</td><td>1.98</td></tr><tr><td>Richard Cunningham</td><td>Alanis Morissette</td><td>1.98</td></tr><tr><td>João Fernandes</td><td>AC/DC</td><td>1.98</td></tr><tr><td>Stanisław Wójcik</td><td>Jimi Hendrix</td><td>1.98</td></tr><tr><td>Terhi Hämäläinen</td><td>System Of A Down</td><td>1.98</td></tr><tr><td>Edward Francis</td><td>Apocalyptica</td><td>1.98</td></tr><tr><td>Michelle Brooks</td><td>System Of A Down</td><td>1.98</td></tr><tr><td>Hugh O'Reilly</td><td>Scorpions</td><td>1.98</td></tr><tr><td>John Gordon</td><td>Eric Clapton</td><td>1.98</td></tr><tr><td>Hannah Schneider</td><td>The Police</td><td>1.98</td></tr><tr><td>Jack Smith</td><td>Queen</td><td>1.98</td></tr><tr><td>Jennifer Peterson</td><td>Alice In Chains</td><td>1.98</td></tr><tr><td>Luis Rojas</td><td>Eric Clapton</td><td>1.98</td></tr><tr><td>Niklas Schröder</td><td>Buddy Guy</td><td>1.98</td></tr><tr><td>Helena Holý</td><td>Santana</td><td>1.98</td></tr><tr><td>Leonie Köhler</td><td>Godsmack</td><td>1.98</td></tr><tr><td>Enrique Muñoz</td><td>Apocalyptica</td><td>1.98</td></tr><tr><td>Jack Smith</td><td>Deep Purple</td><td>1.98</td></tr><tr><td>Bjørn Hansen</td><td>Black Sabbath</td><td>1.98</td></tr><tr><td>Leonie Köhler</td><td>Pink Floyd</td><td>1.98</td></tr><tr><td>Helena Holý</td><td>Foo Fighters</td><td>1.98</td></tr><tr><td>Ladislav Kovács</td><td>Soundgarden</td><td>1.98</td></tr><tr><td>Phil Hughes</td><td>Led Zeppelin</td><td>1.98</td></tr><tr><td>Steve Murray</td><td>Miles Davis</td><td>1.98</td></tr><tr><td>Jennifer Peterson</td><td>Chris Cornell</td><td>1.98</td></tr><tr><td>František Wichterlová</td><td>Creedence Clearwater Revival</td><td>1.98</td></tr><tr><td>Patrick Gray</td><td>The Rolling Stones</td><td>1.98</td></tr><tr><td>Heather Leacock</td><td>Judas Priest</td><td>1.98</td></tr><tr><td>Roberto Almeida</td><td>Aerosmith</td><td>1.98</td></tr><tr><td>Terhi Hämäläinen</td><td>U2</td><td>1.98</td></tr><tr><td>Steve Murray</td><td>R.E.M.</td><td>1.98</td></tr><tr><td>Phil Hughes</td><td>Van Halen</td><td>1.98</td></tr><tr><td>Jennifer Peterson</td><td>Queen</td><td>1.98</td></tr><tr><td>Roberto Almeida</td><td>Frank Sinatra</td><td>1.98</td></tr><tr><td>Terhi Hämäläinen</td><td>UB40</td><td>1.98</td></tr><tr><td>Heather Leacock</td><td>Creedence Clearwater Revival</td><td>1.98</td></tr><tr><td>Marc Dubois</td><td>Lenny Kravitz</td><td>1.98</td></tr><tr><td>Jack Smith</td><td>Apocalyptica</td><td>1.98</td></tr><tr><td>Terhi Hämäläinen</td><td>Alice In Chains</td><td>1.98</td></tr><tr><td>Wyatt Girard</td><td>Jimi Hendrix</td><td>1.98</td></tr><tr><td>Alexandre Rocha</td><td>The Who</td><td>1.98</td></tr><tr><td>František Wichterlová</td><td>Ozzy Osbourne</td><td>1.98</td></tr><tr><td>Kathy Chase</td><td>Foo Fighters</td><td>1.98</td></tr><tr><td>Manoj Pareek</td><td>Nirvana</td><td>1.98</td></tr><tr><td>Bjørn Hansen</td><td>Nirvana</td><td>1.98</td></tr><tr><td>Martha Silk</td><td>Amy Winehouse</td><td>1.98</td></tr><tr><td>Enrique Muñoz</td><td>Ozzy Osbourne</td><td>1.98</td></tr><tr><td>Richard Cunningham</td><td>James Brown</td><td>1.98</td></tr><tr><td>Helena Holý</td><td>The Cult</td><td>1.98</td></tr><tr><td>Fernanda Ramos</td><td>The Police</td><td>1.98</td></tr><tr><td>Jack Smith</td><td>Frank Sinatra</td><td>1.98</td></tr><tr><td>Enrique Muñoz</td><td>Black Sabbath</td><td>1.98</td></tr><tr><td>Luis Rojas</td><td>Miles Davis</td><td>1.98</td></tr><tr><td>Madalena Sampaio</td><td>Pearl Jam</td><td>1.98</td></tr><tr><td>Johannes Van der Berg</td><td>Buddy Guy</td><td>1.98</td></tr><tr><td>Isabelle Mercier</td><td>Alice In Chains</td><td>1.98</td></tr><tr><td>Luís Gonçalves</td><td>Iron Maiden</td><td>1.98</td></tr><tr><td>Manoj Pareek</td><td>Guns N' Roses</td><td>1.98</td></tr><tr><td>Camille Bernard</td><td>Jimi Hendrix</td><td>1.98</td></tr><tr><td>Wyatt Girard</td><td>Motörhead</td><td>1.98</td></tr><tr><td>Roberto Almeida</td><td>Jamiroquai</td><td>1.98</td></tr><tr><td>Jack Smith</td><td>Alice In Chains</td><td>1.98</td></tr><tr><td>Roberto Almeida</td><td>Black Sabbath</td><td>1.98</td></tr><tr><td>Kara Nielsen</td><td>AC/DC</td><td>1.98</td></tr><tr><td>Enrique Muñoz</td><td>Metallica</td><td>1.98</td></tr><tr><td>Madalena Sampaio</td><td>Queen</td><td>1.98</td></tr><tr><td>František Wichterlová</td><td>Godsmack</td><td>1.98</td></tr><tr><td>Edward Francis</td><td>Faith No More</td><td>1.98</td></tr><tr><td>Dan Miller</td><td>Stone Temple Pilots</td><td>1.98</td></tr><tr><td>Bjørn Hansen</td><td>Iron Maiden</td><td>1.98</td></tr><tr><td>Frank Harris</td><td>The Clash</td><td>1.98</td></tr><tr><td>Niklas Schröder</td><td>Eric Clapton</td><td>1.98</td></tr><tr><td>Helena Holý</td><td>Velvet Revolver</td><td>1.98</td></tr><tr><td>Mark Taylor</td><td>Deep Purple</td><td>1.98</td></tr><tr><td>Mark Taylor</td><td>Pearl Jam</td><td>1.98</td></tr><tr><td>Jennifer Peterson</td><td>Metallica</td><td>1.98</td></tr><tr><td>Luis Rojas</td><td>Queen</td><td>1.98</td></tr><tr><td>Hannah Schneider</td><td>The Clash</td><td>1.98</td></tr><tr><td>Daan Peeters</td><td>Aerosmith</td><td>1.98</td></tr><tr><td>Alexandre Rocha</td><td>Green Day</td><td>1.98</td></tr><tr><td>Eduardo Martins</td><td>Nirvana</td><td>1.98</td></tr><tr><td>František Wichterlová</td><td>U2</td><td>1.98</td></tr><tr><td>Frank Ralston</td><td>Kiss</td><td>1.98</td></tr><tr><td>Johannes Van der Berg</td><td>Queen</td><td>1.98</td></tr><tr><td>Luis Rojas</td><td>Creedence Clearwater Revival</td><td>1.98</td></tr><tr><td>Kara Nielsen</td><td>Audioslave</td><td>1.98</td></tr><tr><td>Daan Peeters</td><td>JET</td><td>1.98</td></tr><tr><td>Niklas Schröder</td><td>Guns N' Roses</td><td>1.98</td></tr><tr><td>Johannes Van der Berg</td><td>Red Hot Chili Peppers</td><td>1.98</td></tr><tr><td>Martha Silk</td><td>The Police</td><td>1.98</td></tr><tr><td>Johannes Van der Berg</td><td>Nirvana</td><td>1.98</td></tr><tr><td>Madalena Sampaio</td><td>Red Hot Chili Peppers</td><td>1.98</td></tr><tr><td>Fernanda Ramos</td><td>Kiss</td><td>1.98</td></tr><tr><td>Jack Smith</td><td>Legião Urbana</td><td>1.98</td></tr><tr><td>Wyatt Girard</td><td>Black Sabbath</td><td>1.98</td></tr><tr><td>Kara Nielsen</td><td>U2</td><td>1.98</td></tr><tr><td>Tim Goyer</td><td>Green Day</td><td>1.98</td></tr><tr><td>Rishabh Mishra</td><td>Alanis Morissette</td><td>1.98</td></tr><tr><td>François Tremblay</td><td>Metallica</td><td>1.98</td></tr><tr><td>Julia Barnett</td><td>Alanis Morissette</td><td>1.98</td></tr><tr><td>Mark Taylor</td><td>The Doors</td><td>1.98</td></tr><tr><td>František Wichterlová</td><td>The Police</td><td>1.98</td></tr><tr><td>Frank Harris</td><td>Queen</td><td>1.98</td></tr><tr><td>Stanisław Wójcik</td><td>Stone Temple Pilots</td><td>1.98</td></tr><tr><td>Tim Goyer</td><td>Eric Clapton</td><td>1.98</td></tr><tr><td>Wyatt Girard</td><td>Foo Fighters</td><td>1.98</td></tr><tr><td>Astrid Gruber</td><td>Foo Fighters</td><td>1.98</td></tr><tr><td>Frank Ralston</td><td>The Police</td><td>1.98</td></tr><tr><td>Wyatt Girard</td><td>Pearl Jam</td><td>1.98</td></tr><tr><td>Niklas Schröder</td><td>The Doors</td><td>1.98</td></tr><tr><td>Tim Goyer</td><td>Van Halen</td><td>1.98</td></tr><tr><td>Kathy Chase</td><td>Marvin Gaye</td><td>1.98</td></tr><tr><td>Astrid Gruber</td><td>Aerosmith</td><td>1.98</td></tr><tr><td>Johannes Van der Berg</td><td>U2</td><td>1.98</td></tr><tr><td>Stanisław Wójcik</td><td>Nirvana</td><td>1.98</td></tr><tr><td>Martha Silk</td><td>R.E.M.</td><td>1.98</td></tr><tr><td>Phil Hughes</td><td>Santana</td><td>1.98</td></tr><tr><td>Johannes Van der Berg</td><td>Soundgarden</td><td>1.98</td></tr><tr><td>Johannes Van der Berg</td><td>R.E.M.</td><td>1.98</td></tr><tr><td>François Tremblay</td><td>Aerosmith</td><td>1.98</td></tr><tr><td>Enrique Muñoz</td><td>Amy Winehouse</td><td>1.98</td></tr><tr><td>Steve Murray</td><td>Led Zeppelin</td><td>1.98</td></tr><tr><td>Aaron Mitchell</td><td>Creedence Clearwater Revival</td><td>1.98</td></tr><tr><td>Jack Smith</td><td>Audioslave</td><td>1.98</td></tr><tr><td>Michelle Brooks</td><td>Velvet Revolver</td><td>1.98</td></tr><tr><td>Edward Francis</td><td>U2</td><td>1.98</td></tr><tr><td>Luis Rojas</td><td>Led Zeppelin</td><td>1.98</td></tr><tr><td>Hannah Schneider</td><td>Iron Maiden</td><td>1.98</td></tr><tr><td>Kara Nielsen</td><td>System Of A Down</td><td>1.98</td></tr><tr><td>Emma Jones</td><td>The Rolling Stones</td><td>1.98</td></tr><tr><td>Edward Francis</td><td>Ozzy Osbourne</td><td>1.98</td></tr><tr><td>John Gordon</td><td>Godsmack</td><td>1.98</td></tr><tr><td>Camille Bernard</td><td>Pearl Jam</td><td>1.98</td></tr><tr><td>Manoj Pareek</td><td>Stone Temple Pilots</td><td>1.98</td></tr><tr><td>Alexandre Rocha</td><td>Soundgarden</td><td>1.98</td></tr><tr><td>Stanisław Wójcik</td><td>Alice In Chains</td><td>1.98</td></tr><tr><td>Ladislav Kovács</td><td>Metallica</td><td>1.98</td></tr><tr><td>Fernanda Ramos</td><td>Itzhak Perlman</td><td>1.98</td></tr><tr><td>Rishabh Mishra</td><td>Jamiroquai</td><td>1.98</td></tr><tr><td>Isabelle Mercier</td><td>Scorpions</td><td>1.98</td></tr><tr><td>Wyatt Girard</td><td>Red Hot Chili Peppers</td><td>1.98</td></tr><tr><td>Isabelle Mercier</td><td>Judas Priest</td><td>1.98</td></tr><tr><td>Ellie Sullivan</td><td>Black Sabbath</td><td>1.98</td></tr><tr><td>Terhi Hämäläinen</td><td>House Of Pain</td><td>1.98</td></tr><tr><td>João Fernandes</td><td>James Brown</td><td>1.98</td></tr><tr><td>João Fernandes</td><td>Metallica</td><td>1.98</td></tr><tr><td>Fynn Zimmermann</td><td>Led Zeppelin</td><td>1.98</td></tr><tr><td>Luis Rojas</td><td>Ozzy Osbourne</td><td>1.98</td></tr><tr><td>Heather Leacock</td><td>U2</td><td>1.98</td></tr><tr><td>Mark Taylor</td><td>Green Day</td><td>1.98</td></tr><tr><td>František Wichterlová</td><td>Guns N' Roses</td><td>1.98</td></tr><tr><td>Rishabh Mishra</td><td>Judas Priest</td><td>1.98</td></tr><tr><td>Mark Philips</td><td>The Clash</td><td>1.98</td></tr><tr><td>Terhi Hämäläinen</td><td>Motörhead</td><td>1.98</td></tr><tr><td>Heather Leacock</td><td>Nirvana</td><td>1.98</td></tr><tr><td>Luís Gonçalves</td><td>Queen</td><td>1.98</td></tr><tr><td>Aaron Mitchell</td><td>Nirvana</td><td>1.98</td></tr><tr><td>Dan Miller</td><td>Lenny Kravitz</td><td>1.98</td></tr><tr><td>Luis Rojas</td><td>James Brown</td><td>1.98</td></tr><tr><td>Madalena Sampaio</td><td>Black Sabbath</td><td>1.98</td></tr><tr><td>John Gordon</td><td>Guns N' Roses</td><td>1.98</td></tr><tr><td>Leonie Köhler</td><td>Van Halen</td><td>1.98</td></tr><tr><td>Helena Holý</td><td>R.E.M.</td><td>1.98</td></tr><tr><td>Ladislav Kovács</td><td>Audioslave</td><td>1.98</td></tr><tr><td>Helena Holý</td><td>Nirvana</td><td>1.98</td></tr><tr><td>Hugh O'Reilly</td><td>Faith No More</td><td>1.98</td></tr><tr><td>Luís Gonçalves</td><td>U2</td><td>1.98</td></tr><tr><td>Heather Leacock</td><td>The Who</td><td>1.98</td></tr><tr><td>Hannah Schneider</td><td>Foo Fighters</td><td>1.98</td></tr><tr><td>Fernanda Ramos</td><td>Santana</td><td>1.98</td></tr><tr><td>Roberto Almeida</td><td>JET</td><td>1.98</td></tr><tr><td>Heather Leacock</td><td>Deep Purple</td><td>1.98</td></tr><tr><td>Terhi Hämäläinen</td><td>Judas Priest</td><td>1.98</td></tr><tr><td>Ellie Sullivan</td><td>Judas Priest</td><td>1.98</td></tr><tr><td>Dan Miller</td><td>Apocalyptica</td><td>1.98</td></tr><tr><td>Steve Murray</td><td>Guns N' Roses</td><td>1.98</td></tr><tr><td>Kathy Chase</td><td>R.E.M.</td><td>1.98</td></tr><tr><td>Michelle Brooks</td><td>Pink Floyd</td><td>1.98</td></tr><tr><td>Enrique Muñoz</td><td>Iron Maiden</td><td>1.98</td></tr><tr><td>Madalena Sampaio</td><td>Godsmack</td><td>1.98</td></tr><tr><td>Dan Miller</td><td>Godsmack</td><td>1.98</td></tr><tr><td>Astrid Gruber</td><td>Alice In Chains</td><td>1.98</td></tr><tr><td>Madalena Sampaio</td><td>Stone Temple Pilots</td><td>1.98</td></tr><tr><td>Helena Holý</td><td>Guns N' Roses</td><td>1.98</td></tr><tr><td>Madalena Sampaio</td><td>Miles Davis</td><td>1.98</td></tr><tr><td>Luís Gonçalves</td><td>Alanis Morissette</td><td>1.98</td></tr><tr><td>Manoj Pareek</td><td>R.E.M.</td><td>1.98</td></tr><tr><td>František Wichterlová</td><td>JET</td><td>1.98</td></tr><tr><td>Hannah Schneider</td><td>Alanis Morissette</td><td>1.98</td></tr><tr><td>Kara Nielsen</td><td>The Rolling Stones</td><td>1.98</td></tr><tr><td>Terhi Hämäläinen</td><td>Metallica</td><td>1.98</td></tr><tr><td>Roberto Almeida</td><td>Pearl Jam</td><td>1.98</td></tr><tr><td>František Wichterlová</td><td>Motörhead</td><td>1.98</td></tr><tr><td>Richard Cunningham</td><td>The Doors</td><td>1.98</td></tr><tr><td>Enrique Muñoz</td><td>The Rolling Stones</td><td>1.98</td></tr><tr><td>Roberto Almeida</td><td>Pink Floyd</td><td>1.98</td></tr><tr><td>Julia Barnett</td><td>Foo Fighters</td><td>1.98</td></tr><tr><td>Marc Dubois</td><td>The Rolling Stones</td><td>1.98</td></tr><tr><td>Jack Smith</td><td>JET</td><td>1.98</td></tr><tr><td>Rishabh Mishra</td><td>Marisa Monte</td><td>1.98</td></tr><tr><td>Enrique Muñoz</td><td>Green Day</td><td>1.98</td></tr><tr><td>Niklas Schröder</td><td>Pink Floyd</td><td>1.98</td></tr><tr><td>Astrid Gruber</td><td>The Doors</td><td>1.98</td></tr><tr><td>Helena Holý</td><td>Led Zeppelin</td><td>1.98</td></tr><tr><td>Richard Cunningham</td><td>Ozzy Osbourne</td><td>1.98</td></tr><tr><td>Edward Francis</td><td>AC/DC</td><td>1.98</td></tr><tr><td>Luís Gonçalves</td><td>Audioslave</td><td>1.98</td></tr><tr><td>Manoj Pareek</td><td>System Of A Down</td><td>1.98</td></tr><tr><td>Roberto Almeida</td><td>Amy Winehouse</td><td>1.98</td></tr><tr><td>Helena Holý</td><td>Audioslave</td><td>1.98</td></tr><tr><td>Phil Hughes</td><td>Black Sabbath</td><td>1.98</td></tr><tr><td>Ellie Sullivan</td><td>The Police</td><td>1.98</td></tr><tr><td>Rishabh Mishra</td><td>Audioslave</td><td>1.98</td></tr><tr><td>Terhi Hämäläinen</td><td>Lenny Kravitz</td><td>1.98</td></tr><tr><td>Camille Bernard</td><td>Temple of the Dog</td><td>1.98</td></tr><tr><td>Enrique Muñoz</td><td>Deep Purple</td><td>1.98</td></tr><tr><td>Victor Stevens</td><td>Led Zeppelin</td><td>1.98</td></tr><tr><td>Daan Peeters</td><td>Iron Maiden</td><td>1.98</td></tr><tr><td>Patrick Gray</td><td>Iron Maiden</td><td>1.98</td></tr><tr><td>Frank Ralston</td><td>Lenny Kravitz</td><td>1.98</td></tr><tr><td>Fernanda Ramos</td><td>System Of A Down</td><td>1.98</td></tr><tr><td>Astrid Gruber</td><td>System Of A Down</td><td>1.98</td></tr><tr><td>Stanisław Wójcik</td><td>Iron Maiden</td><td>1.98</td></tr><tr><td>Kathy Chase</td><td>Scorpions</td><td>1.98</td></tr><tr><td>Edward Francis</td><td>Red Hot Chili Peppers</td><td>1.98</td></tr><tr><td>Leonie Köhler</td><td>Ozzy Osbourne</td><td>1.98</td></tr><tr><td>Enrique Muñoz</td><td>Kiss</td><td>1.98</td></tr><tr><td>Luis Rojas</td><td>The Doors</td><td>1.98</td></tr><tr><td>Kathy Chase</td><td>Guns N' Roses</td><td>1.98</td></tr><tr><td>Marc Dubois</td><td>Eric Clapton</td><td>1.98</td></tr><tr><td>Marc Dubois</td><td>Green Day</td><td>1.98</td></tr><tr><td>Madalena Sampaio</td><td>The Police</td><td>1.98</td></tr><tr><td>Tim Goyer</td><td>Audioslave</td><td>1.98</td></tr><tr><td>Phil Hughes</td><td>Godsmack</td><td>1.98</td></tr><tr><td>Jack Smith</td><td>System Of A Down</td><td>1.98</td></tr><tr><td>Niklas Schröder</td><td>Aerosmith</td><td>1.98</td></tr><tr><td>Richard Cunningham</td><td>Foo Fighters</td><td>1.98</td></tr><tr><td>Roberto Almeida</td><td>Motörhead</td><td>1.98</td></tr><tr><td>Rishabh Mishra</td><td>Guns N' Roses</td><td>1.98</td></tr><tr><td>Terhi Hämäläinen</td><td>Guns N' Roses</td><td>1.98</td></tr><tr><td>František Wichterlová</td><td>Frank Sinatra</td><td>1.98</td></tr><tr><td>Robert Brown</td><td>The Who</td><td>1.98</td></tr><tr><td>Niklas Schröder</td><td>Van Halen</td><td>1.98</td></tr><tr><td>João Fernandes</td><td>Red Hot Chili Peppers</td><td>1.98</td></tr><tr><td>Luis Rojas</td><td>Apocalyptica</td><td>1.98</td></tr><tr><td>Manoj Pareek</td><td>Miles Davis</td><td>1.98</td></tr><tr><td>Patrick Gray</td><td>AC/DC</td><td>1.98</td></tr><tr><td>Eduardo Martins</td><td>Marvin Gaye</td><td>1.98</td></tr><tr><td>Madalena Sampaio</td><td>Foo Fighters</td><td>1.98</td></tr><tr><td>Luís Gonçalves</td><td>Marisa Monte</td><td>1.98</td></tr><tr><td>Fernanda Ramos</td><td>Ozzy Osbourne</td><td>1.98</td></tr><tr><td>Alexandre Rocha</td><td>Queen</td><td>1.98</td></tr><tr><td>Daan Peeters</td><td>Stone Temple Pilots</td><td>1.98</td></tr><tr><td>Joakim Johansson</td><td>The Doors</td><td>1.98</td></tr><tr><td>Richard Cunningham</td><td>R.E.M.</td><td>1.98</td></tr><tr><td>Aaron Mitchell</td><td>U2</td><td>1.98</td></tr><tr><td>Patrick Gray</td><td>Rush</td><td>1.98</td></tr><tr><td>Daan Peeters</td><td>Queen</td><td>1.98</td></tr><tr><td>João Fernandes</td><td>The Rolling Stones</td><td>1.98</td></tr><tr><td>František Wichterlová</td><td>Chris Cornell</td><td>1.98</td></tr><tr><td>Richard Cunningham</td><td>Van Halen</td><td>1.98</td></tr><tr><td>Marc Dubois</td><td>Stone Temple Pilots</td><td>1.98</td></tr><tr><td>Dominique Lefebvre</td><td>The Clash</td><td>1.98</td></tr><tr><td>Manoj Pareek</td><td>Pearl Jam</td><td>1.98</td></tr><tr><td>Marc Dubois</td><td>Pink Floyd</td><td>1.98</td></tr><tr><td>Kathy Chase</td><td>The Rolling Stones</td><td>1.98</td></tr><tr><td>Luis Rojas</td><td>Godsmack</td><td>1.98</td></tr><tr><td>Richard Cunningham</td><td>System Of A Down</td><td>1.98</td></tr><tr><td>Manoj Pareek</td><td>Faith No More</td><td>1.98</td></tr><tr><td>Stanisław Wójcik</td><td>System Of A Down</td><td>1.98</td></tr><tr><td>Helena Holý</td><td>Chris Cornell</td><td>1.98</td></tr><tr><td>Helena Holý</td><td>Jamiroquai</td><td>1.98</td></tr><tr><td>Richard Cunningham</td><td>Guns N' Roses</td><td>1.98</td></tr><tr><td>Ladislav Kovács</td><td>The Doors</td><td>1.98</td></tr><tr><td>Luís Gonçalves</td><td>Pink Floyd</td><td>1.98</td></tr><tr><td>Phil Hughes</td><td>U2</td><td>1.98</td></tr><tr><td>Edward Francis</td><td>Aerosmith</td><td>1.98</td></tr><tr><td>Isabelle Mercier</td><td>The Doors</td><td>1.98</td></tr><tr><td>Johannes Van der Berg</td><td>Alice In Chains</td><td>1.98</td></tr><tr><td>Edward Francis</td><td>Antônio Carlos Jobim</td><td>1.98</td></tr><tr><td>Jennifer Peterson</td><td>The Clash</td><td>1.98</td></tr><tr><td>Rishabh Mishra</td><td>Soundgarden</td><td>1.98</td></tr><tr><td>Fynn Zimmermann</td><td>The Police</td><td>1.98</td></tr><tr><td>Kara Nielsen</td><td>The Doors</td><td>1.98</td></tr><tr><td>Camille Bernard</td><td>Red Hot Chili Peppers</td><td>1.98</td></tr><tr><td>Terhi Hämäläinen</td><td>Miles Davis</td><td>1.98</td></tr><tr><td>Terhi Hämäläinen</td><td>Queen</td><td>1.98</td></tr><tr><td>Fernanda Ramos</td><td>The Doors</td><td>1.98</td></tr><tr><td>Julia Barnett</td><td>Miles Davis</td><td>1.98</td></tr><tr><td>Niklas Schröder</td><td>Red Hot Chili Peppers</td><td>1.98</td></tr><tr><td>Luís Gonçalves</td><td>The Police</td><td>1.98</td></tr><tr><td>João Fernandes</td><td>The Clash</td><td>1.98</td></tr><tr><td>Stanisław Wójcik</td><td>The Who</td><td>1.98</td></tr><tr><td>Robert Brown</td><td>Foo Fighters</td><td>1.98</td></tr><tr><td>Wyatt Girard</td><td>Audioslave</td><td>1.98</td></tr><tr><td>Dominique Lefebvre</td><td>Marvin Gaye</td><td>1.98</td></tr><tr><td>Leonie Köhler</td><td>House Of Pain</td><td>1.98</td></tr><tr><td>Edward Francis</td><td>Foo Fighters</td><td>1.98</td></tr><tr><td>Steve Murray</td><td>Lenny Kravitz</td><td>1.98</td></tr><tr><td>Jennifer Peterson</td><td>Velvet Revolver</td><td>1.98</td></tr><tr><td>František Wichterlová</td><td>Jimi Hendrix</td><td>1.98</td></tr><tr><td>Dominique Lefebvre</td><td>Lenny Kravitz</td><td>1.98</td></tr><tr><td>Luis Rojas</td><td>Pink Floyd</td><td>1.98</td></tr><tr><td>John Gordon</td><td>The Doors</td><td>1.98</td></tr><tr><td>František Wichterlová</td><td>Led Zeppelin</td><td>1.98</td></tr><tr><td>Michelle Brooks</td><td>Frank Sinatra</td><td>1.98</td></tr><tr><td>Frank Ralston</td><td>Queen</td><td>1.98</td></tr><tr><td>Edward Francis</td><td>Nirvana</td><td>1.98</td></tr><tr><td>Patrick Gray</td><td>Santana</td><td>1.98</td></tr><tr><td>Madalena Sampaio</td><td>Men At Work</td><td>1.98</td></tr><tr><td>Luís Gonçalves</td><td>The Who</td><td>1.98</td></tr><tr><td>Patrick Gray</td><td>Van Halen</td><td>1.98</td></tr><tr><td>Astrid Gruber</td><td>The Rolling Stones</td><td>1.98</td></tr><tr><td>Jennifer Peterson</td><td>Green Day</td><td>1.98</td></tr><tr><td>Rishabh Mishra</td><td>Aerosmith</td><td>1.98</td></tr><tr><td>François Tremblay</td><td>Red Hot Chili Peppers</td><td>1.98</td></tr><tr><td>Alexandre Rocha</td><td>U2</td><td>1.98</td></tr><tr><td>Helena Holý</td><td>The Police</td><td>1.98</td></tr><tr><td>Frank Ralston</td><td>Jimi Hendrix</td><td>1.98</td></tr><tr><td>François Tremblay</td><td>Led Zeppelin</td><td>1.98</td></tr><tr><td>Martha Silk</td><td>The Who</td><td>1.98</td></tr><tr><td>Jack Smith</td><td>The Police</td><td>1.98</td></tr><tr><td>Hugh O'Reilly</td><td>Guns N' Roses</td><td>1.98</td></tr><tr><td>Marc Dubois</td><td>Metallica</td><td>1.98</td></tr><tr><td>Patrick Gray</td><td>Pearl Jam</td><td>1.98</td></tr><tr><td>Hannah Schneider</td><td>Guns N' Roses</td><td>1.98</td></tr><tr><td>Helena Holý</td><td>Accept</td><td>1.98</td></tr><tr><td>Stanisław Wójcik</td><td>Spyro Gyra</td><td>1.98</td></tr><tr><td>Fernanda Ramos</td><td>Green Day</td><td>1.98</td></tr><tr><td>João Fernandes</td><td>Pink Floyd</td><td>1.98</td></tr><tr><td>Luis Rojas</td><td>JET</td><td>1.98</td></tr><tr><td>Luís Gonçalves</td><td>Faith No More</td><td>1.98</td></tr><tr><td>Emma Jones</td><td>The Clash</td><td>1.98</td></tr><tr><td>John Gordon</td><td>James Brown</td><td>1.98</td></tr><tr><td>Jennifer Peterson</td><td>Scorpions</td><td>1.98</td></tr><tr><td>Jack Smith</td><td>The Doors</td><td>1.98</td></tr><tr><td>Madalena Sampaio</td><td>Faith No More</td><td>1.98</td></tr><tr><td>Patrick Gray</td><td>Velvet Revolver</td><td>1.98</td></tr><tr><td>Madalena Sampaio</td><td>Velvet Revolver</td><td>1.98</td></tr><tr><td>Manoj Pareek</td><td>Green Day</td><td>1.98</td></tr><tr><td>Dan Miller</td><td>AC/DC</td><td>1.98</td></tr><tr><td>Dan Miller</td><td>Amy Winehouse</td><td>1.98</td></tr><tr><td>Emma Jones</td><td>Chris Cornell</td><td>1.98</td></tr><tr><td>Heather Leacock</td><td>Jimi Hendrix</td><td>1.98</td></tr><tr><td>Aaron Mitchell</td><td>Men At Work</td><td>1.98</td></tr><tr><td>Edward Francis</td><td>Black Sabbath</td><td>1.98</td></tr><tr><td>Frank Harris</td><td>Jimi Hendrix</td><td>1.98</td></tr><tr><td>Edward Francis</td><td>Lenny Kravitz</td><td>1.98</td></tr><tr><td>Roberto Almeida</td><td>U2</td><td>1.98</td></tr><tr><td>Ladislav Kovács</td><td>Green Day</td><td>1.98</td></tr><tr><td>Eduardo Martins</td><td>Green Day</td><td>1.98</td></tr><tr><td>Johannes Van der Berg</td><td>Motörhead</td><td>1.98</td></tr><tr><td>Fernanda Ramos</td><td>R.E.M.</td><td>1.98</td></tr><tr><td>Niklas Schröder</td><td>Frank Sinatra</td><td>1.98</td></tr><tr><td>Kara Nielsen</td><td>Nirvana</td><td>1.98</td></tr><tr><td>Aaron Mitchell</td><td>Pearl Jam</td><td>1.98</td></tr><tr><td>Lucas Mancini</td><td>System Of A Down</td><td>1.98</td></tr><tr><td>Astrid Gruber</td><td>Deep Purple</td><td>1.98</td></tr><tr><td>Tim Goyer</td><td>Black Sabbath</td><td>1.98</td></tr><tr><td>Dominique Lefebvre</td><td>Metallica</td><td>1.98</td></tr><tr><td>František Wichterlová</td><td>Soundgarden</td><td>1.98</td></tr><tr><td>Julia Barnett</td><td>The Clash</td><td>1.98</td></tr><tr><td>Helena Holý</td><td>Pearl Jam</td><td>1.98</td></tr><tr><td>Stanisław Wójcik</td><td>Queen</td><td>1.98</td></tr><tr><td>Alexandre Rocha</td><td>The Rolling Stones</td><td>1.98</td></tr><tr><td>Kathy Chase</td><td>Eric Clapton</td><td>1.98</td></tr><tr><td>Martha Silk</td><td>System Of A Down</td><td>1.98</td></tr><tr><td>Enrique Muñoz</td><td>U2</td><td>1.98</td></tr><tr><td>Daan Peeters</td><td>Red Hot Chili Peppers</td><td>1.98</td></tr><tr><td>Richard Cunningham</td><td>Green Day</td><td>1.98</td></tr><tr><td>Enrique Muñoz</td><td>Incognito</td><td>1.98</td></tr><tr><td>Kathy Chase</td><td>Green Day</td><td>1.98</td></tr><tr><td>Emma Jones</td><td>Pearl Jam</td><td>1.98</td></tr><tr><td>Steve Murray</td><td>Motörhead</td><td>1.98</td></tr><tr><td>François Tremblay</td><td>The Black Crowes</td><td>1.98</td></tr><tr><td>Rishabh Mishra</td><td>Pink Floyd</td><td>1.98</td></tr><tr><td>Hannah Schneider</td><td>Audioslave</td><td>1.98</td></tr><tr><td>John Gordon</td><td>Metallica</td><td>1.98</td></tr><tr><td>Hannah Schneider</td><td>Alice In Chains</td><td>1.98</td></tr><tr><td>Daan Peeters</td><td>Guns N' Roses</td><td>1.98</td></tr><tr><td>Kara Nielsen</td><td>JET</td><td>1.98</td></tr><tr><td>Helena Holý</td><td>Aerosmith</td><td>1.98</td></tr><tr><td>Madalena Sampaio</td><td>Metallica</td><td>1.98</td></tr><tr><td>Joakim Johansson</td><td>System Of A Down</td><td>1.98</td></tr><tr><td>Emma Jones</td><td>Queen</td><td>1.98</td></tr><tr><td>Richard Cunningham</td><td>Amy Winehouse</td><td>1.98</td></tr><tr><td>Diego Gutiérrez</td><td>Eric Clapton</td><td>1.98</td></tr><tr><td>Helena Holý</td><td>Amy Winehouse</td><td>1.98</td></tr><tr><td>Mark Taylor</td><td>Frank Sinatra</td><td>1.98</td></tr><tr><td>Jack Smith</td><td>Raul Seixas</td><td>1.98</td></tr><tr><td>Tim Goyer</td><td>Jamiroquai</td><td>1.98</td></tr><tr><td>John Gordon</td><td>Audioslave</td><td>1.98</td></tr><tr><td>Edward Francis</td><td>Queen</td><td>1.98</td></tr><tr><td>Wyatt Girard</td><td>The Police</td><td>1.98</td></tr><tr><td>Johannes Van der Berg</td><td>Frank Sinatra</td><td>1.98</td></tr><tr><td>Dan Miller</td><td>Creedence Clearwater Revival</td><td>1.98</td></tr><tr><td>Jennifer Peterson</td><td>Led Zeppelin</td><td>1.98</td></tr><tr><td>Niklas Schröder</td><td>Santana</td><td>1.98</td></tr><tr><td>Madalena Sampaio</td><td>Amy Winehouse</td><td>1.98</td></tr><tr><td>Marc Dubois</td><td>The Who</td><td>1.98</td></tr><tr><td>Luís Gonçalves</td><td>Amy Winehouse</td><td>1.98</td></tr><tr><td>Isabelle Mercier</td><td>Eric Clapton</td><td>1.98</td></tr><tr><td>Isabelle Mercier</td><td>Alanis Morissette</td><td>1.98</td></tr><tr><td>Julia Barnett</td><td>Led Zeppelin</td><td>1.98</td></tr><tr><td>Dan Miller</td><td>Jamiroquai</td><td>1.98</td></tr><tr><td>Roberto Almeida</td><td>Foo Fighters</td><td>1.98</td></tr><tr><td>Ladislav Kovács</td><td>System Of A Down</td><td>1.98</td></tr><tr><td>Fernanda Ramos</td><td>Marvin Gaye</td><td>1.98</td></tr><tr><td>Eduardo Martins</td><td>The Doors</td><td>1.98</td></tr><tr><td>Diego Gutiérrez</td><td>Iron Maiden</td><td>1.98</td></tr><tr><td>Michelle Brooks</td><td>Soundgarden</td><td>1.98</td></tr><tr><td>Madalena Sampaio</td><td>Scorpions</td><td>1.98</td></tr><tr><td>Stanisław Wójcik</td><td>Godsmack</td><td>1.98</td></tr><tr><td>Stanisław Wójcik</td><td>The Clash</td><td>1.98</td></tr><tr><td>Eduardo Martins</td><td>Black Label Society</td><td>1.98</td></tr><tr><td>Tim Goyer</td><td>The Police</td><td>1.98</td></tr><tr><td>Enrique Muñoz</td><td>Godsmack</td><td>1.98</td></tr><tr><td>František Wichterlová</td><td>AC/DC</td><td>1.98</td></tr><tr><td>Dominique Lefebvre</td><td>Iron Maiden</td><td>1.98</td></tr><tr><td>Mark Taylor</td><td>Audioslave</td><td>1.98</td></tr><tr><td>Hugh O'Reilly</td><td>Eric Clapton</td><td>1.98</td></tr><tr><td>Luis Rojas</td><td>AC/DC</td><td>1.98</td></tr><tr><td>Fernanda Ramos</td><td>Amy Winehouse</td><td>0.99</td></tr><tr><td>Julia Barnett</td><td>Creedence Clearwater Revival</td><td>0.99</td></tr><tr><td>Kara Nielsen</td><td>Iron Maiden</td><td>0.99</td></tr><tr><td>Wyatt Girard</td><td>Chris Cornell</td><td>0.99</td></tr><tr><td>Luís Gonçalves</td><td>Page & Plant</td><td>0.99</td></tr><tr><td>Stanisław Wójcik</td><td>Creedence Clearwater Revival</td><td>0.99</td></tr><tr><td>Manoj Pareek</td><td>Metallica</td><td>0.99</td></tr><tr><td>Hannah Schneider</td><td>Stone Temple Pilots</td><td>0.99</td></tr><tr><td>Ellie Sullivan</td><td>Audioslave</td><td>0.99</td></tr><tr><td>Enrique Muñoz</td><td>Yo-Yo Ma</td><td>0.99</td></tr><tr><td>Camille Bernard</td><td>The Doors</td><td>0.99</td></tr><tr><td>Ladislav Kovács</td><td>Frank Sinatra</td><td>0.99</td></tr><tr><td>Alexandre Rocha</td><td>Def Leppard</td><td>0.99</td></tr><tr><td>Niklas Schröder</td><td>Alanis Morissette</td><td>0.99</td></tr><tr><td>Luís Gonçalves</td><td>Nirvana</td><td>0.99</td></tr><tr><td>Isabelle Mercier</td><td>Nirvana</td><td>0.99</td></tr><tr><td>Phil Hughes</td><td>Apocalyptica</td><td>0.99</td></tr><tr><td>Astrid Gruber</td><td>Kiss</td><td>0.99</td></tr><tr><td>Hannah Schneider</td><td>Motörhead</td><td>0.99</td></tr><tr><td>Patrick Gray</td><td>The Who</td><td>0.99</td></tr><tr><td>Astrid Gruber</td><td>Iron Maiden</td><td>0.99</td></tr><tr><td>Phil Hughes</td><td>Jota Quest</td><td>0.99</td></tr><tr><td>Frank Ralston</td><td>Deep Purple</td><td>0.99</td></tr><tr><td>Johannes Van der Berg</td><td>The Doors</td><td>0.99</td></tr><tr><td>João Fernandes</td><td>House Of Pain</td><td>0.99</td></tr><tr><td>João Fernandes</td><td>Men At Work</td><td>0.99</td></tr><tr><td>Daan Peeters</td><td>Van Halen</td><td>0.99</td></tr><tr><td>Stanisław Wójcik</td><td>Motörhead</td><td>0.99</td></tr><tr><td>Johannes Van der Berg</td><td>Faith No More</td><td>0.99</td></tr><tr><td>Heather Leacock</td><td>Faith No More</td><td>0.99</td></tr><tr><td>Rishabh Mishra</td><td>Alice In Chains</td><td>0.99</td></tr><tr><td>Tim Goyer</td><td>UB40</td><td>0.99</td></tr><tr><td>Madalena Sampaio</td><td>Chris Cornell</td><td>0.99</td></tr><tr><td>Patrick Gray</td><td>Cake</td><td>0.99</td></tr><tr><td>Edward Francis</td><td>Cake</td><td>0.99</td></tr><tr><td>François Tremblay</td><td>Pearl Jam</td><td>0.99</td></tr><tr><td>John Gordon</td><td>The Police</td><td>0.99</td></tr><tr><td>František Wichterlová</td><td>The Rolling Stones</td><td>0.99</td></tr><tr><td>Marc Dubois</td><td>Creedence Clearwater Revival</td><td>0.99</td></tr><tr><td>Leonie Köhler</td><td>Guns N' Roses</td><td>0.99</td></tr><tr><td>Terhi Hämäläinen</td><td>Faith No More</td><td>0.99</td></tr><tr><td>Niklas Schröder</td><td>Berliner Philharmoniker & Herbert Von Karajan</td><td>0.99</td></tr><tr><td>Martha Silk</td><td>The Clash</td><td>0.99</td></tr><tr><td>Fernanda Ramos</td><td>JET</td><td>0.99</td></tr><tr><td>Kara Nielsen</td><td>Aerosmith</td><td>0.99</td></tr><tr><td>Julia Barnett</td><td>U2</td><td>0.99</td></tr><tr><td>Diego Gutiérrez</td><td>Cake</td><td>0.99</td></tr><tr><td>Bjørn Hansen</td><td>Jamiroquai</td><td>0.99</td></tr><tr><td>Manoj Pareek</td><td>Black Sabbath</td><td>0.99</td></tr><tr><td>Richard Cunningham</td><td>Caetano Veloso</td><td>0.99</td></tr><tr><td>František Wichterlová</td><td>Miles Davis</td><td>0.99</td></tr><tr><td>Kathy Chase</td><td>The Who</td><td>0.99</td></tr><tr><td>Ladislav Kovács</td><td>AC/DC</td><td>0.99</td></tr><tr><td>Mark Taylor</td><td>Apocalyptica</td><td>0.99</td></tr><tr><td>John Gordon</td><td>Ed Motta</td><td>0.99</td></tr><tr><td>Stanisław Wójcik</td><td>Yo-Yo Ma</td><td>0.99</td></tr><tr><td>Madalena Sampaio</td><td>Alice In Chains</td><td>0.99</td></tr><tr><td>Luis Rojas</td><td>Bruce Dickinson</td><td>0.99</td></tr><tr><td>Niklas Schröder</td><td>Jamiroquai</td><td>0.99</td></tr><tr><td>Frank Harris</td><td>Kiss</td><td>0.99</td></tr><tr><td>Joakim Johansson</td><td>The Clash</td><td>0.99</td></tr><tr><td>Marc Dubois</td><td>Antônio Carlos Jobim</td><td>0.99</td></tr><tr><td>Heather Leacock</td><td>Def Leppard</td><td>0.99</td></tr><tr><td>Johannes Van der Berg</td><td>Led Zeppelin</td><td>0.99</td></tr><tr><td>Fynn Zimmermann</td><td>Alanis Morissette</td><td>0.99</td></tr><tr><td>František Wichterlová</td><td>The Doors</td><td>0.99</td></tr><tr><td>Michelle Brooks</td><td>Iron Maiden</td><td>0.99</td></tr><tr><td>Rishabh Mishra</td><td>Amy Winehouse</td><td>0.99</td></tr><tr><td>Patrick Gray</td><td>Ozzy Osbourne</td><td>0.99</td></tr><tr><td>John Gordon</td><td>Cássia Eller</td><td>0.99</td></tr><tr><td>Helena Holý</td><td>Milton Nascimento</td><td>0.99</td></tr><tr><td>Ellie Sullivan</td><td>R.E.M.</td><td>0.99</td></tr><tr><td>Michelle Brooks</td><td>Buddy Guy</td><td>0.99</td></tr><tr><td>Camille Bernard</td><td>Lenny Kravitz</td><td>0.99</td></tr><tr><td>Kara Nielsen</td><td>Foo Fighters</td><td>0.99</td></tr><tr><td>Jennifer Peterson</td><td>Kiss</td><td>0.99</td></tr><tr><td>František Wichterlová</td><td>Judas Priest</td><td>0.99</td></tr><tr><td>Aaron Mitchell</td><td>Alanis Morissette</td><td>0.99</td></tr><tr><td>Marc Dubois</td><td>System Of A Down</td><td>0.99</td></tr><tr><td>Hannah Schneider</td><td>Eric Clapton</td><td>0.99</td></tr><tr><td>Aaron Mitchell</td><td>The Rolling Stones</td><td>0.99</td></tr><tr><td>Marc Dubois</td><td>JET</td><td>0.99</td></tr><tr><td>Helena Holý</td><td>Motörhead</td><td>0.99</td></tr><tr><td>Patrick Gray</td><td>Jimi Hendrix</td><td>0.99</td></tr><tr><td>Manoj Pareek</td><td>Marisa Monte</td><td>0.99</td></tr><tr><td>Rishabh Mishra</td><td>AC/DC</td><td>0.99</td></tr><tr><td>Fynn Zimmermann</td><td>Creedence Clearwater Revival</td><td>0.99</td></tr><tr><td>Frank Harris</td><td>Passengers</td><td>0.99</td></tr><tr><td>Roberto Almeida</td><td>Rush</td><td>0.99</td></tr><tr><td>Aaron Mitchell</td><td>Green Day</td><td>0.99</td></tr><tr><td>Madalena Sampaio</td><td>Gustav Mahler</td><td>0.99</td></tr><tr><td>Patrick Gray</td><td>Faith No More</td><td>0.99</td></tr><tr><td>Hugh O'Reilly</td><td>The Rolling Stones</td><td>0.99</td></tr><tr><td>John Gordon</td><td>Spyro Gyra</td><td>0.99</td></tr><tr><td>Robert Brown</td><td>Nirvana</td><td>0.99</td></tr><tr><td>Enrique Muñoz</td><td>Faith No More</td><td>0.99</td></tr><tr><td>Wyatt Girard</td><td>System Of A Down</td><td>0.99</td></tr><tr><td>Niklas Schröder</td><td>System Of A Down</td><td>0.99</td></tr><tr><td>Camille Bernard</td><td>Deep Purple</td><td>0.99</td></tr><tr><td>Rishabh Mishra</td><td>Ed Motta</td><td>0.99</td></tr><tr><td>Leonie Köhler</td><td>Foo Fighters</td><td>0.99</td></tr><tr><td>Wyatt Girard</td><td>Van Halen</td><td>0.99</td></tr><tr><td>Alexandre Rocha</td><td>Itzhak Perlman</td><td>0.99</td></tr><tr><td>Madalena Sampaio</td><td>Ed Motta</td><td>0.99</td></tr><tr><td>John Gordon</td><td>Def Leppard</td><td>0.99</td></tr><tr><td>Steve Murray</td><td>Os Mutantes</td><td>0.99</td></tr><tr><td>František Wichterlová</td><td>Black Label Society</td><td>0.99</td></tr><tr><td>Patrick Gray</td><td>Led Zeppelin</td><td>0.99</td></tr><tr><td>Eduardo Martins</td><td>Soundgarden</td><td>0.99</td></tr><tr><td>Phil Hughes</td><td>Academy of St. Martin in the Fields & Sir Neville Marriner</td><td>0.99</td></tr><tr><td>Marc Dubois</td><td>Rush</td><td>0.99</td></tr><tr><td>Lucas Mancini</td><td>Aaron Goldberg</td><td>0.99</td></tr><tr><td>Ellie Sullivan</td><td>UB40</td><td>0.99</td></tr><tr><td>Fernanda Ramos</td><td>Incognito</td><td>0.99</td></tr><tr><td>Dominique Lefebvre</td><td>Black Label Society</td><td>0.99</td></tr><tr><td>Phil Hughes</td><td>Legião Urbana</td><td>0.99</td></tr><tr><td>Camille Bernard</td><td>Motörhead</td><td>0.99</td></tr><tr><td>Jennifer Peterson</td><td>Santana</td><td>0.99</td></tr><tr><td>Kathy Chase</td><td>Titãs</td><td>0.99</td></tr><tr><td>Lucas Mancini</td><td>Ozzy Osbourne</td><td>0.99</td></tr><tr><td>Bjørn Hansen</td><td>The Rolling Stones</td><td>0.99</td></tr><tr><td>John Gordon</td><td>Pearl Jam</td><td>0.99</td></tr><tr><td>Bjørn Hansen</td><td>Pink Floyd</td><td>0.99</td></tr><tr><td>Roberto Almeida</td><td>Scorpions</td><td>0.99</td></tr><tr><td>Diego Gutiérrez</td><td>JET</td><td>0.99</td></tr><tr><td>Mark Philips</td><td>Velvet Revolver</td><td>0.99</td></tr><tr><td>John Gordon</td><td>Velvet Revolver</td><td>0.99</td></tr><tr><td>Edward Francis</td><td>Van Halen</td><td>0.99</td></tr><tr><td>Fynn Zimmermann</td><td>Karsh Kale</td><td>0.99</td></tr><tr><td>Bjørn Hansen</td><td>Deep Purple</td><td>0.99</td></tr><tr><td>Ladislav Kovács</td><td>Aerosmith</td><td>0.99</td></tr><tr><td>Phil Hughes</td><td>Pearl Jam</td><td>0.99</td></tr><tr><td>Luís Gonçalves</td><td>Def Leppard</td><td>0.99</td></tr><tr><td>Marc Dubois</td><td>Foo Fighters</td><td>0.99</td></tr><tr><td>Hugh O'Reilly</td><td>Lenny Kravitz</td><td>0.99</td></tr><tr><td>František Wichterlová</td><td>House Of Pain</td><td>0.99</td></tr><tr><td>Patrick Gray</td><td>Vinícius De Moraes</td><td>0.99</td></tr><tr><td>Camille Bernard</td><td>Alanis Morissette</td><td>0.99</td></tr><tr><td>Camille Bernard</td><td>Luciano Pavarotti</td><td>0.99</td></tr><tr><td>Luís Gonçalves</td><td>Black Sabbath</td><td>0.99</td></tr><tr><td>Kathy Chase</td><td>Jota Quest</td><td>0.99</td></tr><tr><td>Wyatt Girard</td><td>U2</td><td>0.99</td></tr><tr><td>Robert Brown</td><td>The Clash</td><td>0.99</td></tr><tr><td>Rishabh Mishra</td><td>Metallica</td><td>0.99</td></tr><tr><td>Luis Rojas</td><td>Frank Sinatra</td><td>0.99</td></tr><tr><td>Ladislav Kovács</td><td>Queen</td><td>0.99</td></tr><tr><td>Diego Gutiérrez</td><td>Jimi Hendrix</td><td>0.99</td></tr><tr><td>Heather Leacock</td><td>System Of A Down</td><td>0.99</td></tr><tr><td>Mark Taylor</td><td>R.E.M.</td><td>0.99</td></tr><tr><td>František Wichterlová</td><td>Cake</td><td>0.99</td></tr><tr><td>Madalena Sampaio</td><td>Van Halen</td><td>0.99</td></tr><tr><td>Jack Smith</td><td>Godsmack</td><td>0.99</td></tr><tr><td>Stanisław Wójcik</td><td>Green Day</td><td>0.99</td></tr><tr><td>Helena Holý</td><td>Cake</td><td>0.99</td></tr><tr><td>Luis Rojas</td><td>Scorpions</td><td>0.99</td></tr><tr><td>Hannah Schneider</td><td>Chris Cornell</td><td>0.99</td></tr><tr><td>Isabelle Mercier</td><td>Pink Floyd</td><td>0.99</td></tr><tr><td>John Gordon</td><td>Lost</td><td>0.99</td></tr><tr><td>František Wichterlová</td><td>Rush</td><td>0.99</td></tr><tr><td>Steve Murray</td><td>Accept</td><td>0.99</td></tr><tr><td>Isabelle Mercier</td><td>Buddy Guy</td><td>0.99</td></tr><tr><td>Isabelle Mercier</td><td>AC/DC</td><td>0.99</td></tr><tr><td>Hannah Schneider</td><td>The Posies</td><td>0.99</td></tr><tr><td>Aaron Mitchell</td><td>Audioslave</td><td>0.99</td></tr><tr><td>Camille Bernard</td><td>Metallica</td><td>0.99</td></tr><tr><td>João Fernandes</td><td>Def Leppard</td><td>0.99</td></tr><tr><td>Enrique Muñoz</td><td>The Cult</td><td>0.99</td></tr><tr><td>Niklas Schröder</td><td>The Police</td><td>0.99</td></tr><tr><td>Heather Leacock</td><td>The Clash</td><td>0.99</td></tr><tr><td>Julia Barnett</td><td>Nirvana</td><td>0.99</td></tr><tr><td>François Tremblay</td><td>Legião Urbana</td><td>0.99</td></tr><tr><td>Mark Taylor</td><td>Mötley Crüe</td><td>0.99</td></tr><tr><td>František Wichterlová</td><td>Marvin Gaye</td><td>0.99</td></tr><tr><td>Helena Holý</td><td>Lulu Santos</td><td>0.99</td></tr><tr><td>Luis Rojas</td><td>Lenny Kravitz</td><td>0.99</td></tr><tr><td>Heather Leacock</td><td>Aerosmith</td><td>0.99</td></tr><tr><td>Johannes Van der Berg</td><td>Santana</td><td>0.99</td></tr><tr><td>Manoj Pareek</td><td>Alanis Morissette</td><td>0.99</td></tr><tr><td>Madalena Sampaio</td><td>Audioslave</td><td>0.99</td></tr><tr><td>Terhi Hämäläinen</td><td>Marvin Gaye</td><td>0.99</td></tr><tr><td>Mark Taylor</td><td>Gilberto Gil</td><td>0.99</td></tr><tr><td>Stanisław Wójcik</td><td>Def Leppard</td><td>0.99</td></tr><tr><td>Hugh O'Reilly</td><td>Velvet Revolver</td><td>0.99</td></tr><tr><td>Heather Leacock</td><td>Raimundos</td><td>0.99</td></tr><tr><td>Tim Goyer</td><td>Guns N' Roses</td><td>0.99</td></tr><tr><td>Camille Bernard</td><td>Cake</td><td>0.99</td></tr><tr><td>Terhi Hämäläinen</td><td>Def Leppard</td><td>0.99</td></tr><tr><td>Rishabh Mishra</td><td>The Rolling Stones</td><td>0.99</td></tr><tr><td>João Fernandes</td><td>JET</td><td>0.99</td></tr><tr><td>František Wichterlová</td><td>Pearl Jam</td><td>0.99</td></tr><tr><td>Terhi Hämäläinen</td><td>Mötley Crüe</td><td>0.99</td></tr><tr><td>Emma Jones</td><td>Lulu Santos</td><td>0.99</td></tr><tr><td>Dominique Lefebvre</td><td>Led Zeppelin</td><td>0.99</td></tr><tr><td>Mark Philips</td><td>Van Halen</td><td>0.99</td></tr><tr><td>Steve Murray</td><td>Cake</td><td>0.99</td></tr><tr><td>João Fernandes</td><td>The Police</td><td>0.99</td></tr><tr><td>Victor Stevens</td><td>Van Halen</td><td>0.99</td></tr><tr><td>Ladislav Kovács</td><td>Lenny Kravitz</td><td>0.99</td></tr><tr><td>Isabelle Mercier</td><td>UB40</td><td>0.99</td></tr><tr><td>Aaron Mitchell</td><td>Marvin Gaye</td><td>0.99</td></tr><tr><td>Edward Francis</td><td>Miles Davis</td><td>0.99</td></tr><tr><td>Dan Miller</td><td>Scorpions</td><td>0.99</td></tr><tr><td>Terhi Hämäläinen</td><td>Deep Purple</td><td>0.99</td></tr><tr><td>Tim Goyer</td><td>Frank Sinatra</td><td>0.99</td></tr><tr><td>Dan Miller</td><td>Black Sabbath</td><td>0.99</td></tr><tr><td>Victor Stevens</td><td>U2</td><td>0.99</td></tr><tr><td>Patrick Gray</td><td>Eric Clapton</td><td>0.99</td></tr><tr><td>Joakim Johansson</td><td>Rush</td><td>0.99</td></tr><tr><td>Luís Gonçalves</td><td>Caetano Veloso</td><td>0.99</td></tr><tr><td>Helena Holý</td><td>Miles Davis</td><td>0.99</td></tr><tr><td>Ladislav Kovács</td><td>Nicolaus Esterhazy Sinfonia</td><td>0.99</td></tr><tr><td>Alexandre Rocha</td><td>R.E.M.</td><td>0.99</td></tr><tr><td>Madalena Sampaio</td><td>Os Paralamas Do Sucesso</td><td>0.99</td></tr><tr><td>Ladislav Kovács</td><td>Lost</td><td>0.99</td></tr><tr><td>Luis Rojas</td><td>Kiss</td><td>0.99</td></tr><tr><td>Martha Silk</td><td>Pearl Jam</td><td>0.99</td></tr><tr><td>Ladislav Kovács</td><td>Jamiroquai</td><td>0.99</td></tr><tr><td>Fernanda Ramos</td><td>Godsmack</td><td>0.99</td></tr><tr><td>Frank Harris</td><td>Eric Clapton</td><td>0.99</td></tr><tr><td>Robert Brown</td><td>Ozzy Osbourne</td><td>0.99</td></tr><tr><td>Michelle Brooks</td><td>Men At Work</td><td>0.99</td></tr><tr><td>Hannah Schneider</td><td>Luciano Pavarotti</td><td>0.99</td></tr><tr><td>Hugh O'Reilly</td><td>Cake</td><td>0.99</td></tr><tr><td>Eduardo Martins</td><td>Aaron Goldberg</td><td>0.99</td></tr><tr><td>Johannes Van der Berg</td><td>Stone Temple Pilots</td><td>0.99</td></tr><tr><td>Ellie Sullivan</td><td>Pink Floyd</td><td>0.99</td></tr><tr><td>Enrique Muñoz</td><td>Van Halen</td><td>0.99</td></tr><tr><td>Alexandre Rocha</td><td>Jorge Ben</td><td>0.99</td></tr><tr><td>Stanisław Wójcik</td><td>The Black Crowes</td><td>0.99</td></tr><tr><td>Roberto Almeida</td><td>Faith No More</td><td>0.99</td></tr><tr><td>Steve Murray</td><td>Metallica</td><td>0.99</td></tr><tr><td>Heather Leacock</td><td>Foo Fighters</td><td>0.99</td></tr><tr><td>Terhi Hämäläinen</td><td>Itzhak Perlman</td><td>0.99</td></tr><tr><td>Rishabh Mishra</td><td>Queen</td><td>0.99</td></tr><tr><td>Daan Peeters</td><td>Incognito</td><td>0.99</td></tr><tr><td>Ellie Sullivan</td><td>Van Halen</td><td>0.99</td></tr><tr><td>Ladislav Kovács</td><td>JET</td><td>0.99</td></tr><tr><td>Hannah Schneider</td><td>Pink Floyd</td><td>0.99</td></tr><tr><td>Dominique Lefebvre</td><td>System Of A Down</td><td>0.99</td></tr><tr><td>Aaron Mitchell</td><td>Amy Winehouse</td><td>0.99</td></tr><tr><td>Leonie Köhler</td><td>Chico Buarque</td><td>0.99</td></tr><tr><td>Frank Ralston</td><td>Alice In Chains</td><td>0.99</td></tr><tr><td>Hugh O'Reilly</td><td>Raul Seixas</td><td>0.99</td></tr><tr><td>Heather Leacock</td><td>JET</td><td>0.99</td></tr><tr><td>František Wichterlová</td><td>Luciano Pavarotti</td><td>0.99</td></tr><tr><td>Kara Nielsen</td><td>The Cult</td><td>0.99</td></tr><tr><td>Fernanda Ramos</td><td>Audioslave</td><td>0.99</td></tr><tr><td>Aaron Mitchell</td><td>Godsmack</td><td>0.99</td></tr><tr><td>Aaron Mitchell</td><td>Mötley Crüe</td><td>0.99</td></tr><tr><td>Eduardo Martins</td><td>Joe Satriani</td><td>0.99</td></tr><tr><td>Roberto Almeida</td><td>Iron Maiden</td><td>0.99</td></tr><tr><td>Aaron Mitchell</td><td>Miles Davis</td><td>0.99</td></tr><tr><td>Dan Miller</td><td>The Doors</td><td>0.99</td></tr><tr><td>Frank Harris</td><td>Raimundos</td><td>0.99</td></tr><tr><td>Edward Francis</td><td>The Clash</td><td>0.99</td></tr><tr><td>Heather Leacock</td><td>Frank Sinatra</td><td>0.99</td></tr><tr><td>Jennifer Peterson</td><td>Apocalyptica</td><td>0.99</td></tr><tr><td>Emma Jones</td><td>Santana</td><td>0.99</td></tr><tr><td>Jack Smith</td><td>Stone Temple Pilots</td><td>0.99</td></tr><tr><td>Johannes Van der Berg</td><td>Metallica</td><td>0.99</td></tr><tr><td>František Wichterlová</td><td>Caetano Veloso</td><td>0.99</td></tr><tr><td>Manoj Pareek</td><td>Queen</td><td>0.99</td></tr><tr><td>Jennifer Peterson</td><td>Iron Maiden</td><td>0.99</td></tr><tr><td>Leonie Köhler</td><td>UB40</td><td>0.99</td></tr><tr><td>Edward Francis</td><td>Deep Purple</td><td>0.99</td></tr><tr><td>Dan Miller</td><td>Pearl Jam</td><td>0.99</td></tr><tr><td>Manoj Pareek</td><td>Page & Plant</td><td>0.99</td></tr><tr><td>Ladislav Kovács</td><td>Creedence Clearwater Revival</td><td>0.99</td></tr><tr><td>Leonie Köhler</td><td>AC/DC</td><td>0.99</td></tr><tr><td>Mark Philips</td><td>Temple of the Dog</td><td>0.99</td></tr><tr><td>Emma Jones</td><td>U2</td><td>0.99</td></tr><tr><td>Steve Murray</td><td>Van Halen</td><td>0.99</td></tr><tr><td>Julia Barnett</td><td>The Who</td><td>0.99</td></tr><tr><td>Enrique Muñoz</td><td>Soundgarden</td><td>0.99</td></tr><tr><td>Lucas Mancini</td><td>Alice In Chains</td><td>0.99</td></tr><tr><td>Wyatt Girard</td><td>Guns N' Roses</td><td>0.99</td></tr><tr><td>Richard Cunningham</td><td>The Rolling Stones</td><td>0.99</td></tr><tr><td>Helena Holý</td><td>Gustav Mahler</td><td>0.99</td></tr><tr><td>Michelle Brooks</td><td>Bruce Dickinson</td><td>0.99</td></tr><tr><td>Rishabh Mishra</td><td>U2</td><td>0.99</td></tr><tr><td>Camille Bernard</td><td>Soundgarden</td><td>0.99</td></tr><tr><td>Joakim Johansson</td><td>Scorpions</td><td>0.99</td></tr><tr><td>Astrid Gruber</td><td>The Police</td><td>0.99</td></tr><tr><td>Terhi Hämäläinen</td><td>James Brown</td><td>0.99</td></tr><tr><td>Richard Cunningham</td><td>Aerosmith</td><td>0.99</td></tr><tr><td>Michelle Brooks</td><td>Apocalyptica</td><td>0.99</td></tr><tr><td>Luis Rojas</td><td>The Rolling Stones</td><td>0.99</td></tr><tr><td>František Wichterlová</td><td>Amy Winehouse</td><td>0.99</td></tr><tr><td>Camille Bernard</td><td>Amy Winehouse</td><td>0.99</td></tr><tr><td>Joakim Johansson</td><td>Nicolaus Esterhazy Sinfonia</td><td>0.99</td></tr><tr><td>Hugh O'Reilly</td><td>Ed Motta</td><td>0.99</td></tr><tr><td>Mark Philips</td><td>AC/DC</td><td>0.99</td></tr><tr><td>Richard Cunningham</td><td>Godsmack</td><td>0.99</td></tr><tr><td>Hugh O'Reilly</td><td>AC/DC</td><td>0.99</td></tr><tr><td>Heather Leacock</td><td>Pink Floyd</td><td>0.99</td></tr><tr><td>Phil Hughes</td><td>James Brown</td><td>0.99</td></tr><tr><td>Madalena Sampaio</td><td>Jota Quest</td><td>0.99</td></tr><tr><td>Frank Ralston</td><td>Green Day</td><td>0.99</td></tr><tr><td>Wyatt Girard</td><td>Lenny Kravitz</td><td>0.99</td></tr><tr><td>Hugh O'Reilly</td><td>Foo Fighters</td><td>0.99</td></tr><tr><td>Madalena Sampaio</td><td>Marvin Gaye</td><td>0.99</td></tr><tr><td>Leonie Köhler</td><td>Metallica</td><td>0.99</td></tr><tr><td>Heather Leacock</td><td>Soundgarden</td><td>0.99</td></tr><tr><td>František Wichterlová</td><td>Falamansa</td><td>0.99</td></tr><tr><td>Helena Holý</td><td>Alanis Morissette</td><td>0.99</td></tr><tr><td>Aaron Mitchell</td><td>Def Leppard</td><td>0.99</td></tr><tr><td>Phil Hughes</td><td>Metallica</td><td>0.99</td></tr><tr><td>Aaron Mitchell</td><td>Scorpions</td><td>0.99</td></tr><tr><td>Dan Miller</td><td>Aerosmith</td><td>0.99</td></tr><tr><td>Stanisław Wójcik</td><td>Skank</td><td>0.99</td></tr><tr><td>Roberto Almeida</td><td>Van Halen</td><td>0.99</td></tr><tr><td>Johannes Van der Berg</td><td>Pearl Jam</td><td>0.99</td></tr><tr><td>Stanisław Wójcik</td><td>Kiss</td><td>0.99</td></tr><tr><td>Tim Goyer</td><td>AC/DC</td><td>0.99</td></tr><tr><td>Mark Philips</td><td>Aisha Duo</td><td>0.99</td></tr><tr><td>Johannes Van der Berg</td><td>Alanis Morissette</td><td>0.99</td></tr><tr><td>Frank Ralston</td><td>Scorpions</td><td>0.99</td></tr><tr><td>Lucas Mancini</td><td>Santana</td><td>0.99</td></tr><tr><td>Mark Taylor</td><td>Lenny Kravitz</td><td>0.99</td></tr><tr><td>Emma Jones</td><td>Marvin Gaye</td><td>0.99</td></tr><tr><td>Roberto Almeida</td><td>Skank</td><td>0.99</td></tr><tr><td>Ladislav Kovács</td><td>Skank</td><td>0.99</td></tr><tr><td>Ellie Sullivan</td><td>Legião Urbana</td><td>0.99</td></tr><tr><td>Hugh O'Reilly</td><td>U2</td><td>0.99</td></tr><tr><td>Bjørn Hansen</td><td>Body Count</td><td>0.99</td></tr><tr><td>Patrick Gray</td><td>Apocalyptica</td><td>0.99</td></tr><tr><td>François Tremblay</td><td>Buddy Guy</td><td>0.99</td></tr><tr><td>Dan Miller</td><td>Os Mutantes</td><td>0.99</td></tr><tr><td>Bjørn Hansen</td><td>Red Hot Chili Peppers</td><td>0.99</td></tr><tr><td>Eduardo Martins</td><td>Aerosmith</td><td>0.99</td></tr><tr><td>Rishabh Mishra</td><td>Apocalyptica</td><td>0.99</td></tr><tr><td>Michelle Brooks</td><td>Foo Fighters</td><td>0.99</td></tr><tr><td>Alexandre Rocha</td><td>Scorpions</td><td>0.99</td></tr><tr><td>Emma Jones</td><td>Green Day</td><td>0.99</td></tr><tr><td>Julia Barnett</td><td>Deep Purple</td><td>0.99</td></tr><tr><td>Richard Cunningham</td><td>Led Zeppelin</td><td>0.99</td></tr><tr><td>Enrique Muñoz</td><td>Judas Priest</td><td>0.99</td></tr><tr><td>Richard Cunningham</td><td>The Cult</td><td>0.99</td></tr><tr><td>Wyatt Girard</td><td>Soundgarden</td><td>0.99</td></tr><tr><td>Ellie Sullivan</td><td>Page & Plant</td><td>0.99</td></tr><tr><td>Niklas Schröder</td><td>The Clash</td><td>0.99</td></tr><tr><td>Hugh O'Reilly</td><td>Aerosmith</td><td>0.99</td></tr><tr><td>Victor Stevens</td><td>Green Day</td><td>0.99</td></tr><tr><td>Rishabh Mishra</td><td>Motörhead</td><td>0.99</td></tr><tr><td>Hugh O'Reilly</td><td>Battlestar Galactica</td><td>0.99</td></tr><tr><td>Fernanda Ramos</td><td>Gustav Mahler</td><td>0.99</td></tr><tr><td>Jennifer Peterson</td><td>Black Label Society</td><td>0.99</td></tr><tr><td>John Gordon</td><td>The Rolling Stones</td><td>0.99</td></tr><tr><td>Leonie Köhler</td><td>Scorpions</td><td>0.99</td></tr><tr><td>Astrid Gruber</td><td>The Who</td><td>0.99</td></tr><tr><td>João Fernandes</td><td>Amy Winehouse</td><td>0.99</td></tr><tr><td>Enrique Muñoz</td><td>Temple of the Dog</td><td>0.99</td></tr><tr><td>John Gordon</td><td>Marillion</td><td>0.99</td></tr><tr><td>John Gordon</td><td>Ozzy Osbourne</td><td>0.99</td></tr><tr><td>Alexandre Rocha</td><td>Guns N' Roses</td><td>0.99</td></tr><tr><td>Ladislav Kovács</td><td>Led Zeppelin</td><td>0.99</td></tr><tr><td>Michelle Brooks</td><td>Chris Cornell</td><td>0.99</td></tr><tr><td>Ellie Sullivan</td><td>Passengers</td><td>0.99</td></tr><tr><td>Frank Ralston</td><td>Accept</td><td>0.99</td></tr><tr><td>Lucas Mancini</td><td>Eric Clapton</td><td>0.99</td></tr><tr><td>Alexandre Rocha</td><td>Chico Buarque</td><td>0.99</td></tr><tr><td>Tim Goyer</td><td>Men At Work</td><td>0.99</td></tr><tr><td>Hugh O'Reilly</td><td>R.E.M.</td><td>0.99</td></tr><tr><td>Diego Gutiérrez</td><td>James Brown</td><td>0.99</td></tr><tr><td>Ellie Sullivan</td><td>Santana</td><td>0.99</td></tr><tr><td>Jennifer Peterson</td><td>U2</td><td>0.99</td></tr><tr><td>Joakim Johansson</td><td>U2</td><td>0.99</td></tr><tr><td>Heather Leacock</td><td>Red Hot Chili Peppers</td><td>0.99</td></tr><tr><td>Johannes Van der Berg</td><td>Iron Maiden</td><td>0.99</td></tr><tr><td>Mark Philips</td><td>Deep Purple</td><td>0.99</td></tr><tr><td>Mark Taylor</td><td>Alice In Chains</td><td>0.99</td></tr><tr><td>Kathy Chase</td><td>Calexico</td><td>0.99</td></tr><tr><td>Joakim Johansson</td><td>Audioslave</td><td>0.99</td></tr><tr><td>John Gordon</td><td>Buddy Guy</td><td>0.99</td></tr><tr><td>Tim Goyer</td><td>The Doors</td><td>0.99</td></tr><tr><td>Astrid Gruber</td><td>The Clash</td><td>0.99</td></tr><tr><td>Hugh O'Reilly</td><td>Santana</td><td>0.99</td></tr><tr><td>Ellie Sullivan</td><td>JET</td><td>0.99</td></tr><tr><td>Edward Francis</td><td>Metallica</td><td>0.99</td></tr><tr><td>Hugh O'Reilly</td><td>Raimundos</td><td>0.99</td></tr><tr><td>Rishabh Mishra</td><td>Cake</td><td>0.99</td></tr><tr><td>Tim Goyer</td><td>Santana</td><td>0.99</td></tr><tr><td>Tim Goyer</td><td>Billy Cobham</td><td>0.99</td></tr><tr><td>Phil Hughes</td><td>Kiss</td><td>0.99</td></tr><tr><td>Stanisław Wójcik</td><td>Calexico</td><td>0.99</td></tr><tr><td>João Fernandes</td><td>Milton Nascimento</td><td>0.99</td></tr><tr><td>Hannah Schneider</td><td>Frank Sinatra</td><td>0.99</td></tr><tr><td>Camille Bernard</td><td>The Police</td><td>0.99</td></tr><tr><td>Leonie Köhler</td><td>Miles Davis</td><td>0.99</td></tr><tr><td>Rishabh Mishra</td><td>The Doors</td><td>0.99</td></tr><tr><td>Heather Leacock</td><td>Eric Clapton</td><td>0.99</td></tr><tr><td>Luis Rojas</td><td>Foo Fighters</td><td>0.99</td></tr><tr><td>Lucas Mancini</td><td>JET</td><td>0.99</td></tr><tr><td>Aaron Mitchell</td><td>Black Sabbath</td><td>0.99</td></tr><tr><td>Luis Rojas</td><td>The Posies</td><td>0.99</td></tr><tr><td>Alexandre Rocha</td><td>Caetano Veloso</td><td>0.99</td></tr><tr><td>Madalena Sampaio</td><td>Ozzy Osbourne</td><td>0.99</td></tr><tr><td>John Gordon</td><td>Foo Fighters</td><td>0.99</td></tr><tr><td>František Wichterlová</td><td>Chico Buarque</td><td>0.99</td></tr><tr><td>Jennifer Peterson</td><td>Mötley Crüe</td><td>0.99</td></tr><tr><td>Dominique Lefebvre</td><td>Soundgarden</td><td>0.99</td></tr><tr><td>Aaron Mitchell</td><td>Red Hot Chili Peppers</td><td>0.99</td></tr><tr><td>František Wichterlová</td><td>Pink Floyd</td><td>0.99</td></tr><tr><td>Hannah Schneider</td><td>Rush</td><td>0.99</td></tr><tr><td>Fynn Zimmermann</td><td>Lenny Kravitz</td><td>0.99</td></tr><tr><td>Kathy Chase</td><td>UB40</td><td>0.99</td></tr><tr><td>Mark Philips</td><td>Jimi Hendrix</td><td>0.99</td></tr><tr><td>Steve Murray</td><td>Cidade Negra</td><td>0.99</td></tr><tr><td>Michelle Brooks</td><td>Caetano Veloso</td><td>0.99</td></tr><tr><td>Diego Gutiérrez</td><td>Guns N' Roses</td><td>0.99</td></tr><tr><td>Luís Gonçalves</td><td>Metallica</td><td>0.99</td></tr><tr><td>John Gordon</td><td>Chris Cornell</td><td>0.99</td></tr><tr><td>Roberto Almeida</td><td>Nirvana</td><td>0.99</td></tr><tr><td>Jennifer Peterson</td><td>Eric Clapton</td><td>0.99</td></tr><tr><td>Helena Holý</td><td>James Brown</td><td>0.99</td></tr><tr><td>Michelle Brooks</td><td>Miles Davis</td><td>0.99</td></tr><tr><td>Bjørn Hansen</td><td>Cake</td><td>0.99</td></tr><tr><td>Tim Goyer</td><td>Tim Maia</td><td>0.99</td></tr><tr><td>Marc Dubois</td><td>Def Leppard</td><td>0.99</td></tr><tr><td>Camille Bernard</td><td>Calexico</td><td>0.99</td></tr><tr><td>Mark Taylor</td><td>Creedence Clearwater Revival</td><td>0.99</td></tr><tr><td>Eduardo Martins</td><td>Black Sabbath</td><td>0.99</td></tr><tr><td>Luís Gonçalves</td><td>Pearl Jam</td><td>0.99</td></tr><tr><td>Eduardo Martins</td><td>The Rolling Stones</td><td>0.99</td></tr><tr><td>Daan Peeters</td><td>O Rappa</td><td>0.99</td></tr><tr><td>Madalena Sampaio</td><td>Led Zeppelin</td><td>0.99</td></tr><tr><td>Julia Barnett</td><td>Soundgarden</td><td>0.99</td></tr><tr><td>Isabelle Mercier</td><td>Lenny Kravitz</td><td>0.99</td></tr><tr><td>František Wichterlová</td><td>Metallica</td><td>0.99</td></tr><tr><td>Mark Taylor</td><td>Marillion</td><td>0.99</td></tr><tr><td>Bjørn Hansen</td><td>Jorge Ben</td><td>0.99</td></tr><tr><td>Mark Philips</td><td>The Who</td><td>0.99</td></tr><tr><td>Luís Gonçalves</td><td>Stone Temple Pilots</td><td>0.99</td></tr><tr><td>Ladislav Kovács</td><td>R.E.M.</td><td>0.99</td></tr><tr><td>Enrique Muñoz</td><td>Eric Clapton</td><td>0.99</td></tr><tr><td>Luis Rojas</td><td>Marvin Gaye</td><td>0.99</td></tr><tr><td>Eduardo Martins</td><td>Santana</td><td>0.99</td></tr><tr><td>Isabelle Mercier</td><td>The Police</td><td>0.99</td></tr><tr><td>Julia Barnett</td><td>Body Count</td><td>0.99</td></tr><tr><td>Isabelle Mercier</td><td>Red Hot Chili Peppers</td><td>0.99</td></tr><tr><td>Steve Murray</td><td>System Of A Down</td><td>0.99</td></tr><tr><td>Mark Taylor</td><td>Amy Winehouse</td><td>0.99</td></tr><tr><td>Richard Cunningham</td><td>Frank Sinatra</td><td>0.99</td></tr><tr><td>Mark Taylor</td><td>The Rolling Stones</td><td>0.99</td></tr><tr><td>Joakim Johansson</td><td>Def Leppard</td><td>0.99</td></tr><tr><td>Terhi Hämäläinen</td><td>R.E.M.</td><td>0.99</td></tr><tr><td>Madalena Sampaio</td><td>Cake</td><td>0.99</td></tr><tr><td>Phil Hughes</td><td>Gustav Mahler</td><td>0.99</td></tr><tr><td>Camille Bernard</td><td>AC/DC</td><td>0.99</td></tr><tr><td>Joakim Johansson</td><td>Funk Como Le Gusta</td><td>0.99</td></tr><tr><td>Ellie Sullivan</td><td>Scorpions</td><td>0.99</td></tr><tr><td>Kathy Chase</td><td>Amy Winehouse</td><td>0.99</td></tr><tr><td>Fernanda Ramos</td><td>The Cult</td><td>0.99</td></tr><tr><td>Roberto Almeida</td><td>Lenny Kravitz</td><td>0.99</td></tr><tr><td>Mark Taylor</td><td>Titãs</td><td>0.99</td></tr><tr><td>Luís Gonçalves</td><td>Foo Fighters</td><td>0.99</td></tr><tr><td>Hannah Schneider</td><td>Cake</td><td>0.99</td></tr><tr><td>Luis Rojas</td><td>Tim Maia</td><td>0.99</td></tr><tr><td>Luis Rojas</td><td>Calexico</td><td>0.99</td></tr><tr><td>Patrick Gray</td><td>Jamiroquai</td><td>0.99</td></tr><tr><td>Frank Ralston</td><td>Foo Fighters</td><td>0.99</td></tr><tr><td>Martha Silk</td><td>Deep Purple</td><td>0.99</td></tr><tr><td>Luís Gonçalves</td><td>System Of A Down</td><td>0.99</td></tr><tr><td>Eduardo Martins</td><td>AC/DC</td><td>0.99</td></tr><tr><td>Aaron Mitchell</td><td>House Of Pain</td><td>0.99</td></tr><tr><td>Martha Silk</td><td>Metallica</td><td>0.99</td></tr><tr><td>Joakim Johansson</td><td>Black Sabbath</td><td>0.99</td></tr><tr><td>Julia Barnett</td><td>Velvet Revolver</td><td>0.99</td></tr><tr><td>Frank Harris</td><td>Red Hot Chili Peppers</td><td>0.99</td></tr><tr><td>Steve Murray</td><td>Godsmack</td><td>0.99</td></tr><tr><td>Roberto Almeida</td><td>Stone Temple Pilots</td><td>0.99</td></tr><tr><td>Alexandre Rocha</td><td>System Of A Down</td><td>0.99</td></tr><tr><td>João Fernandes</td><td>Incognito</td><td>0.99</td></tr><tr><td>František Wichterlová</td><td>Temple of the Dog</td><td>0.99</td></tr><tr><td>Patrick Gray</td><td>R.E.M.</td><td>0.99</td></tr><tr><td>Isabelle Mercier</td><td>Pearl Jam</td><td>0.99</td></tr><tr><td>Diego Gutiérrez</td><td>The Doors</td><td>0.99</td></tr><tr><td>Luís Gonçalves</td><td>Santana</td><td>0.99</td></tr><tr><td>François Tremblay</td><td>Alice In Chains</td><td>0.99</td></tr><tr><td>Rishabh Mishra</td><td>O Rappa</td><td>0.99</td></tr><tr><td>Camille Bernard</td><td>Led Zeppelin</td><td>0.99</td></tr><tr><td>Niklas Schröder</td><td>The Who</td><td>0.99</td></tr><tr><td>Martha Silk</td><td>Men At Work</td><td>0.99</td></tr><tr><td>Fernanda Ramos</td><td>James Levine</td><td>0.99</td></tr><tr><td>Wyatt Girard</td><td>The Black Crowes</td><td>0.99</td></tr><tr><td>Frank Ralston</td><td>Pink Floyd</td><td>0.99</td></tr><tr><td>Alexandre Rocha</td><td>Black Sabbath</td><td>0.99</td></tr><tr><td>Edward Francis</td><td>Jimi Hendrix</td><td>0.99</td></tr><tr><td>Roberto Almeida</td><td>Audioslave</td><td>0.99</td></tr><tr><td>Jennifer Peterson</td><td>Foo Fighters</td><td>0.99</td></tr><tr><td>Frank Harris</td><td>Marvin Gaye</td><td>0.99</td></tr><tr><td>Fernanda Ramos</td><td>Jimi Hendrix</td><td>0.99</td></tr><tr><td>Helena Holý</td><td>Calexico</td><td>0.99</td></tr><tr><td>Heather Leacock</td><td>UB40</td><td>0.99</td></tr><tr><td>Edward Francis</td><td>Kiss</td><td>0.99</td></tr><tr><td>Camille Bernard</td><td>Pink Floyd</td><td>0.99</td></tr><tr><td>Tim Goyer</td><td>Alice In Chains</td><td>0.99</td></tr><tr><td>Marc Dubois</td><td>Aerosmith</td><td>0.99</td></tr><tr><td>Victor Stevens</td><td>Soundgarden</td><td>0.99</td></tr><tr><td>Johannes Van der Berg</td><td>Guns N' Roses</td><td>0.99</td></tr><tr><td>Hannah Schneider</td><td>Creedence Clearwater Revival</td><td>0.99</td></tr><tr><td>Dominique Lefebvre</td><td>UB40</td><td>0.99</td></tr><tr><td>Marc Dubois</td><td>Os Mutantes</td><td>0.99</td></tr><tr><td>Aaron Mitchell</td><td>Jota Quest</td><td>0.99</td></tr><tr><td>Daan Peeters</td><td>Nirvana</td><td>0.99</td></tr><tr><td>Astrid Gruber</td><td>Chico Buarque</td><td>0.99</td></tr><tr><td>Manoj Pareek</td><td>Jota Quest</td><td>0.99</td></tr><tr><td>Helena Holý</td><td>The Rolling Stones</td><td>0.99</td></tr><tr><td>Isabelle Mercier</td><td>Guns N' Roses</td><td>0.99</td></tr><tr><td>Johannes Van der Berg</td><td>Cake</td><td>0.99</td></tr><tr><td>Marc Dubois</td><td>James Brown</td><td>0.99</td></tr><tr><td>Aaron Mitchell</td><td>The Who</td><td>0.99</td></tr><tr><td>Frank Ralston</td><td>Metallica</td><td>0.99</td></tr><tr><td>Stanisław Wójcik</td><td>Eric Clapton</td><td>0.99</td></tr><tr><td>Alexandre Rocha</td><td>Jimi Hendrix</td><td>0.99</td></tr><tr><td>Fernanda Ramos</td><td>Luciana Souza/Romero Lubambo</td><td>0.99</td></tr><tr><td>François Tremblay</td><td>The Rolling Stones</td><td>0.99</td></tr><tr><td>Enrique Muñoz</td><td>JET</td><td>0.99</td></tr><tr><td>Hannah Schneider</td><td>Van Halen</td><td>0.99</td></tr><tr><td>Richard Cunningham</td><td>Temple of the Dog</td><td>0.99</td></tr><tr><td>François Tremblay</td><td>Kiss</td><td>0.99</td></tr><tr><td>Madalena Sampaio</td><td>Guns N' Roses</td><td>0.99</td></tr><tr><td>Richard Cunningham</td><td>Lulu Santos</td><td>0.99</td></tr><tr><td>Fernanda Ramos</td><td>Frank Sinatra</td><td>0.99</td></tr><tr><td>John Gordon</td><td>Deep Purple</td><td>0.99</td></tr><tr><td>Leonie Köhler</td><td>Motörhead</td><td>0.99</td></tr><tr><td>Hugh O'Reilly</td><td>The Police</td><td>0.99</td></tr><tr><td>Victor Stevens</td><td>Marillion</td><td>0.99</td></tr><tr><td>Emma Jones</td><td>Black Label Society</td><td>0.99</td></tr><tr><td>František Wichterlová</td><td>Velvet Revolver</td><td>0.99</td></tr><tr><td>Leonie Köhler</td><td>U2</td><td>0.99</td></tr><tr><td>Aaron Mitchell</td><td>Eric Clapton</td><td>0.99</td></tr><tr><td>Niklas Schröder</td><td>James Brown</td><td>0.99</td></tr><tr><td>Ladislav Kovács</td><td>Alice In Chains</td><td>0.99</td></tr><tr><td>Madalena Sampaio</td><td>Marisa Monte</td><td>0.99</td></tr><tr><td>Jack Smith</td><td>Pink Floyd</td><td>0.99</td></tr><tr><td>Astrid Gruber</td><td>Joe Satriani</td><td>0.99</td></tr><tr><td>João Fernandes</td><td>The Doors</td><td>0.99</td></tr><tr><td>Aaron Mitchell</td><td>Aerosmith</td><td>0.99</td></tr><tr><td>Hannah Schneider</td><td>Gilberto Gil</td><td>0.99</td></tr><tr><td>Victor Stevens</td><td>Red Hot Chili Peppers</td><td>0.99</td></tr><tr><td>Dominique Lefebvre</td><td>Men At Work</td><td>0.99</td></tr><tr><td>Hannah Schneider</td><td>Vinícius De Moraes</td><td>0.99</td></tr><tr><td>Phil Hughes</td><td>Guns N' Roses</td><td>0.99</td></tr><tr><td>Frank Harris</td><td>Def Leppard</td><td>0.99</td></tr><tr><td>Martha Silk</td><td>Kiss</td><td>0.99</td></tr><tr><td>Ellie Sullivan</td><td>Jimi Hendrix</td><td>0.99</td></tr><tr><td>Terhi Hämäläinen</td><td>Gilberto Gil</td><td>0.99</td></tr><tr><td>Stanisław Wójcik</td><td>Audioslave</td><td>0.99</td></tr><tr><td>Frank Harris</td><td>System Of A Down</td><td>0.99</td></tr><tr><td>Daan Peeters</td><td>Jimi Hendrix</td><td>0.99</td></tr><tr><td>John Gordon</td><td>UB40</td><td>0.99</td></tr><tr><td>Jack Smith</td><td>Accept</td><td>0.99</td></tr><tr><td>Steve Murray</td><td>Aerosmith</td><td>0.99</td></tr><tr><td>François Tremblay</td><td>Pink Floyd</td><td>0.99</td></tr><tr><td>Niklas Schröder</td><td>Deep Purple</td><td>0.99</td></tr><tr><td>Dominique Lefebvre</td><td>The Doors</td><td>0.99</td></tr><tr><td>Niklas Schröder</td><td>Christopher O'Riley</td><td>0.99</td></tr><tr><td>Frank Ralston</td><td>The Who</td><td>0.99</td></tr><tr><td>Martha Silk</td><td>Chris Cornell</td><td>0.99</td></tr><tr><td>Camille Bernard</td><td>Queen</td><td>0.99</td></tr><tr><td>Michelle Brooks</td><td>Godsmack</td><td>0.99</td></tr><tr><td>Patrick Gray</td><td>Red Hot Chili Peppers</td><td>0.99</td></tr><tr><td>Isabelle Mercier</td><td>Santana</td><td>0.99</td></tr><tr><td>Luis Rojas</td><td>Lulu Santos</td><td>0.99</td></tr><tr><td>Niklas Schröder</td><td>Miles Davis</td><td>0.99</td></tr><tr><td>Niklas Schröder</td><td>Kiss</td><td>0.99</td></tr><tr><td>Jack Smith</td><td>Santana</td><td>0.99</td></tr><tr><td>Dan Miller</td><td>Iron Maiden</td><td>0.99</td></tr><tr><td>Isabelle Mercier</td><td>The Black Crowes</td><td>0.99</td></tr><tr><td>Julia Barnett</td><td>Maurizio Pollini</td><td>0.99</td></tr><tr><td>Johannes Van der Berg</td><td>Judas Priest</td><td>0.99</td></tr><tr><td>Julia Barnett</td><td>Def Leppard</td><td>0.99</td></tr><tr><td>Tim Goyer</td><td>Luciano Pavarotti</td><td>0.99</td></tr><tr><td>Marc Dubois</td><td>Jamiroquai</td><td>0.99</td></tr><tr><td>Julia Barnett</td><td>Motörhead</td><td>0.99</td></tr><tr><td>Helena Holý</td><td>Luciano Pavarotti</td><td>0.99</td></tr><tr><td>Rishabh Mishra</td><td>Foo Fighters</td><td>0.99</td></tr><tr><td>Luis Rojas</td><td>Cake</td><td>0.99</td></tr><tr><td>Wyatt Girard</td><td>Pink Floyd</td><td>0.99</td></tr><tr><td>Frank Harris</td><td>The Who</td><td>0.99</td></tr><tr><td>João Fernandes</td><td>U2</td><td>0.99</td></tr><tr><td>Jack Smith</td><td>Eric Clapton</td><td>0.99</td></tr><tr><td>Mark Taylor</td><td>Itzhak Perlman</td><td>0.99</td></tr><tr><td>François Tremblay</td><td>Nirvana</td><td>0.99</td></tr><tr><td>Enrique Muñoz</td><td>Cake</td><td>0.99</td></tr><tr><td>Leonie Köhler</td><td>Judas Priest</td><td>0.99</td></tr><tr><td>Emma Jones</td><td>Olodum</td><td>0.99</td></tr><tr><td>Daan Peeters</td><td>System Of A Down</td><td>0.99</td></tr><tr><td>Marc Dubois</td><td>U2</td><td>0.99</td></tr><tr><td>Camille Bernard</td><td>House Of Pain</td><td>0.99</td></tr><tr><td>Manoj Pareek</td><td>Red Hot Chili Peppers</td><td>0.99</td></tr><tr><td>Daan Peeters</td><td>The Police</td><td>0.99</td></tr><tr><td>Steve Murray</td><td>Gustav Mahler</td><td>0.99</td></tr><tr><td>Luís Gonçalves</td><td>Apocalyptica</td><td>0.99</td></tr><tr><td>Rishabh Mishra</td><td>Kiss</td><td>0.99</td></tr><tr><td>Kathy Chase</td><td>Motörhead</td><td>0.99</td></tr><tr><td>Ladislav Kovács</td><td>Judas Priest</td><td>0.99</td></tr><tr><td>Julia Barnett</td><td>Judas Priest</td><td>0.99</td></tr><tr><td>Julia Barnett</td><td>Green Day</td><td>0.99</td></tr><tr><td>Enrique Muñoz</td><td>Pink Floyd</td><td>0.99</td></tr><tr><td>Enrique Muñoz</td><td>R.E.M.</td><td>0.99</td></tr><tr><td>Mark Taylor</td><td>Nirvana</td><td>0.99</td></tr><tr><td>Roberto Almeida</td><td>Black Label Society</td><td>0.99</td></tr><tr><td>Dan Miller</td><td>Miles Davis</td><td>0.99</td></tr><tr><td>Michelle Brooks</td><td>Audioslave</td><td>0.99</td></tr><tr><td>Tim Goyer</td><td>Queen</td><td>0.99</td></tr><tr><td>Camille Bernard</td><td>Djavan</td><td>0.99</td></tr><tr><td>Ellie Sullivan</td><td>Mötley Crüe</td><td>0.99</td></tr><tr><td>Daan Peeters</td><td>Velvet Revolver</td><td>0.99</td></tr><tr><td>Helena Holý</td><td>Antônio Carlos Jobim</td><td>0.99</td></tr><tr><td>Ellie Sullivan</td><td>Titãs</td><td>0.99</td></tr><tr><td>Stanisław Wójcik</td><td>David Coverdale</td><td>0.99</td></tr><tr><td>Enrique Muñoz</td><td>Gonzaguinha</td><td>0.99</td></tr><tr><td>Isabelle Mercier</td><td>Emerson String Quartet</td><td>0.99</td></tr><tr><td>Michelle Brooks</td><td>Ozzy Osbourne</td><td>0.99</td></tr><tr><td>Diego Gutiérrez</td><td>The Black Crowes</td><td>0.99</td></tr><tr><td>Roberto Almeida</td><td>Ozzy Osbourne</td><td>0.99</td></tr><tr><td>Enrique Muñoz</td><td>Alice In Chains</td><td>0.99</td></tr><tr><td>Kathy Chase</td><td>U2</td><td>0.99</td></tr><tr><td>Alexandre Rocha</td><td>James Brown</td><td>0.99</td></tr><tr><td>Astrid Gruber</td><td>Creedence Clearwater Revival</td><td>0.99</td></tr><tr><td>Helena Holý</td><td>O Rappa</td><td>0.99</td></tr><tr><td>Camille Bernard</td><td>Bruce Dickinson</td><td>0.99</td></tr><tr><td>Daan Peeters</td><td>Kiss</td><td>0.99</td></tr><tr><td>Daan Peeters</td><td>Cake</td><td>0.99</td></tr><tr><td>Jack Smith</td><td>AC/DC</td><td>0.99</td></tr><tr><td>Julia Barnett</td><td>Marvin Gaye</td><td>0.99</td></tr><tr><td>Victor Stevens</td><td>Black Label Society</td><td>0.99</td></tr><tr><td>Mark Philips</td><td>Judas Priest</td><td>0.99</td></tr><tr><td>Michelle Brooks</td><td>Yo-Yo Ma</td><td>0.99</td></tr><tr><td>Diego Gutiérrez</td><td>Frank Sinatra</td><td>0.99</td></tr><tr><td>Tim Goyer</td><td>Stone Temple Pilots</td><td>0.99</td></tr><tr><td>Ellie Sullivan</td><td>Def Leppard</td><td>0.99</td></tr><tr><td>Lucas Mancini</td><td>The Doors</td><td>0.99</td></tr><tr><td>Rishabh Mishra</td><td>Men At Work</td><td>0.99</td></tr><tr><td>Isabelle Mercier</td><td>Audioslave</td><td>0.99</td></tr><tr><td>Enrique Muñoz</td><td>Creedence Clearwater Revival</td><td>0.99</td></tr><tr><td>Luís Gonçalves</td><td>Van Halen</td><td>0.99</td></tr><tr><td>Patrick Gray</td><td>Marvin Gaye</td><td>0.99</td></tr><tr><td>Jack Smith</td><td>Jimi Hendrix</td><td>0.99</td></tr><tr><td>Madalena Sampaio</td><td>Temple of the Dog</td><td>0.99</td></tr><tr><td>Frank Harris</td><td>Pearl Jam</td><td>0.99</td></tr><tr><td>Mark Philips</td><td>JET</td><td>0.99</td></tr><tr><td>Michelle Brooks</td><td>Lenny Kravitz</td><td>0.99</td></tr><tr><td>Ellie Sullivan</td><td>Skank</td><td>0.99</td></tr><tr><td>Terhi Hämäläinen</td><td>Accept</td><td>0.99</td></tr><tr><td>Richard Cunningham</td><td>Funk Como Le Gusta</td><td>0.99</td></tr><tr><td>Frank Ralston</td><td>UB40</td><td>0.99</td></tr><tr><td>Emma Jones</td><td>Jota Quest</td><td>0.99</td></tr><tr><td>Mark Philips</td><td>Led Zeppelin</td><td>0.99</td></tr><tr><td>Martha Silk</td><td>Aerosmith</td><td>0.99</td></tr><tr><td>Victor Stevens</td><td>Os Mutantes</td><td>0.99</td></tr><tr><td>Emma Jones</td><td>Ozzy Osbourne</td><td>0.99</td></tr><tr><td>Emma Jones</td><td>Audioslave</td><td>0.99</td></tr><tr><td>John Gordon</td><td>Nirvana</td><td>0.99</td></tr><tr><td>Robert Brown</td><td>Pearl Jam</td><td>0.99</td></tr><tr><td>Steve Murray</td><td>Luciano Pavarotti</td><td>0.99</td></tr><tr><td>Fernanda Ramos</td><td>Miles Davis</td><td>0.99</td></tr><tr><td>Luís Gonçalves</td><td>Joe Satriani</td><td>0.99</td></tr><tr><td>Roberto Almeida</td><td>Creedence Clearwater Revival</td><td>0.99</td></tr><tr><td>Daan Peeters</td><td>Luciana Souza/Romero Lubambo</td><td>0.99</td></tr><tr><td>Enrique Muñoz</td><td>House Of Pain</td><td>0.99</td></tr><tr><td>Ellie Sullivan</td><td>The Clash</td><td>0.99</td></tr><tr><td>Helena Holý</td><td>Os Mutantes</td><td>0.99</td></tr><tr><td>Astrid Gruber</td><td>AC/DC</td><td>0.99</td></tr><tr><td>Jack Smith</td><td>Temple of the Dog</td><td>0.99</td></tr><tr><td>Manoj Pareek</td><td>The Who</td><td>0.99</td></tr><tr><td>Lucas Mancini</td><td>Green Day</td><td>0.99</td></tr><tr><td>Kara Nielsen</td><td>Def Leppard</td><td>0.99</td></tr><tr><td>Daan Peeters</td><td>Green Day</td><td>0.99</td></tr><tr><td>Kathy Chase</td><td>Frank Sinatra</td><td>0.99</td></tr><tr><td>Edward Francis</td><td>Frank Sinatra</td><td>0.99</td></tr><tr><td>Steve Murray</td><td>The Doors</td><td>0.99</td></tr><tr><td>Terhi Hämäläinen</td><td>Maurizio Pollini</td><td>0.99</td></tr><tr><td>Leonie Köhler</td><td>Apocalyptica</td><td>0.99</td></tr><tr><td>Camille Bernard</td><td>Men At Work</td><td>0.99</td></tr><tr><td>Fernanda Ramos</td><td>Queen</td><td>0.99</td></tr><tr><td>Helena Holý</td><td>Gonzaguinha</td><td>0.99</td></tr><tr><td>Bjørn Hansen</td><td>Foo Fighters</td><td>0.99</td></tr><tr><td>John Gordon</td><td>Apocalyptica</td><td>0.99</td></tr><tr><td>Niklas Schröder</td><td>Pearl Jam</td><td>0.99</td></tr><tr><td>Wyatt Girard</td><td>Men At Work</td><td>0.99</td></tr><tr><td>Manoj Pareek</td><td>U2</td><td>0.99</td></tr><tr><td>Frank Ralston</td><td>Iron Maiden</td><td>0.99</td></tr><tr><td>Alexandre Rocha</td><td>Motörhead</td><td>0.99</td></tr><tr><td>Leonie Köhler</td><td>Red Hot Chili Peppers</td><td>0.99</td></tr><tr><td>Hugh O'Reilly</td><td>Green Day</td><td>0.99</td></tr><tr><td>Hannah Schneider</td><td>Billy Cobham</td><td>0.99</td></tr><tr><td>Wyatt Girard</td><td>UB40</td><td>0.99</td></tr><tr><td>Heather Leacock</td><td>Men At Work</td><td>0.99</td></tr><tr><td>Fernanda Ramos</td><td>Tim Maia</td><td>0.99</td></tr><tr><td>Isabelle Mercier</td><td>Motörhead</td><td>0.99</td></tr><tr><td>Wyatt Girard</td><td>Antônio Carlos Jobim</td><td>0.99</td></tr><tr><td>Richard Cunningham</td><td>Pink Floyd</td><td>0.99</td></tr><tr><td>Madalena Sampaio</td><td>Joe Satriani</td><td>0.99</td></tr><tr><td>Enrique Muñoz</td><td>Queen</td><td>0.99</td></tr><tr><td>Martha Silk</td><td>Scorpions</td><td>0.99</td></tr><tr><td>Fynn Zimmermann</td><td>The Who</td><td>0.99</td></tr><tr><td>Ladislav Kovács</td><td>Motörhead</td><td>0.99</td></tr><tr><td>Julia Barnett</td><td>Billy Cobham</td><td>0.99</td></tr><tr><td>John Gordon</td><td>Stone Temple Pilots</td><td>0.99</td></tr><tr><td>Terhi Hämäläinen</td><td>The Doors</td><td>0.99</td></tr><tr><td>František Wichterlová</td><td>Vinícius De Moraes</td><td>0.99</td></tr><tr><td>Stanisław Wójcik</td><td>Velvet Revolver</td><td>0.99</td></tr><tr><td>Diego Gutiérrez</td><td>Lenny Kravitz</td><td>0.99</td></tr><tr><td>Julia Barnett</td><td>Eric Clapton</td><td>0.99</td></tr><tr><td>Kathy Chase</td><td>Alanis Morissette</td><td>0.99</td></tr><tr><td>Luís Gonçalves</td><td>Raimundos</td><td>0.99</td></tr><tr><td>Leonie Köhler</td><td>Soundgarden</td><td>0.99</td></tr><tr><td>Luis Rojas</td><td>Nicolaus Esterhazy Sinfonia</td><td>0.99</td></tr><tr><td>Isabelle Mercier</td><td>System Of A Down</td><td>0.99</td></tr><tr><td>Patrick Gray</td><td>Queen</td><td>0.99</td></tr><tr><td>Eduardo Martins</td><td>Eric Clapton</td><td>0.99</td></tr><tr><td>Marc Dubois</td><td>Nirvana</td><td>0.99</td></tr><tr><td>Jack Smith</td><td>James Brown</td><td>0.99</td></tr><tr><td>Patrick Gray</td><td>Miles Davis</td><td>0.99</td></tr><tr><td>Dominique Lefebvre</td><td>Alanis Morissette</td><td>0.99</td></tr><tr><td>Terhi Hämäläinen</td><td>Zeca Pagodinho</td><td>0.99</td></tr><tr><td>Michelle Brooks</td><td>Deep Purple</td><td>0.99</td></tr><tr><td>Leonie Köhler</td><td>Itzhak Perlman</td><td>0.99</td></tr><tr><td>Luis Rojas</td><td>Iron Maiden</td><td>0.99</td></tr><tr><td>Diego Gutiérrez</td><td>Judas Priest</td><td>0.99</td></tr><tr><td>Astrid Gruber</td><td>Calexico</td><td>0.99</td></tr><tr><td>Fynn Zimmermann</td><td>Marvin Gaye</td><td>0.99</td></tr><tr><td>Terhi Hämäläinen</td><td>Creedence Clearwater Revival</td><td>0.99</td></tr><tr><td>Steve Murray</td><td>Amy Winehouse</td><td>0.99</td></tr><tr><td>François Tremblay</td><td>Def Leppard</td><td>0.99</td></tr><tr><td>Frank Harris</td><td>Deep Purple</td><td>0.99</td></tr><tr><td>Alexandre Rocha</td><td>Frank Sinatra</td><td>0.99</td></tr><tr><td>Luís Gonçalves</td><td>Red Hot Chili Peppers</td><td>0.99</td></tr><tr><td>Alexandre Rocha</td><td>UB40</td><td>0.99</td></tr><tr><td>František Wichterlová</td><td>Van Halen</td><td>0.99</td></tr><tr><td>Camille Bernard</td><td>Foo Fighters</td><td>0.99</td></tr><tr><td>Ladislav Kovács</td><td>Joe Satriani</td><td>0.99</td></tr><tr><td>Heather Leacock</td><td>Jamiroquai</td><td>0.99</td></tr><tr><td>Edward Francis</td><td>JET</td><td>0.99</td></tr><tr><td>Mark Taylor</td><td>Yehudi Menuhin</td><td>0.99</td></tr><tr><td>Edward Francis</td><td>R.E.M.</td><td>0.99</td></tr><tr><td>Joakim Johansson</td><td>Faith No More</td><td>0.99</td></tr><tr><td>Jennifer Peterson</td><td>The Police</td><td>0.99</td></tr><tr><td>Manoj Pareek</td><td>Judas Priest</td><td>0.99</td></tr><tr><td>João Fernandes</td><td>Nirvana</td><td>0.99</td></tr><tr><td>Eduardo Martins</td><td>Pink Floyd</td><td>0.99</td></tr><tr><td>František Wichterlová</td><td>Def Leppard</td><td>0.99</td></tr><tr><td>Tim Goyer</td><td>Deep Purple</td><td>0.99</td></tr><tr><td>Edward Francis</td><td>Calexico</td><td>0.99</td></tr><tr><td>John Gordon</td><td>Joe Satriani</td><td>0.99</td></tr><tr><td>Aaron Mitchell</td><td>AC/DC</td><td>0.99</td></tr><tr><td>João Fernandes</td><td>Marvin Gaye</td><td>0.99</td></tr><tr><td>Alexandre Rocha</td><td>Led Zeppelin</td><td>0.99</td></tr><tr><td>Martha Silk</td><td>Foo Fighters</td><td>0.99</td></tr><tr><td>Julia Barnett</td><td>Frank Sinatra</td><td>0.99</td></tr><tr><td>Leonie Köhler</td><td>Spyro Gyra</td><td>0.99</td></tr><tr><td>Stanisław Wójcik</td><td>The Doors</td><td>0.99</td></tr><tr><td>Luis Rojas</td><td>Audioslave</td><td>0.99</td></tr><tr><td>Manoj Pareek</td><td>The Doors</td><td>0.99</td></tr><tr><td>Fernanda Ramos</td><td>Led Zeppelin</td><td>0.99</td></tr><tr><td>Madalena Sampaio</td><td>Aerosmith</td><td>0.99</td></tr><tr><td>Niklas Schröder</td><td>R.E.M.</td><td>0.99</td></tr><tr><td>Wyatt Girard</td><td>The Rolling Stones</td><td>0.99</td></tr><tr><td>João Fernandes</td><td>Spyro Gyra</td><td>0.99</td></tr><tr><td>Johannes Van der Berg</td><td>Scholars Baroque Ensemble</td><td>0.99</td></tr><tr><td>Phil Hughes</td><td>The Who</td><td>0.99</td></tr><tr><td>Alexandre Rocha</td><td>Nirvana</td><td>0.99</td></tr><tr><td>Phil Hughes</td><td>The Doors</td><td>0.99</td></tr><tr><td>Luis Rojas</td><td>Jamiroquai</td><td>0.99</td></tr><tr><td>Daan Peeters</td><td>Jamiroquai</td><td>0.99</td></tr><tr><td>Leonie Köhler</td><td>O Rappa</td><td>0.99</td></tr><tr><td>Ladislav Kovács</td><td>Djavan</td><td>0.99</td></tr><tr><td>Ellie Sullivan</td><td>Miles Davis</td><td>0.99</td></tr><tr><td>Camille Bernard</td><td>Nirvana</td><td>0.99</td></tr><tr><td>Julia Barnett</td><td>Alice In Chains</td><td>0.99</td></tr><tr><td>Enrique Muñoz</td><td>Zeca Pagodinho</td><td>0.99</td></tr><tr><td>Dominique Lefebvre</td><td>R.E.M.</td><td>0.99</td></tr><tr><td>Wyatt Girard</td><td>Stone Temple Pilots</td><td>0.99</td></tr><tr><td>Frank Harris</td><td>Black Sabbath</td><td>0.99</td></tr><tr><td>Frank Ralston</td><td>Marillion</td><td>0.99</td></tr><tr><td>Frank Ralston</td><td>Led Zeppelin</td><td>0.99</td></tr><tr><td>Enrique Muñoz</td><td>Calexico</td><td>0.99</td></tr><tr><td>Bjørn Hansen</td><td>Pearl Jam</td><td>0.99</td></tr><tr><td>Rishabh Mishra</td><td>Black Sabbath</td><td>0.99</td></tr><tr><td>Wyatt Girard</td><td>Creedence Clearwater Revival</td><td>0.99</td></tr><tr><td>Dan Miller</td><td>Mötley Crüe</td><td>0.99</td></tr><tr><td>Enrique Muñoz</td><td>Cidade Negra</td><td>0.99</td></tr><tr><td>Ladislav Kovács</td><td>The Police</td><td>0.99</td></tr><tr><td>Heather Leacock</td><td>R.E.M.</td><td>0.99</td></tr><tr><td>Tim Goyer</td><td>Godsmack</td><td>0.99</td></tr><tr><td>Fernanda Ramos</td><td>Metallica</td><td>0.99</td></tr><tr><td>Patrick Gray</td><td>Mötley Crüe</td><td>0.99</td></tr><tr><td>Luis Rojas</td><td>Metallica</td><td>0.99</td></tr><tr><td>Alexandre Rocha</td><td>Judas Priest</td><td>0.99</td></tr><tr><td>Isabelle Mercier</td><td>Caetano Veloso</td><td>0.99</td></tr><tr><td>Marc Dubois</td><td>Iron Maiden</td><td>0.99</td></tr><tr><td>Joakim Johansson</td><td>Buddy Guy</td><td>0.99</td></tr><tr><td>Dominique Lefebvre</td><td>Apocalyptica</td><td>0.99</td></tr><tr><td>Eduardo Martins</td><td>U2</td><td>0.99</td></tr><tr><td>Richard Cunningham</td><td>Red Hot Chili Peppers</td><td>0.99</td></tr><tr><td>Hugh O'Reilly</td><td>Black Sabbath</td><td>0.99</td></tr><tr><td>Steve Murray</td><td>Legião Urbana</td><td>0.99</td></tr><tr><td>Johannes Van der Berg</td><td>Spyro Gyra</td><td>0.99</td></tr><tr><td>Stanisław Wójcik</td><td>Alanis Morissette</td><td>0.99</td></tr><tr><td>Kara Nielsen</td><td>Red Hot Chili Peppers</td><td>0.99</td></tr><tr><td>Edward Francis</td><td>Alice In Chains</td><td>0.99</td></tr><tr><td>Niklas Schröder</td><td>Os Mutantes</td><td>0.99</td></tr><tr><td>Emma Jones</td><td>Alice In Chains</td><td>0.99</td></tr><tr><td>João Fernandes</td><td>Apocalyptica</td><td>0.99</td></tr><tr><td>Rishabh Mishra</td><td>James Brown</td><td>0.99</td></tr><tr><td>Victor Stevens</td><td>Faith No More</td><td>0.99</td></tr><tr><td>Eduardo Martins</td><td>Ozzy Osbourne</td><td>0.99</td></tr><tr><td>Manoj Pareek</td><td>Pink Floyd</td><td>0.99</td></tr><tr><td>Wyatt Girard</td><td>Gilberto Gil</td><td>0.99</td></tr><tr><td>Michelle Brooks</td><td>James Brown</td><td>0.99</td></tr><tr><td>Wyatt Girard</td><td>Marvin Gaye</td><td>0.99</td></tr><tr><td>Helena Holý</td><td>The Who</td><td>0.99</td></tr><tr><td>João Fernandes</td><td>Cake</td><td>0.99</td></tr><tr><td>Frank Ralston</td><td>Amy Winehouse</td><td>0.99</td></tr><tr><td>Hugh O'Reilly</td><td>Marvin Gaye</td><td>0.99</td></tr><tr><td>Richard Cunningham</td><td>Marisa Monte</td><td>0.99</td></tr><tr><td>Jack Smith</td><td>Lenny Kravitz</td><td>0.99</td></tr><tr><td>Kara Nielsen</td><td>R.E.M.</td><td>0.99</td></tr><tr><td>Ladislav Kovács</td><td>Deep Purple</td><td>0.99</td></tr><tr><td>Eduardo Martins</td><td>Amy Winehouse</td><td>0.99</td></tr><tr><td>Fernanda Ramos</td><td>The 12 Cellists of The Berlin Philharmonic</td><td>0.99</td></tr><tr><td>Frank Ralston</td><td>The Clash</td><td>0.99</td></tr><tr><td>Richard Cunningham</td><td>Def Leppard</td><td>0.99</td></tr><tr><td>Astrid Gruber</td><td>JET</td><td>0.99</td></tr><tr><td>Richard Cunningham</td><td>Deep Purple</td><td>0.99</td></tr><tr><td>Steve Murray</td><td>Velvet Revolver</td><td>0.99</td></tr><tr><td>Richard Cunningham</td><td>Cássia Eller</td><td>0.99</td></tr><tr><td>Richard Cunningham</td><td>Nirvana</td><td>0.99</td></tr><tr><td>Rishabh Mishra</td><td>System Of A Down</td><td>0.99</td></tr><tr><td>Emma Jones</td><td>The Police</td><td>0.99</td></tr><tr><td>François Tremblay</td><td>Alanis Morissette</td><td>0.99</td></tr><tr><td>Victor Stevens</td><td>Black Sabbath</td><td>0.99</td></tr><tr><td>Robert Brown</td><td>Chris Cornell</td><td>0.99</td></tr><tr><td>Daan Peeters</td><td>The Posies</td><td>0.99</td></tr><tr><td>Luís Gonçalves</td><td>The Clash</td><td>0.99</td></tr><tr><td>Patrick Gray</td><td>Deep Purple</td><td>0.99</td></tr><tr><td>Stanisław Wójcik</td><td>Gilberto Gil</td><td>0.99</td></tr><tr><td>Ellie Sullivan</td><td>The Who</td><td>0.99</td></tr><tr><td>Ladislav Kovács</td><td>Kiss</td><td>0.99</td></tr><tr><td>Fernanda Ramos</td><td>Skank</td><td>0.99</td></tr><tr><td>Luis Rojas</td><td>The Clash</td><td>0.99</td></tr><tr><td>Edward Francis</td><td>Stone Temple Pilots</td><td>0.99</td></tr><tr><td>Robert Brown</td><td>R.E.M.</td><td>0.99</td></tr><tr><td>Steve Murray</td><td>Iron Maiden</td><td>0.99</td></tr><tr><td>Marc Dubois</td><td>Led Zeppelin</td><td>0.99</td></tr><tr><td>Luís Gonçalves</td><td>Motörhead</td><td>0.99</td></tr><tr><td>Ellie Sullivan</td><td>Caetano Veloso</td><td>0.99</td></tr><tr><td>Dominique Lefebvre</td><td>Eric Clapton</td><td>0.99</td></tr><tr><td>Stanisław Wójcik</td><td>Gustav Mahler</td><td>0.99</td></tr><tr><td>Isabelle Mercier</td><td>Aaron Goldberg</td><td>0.99</td></tr><tr><td>Jennifer Peterson</td><td>Pink Floyd</td><td>0.99</td></tr><tr><td>Daan Peeters</td><td>Alanis Morissette</td><td>0.99</td></tr><tr><td>João Fernandes</td><td>Iron Maiden</td><td>0.99</td></tr><tr><td>Madalena Sampaio</td><td>Jamiroquai</td><td>0.99</td></tr><tr><td>Edward Francis</td><td>Audioslave</td><td>0.99</td></tr><tr><td>Helena Holý</td><td>Kiss</td><td>0.99</td></tr><tr><td>Dan Miller</td><td>Skank</td><td>0.99</td></tr><tr><td>Leonie Köhler</td><td>Frank Sinatra</td><td>0.99</td></tr><tr><td>Patrick Gray</td><td>U2</td><td>0.99</td></tr><tr><td>Isabelle Mercier</td><td>Creedence Clearwater Revival</td><td>0.99</td></tr><tr><td>Lucas Mancini</td><td>James Brown</td><td>0.99</td></tr><tr><td>Enrique Muñoz</td><td>The Posies</td><td>0.99</td></tr><tr><td>Leonie Köhler</td><td>Alice In Chains</td><td>0.99</td></tr><tr><td>Heather Leacock</td><td>Scorpions</td><td>0.99</td></tr><tr><td>Rishabh Mishra</td><td>Led Zeppelin</td><td>0.99</td></tr><tr><td>Tim Goyer</td><td>Iron Maiden</td><td>0.99</td></tr><tr><td>John Gordon</td><td>Karsh Kale</td><td>0.99</td></tr><tr><td>François Tremblay</td><td>Guns N' Roses</td><td>0.99</td></tr><tr><td>Terhi Hämäläinen</td><td>Led Zeppelin</td><td>0.99</td></tr><tr><td>Niklas Schröder</td><td>U2</td><td>0.99</td></tr><tr><td>Jennifer Peterson</td><td>The Doors</td><td>0.99</td></tr><tr><td>Fernanda Ramos</td><td>Jorge Ben</td><td>0.99</td></tr><tr><td>Stanisław Wójcik</td><td>Van Halen</td><td>0.99</td></tr><tr><td>Frank Harris</td><td>Motörhead</td><td>0.99</td></tr><tr><td>Edward Francis</td><td>Aisha Duo</td><td>0.99</td></tr><tr><td>Wyatt Girard</td><td>Nirvana</td><td>0.99</td></tr><tr><td>Kathy Chase</td><td>The Doors</td><td>0.99</td></tr><tr><td>Astrid Gruber</td><td>Raimundos</td><td>0.99</td></tr><tr><td>Mark Taylor</td><td>James Brown</td><td>0.99</td></tr><tr><td>Lucas Mancini</td><td>AC/DC</td><td>0.99</td></tr><tr><td>Frank Harris</td><td>Guns N' Roses</td><td>0.99</td></tr><tr><td>František Wichterlová</td><td>Stone Temple Pilots</td><td>0.99</td></tr><tr><td>John Gordon</td><td>Marvin Gaye</td><td>0.99</td></tr><tr><td>Richard Cunningham</td><td>Stone Temple Pilots</td><td>0.99</td></tr><tr><td>Steve Murray</td><td>Christopher O'Riley</td><td>0.99</td></tr><tr><td>Rishabh Mishra</td><td>Creedence Clearwater Revival</td><td>0.99</td></tr><tr><td>Edward Francis</td><td>Joe Satriani</td><td>0.99</td></tr><tr><td>Madalena Sampaio</td><td>Nirvana</td><td>0.99</td></tr><tr><td>Hugh O'Reilly</td><td>Os Mutantes</td><td>0.99</td></tr><tr><td>Jack Smith</td><td>R.E.M.</td><td>0.99</td></tr><tr><td>Isabelle Mercier</td><td>Frank Sinatra</td><td>0.99</td></tr><tr><td>Phil Hughes</td><td>Chico Buarque</td><td>0.99</td></tr><tr><td>Madalena Sampaio</td><td>UB40</td><td>0.99</td></tr><tr><td>Wyatt Girard</td><td>Aerosmith</td><td>0.99</td></tr><tr><td>Heather Leacock</td><td>Pearl Jam</td><td>0.99</td></tr><tr><td>Victor Stevens</td><td>Aerosmith</td><td>0.99</td></tr><tr><td>Daan Peeters</td><td>Black Sabbath</td><td>0.99</td></tr><tr><td>John Gordon</td><td>Led Zeppelin</td><td>0.99</td></tr><tr><td>Astrid Gruber</td><td>Temple of the Dog</td><td>0.99</td></tr><tr><td>Camille Bernard</td><td>Frank Sinatra</td><td>0.99</td></tr><tr><td>Johannes Van der Berg</td><td>Aerosmith</td><td>0.99</td></tr><tr><td>Heather Leacock</td><td>Velvet Revolver</td><td>0.99</td></tr><tr><td>Patrick Gray</td><td>Cássia Eller</td><td>0.99</td></tr><tr><td>Mark Philips</td><td>Apocalyptica</td><td>0.99</td></tr><tr><td>Helena Holý</td><td>Alice In Chains</td><td>0.99</td></tr><tr><td>Ellie Sullivan</td><td>Itzhak Perlman</td><td>0.99</td></tr><tr><td>Madalena Sampaio</td><td>Yo-Yo Ma</td><td>0.99</td></tr><tr><td>Steve Murray</td><td>Alice In Chains</td><td>0.99</td></tr><tr><td>Niklas Schröder</td><td>Motörhead</td><td>0.99</td></tr><tr><td>Luís Gonçalves</td><td>Djavan</td><td>0.99</td></tr><tr><td>Jennifer Peterson</td><td>Deep Purple</td><td>0.99</td></tr><tr><td>Lucas Mancini</td><td>Aerosmith</td><td>0.99</td></tr><tr><td>Marc Dubois</td><td>Marisa Monte</td><td>0.99</td></tr><tr><td>Kathy Chase</td><td>Gilberto Gil</td><td>0.99</td></tr><tr><td>František Wichterlová</td><td>James Brown</td><td>0.99</td></tr><tr><td>Jack Smith</td><td>Judas Priest</td><td>0.99</td></tr><tr><td>Michelle Brooks</td><td>Rush</td><td>0.99</td></tr><tr><td>Mark Taylor</td><td>Eric Clapton</td><td>0.99</td></tr><tr><td>Rishabh Mishra</td><td>Van Halen</td><td>0.99</td></tr><tr><td>Michelle Brooks</td><td>Mötley Crüe</td><td>0.99</td></tr><tr><td>Dan Miller</td><td>JET</td><td>0.99</td></tr><tr><td>Mark Philips</td><td>Page & Plant</td><td>0.99</td></tr><tr><td>Helena Holý</td><td>Chico Science & Nação Zumbi</td><td>0.99</td></tr><tr><td>Bjørn Hansen</td><td>Scorpions</td><td>0.99</td></tr><tr><td>Frank Ralston</td><td>Eric Clapton</td><td>0.99</td></tr><tr><td>Dan Miller</td><td>Rush</td><td>0.99</td></tr><tr><td>Michelle Brooks</td><td>Def Leppard</td><td>0.99</td></tr><tr><td>Michelle Brooks</td><td>Skank</td><td>0.99</td></tr><tr><td>Fernanda Ramos</td><td>The Rolling Stones</td><td>0.99</td></tr><tr><td>Wyatt Girard</td><td>Ozzy Osbourne</td><td>0.99</td></tr><tr><td>Isabelle Mercier</td><td>Iron Maiden</td><td>0.99</td></tr><tr><td>François Tremblay</td><td>Itzhak Perlman</td><td>0.99</td></tr><tr><td>Leonie Köhler</td><td>R.E.M.</td><td>0.99</td></tr><tr><td>Dominique Lefebvre</td><td>The Rolling Stones</td><td>0.99</td></tr><tr><td>Frank Harris</td><td>Chris Cornell</td><td>0.99</td></tr><tr><td>Hugh O'Reilly</td><td>House Of Pain</td><td>0.99</td></tr><tr><td>Luis Rojas</td><td>Caetano Veloso</td><td>0.99</td></tr><tr><td>Kara Nielsen</td><td>Marillion</td><td>0.99</td></tr><tr><td>Diego Gutiérrez</td><td>Def Leppard</td><td>0.99</td></tr><tr><td>Johannes Van der Berg</td><td>Green Day</td><td>0.99</td></tr><tr><td>Mark Taylor</td><td>The Who</td><td>0.99</td></tr><tr><td>Jennifer Peterson</td><td>Tim Maia</td><td>0.99</td></tr><tr><td>Edward Francis</td><td>Amy Winehouse</td><td>0.99</td></tr><tr><td>Fynn Zimmermann</td><td>Audioslave</td><td>0.99</td></tr><tr><td>François Tremblay</td><td>Spyro Gyra</td><td>0.99</td></tr><tr><td>Wyatt Girard</td><td>Metallica</td><td>0.99</td></tr><tr><td>Luis Rojas</td><td>Judas Priest</td><td>0.99</td></tr><tr><td>Julia Barnett</td><td>Os Mutantes</td><td>0.99</td></tr><tr><td>Terhi Hämäläinen</td><td>Santana</td><td>0.99</td></tr><tr><td>Luís Gonçalves</td><td>Godsmack</td><td>0.99</td></tr><tr><td>Heather Leacock</td><td>Incognito</td><td>0.99</td></tr><tr><td>Lucas Mancini</td><td>Ed Motta</td><td>0.99</td></tr><tr><td>Fernanda Ramos</td><td>Cake</td><td>0.99</td></tr><tr><td>Manoj Pareek</td><td>Black Label Society</td><td>0.99</td></tr><tr><td>Diego Gutiérrez</td><td>Red Hot Chili Peppers</td><td>0.99</td></tr><tr><td>Aaron Mitchell</td><td>JET</td><td>0.99</td></tr><tr><td>Mark Taylor</td><td>Queen</td><td>0.99</td></tr><tr><td>Julia Barnett</td><td>Cake</td><td>0.99</td></tr><tr><td>Diego Gutiérrez</td><td>The Rolling Stones</td><td>0.99</td></tr><tr><td>Manoj Pareek</td><td>James Brown</td><td>0.99</td></tr><tr><td>Isabelle Mercier</td><td>Chico Buarque</td><td>0.99</td></tr><tr><td>Leonie Köhler</td><td>Mötley Crüe</td><td>0.99</td></tr><tr><td>Michelle Brooks</td><td>Cake</td><td>0.99</td></tr><tr><td>Bjørn Hansen</td><td>Eric Clapton</td><td>0.99</td></tr><tr><td>Dan Miller</td><td>Luciana Souza/Romero Lubambo</td><td>0.99</td></tr><tr><td>Joakim Johansson</td><td>Passengers</td><td>0.99</td></tr><tr><td>Daan Peeters</td><td>Black Label Society</td><td>0.99</td></tr><tr><td>Niklas Schröder</td><td>Djavan</td><td>0.99</td></tr><tr><td>Helena Holý</td><td>Marisa Monte</td><td>0.99</td></tr><tr><td>Frank Ralston</td><td>System Of A Down</td><td>0.99</td></tr><tr><td>Lucas Mancini</td><td>The Clash</td><td>0.99</td></tr><tr><td>Patrick Gray</td><td>The Police</td><td>0.99</td></tr><tr><td>João Fernandes</td><td>Scorpions</td><td>0.99</td></tr><tr><td>Julia Barnett</td><td>House Of Pain</td><td>0.99</td></tr><tr><td>Kathy Chase</td><td>System Of A Down</td><td>0.99</td></tr><tr><td>Emma Jones</td><td>Foo Fighters</td><td>0.99</td></tr><tr><td>Enrique Muñoz</td><td>Nirvana</td><td>0.99</td></tr><tr><td>Ellie Sullivan</td><td>Creedence Clearwater Revival</td><td>0.99</td></tr><tr><td>João Fernandes</td><td>Pearl Jam</td><td>0.99</td></tr><tr><td>Frank Harris</td><td>Marisa Monte</td><td>0.99</td></tr><tr><td>Aaron Mitchell</td><td>Rush</td><td>0.99</td></tr><tr><td>Edward Francis</td><td>The Who</td><td>0.99</td></tr><tr><td>Victor Stevens</td><td>Alanis Morissette</td><td>0.99</td></tr><tr><td>Bjørn Hansen</td><td>Alice In Chains</td><td>0.99</td></tr><tr><td>Phil Hughes</td><td>Billy Cobham</td><td>0.99</td></tr><tr><td>João Fernandes</td><td>Guns N' Roses</td><td>0.99</td></tr><tr><td>Dominique Lefebvre</td><td>Ozzy Osbourne</td><td>0.99</td></tr><tr><td>Fernanda Ramos</td><td>Creedence Clearwater Revival</td><td>0.99</td></tr><tr><td>Enrique Muñoz</td><td>Chico Buarque</td><td>0.99</td></tr><tr><td>Joakim Johansson</td><td>Pink Floyd</td><td>0.99</td></tr><tr><td>Martha Silk</td><td>Eric Clapton</td><td>0.99</td></tr><tr><td>Niklas Schröder</td><td>Caetano Veloso</td><td>0.99</td></tr><tr><td>Marc Dubois</td><td>Audioslave</td><td>0.99</td></tr><tr><td>Patrick Gray</td><td>Alanis Morissette</td><td>0.99</td></tr><tr><td>Ladislav Kovács</td><td>Scorpions</td><td>0.99</td></tr><tr><td>Marc Dubois</td><td>Alice In Chains</td><td>0.99</td></tr><tr><td>Luis Rojas</td><td>Van Halen</td><td>0.99</td></tr><tr><td>John Gordon</td><td>Cake</td><td>0.99</td></tr><tr><td>Johannes Van der Berg</td><td>Jamiroquai</td><td>0.99</td></tr><tr><td>Isabelle Mercier</td><td>David Coverdale</td><td>0.99</td></tr><tr><td>Richard Cunningham</td><td>Queen</td><td>0.99</td></tr><tr><td>Dominique Lefebvre</td><td>Calexico</td><td>0.99</td></tr><tr><td>Astrid Gruber</td><td>R.E.M.</td><td>0.99</td></tr><tr><td>Edward Francis</td><td>Chico Buarque</td><td>0.99</td></tr><tr><td>Dominique Lefebvre</td><td>Creedence Clearwater Revival</td><td>0.99</td></tr><tr><td>Johannes Van der Berg</td><td>Audioslave</td><td>0.99</td></tr><tr><td>Eduardo Martins</td><td>Legião Urbana</td><td>0.99</td></tr><tr><td>Victor Stevens</td><td>Motörhead</td><td>0.99</td></tr><tr><td>Robert Brown</td><td>Metallica</td><td>0.99</td></tr><tr><td>Alexandre Rocha</td><td>Rush</td><td>0.99</td></tr><tr><td>Frank Ralston</td><td>Apocalyptica</td><td>0.99</td></tr><tr><td>Ellie Sullivan</td><td>Deep Purple</td><td>0.99</td></tr><tr><td>Frank Ralston</td><td>Ozzy Osbourne</td><td>0.99</td></tr><tr><td>François Tremblay</td><td>Frank Sinatra</td><td>0.99</td></tr><tr><td>Richard Cunningham</td><td>Antônio Carlos Jobim</td><td>0.99</td></tr><tr><td>Steve Murray</td><td>Santana</td><td>0.99</td></tr><tr><td>Marc Dubois</td><td>Jimi Hendrix</td><td>0.99</td></tr><tr><td>Patrick Gray</td><td>Amy Winehouse</td><td>0.99</td></tr><tr><td>Mark Taylor</td><td>Faith No More</td><td>0.99</td></tr><tr><td>Frank Harris</td><td>Mötley Crüe</td><td>0.99</td></tr><tr><td>Daan Peeters</td><td>Amy Winehouse</td><td>0.99</td></tr><tr><td>Kara Nielsen</td><td>Alanis Morissette</td><td>0.99</td></tr><tr><td>Luís Gonçalves</td><td>Mötley Crüe</td><td>0.99</td></tr><tr><td>Manoj Pareek</td><td>Luciano Pavarotti</td><td>0.99</td></tr><tr><td>Manoj Pareek</td><td>AC/DC</td><td>0.99</td></tr><tr><td>John Gordon</td><td>Black Sabbath</td><td>0.99</td></tr><tr><td>Edward Francis</td><td>Motörhead</td><td>0.99</td></tr><tr><td>Terhi Hämäläinen</td><td>Temple of the Dog</td><td>0.99</td></tr><tr><td>Manoj Pareek</td><td>Apocalyptica</td><td>0.99</td></tr><tr><td>Hugh O'Reilly</td><td>UB40</td><td>0.99</td></tr><tr><td>Edward Francis</td><td>Rush</td><td>0.99</td></tr><tr><td>Niklas Schröder</td><td>Green Day</td><td>0.99</td></tr><tr><td>Hugh O'Reilly</td><td>Jimi Hendrix</td><td>0.99</td></tr><tr><td>Richard Cunningham</td><td>Judas Priest</td><td>0.99</td></tr><tr><td>Jennifer Peterson</td><td>Raul Seixas</td><td>0.99</td></tr><tr><td>Jack Smith</td><td>The Cult</td><td>0.99</td></tr><tr><td>François Tremblay</td><td>Karsh Kale</td><td>0.99</td></tr><tr><td>Aaron Mitchell</td><td>Soundgarden</td><td>0.99</td></tr><tr><td>João Fernandes</td><td>Motörhead</td><td>0.99</td></tr><tr><td>Steve Murray</td><td>Jamiroquai</td><td>0.99</td></tr><tr><td>Alexandre Rocha</td><td>Aerosmith</td><td>0.99</td></tr><tr><td>Terhi Hämäläinen</td><td>Godsmack</td><td>0.99</td></tr><tr><td>Fynn Zimmermann</td><td>Red Hot Chili Peppers</td><td>0.99</td></tr><tr><td>Michelle Brooks</td><td>Jorge Ben</td><td>0.99</td></tr><tr><td>Martha Silk</td><td>The Posies</td><td>0.99</td></tr><tr><td>Stanisław Wójcik</td><td>Jorge Ben</td><td>0.99</td></tr><tr><td>Michelle Brooks</td><td>Van Halen</td><td>0.99</td></tr><tr><td>Leonie Köhler</td><td>Milton Nascimento</td><td>0.99</td></tr><tr><td>Camille Bernard</td><td>UB40</td><td>0.99</td></tr><tr><td>Jennifer Peterson</td><td>Rush</td><td>0.99</td></tr><tr><td>Ladislav Kovács</td><td>Van Halen</td><td>0.99</td></tr><tr><td>Fernanda Ramos</td><td>Black Label Society</td><td>0.99</td></tr><tr><td>Rishabh Mishra</td><td>Christopher O'Riley</td><td>0.99</td></tr><tr><td>Ellie Sullivan</td><td>Planet Hemp</td><td>0.99</td></tr><tr><td>Heather Leacock</td><td>Audioslave</td><td>0.99</td></tr><tr><td>Victor Stevens</td><td>Velvet Revolver</td><td>0.99</td></tr><tr><td>Luís Gonçalves</td><td>Yo-Yo Ma</td><td>0.99</td></tr><tr><td>Frank Harris</td><td>Pink Floyd</td><td>0.99</td></tr><tr><td>Emma Jones</td><td>Iron Maiden</td><td>0.99</td></tr><tr><td>Robert Brown</td><td>Green Day</td><td>0.99</td></tr><tr><td>Manoj Pareek</td><td>Cake</td><td>0.99</td></tr><tr><td>Mark Philips</td><td>Green Day</td><td>0.99</td></tr><tr><td>Leonie Köhler</td><td>Green Day</td><td>0.99</td></tr><tr><td>Patrick Gray</td><td>The Black Crowes</td><td>0.99</td></tr><tr><td>Mark Philips</td><td>Marvin Gaye</td><td>0.99</td></tr><tr><td>Phil Hughes</td><td>Alanis Morissette</td><td>0.99</td></tr><tr><td>Edward Francis</td><td>Green Day</td><td>0.99</td></tr><tr><td>Rishabh Mishra</td><td>Santana</td><td>0.99</td></tr><tr><td>Kara Nielsen</td><td>Lenny Kravitz</td><td>0.99</td></tr><tr><td>Fynn Zimmermann</td><td>Pink Floyd</td><td>0.99</td></tr><tr><td>Ladislav Kovács</td><td>Iron Maiden</td><td>0.99</td></tr><tr><td>Lucas Mancini</td><td>Frank Sinatra</td><td>0.99</td></tr><tr><td>João Fernandes</td><td>Van Halen</td><td>0.99</td></tr><tr><td>Richard Cunningham</td><td>AC/DC</td><td>0.99</td></tr><tr><td>Edward Francis</td><td>The Cult</td><td>0.99</td></tr><tr><td>Astrid Gruber</td><td>Amy Winehouse</td><td>0.99</td></tr><tr><td>Luís Gonçalves</td><td>R.E.M.</td><td>0.99</td></tr><tr><td>Patrick Gray</td><td>Men At Work</td><td>0.99</td></tr><tr><td>Leonie Köhler</td><td>The Who</td><td>0.99</td></tr><tr><td>Mark Taylor</td><td>Soundgarden</td><td>0.99</td></tr><tr><td>Madalena Sampaio</td><td>U2</td><td>0.99</td></tr><tr><td>Manoj Pareek</td><td>House Of Pain</td><td>0.99</td></tr><tr><td>Hugh O'Reilly</td><td>Mötley Crüe</td><td>0.99</td></tr><tr><td>Joakim Johansson</td><td>Judas Priest</td><td>0.99</td></tr><tr><td>Stanisław Wójcik</td><td>Judas Priest</td><td>0.99</td></tr><tr><td>Mark Taylor</td><td>Marvin Gaye</td><td>0.99</td></tr><tr><td>Wyatt Girard</td><td>Jamiroquai</td><td>0.99</td></tr><tr><td>Wyatt Girard</td><td>The Doors</td><td>0.99</td></tr><tr><td>Heather Leacock</td><td>Lenny Kravitz</td><td>0.99</td></tr><tr><td>Stanisław Wójcik</td><td>Deep Purple</td><td>0.99</td></tr><tr><td>Ellie Sullivan</td><td>Aerosmith</td><td>0.99</td></tr><tr><td>Astrid Gruber</td><td>Red Hot Chili Peppers</td><td>0.99</td></tr><tr><td>Dan Miller</td><td>System Of A Down</td><td>0.99</td></tr><tr><td>Leonie Köhler</td><td>Led Zeppelin</td><td>0.99</td></tr><tr><td>Victor Stevens</td><td>Miles Davis</td><td>0.99</td></tr><tr><td>Hugh O'Reilly</td><td>The Clash</td><td>0.99</td></tr><tr><td>João Fernandes</td><td>Santana</td><td>0.99</td></tr><tr><td>Johannes Van der Berg</td><td>The Who</td><td>0.99</td></tr><tr><td>Kathy Chase</td><td>Aerosmith</td><td>0.99</td></tr><tr><td>Ellie Sullivan</td><td>Motörhead</td><td>0.99</td></tr><tr><td>Daan Peeters</td><td>Deep Purple</td><td>0.99</td></tr><tr><td>Rishabh Mishra</td><td>Scorpions</td><td>0.99</td></tr><tr><td>Heather Leacock</td><td>Marisa Monte</td><td>0.99</td></tr><tr><td>Madalena Sampaio</td><td>Frank Sinatra</td><td>0.99</td></tr><tr><td>Tim Goyer</td><td>Jimi Hendrix</td><td>0.99</td></tr><tr><td>Roberto Almeida</td><td>System Of A Down</td><td>0.99</td></tr><tr><td>Manoj Pareek</td><td>Audioslave</td><td>0.99</td></tr><tr><td>Diego Gutiérrez</td><td>AC/DC</td><td>0.99</td></tr><tr><td>Diego Gutiérrez</td><td>Jamiroquai</td><td>0.99</td></tr><tr><td>Kathy Chase</td><td>The Clash</td><td>0.99</td></tr><tr><td>Marc Dubois</td><td>Kiss</td><td>0.99</td></tr><tr><td>John Gordon</td><td>Jimi Hendrix</td><td>0.99</td></tr><tr><td>Camille Bernard</td><td>Faith No More</td><td>0.99</td></tr><tr><td>Marc Dubois</td><td>Planet Hemp</td><td>0.99</td></tr><tr><td>Johannes Van der Berg</td><td>Kiss</td><td>0.99</td></tr><tr><td>Diego Gutiérrez</td><td>Pearl Jam</td><td>0.99</td></tr><tr><td>Eduardo Martins</td><td>Apocalyptica</td><td>0.99</td></tr><tr><td>Bjørn Hansen</td><td>Amy Winehouse</td><td>0.99</td></tr><tr><td>Joakim Johansson</td><td>UB40</td><td>0.99</td></tr><tr><td>Aaron Mitchell</td><td>Kiss</td><td>0.99</td></tr><tr><td>Helena Holý</td><td>Queen</td><td>0.99</td></tr><tr><td>Madalena Sampaio</td><td>R.E.M.</td><td>0.99</td></tr><tr><td>Ladislav Kovács</td><td>The Rolling Stones</td><td>0.99</td></tr><tr><td>Joakim Johansson</td><td>Cake</td><td>0.99</td></tr><tr><td>Terhi Hämäläinen</td><td>Nirvana</td><td>0.99</td></tr><tr><td>Daan Peeters</td><td>Alice In Chains</td><td>0.99</td></tr><tr><td>Emma Jones</td><td>Os Mutantes</td><td>0.99</td></tr><tr><td>Richard Cunningham</td><td>Mötley Crüe</td><td>0.99</td></tr><tr><td>Enrique Muñoz</td><td>James Brown</td><td>0.99</td></tr><tr><td>Diego Gutiérrez</td><td>The Clash</td><td>0.99</td></tr><tr><td>Ellie Sullivan</td><td>Green Day</td><td>0.99</td></tr><tr><td>Fernanda Ramos</td><td>Van Halen</td><td>0.99</td></tr><tr><td>Michelle Brooks</td><td>Raul Seixas</td><td>0.99</td></tr><tr><td>Mark Taylor</td><td>Ed Motta</td><td>0.99</td></tr><tr><td>Madalena Sampaio</td><td>Green Day</td><td>0.99</td></tr><tr><td>Madalena Sampaio</td><td>Marcos Valle</td><td>0.99</td></tr><tr><td>Dominique Lefebvre</td><td>Chico Buarque</td><td>0.99</td></tr><tr><td>Enrique Muñoz</td><td>The Doors</td><td>0.99</td></tr><tr><td>Dominique Lefebvre</td><td>Guns N' Roses</td><td>0.99</td></tr><tr><td>Astrid Gruber</td><td>Pink Floyd</td><td>0.99</td></tr><tr><td>Stanisław Wójcik</td><td>R.E.M.</td><td>0.99</td></tr><tr><td>Helena Holý</td><td>Frank Sinatra</td><td>0.99</td></tr><tr><td>Camille Bernard</td><td>Apocalyptica</td><td>0.99</td></tr><tr><td>Luis Rojas</td><td>The Black Crowes</td><td>0.99</td></tr><tr><td>Johannes Van der Berg</td><td>The Clash</td><td>0.99</td></tr><tr><td>Eduardo Martins</td><td>Audioslave</td><td>0.99</td></tr><tr><td>Luis Rojas</td><td>Soundgarden</td><td>0.99</td></tr><tr><td>Tim Goyer</td><td>Aerosmith</td><td>0.99</td></tr><tr><td>Tim Goyer</td><td>U2</td><td>0.99</td></tr><tr><td>Daan Peeters</td><td>Metallica</td><td>0.99</td></tr><tr><td>Frank Ralston</td><td>James Brown</td><td>0.99</td></tr><tr><td>Jack Smith</td><td>Scorpions</td><td>0.99</td></tr><tr><td>Lucas Mancini</td><td>Godsmack</td><td>0.99</td></tr><tr><td>Martha Silk</td><td>Pink Floyd</td><td>0.99</td></tr><tr><td>Aaron Mitchell</td><td>Pink Floyd</td><td>0.99</td></tr><tr><td>Enrique Muñoz</td><td>Pearl Jam</td><td>0.99</td></tr><tr><td>Hannah Schneider</td><td>Deep Purple</td><td>0.99</td></tr><tr><td>Fernanda Ramos</td><td>Judas Priest</td><td>0.99</td></tr><tr><td>John Gordon</td><td>Alanis Morissette</td><td>0.99</td></tr><tr><td>Frank Ralston</td><td>The Black Crowes</td><td>0.99</td></tr><tr><td>Hugh O'Reilly</td><td>Wilhelm Kempff</td><td>0.99</td></tr><tr><td>Leonie Köhler</td><td>Black Sabbath</td><td>0.99</td></tr><tr><td>Mark Philips</td><td>Rush</td><td>0.99</td></tr><tr><td>Diego Gutiérrez</td><td>R.E.M.</td><td>0.99</td></tr><tr><td>João Fernandes</td><td>Frank Sinatra</td><td>0.99</td></tr><tr><td>François Tremblay</td><td>Santana</td><td>0.99</td></tr><tr><td>Julia Barnett</td><td>Aerosmith</td><td>0.99</td></tr><tr><td>Ladislav Kovács</td><td>Raimundos</td><td>0.99</td></tr><tr><td>Hugh O'Reilly</td><td>James Brown</td><td>0.99</td></tr><tr><td>Alexandre Rocha</td><td>Titãs</td><td>0.99</td></tr><tr><td>Daan Peeters</td><td>U2</td><td>0.99</td></tr><tr><td>Lucas Mancini</td><td>Cake</td><td>0.99</td></tr><tr><td>Michelle Brooks</td><td>U2</td><td>0.99</td></tr><tr><td>Edward Francis</td><td>Buddy Guy</td><td>0.99</td></tr><tr><td>Niklas Schröder</td><td>Godsmack</td><td>0.99</td></tr><tr><td>Edward Francis</td><td>Scorpions</td><td>0.99</td></tr><tr><td>Ellie Sullivan</td><td>The Black Crowes</td><td>0.99</td></tr><tr><td>Rishabh Mishra</td><td>R.E.M.</td><td>0.99</td></tr><tr><td>Leonie Köhler</td><td>Deep Purple</td><td>0.99</td></tr><tr><td>Tim Goyer</td><td>Joe Satriani</td><td>0.99</td></tr><tr><td>Richard Cunningham</td><td>Buddy Guy</td><td>0.99</td></tr><tr><td>Mark Philips</td><td>Motörhead</td><td>0.99</td></tr><tr><td>Helena Holý</td><td>The Posies</td><td>0.99</td></tr><tr><td>Johannes Van der Berg</td><td>Van Halen</td><td>0.99</td></tr><tr><td>John Gordon</td><td>The Clash</td><td>0.99</td></tr><tr><td>Dan Miller</td><td>James Brown</td><td>0.99</td></tr><tr><td>Isabelle Mercier</td><td>Godsmack</td><td>0.99</td></tr><tr><td>Isabelle Mercier</td><td>Black Sabbath</td><td>0.99</td></tr><tr><td>Frank Ralston</td><td>Red Hot Chili Peppers</td><td>0.99</td></tr><tr><td>Jennifer Peterson</td><td>Guns N' Roses</td><td>0.99</td></tr><tr><td>Luis Rojas</td><td>Alice In Chains</td><td>0.99</td></tr><tr><td>Alexandre Rocha</td><td>Iron Maiden</td><td>0.99</td></tr><tr><td>Luis Rojas</td><td>Velvet Revolver</td><td>0.99</td></tr><tr><td>Bjørn Hansen</td><td>Miles Davis</td><td>0.99</td></tr><tr><td>Luis Rojas</td><td>Black Sabbath</td><td>0.99</td></tr><tr><td>Jack Smith</td><td>Iron Maiden</td><td>0.99</td></tr><tr><td>Joakim Johansson</td><td>Legião Urbana</td><td>0.99</td></tr><tr><td>Luis Rojas</td><td>Os Mutantes</td><td>0.99</td></tr><tr><td>Wyatt Girard</td><td>Milton Nascimento</td><td>0.99</td></tr><tr><td>Alexandre Rocha</td><td>Pink Floyd</td><td>0.99</td></tr><tr><td>Lucas Mancini</td><td>R.E.M.</td><td>0.99</td></tr><tr><td>Helena Holý</td><td>Skank</td><td>0.99</td></tr><tr><td>Helena Holý</td><td>The Clash</td><td>0.99</td></tr><tr><td>Daan Peeters</td><td>Marvin Gaye</td><td>0.99</td></tr><tr><td>Emma Jones</td><td>Def Leppard</td><td>0.99</td></tr><tr><td>Isabelle Mercier</td><td>Queen</td><td>0.99</td></tr><tr><td>Mark Philips</td><td>U2</td><td>0.99</td></tr><tr><td>Niklas Schröder</td><td>Marvin Gaye</td><td>0.99</td></tr><tr><td>Niklas Schröder</td><td>Black Sabbath</td><td>0.99</td></tr><tr><td>Aaron Mitchell</td><td>The Clash</td><td>0.99</td></tr><tr><td>Kara Nielsen</td><td>Incognito</td><td>0.99</td></tr><tr><td>Luis Rojas</td><td>U2</td><td>0.99</td></tr><tr><td>Mark Philips</td><td>The Rolling Stones</td><td>0.99</td></tr><tr><td>Jack Smith</td><td>Kiss</td><td>0.99</td></tr><tr><td>Enrique Muñoz</td><td>Aerosmith</td><td>0.99</td></tr><tr><td>František Wichterlová</td><td>Green Day</td><td>0.99</td></tr><tr><td>Helena Holý</td><td>Bruce Dickinson</td><td>0.99</td></tr><tr><td>Marc Dubois</td><td>Milton Nascimento</td><td>0.99</td></tr><tr><td>František Wichterlová</td><td>Iron Maiden</td><td>0.99</td></tr><tr><td>Hugh O'Reilly</td><td>Pink Floyd</td><td>0.99</td></tr><tr><td>Joakim Johansson</td><td>Lenny Kravitz</td><td>0.99</td></tr><tr><td>Jennifer Peterson</td><td>Def Leppard</td><td>0.99</td></tr><tr><td>Frank Ralston</td><td>Audioslave</td><td>0.99</td></tr><tr><td>Michelle Brooks</td><td>Eric Clapton</td><td>0.99</td></tr><tr><td>František Wichterlová</td><td>Aerosmith</td><td>0.99</td></tr><tr><td>Ellie Sullivan</td><td>Iron Maiden</td><td>0.99</td></tr><tr><td>Aaron Mitchell</td><td>Metallica</td><td>0.99</td></tr><tr><td>Helena Holý</td><td>Metallica</td><td>0.99</td></tr><tr><td>Rishabh Mishra</td><td>Stone Temple Pilots</td><td>0.99</td></tr><tr><td>Stanisław Wójcik</td><td>Amy Winehouse</td><td>0.99</td></tr><tr><td>Kara Nielsen</td><td>Joe Satriani</td><td>0.99</td></tr><tr><td>Lucas Mancini</td><td>Os Mutantes</td><td>0.99</td></tr><tr><td>Leonie Köhler</td><td>Gilberto Gil</td><td>0.99</td></tr><tr><td>Marc Dubois</td><td>The Doors</td><td>0.99</td></tr><tr><td>Roberto Almeida</td><td>Chico Science & Nação Zumbi</td><td>0.99</td></tr><tr><td>Jennifer Peterson</td><td>AC/DC</td><td>0.99</td></tr><tr><td>Kara Nielsen</td><td>UB40</td><td>0.99</td></tr><tr><td>Roberto Almeida</td><td>Judas Priest</td><td>0.99</td></tr><tr><td>Fynn Zimmermann</td><td>JET</td><td>0.99</td></tr><tr><td>John Gordon</td><td>Soundgarden</td><td>0.99</td></tr><tr><td>Patrick Gray</td><td>Marillion</td><td>0.99</td></tr><tr><td>Ellie Sullivan</td><td>Tim Maia</td><td>0.99</td></tr><tr><td>Niklas Schröder</td><td>Audioslave</td><td>0.99</td></tr><tr><td>Edward Francis</td><td>Godsmack</td><td>0.99</td></tr><tr><td>Jack Smith</td><td>Ozzy Osbourne</td><td>0.99</td></tr><tr><td>Madalena Sampaio</td><td>The Rolling Stones</td><td>0.99</td></tr><tr><td>Johannes Van der Berg</td><td>Rush</td><td>0.99</td></tr><tr><td>Julia Barnett</td><td>Jamiroquai</td><td>0.99</td></tr><tr><td>Steve Murray</td><td>The Police</td><td>0.99</td></tr><tr><td>João Fernandes</td><td>The Who</td><td>0.99</td></tr><tr><td>Kathy Chase</td><td>Raimundos</td><td>0.99</td></tr><tr><td>Enrique Muñoz</td><td>Motörhead</td><td>0.99</td></tr><tr><td>Heather Leacock</td><td>Queen</td><td>0.99</td></tr><tr><td>Rishabh Mishra</td><td>The Police</td><td>0.99</td></tr><tr><td>Leonie Köhler</td><td>Marillion</td><td>0.99</td></tr><tr><td>João Fernandes</td><td>Audioslave</td><td>0.99</td></tr><tr><td>Mark Philips</td><td>Alice In Chains</td><td>0.99</td></tr><tr><td>Fernanda Ramos</td><td>Eric Clapton</td><td>0.99</td></tr><tr><td>Steve Murray</td><td>Men At Work</td><td>0.99</td></tr><tr><td>Ladislav Kovács</td><td>Temple of the Dog</td><td>0.99</td></tr><tr><td>Hugh O'Reilly</td><td>System Of A Down</td><td>0.99</td></tr><tr><td>Jack Smith</td><td>UB40</td><td>0.99</td></tr><tr><td>Astrid Gruber</td><td>Lenny Kravitz</td><td>0.99</td></tr><tr><td>Victor Stevens</td><td>Aisha Duo</td><td>0.99</td></tr><tr><td>František Wichterlová</td><td>Black Sabbath</td><td>0.99</td></tr><tr><td>João Fernandes</td><td>Stone Temple Pilots</td><td>0.99</td></tr><tr><td>Camille Bernard</td><td>Spyro Gyra</td><td>0.99</td></tr><tr><td>Martha Silk</td><td>Faith No More</td><td>0.99</td></tr><tr><td>Frank Ralston</td><td>Os Mutantes</td><td>0.99</td></tr><tr><td>Mark Taylor</td><td>AC/DC</td><td>0.99</td></tr><tr><td>Terhi Hämäläinen</td><td>Cake</td><td>0.99</td></tr><tr><td>Camille Bernard</td><td>Aerosmith</td><td>0.99</td></tr><tr><td>Madalena Sampaio</td><td>Accept</td><td>0.99</td></tr><tr><td>Hugh O'Reilly</td><td>The Doors</td><td>0.99</td></tr><tr><td>Martha Silk</td><td>Led Zeppelin</td><td>0.99</td></tr><tr><td>Edward Francis</td><td>Gustav Mahler</td><td>0.99</td></tr><tr><td>Daan Peeters</td><td>Apocalyptica</td><td>0.99</td></tr><tr><td>Emma Jones</td><td>Black Sabbath</td><td>0.99</td></tr><tr><td>Leonie Köhler</td><td>Buddy Guy</td><td>0.99</td></tr><tr><td>Manoj Pareek</td><td>The Clash</td><td>0.99</td></tr><tr><td>Roberto Almeida</td><td>Apocalyptica</td><td>0.99</td></tr><tr><td>Robert Brown</td><td>Van Halen</td><td>0.99</td></tr><tr><td>Rishabh Mishra</td><td>Iron Maiden</td><td>0.99</td></tr><tr><td>Isabelle Mercier</td><td>Dread Zeppelin</td><td>0.99</td></tr><tr><td>Isabelle Mercier</td><td>Cake</td><td>0.99</td></tr><tr><td>Frank Harris</td><td>Iron Maiden</td><td>0.99</td></tr><tr><td>Julia Barnett</td><td>James Brown</td><td>0.99</td></tr><tr><td>Terhi Hämäläinen</td><td>Lulu Santos</td><td>0.99</td></tr><tr><td>František Wichterlová</td><td>UB40</td><td>0.99</td></tr><tr><td>Stanisław Wójcik</td><td>Chris Cornell</td><td>0.99</td></tr><tr><td>Niklas Schröder</td><td>Cake</td><td>0.99</td></tr><tr><td>Michelle Brooks</td><td>JET</td><td>0.99</td></tr><tr><td>Dan Miller</td><td>The Clash</td><td>0.99</td></tr><tr><td>Edward Francis</td><td>Marvin Gaye</td><td>0.99</td></tr><tr><td>Camille Bernard</td><td>U2</td><td>0.99</td></tr><tr><td>Frank Ralston</td><td>The Rolling Stones</td><td>0.99</td></tr><tr><td>Michelle Brooks</td><td>Metallica</td><td>0.99</td></tr><tr><td>Hannah Schneider</td><td>The Doors</td><td>0.99</td></tr><tr><td>Daan Peeters</td><td>AC/DC</td><td>0.99</td></tr><tr><td>Enrique Muñoz</td><td>Stone Temple Pilots</td><td>0.99</td></tr><tr><td>Roberto Almeida</td><td>Red Hot Chili Peppers</td><td>0.99</td></tr><tr><td>Terhi Hämäläinen</td><td>Scorpions</td><td>0.99</td></tr><tr><td>Eduardo Martins</td><td>Van Halen</td><td>0.99</td></tr><tr><td>Jennifer Peterson</td><td>Godsmack</td><td>0.99</td></tr><tr><td>Helena Holý</td><td>Green Day</td><td>0.99</td></tr><tr><td>Edward Francis</td><td>The Police</td><td>0.99</td></tr><tr><td>Joakim Johansson</td><td>Led Zeppelin</td><td>0.99</td></tr><tr><td>Stanisław Wójcik</td><td>Cake</td><td>0.99</td></tr><tr><td>Lucas Mancini</td><td>Metallica</td><td>0.99</td></tr><tr><td>Ladislav Kovács</td><td>Nirvana</td><td>0.99</td></tr><tr><td>Patrick Gray</td><td>Alice In Chains</td><td>0.99</td></tr><tr><td>Hannah Schneider</td><td>Jamiroquai</td><td>0.99</td></tr><tr><td>Terhi Hämäläinen</td><td>Jamiroquai</td><td>0.99</td></tr><tr><td>Frank Ralston</td><td>R.E.M.</td><td>0.99</td></tr><tr><td>Joakim Johansson</td><td>Aerosmith</td><td>0.99</td></tr><tr><td>Hannah Schneider</td><td>The Cult</td><td>0.99</td></tr><tr><td>Richard Cunningham</td><td>Cake</td><td>0.99</td></tr><tr><td>Jack Smith</td><td>Pearl Jam</td><td>0.99</td></tr><tr><td>Daan Peeters</td><td>Eric Clapton</td><td>0.99</td></tr><tr><td>Marc Dubois</td><td>R.E.M.</td><td>0.99</td></tr><tr><td>Ellie Sullivan</td><td>Foo Fighters</td><td>0.99</td></tr><tr><td>Leonie Köhler</td><td>Marvin Gaye</td><td>0.99</td></tr><tr><td>Manoj Pareek</td><td>Deep Purple</td><td>0.99</td></tr><tr><td>Lucas Mancini</td><td>Amy Winehouse</td><td>0.99</td></tr><tr><td>Niklas Schröder</td><td>The Rolling Stones</td><td>0.99</td></tr><tr><td>Luís Gonçalves</td><td>Frank Sinatra</td><td>0.99</td></tr><tr><td>Edward Francis</td><td>Men At Work</td><td>0.99</td></tr><tr><td>Tim Goyer</td><td>Pearl Jam</td><td>0.99</td></tr><tr><td>Phil Hughes</td><td>Lenny Kravitz</td><td>0.99</td></tr><tr><td>François Tremblay</td><td>Chico Buarque</td><td>0.99</td></tr><tr><td>Emma Jones</td><td>Gustav Mahler</td><td>0.99</td></tr><tr><td>João Fernandes</td><td>Accept</td><td>0.99</td></tr><tr><td>Terhi Hämäläinen</td><td>Foo Fighters</td><td>0.99</td></tr><tr><td>Mark Taylor</td><td>U2</td><td>0.99</td></tr><tr><td>Fernanda Ramos</td><td>Zeca Pagodinho</td><td>0.99</td></tr><tr><td>Michelle Brooks</td><td>The King's Singers</td><td>0.99</td></tr><tr><td>Hannah Schneider</td><td>Mötley Crüe</td><td>0.99</td></tr><tr><td>Jennifer Peterson</td><td>Alanis Morissette</td><td>0.99</td></tr><tr><td>Martha Silk</td><td>Iron Maiden</td><td>0.99</td></tr><tr><td>Aaron Mitchell</td><td>Guns N' Roses</td><td>0.99</td></tr><tr><td>Rishabh Mishra</td><td>Red Hot Chili Peppers</td><td>0.99</td></tr><tr><td>Hannah Schneider</td><td>The Rolling Stones</td><td>0.99</td></tr><tr><td>Astrid Gruber</td><td>Led Zeppelin</td><td>0.99</td></tr><tr><td>Frank Harris</td><td>Audioslave</td><td>0.99</td></tr><tr><td>Mark Taylor</td><td>Godsmack</td><td>0.99</td></tr><tr><td>Hugh O'Reilly</td><td>Van Halen</td><td>0.99</td></tr><tr><td>Victor Stevens</td><td>Guns N' Roses</td><td>0.99</td></tr><tr><td>Michelle Brooks</td><td>Marvin Gaye</td><td>0.99</td></tr><tr><td>Dan Miller</td><td>Led Zeppelin</td><td>0.99</td></tr><tr><td>Camille Bernard</td><td>JET</td><td>0.99</td></tr><tr><td>Robert Brown</td><td>Godsmack</td><td>0.99</td></tr><tr><td>Robert Brown</td><td>AC/DC</td><td>0.99</td></tr><tr><td>Rishabh Mishra</td><td>Godsmack</td><td>0.99</td></tr><tr><td>Kathy Chase</td><td>The Police</td><td>0.99</td></tr><tr><td>François Tremblay</td><td>Velvet Revolver</td><td>0.99</td></tr><tr><td>Eduardo Martins</td><td>Pearl Jam</td><td>0.99</td></tr><tr><td>Roberto Almeida</td><td>Alice In Chains</td><td>0.99</td></tr><tr><td>Rishabh Mishra</td><td>Caetano Veloso</td><td>0.99</td></tr><tr><td>Camille Bernard</td><td>Van Halen</td><td>0.99</td></tr><tr><td>Luís Gonçalves</td><td>Calexico</td><td>0.99</td></tr><tr><td>Kara Nielsen</td><td>Scorpions</td><td>0.99</td></tr><tr><td>Enrique Muñoz</td><td>Luciano Pavarotti</td><td>0.99</td></tr><tr><td>Frank Harris</td><td>Green Day</td><td>0.99</td></tr><tr><td>Ellie Sullivan</td><td>Nirvana</td><td>0.99</td></tr><tr><td>Fernanda Ramos</td><td>Soundgarden</td><td>0.99</td></tr><tr><td>Tim Goyer</td><td>Red Hot Chili Peppers</td><td>0.99</td></tr><tr><td>Diego Gutiérrez</td><td>Tim Maia</td><td>0.99</td></tr><tr><td>Manoj Pareek</td><td>Van Halen</td><td>0.99</td></tr><tr><td>Richard Cunningham</td><td>Rush</td><td>0.99</td></tr><tr><td>Kathy Chase</td><td>Jimi Hendrix</td><td>0.99</td></tr><tr><td>John Gordon</td><td>Creedence Clearwater Revival</td><td>0.99</td></tr><tr><td>Camille Bernard</td><td>Black Label Society</td><td>0.99</td></tr><tr><td>Kara Nielsen</td><td>Guns N' Roses</td><td>0.99</td></tr><tr><td>Enrique Muñoz</td><td>Tim Maia</td><td>0.99</td></tr><tr><td>Fernanda Ramos</td><td>Nirvana</td><td>0.99</td></tr><tr><td>Marc Dubois</td><td>Faith No More</td><td>0.99</td></tr><tr><td>Patrick Gray</td><td>Frank Sinatra</td><td>0.99</td></tr><tr><td>Camille Bernard</td><td>Guns N' Roses</td><td>0.99</td></tr><tr><td>Madalena Sampaio</td><td>Lenny Kravitz</td><td>0.99</td></tr><tr><td>João Fernandes</td><td>Foo Fighters</td><td>0.99</td></tr><tr><td>Wyatt Girard</td><td>Apocalyptica</td><td>0.99</td></tr><tr><td>Mark Philips</td><td>Eric Clapton</td><td>0.99</td></tr><tr><td>Frank Ralston</td><td>Cake</td><td>0.99</td></tr><tr><td>Frank Ralston</td><td>Marvin Gaye</td><td>0.99</td></tr><tr><td>François Tremblay</td><td>Foo Fighters</td><td>0.99</td></tr><tr><td>Terhi Hämäläinen</td><td>Frank Sinatra</td><td>0.99</td></tr><tr><td>Richard Cunningham</td><td>Motörhead</td><td>0.99</td></tr><tr><td>Ellie Sullivan</td><td>Stone Temple Pilots</td><td>0.99</td></tr><tr><td>Manoj Pareek</td><td>Creedence Clearwater Revival</td><td>0.99</td></tr><tr><td>Luís Gonçalves</td><td>Scorpions</td><td>0.99</td></tr><tr><td>Bjørn Hansen</td><td>The Clash</td><td>0.99</td></tr><tr><td>Johannes Van der Berg</td><td>AC/DC</td><td>0.99</td></tr><tr><td>Camille Bernard</td><td>Godsmack</td><td>0.99</td></tr><tr><td>Edward Francis</td><td>Accept</td><td>0.99</td></tr><tr><td>Ladislav Kovács</td><td>Black Sabbath</td><td>0.99</td></tr><tr><td>Edward Francis</td><td>Lulu Santos</td><td>0.99</td></tr><tr><td>Daan Peeters</td><td>Emerson String Quartet</td><td>0.99</td></tr><tr><td>John Gordon</td><td>JET</td><td>0.99</td></tr><tr><td>Mark Philips</td><td>Amy Winehouse</td><td>0.99</td></tr><tr><td>Steve Murray</td><td>Nirvana</td><td>0.99</td></tr><tr><td>Fernanda Ramos</td><td>AC/DC</td><td>0.99</td></tr><tr><td>Jennifer Peterson</td><td>The Rolling Stones</td><td>0.99</td></tr><tr><td>Robert Brown</td><td>Raul Seixas</td><td>0.99</td></tr><tr><td>Jack Smith</td><td>Velvet Revolver</td><td>0.99</td></tr><tr><td>Emma Jones</td><td>Cake</td><td>0.99</td></tr><tr><td>Tim Goyer</td><td>The Who</td><td>0.99</td></tr><tr><td>Frank Harris</td><td>Os Mutantes</td><td>0.99</td></tr><tr><td>Dan Miller</td><td>Metallica</td><td>0.99</td></tr><tr><td>Stanisław Wójcik</td><td>JET</td><td>0.99</td></tr><tr><td>Helena Holý</td><td>JET</td><td>0.99</td></tr><tr><td>John Gordon</td><td>U2</td><td>0.99</td></tr><tr><td>Mark Taylor</td><td>Santana</td><td>0.99</td></tr></tbody></table></div>"
      ]
     },
     "metadata": {
      "application/vnd.databricks.v1+output": {
       "addedWidgets": {},
       "aggData": [],
       "aggError": "",
       "aggOverflow": false,
       "aggSchema": [],
       "aggSeriesLimitReached": false,
       "aggType": "",
       "arguments": {},
       "columnCustomDisplayInfos": {},
       "data": [
        [
         "Hugh O'Reilly",
         "Queen",
         27.719999999999985
        ],
        [
         "Wyatt Girard",
         "Frank Sinatra",
         23.75999999999999
        ],
        [
         "Helena Holý",
         "Red Hot Chili Peppers",
         19.799999999999997
        ],
        [
         "Robert Brown",
         "Creedence Clearwater Revival",
         19.799999999999997
        ],
        [
         "Aaron Mitchell",
         "James Brown",
         19.799999999999997
        ],
        [
         "František Wichterlová",
         "Kiss",
         19.799999999999997
        ],
        [
         "François Tremblay",
         "The Who",
         19.799999999999997
        ],
        [
         "Hugh O'Reilly",
         "Nirvana",
         18.81
        ],
        [
         "Heather Leacock",
         "House Of Pain",
         18.81
        ],
        [
         "Niklas Schröder",
         "Queen",
         18.81
        ],
        [
         "Mark Taylor",
         "The Clash",
         17.82
        ],
        [
         "Dan Miller",
         "Eric Clapton",
         17.82
        ],
        [
         "Hugh O'Reilly",
         "Marisa Monte",
         17.82
        ],
        [
         "Luís Gonçalves",
         "The Cult",
         17.82
        ],
        [
         "François Tremblay",
         "Queen",
         17.82
        ],
        [
         "Richard Cunningham",
         "Marvin Gaye",
         17.82
        ],
        [
         "Camille Bernard",
         "Marisa Monte",
         17.82
        ],
        [
         "František Wichterlová",
         "Eric Clapton",
         17.82
        ],
        [
         "Steve Murray",
         "AC/DC",
         17.82
        ],
        [
         "Ladislav Kovács",
         "The Cult",
         17.82
        ],
        [
         "François Tremblay",
         "Jimi Hendrix",
         16.830000000000002
        ],
        [
         "Manoj Pareek",
         "Jimi Hendrix",
         16.830000000000002
        ],
        [
         "Fynn Zimmermann",
         "Jimi Hendrix",
         16.830000000000002
        ],
        [
         "Julia Barnett",
         "Jimi Hendrix",
         16.830000000000002
        ],
        [
         "Enrique Muñoz",
         "Jimi Hendrix",
         16.830000000000002
        ],
        [
         "Frank Harris",
         "Van Halen",
         16.830000000000002
        ],
        [
         "Roberto Almeida",
         "Jimi Hendrix",
         16.830000000000002
        ],
        [
         "Manoj Pareek",
         "O Rappa",
         16.830000000000002
        ],
        [
         "João Fernandes",
         "Queen",
         16.830000000000002
        ],
        [
         "Patrick Gray",
         "Nirvana",
         16.830000000000002
        ],
        [
         "João Fernandes",
         "Jimi Hendrix",
         16.830000000000002
        ],
        [
         "Joakim Johansson",
         "Soundgarden",
         16.830000000000002
        ],
        [
         "Helena Holý",
         "Jimi Hendrix",
         16.830000000000002
        ],
        [
         "Lucas Mancini",
         "The Rolling Stones",
         15.840000000000002
        ],
        [
         "Emma Jones",
         "Red Hot Chili Peppers",
         15.840000000000002
        ],
        [
         "Fynn Zimmermann",
         "Kiss",
         15.840000000000002
        ],
        [
         "Victor Stevens",
         "Pearl Jam",
         15.840000000000002
        ],
        [
         "Michelle Brooks",
         "Guns N' Roses",
         15.840000000000002
        ],
        [
         "Fernanda Ramos",
         "Red Hot Chili Peppers",
         15.840000000000002
        ],
        [
         "Luis Rojas",
         "Red Hot Chili Peppers",
         14.850000000000001
        ],
        [
         "Dominique Lefebvre",
         "Pearl Jam",
         14.850000000000001
        ],
        [
         "Mark Taylor",
         "Aerosmith",
         14.850000000000001
        ],
        [
         "Astrid Gruber",
         "Miles Davis",
         14.850000000000001
        ],
        [
         "Eduardo Martins",
         "Metallica",
         14.850000000000001
        ],
        [
         "Phil Hughes",
         "Motörhead",
         14.850000000000001
        ],
        [
         "Martha Silk",
         "Guns N' Roses",
         14.850000000000001
        ],
        [
         "Jennifer Peterson",
         "Aerosmith",
         14.850000000000001
        ],
        [
         "Hannah Schneider",
         "Miles Davis",
         13.860000000000001
        ],
        [
         "Phil Hughes",
         "The Police",
         13.860000000000001
        ],
        [
         "Helena Holý",
         "Van Halen",
         13.860000000000001
        ],
        [
         "Joakim Johansson",
         "Guns N' Roses",
         13.860000000000001
        ],
        [
         "Fernanda Ramos",
         "Antônio Carlos Jobim",
         13.860000000000001
        ],
        [
         "Heather Leacock",
         "Green Day",
         13.860000000000001
        ],
        [
         "Luís Gonçalves",
         "Rush",
         13.860000000000001
        ],
        [
         "Michelle Brooks",
         "Os Mutantes",
         13.860000000000001
        ],
        [
         "Enrique Muñoz",
         "Miles Davis",
         13.860000000000001
        ],
        [
         "Leonie Köhler",
         "Audioslave",
         13.860000000000001
        ],
        [
         "Aaron Mitchell",
         "Chris Cornell",
         13.860000000000001
        ],
        [
         "Frank Ralston",
         "Chris Cornell",
         13.860000000000001
        ],
        [
         "Alexandre Rocha",
         "Pearl Jam",
         13.860000000000001
        ],
        [
         "Terhi Hämäläinen",
         "The Police",
         13.860000000000001
        ],
        [
         "Diego Gutiérrez",
         "Green Day",
         13.860000000000001
        ],
        [
         "Luís Gonçalves",
         "JET",
         12.870000000000001
        ],
        [
         "Ellie Sullivan",
         "Pearl Jam",
         12.870000000000001
        ],
        [
         "Alexandre Rocha",
         "JET",
         12.870000000000001
        ],
        [
         "Phil Hughes",
         "JET",
         12.870000000000001
        ],
        [
         "Edward Francis",
         "Alanis Morissette",
         12.870000000000001
        ],
        [
         "Emma Jones",
         "Alanis Morissette",
         12.870000000000001
        ],
        [
         "Dominique Lefebvre",
         "Foo Fighters",
         12.870000000000001
        ],
        [
         "Fynn Zimmermann",
         "U2",
         12.870000000000001
        ],
        [
         "Johannes Van der Berg",
         "Amy Winehouse",
         12.870000000000001
        ],
        [
         "František Wichterlová",
         "R.E.M.",
         12.870000000000001
        ],
        [
         "Astrid Gruber",
         "Nirvana",
         12.870000000000001
        ],
        [
         "Manoj Pareek",
         "JET",
         12.870000000000001
        ],
        [
         "Kathy Chase",
         "Van Halen",
         12.870000000000001
        ],
        [
         "João Fernandes",
         "Alanis Morissette",
         12.870000000000001
        ],
        [
         "João Fernandes",
         "Godsmack",
         11.88
        ],
        [
         "Rishabh Mishra",
         "The Cult",
         11.88
        ],
        [
         "Victor Stevens",
         "Alice In Chains",
         11.88
        ],
        [
         "Jack Smith",
         "Foo Fighters",
         11.88
        ],
        [
         "Bjørn Hansen",
         "Guns N' Roses",
         11.88
        ],
        [
         "Dan Miller",
         "Foo Fighters",
         11.88
        ],
        [
         "Ladislav Kovács",
         "Godsmack",
         11.88
        ],
        [
         "Frank Harris",
         "R.E.M.",
         11.88
        ],
        [
         "Marc Dubois",
         "Queen",
         11.88
        ],
        [
         "Daan Peeters",
         "Godsmack",
         11.88
        ],
        [
         "Steve Murray",
         "Stone Temple Pilots",
         11.88
        ],
        [
         "Camille Bernard",
         "Scorpions",
         11.88
        ],
        [
         "Heather Leacock",
         "Amy Winehouse",
         11.88
        ],
        [
         "Fynn Zimmermann",
         "Amy Winehouse",
         11.88
        ],
        [
         "Luis Rojas",
         "Pearl Jam",
         11.88
        ],
        [
         "Wyatt Girard",
         "Godsmack",
         11.88
        ],
        [
         "Tim Goyer",
         "The Rolling Stones",
         11.88
        ],
        [
         "Richard Cunningham",
         "Scorpions",
         11.88
        ],
        [
         "Dominique Lefebvre",
         "Scorpions",
         11.88
        ],
        [
         "Jennifer Peterson",
         "Nirvana",
         11.88
        ],
        [
         "František Wichterlová",
         "Jota Quest",
         11.88
        ],
        [
         "Phil Hughes",
         "Queen",
         11.88
        ],
        [
         "Frank Harris",
         "Godsmack",
         11.88
        ],
        [
         "Victor Stevens",
         "The Rolling Stones",
         11.88
        ],
        [
         "Patrick Gray",
         "The Doors",
         10.89
        ],
        [
         "Roberto Almeida",
         "Metallica",
         10.89
        ],
        [
         "Bjørn Hansen",
         "The Doors",
         10.89
        ],
        [
         "František Wichterlová",
         "Foo Fighters",
         10.89
        ],
        [
         "Mark Taylor",
         "System Of A Down",
         10.89
        ],
        [
         "Roberto Almeida",
         "R.E.M.",
         10.89
        ],
        [
         "Lucas Mancini",
         "Queen",
         10.89
        ],
        [
         "Phil Hughes",
         "AC/DC",
         10.89
        ],
        [
         "Patrick Gray",
         "System Of A Down",
         10.89
        ],
        [
         "Kathy Chase",
         "AC/DC",
         10.89
        ],
        [
         "Ellie Sullivan",
         "Queen",
         10.89
        ],
        [
         "Stanisław Wójcik",
         "Buddy Guy",
         10.89
        ],
        [
         "Fernanda Ramos",
         "Jamiroquai",
         10.89
        ],
        [
         "Bjørn Hansen",
         "Metallica",
         10.89
        ],
        [
         "Victor Stevens",
         "R.E.M.",
         10.89
        ],
        [
         "Kathy Chase",
         "Skank",
         10.89
        ],
        [
         "Fynn Zimmermann",
         "Iron Maiden",
         9.9
        ],
        [
         "Madalena Sampaio",
         "Iron Maiden",
         9.9
        ],
        [
         "Fynn Zimmermann",
         "Jamiroquai",
         9.9
        ],
        [
         "Rishabh Mishra",
         "Marillion",
         9.9
        ],
        [
         "Stanisław Wójcik",
         "AC/DC",
         9.9
        ],
        [
         "Isabelle Mercier",
         "Deep Purple",
         9.9
        ],
        [
         "Joakim Johansson",
         "Iron Maiden",
         9.9
        ],
        [
         "Emma Jones",
         "Pink Floyd",
         8.91
        ],
        [
         "François Tremblay",
         "Apocalyptica",
         7.920000000000001
        ],
        [
         "Alexandre Rocha",
         "Metallica",
         7.920000000000001
        ],
        [
         "Luís Gonçalves",
         "AC/DC",
         7.920000000000001
        ],
        [
         "Frank Ralston",
         "AC/DC",
         7.920000000000001
        ],
        [
         "Kathy Chase",
         "Black Sabbath",
         7.920000000000001
        ],
        [
         "Frank Ralston",
         "Black Sabbath",
         6.930000000000001
        ],
        [
         "Dan Miller",
         "Van Halen",
         4.95
        ],
        [
         "Edward Francis",
         "Eric Clapton",
         4.95
        ],
        [
         "Jack Smith",
         "U2",
         4.95
        ],
        [
         "Madalena Sampaio",
         "Jimi Hendrix",
         4.95
        ],
        [
         "John Gordon",
         "Green Day",
         4.95
        ],
        [
         "František Wichterlová",
         "Nirvana",
         4.95
        ],
        [
         "Jack Smith",
         "Amy Winehouse",
         4.95
        ],
        [
         "Daan Peeters",
         "Foo Fighters",
         4.95
        ],
        [
         "Manoj Pareek",
         "Foo Fighters",
         3.96
        ],
        [
         "Isabelle Mercier",
         "Metallica",
         3.96
        ],
        [
         "Manoj Pareek",
         "The Rolling Stones",
         3.96
        ],
        [
         "Niklas Schröder",
         "Amy Winehouse",
         3.96
        ],
        [
         "Bjørn Hansen",
         "System Of A Down",
         3.96
        ],
        [
         "Luis Rojas",
         "Green Day",
         3.96
        ],
        [
         "John Gordon",
         "The Who",
         3.96
        ],
        [
         "Julia Barnett",
         "R.E.M.",
         3.96
        ],
        [
         "Terhi Hämäläinen",
         "The Clash",
         3.96
        ],
        [
         "Isabelle Mercier",
         "Led Zeppelin",
         3.96
        ],
        [
         "Michelle Brooks",
         "Pearl Jam",
         3.96
        ],
        [
         "František Wichterlová",
         "Queen",
         3.96
        ],
        [
         "Hannah Schneider",
         "Metallica",
         3.96
        ],
        [
         "Enrique Muñoz",
         "Frank Sinatra",
         3.96
        ],
        [
         "Jack Smith",
         "Def Leppard",
         3.96
        ],
        [
         "François Tremblay",
         "Black Sabbath",
         3.96
        ],
        [
         "Enrique Muñoz",
         "Foo Fighters",
         3.96
        ],
        [
         "Bjørn Hansen",
         "Van Halen",
         3.96
        ],
        [
         "Wyatt Girard",
         "Amy Winehouse",
         3.96
        ],
        [
         "Martha Silk",
         "Red Hot Chili Peppers",
         3.96
        ],
        [
         "Julia Barnett",
         "The Doors",
         3.96
        ],
        [
         "Marc Dubois",
         "Amy Winehouse",
         3.96
        ],
        [
         "Martha Silk",
         "AC/DC",
         3.96
        ],
        [
         "Ellie Sullivan",
         "The Rolling Stones",
         3.96
        ],
        [
         "Luis Rojas",
         "Guns N' Roses",
         3.96
        ],
        [
         "Jack Smith",
         "Metallica",
         3.96
        ],
        [
         "Kara Nielsen",
         "Jamiroquai",
         3.96
        ],
        [
         "Terhi Hämäläinen",
         "Jimi Hendrix",
         3.96
        ],
        [
         "Dan Miller",
         "Red Hot Chili Peppers",
         3.96
        ],
        [
         "Dan Miller",
         "Queen",
         3.96
        ],
        [
         "Jack Smith",
         "Nirvana",
         3.96
        ],
        [
         "Dan Miller",
         "The Who",
         3.96
        ],
        [
         "Manoj Pareek",
         "Iron Maiden",
         3.96
        ],
        [
         "Hannah Schneider",
         "U2",
         3.96
        ],
        [
         "Victor Stevens",
         "The Clash",
         3.96
        ],
        [
         "Isabelle Mercier",
         "Green Day",
         3.96
        ],
        [
         "Heather Leacock",
         "Guns N' Roses",
         3.96
        ],
        [
         "Edward Francis",
         "Led Zeppelin",
         2.9699999999999998
        ],
        [
         "Bjørn Hansen",
         "JET",
         2.9699999999999998
        ],
        [
         "Jack Smith",
         "Red Hot Chili Peppers",
         2.9699999999999998
        ],
        [
         "Daan Peeters",
         "R.E.M.",
         2.9699999999999998
        ],
        [
         "Jack Smith",
         "Led Zeppelin",
         2.9699999999999998
        ],
        [
         "Victor Stevens",
         "Eric Clapton",
         2.9699999999999998
        ],
        [
         "Steve Murray",
         "Pearl Jam",
         2.9699999999999998
        ],
        [
         "Hannah Schneider",
         "System Of A Down",
         2.9699999999999998
        ],
        [
         "František Wichterlová",
         "System Of A Down",
         2.9699999999999998
        ],
        [
         "Steve Murray",
         "Jimi Hendrix",
         2.9699999999999998
        ],
        [
         "Hannah Schneider",
         "Black Sabbath",
         2.9699999999999998
        ],
        [
         "Kara Nielsen",
         "Gilberto Gil",
         2.9699999999999998
        ],
        [
         "Terhi Hämäläinen",
         "AC/DC",
         2.9699999999999998
        ],
        [
         "Kathy Chase",
         "Led Zeppelin",
         2.9699999999999998
        ],
        [
         "Fynn Zimmermann",
         "System Of A Down",
         2.9699999999999998
        ],
        [
         "Kathy Chase",
         "Nirvana",
         2.9699999999999998
        ],
        [
         "Richard Cunningham",
         "Jamiroquai",
         2.9699999999999998
        ],
        [
         "Manoj Pareek",
         "Scorpions",
         2.9699999999999998
        ],
        [
         "Joakim Johansson",
         "Jimi Hendrix",
         2.9699999999999998
        ],
        [
         "Dan Miller",
         "Alice In Chains",
         2.9699999999999998
        ],
        [
         "Tim Goyer",
         "Nirvana",
         2.9699999999999998
        ],
        [
         "Jack Smith",
         "Green Day",
         2.9699999999999998
        ],
        [
         "Luis Rojas",
         "Aerosmith",
         2.9699999999999998
        ],
        [
         "Wyatt Girard",
         "AC/DC",
         2.9699999999999998
        ],
        [
         "Stanisław Wójcik",
         "U2",
         2.9699999999999998
        ],
        [
         "Hugh O'Reilly",
         "Red Hot Chili Peppers",
         2.9699999999999998
        ],
        [
         "Hannah Schneider",
         "Red Hot Chili Peppers",
         2.9699999999999998
        ],
        [
         "Richard Cunningham",
         "U2",
         2.9699999999999998
        ],
        [
         "Julia Barnett",
         "Amy Winehouse",
         2.9699999999999998
        ],
        [
         "Eduardo Martins",
         "Iron Maiden",
         2.9699999999999998
        ],
        [
         "Fernanda Ramos",
         "Alanis Morissette",
         2.9699999999999998
        ],
        [
         "Leonie Köhler",
         "The Rolling Stones",
         2.9699999999999998
        ],
        [
         "Helena Holý",
         "AC/DC",
         2.9699999999999998
        ],
        [
         "Leonie Köhler",
         "Chris Cornell",
         2.9699999999999998
        ],
        [
         "Roberto Almeida",
         "The Who",
         2.9699999999999998
        ],
        [
         "Astrid Gruber",
         "Black Label Society",
         2.9699999999999998
        ],
        [
         "Julia Barnett",
         "JET",
         2.9699999999999998
        ],
        [
         "Wyatt Girard",
         "Eric Clapton",
         2.9699999999999998
        ],
        [
         "Michelle Brooks",
         "Judas Priest",
         2.9699999999999998
        ],
        [
         "Niklas Schröder",
         "AC/DC",
         2.9699999999999998
        ],
        [
         "Manoj Pareek",
         "Rush",
         2.9699999999999998
        ],
        [
         "Fernanda Ramos",
         "Foo Fighters",
         2.9699999999999998
        ],
        [
         "Madalena Sampaio",
         "Pink Floyd",
         2.9699999999999998
        ],
        [
         "Hugh O'Reilly",
         "Rush",
         2.9699999999999998
        ],
        [
         "Helena Holý",
         "Deep Purple",
         2.9699999999999998
        ],
        [
         "Luís Gonçalves",
         "Miles Davis",
         2.9699999999999998
        ],
        [
         "Hannah Schneider",
         "Marvin Gaye",
         2.9699999999999998
        ],
        [
         "Ellie Sullivan",
         "Led Zeppelin",
         2.9699999999999998
        ],
        [
         "Luís Gonçalves",
         "Guns N' Roses",
         2.9699999999999998
        ],
        [
         "Madalena Sampaio",
         "AC/DC",
         2.9699999999999998
        ],
        [
         "Eduardo Martins",
         "Foo Fighters",
         2.9699999999999998
        ],
        [
         "Mark Philips",
         "Pink Floyd",
         2.9699999999999998
        ],
        [
         "Enrique Muñoz",
         "The Police",
         2.9699999999999998
        ],
        [
         "Steve Murray",
         "Queen",
         2.9699999999999998
        ],
        [
         "Hugh O'Reilly",
         "Ozzy Osbourne",
         2.9699999999999998
        ],
        [
         "Leonie Köhler",
         "System Of A Down",
         2.9699999999999998
        ],
        [
         "Helena Holý",
         "Iron Maiden",
         2.9699999999999998
        ],
        [
         "Steve Murray",
         "The Rolling Stones",
         2.9699999999999998
        ],
        [
         "Wyatt Girard",
         "Deep Purple",
         2.9699999999999998
        ],
        [
         "Julia Barnett",
         "Black Sabbath",
         2.9699999999999998
        ],
        [
         "Jack Smith",
         "Miles Davis",
         2.9699999999999998
        ],
        [
         "Ladislav Kovács",
         "Red Hot Chili Peppers",
         2.9699999999999998
        ],
        [
         "Kathy Chase",
         "Pearl Jam",
         2.9699999999999998
        ],
        [
         "Madalena Sampaio",
         "System Of A Down",
         2.9699999999999998
        ],
        [
         "Wyatt Girard",
         "Green Day",
         2.9699999999999998
        ],
        [
         "Ellie Sullivan",
         "Guns N' Roses",
         2.9699999999999998
        ],
        [
         "Bjørn Hansen",
         "Def Leppard",
         2.9699999999999998
        ],
        [
         "Ellie Sullivan",
         "System Of A Down",
         2.9699999999999998
        ],
        [
         "Astrid Gruber",
         "Jimi Hendrix",
         2.9699999999999998
        ],
        [
         "Jack Smith",
         "The Rolling Stones",
         2.9699999999999998
        ],
        [
         "Camille Bernard",
         "Rush",
         2.9699999999999998
        ],
        [
         "Leonie Köhler",
         "The Doors",
         2.9699999999999998
        ],
        [
         "Fernanda Ramos",
         "The Who",
         2.9699999999999998
        ],
        [
         "Frank Ralston",
         "U2",
         2.9699999999999998
        ],
        [
         "Terhi Hämäläinen",
         "Pearl Jam",
         2.9699999999999998
        ],
        [
         "Phil Hughes",
         "Foo Fighters",
         2.9699999999999998
        ],
        [
         "François Tremblay",
         "Eric Clapton",
         2.9699999999999998
        ],
        [
         "Hannah Schneider",
         "Jimi Hendrix",
         2.9699999999999998
        ],
        [
         "Edward Francis",
         "Pink Floyd",
         2.9699999999999998
        ],
        [
         "John Gordon",
         "Queen",
         2.9699999999999998
        ],
        [
         "Eduardo Martins",
         "Jamiroquai",
         2.9699999999999998
        ],
        [
         "John Gordon",
         "Scorpions",
         2.9699999999999998
        ],
        [
         "Isabelle Mercier",
         "Aerosmith",
         2.9699999999999998
        ],
        [
         "Tim Goyer",
         "Creedence Clearwater Revival",
         2.9699999999999998
        ],
        [
         "Johannes Van der Berg",
         "Foo Fighters",
         2.9699999999999998
        ],
        [
         "Helena Holý",
         "The Doors",
         2.9699999999999998
        ],
        [
         "Patrick Gray",
         "Guns N' Roses",
         2.9699999999999998
        ],
        [
         "Heather Leacock",
         "The Doors",
         2.9699999999999998
        ],
        [
         "Marc Dubois",
         "Guns N' Roses",
         2.9699999999999998
        ],
        [
         "Hannah Schneider",
         "Led Zeppelin",
         2.9699999999999998
        ],
        [
         "Camille Bernard",
         "R.E.M.",
         2.9699999999999998
        ],
        [
         "Joakim Johansson",
         "Alanis Morissette",
         2.9699999999999998
        ],
        [
         "Leonie Köhler",
         "The Clash",
         2.9699999999999998
        ],
        [
         "Martha Silk",
         "The Rolling Stones",
         2.9699999999999998
        ],
        [
         "Edward Francis",
         "Iron Maiden",
         2.9699999999999998
        ],
        [
         "Diego Gutiérrez",
         "Nirvana",
         2.9699999999999998
        ],
        [
         "Isabelle Mercier",
         "The Rolling Stones",
         2.9699999999999998
        ],
        [
         "Edward Francis",
         "The Rolling Stones",
         2.9699999999999998
        ],
        [
         "Astrid Gruber",
         "Ozzy Osbourne",
         2.9699999999999998
        ],
        [
         "Dan Miller",
         "Soundgarden",
         2.9699999999999998
        ],
        [
         "Julia Barnett",
         "Red Hot Chili Peppers",
         2.9699999999999998
        ],
        [
         "Eduardo Martins",
         "System Of A Down",
         2.9699999999999998
        ],
        [
         "Leonie Köhler",
         "Eric Clapton",
         2.9699999999999998
        ],
        [
         "Dominique Lefebvre",
         "Black Sabbath",
         2.9699999999999998
        ],
        [
         "Stanisław Wójcik",
         "Red Hot Chili Peppers",
         2.9699999999999998
        ],
        [
         "Kathy Chase",
         "Pink Floyd",
         2.9699999999999998
        ],
        [
         "Joakim Johansson",
         "The Rolling Stones",
         2.9699999999999998
        ],
        [
         "Kathy Chase",
         "Metallica",
         2.9699999999999998
        ],
        [
         "Martha Silk",
         "Frank Sinatra",
         2.9699999999999998
        ],
        [
         "Leonie Köhler",
         "Kiss",
         2.9699999999999998
        ],
        [
         "Helena Holý",
         "U2",
         2.9699999999999998
        ],
        [
         "Helena Holý",
         "System Of A Down",
         2.9699999999999998
        ],
        [
         "Leonie Köhler",
         "Pearl Jam",
         2.9699999999999998
        ],
        [
         "Robert Brown",
         "Led Zeppelin",
         2.9699999999999998
        ],
        [
         "Fernanda Ramos",
         "U2",
         2.9699999999999998
        ],
        [
         "Jack Smith",
         "Creedence Clearwater Revival",
         2.9699999999999998
        ],
        [
         "Edward Francis",
         "Jamiroquai",
         2.9699999999999998
        ],
        [
         "Isabelle Mercier",
         "R.E.M.",
         2.9699999999999998
        ],
        [
         "Eduardo Martins",
         "Guns N' Roses",
         2.9699999999999998
        ],
        [
         "Marc Dubois",
         "Frank Sinatra",
         2.9699999999999998
        ],
        [
         "Manoj Pareek",
         "Alice In Chains",
         2.9699999999999998
        ],
        [
         "Dominique Lefebvre",
         "The Who",
         2.9699999999999998
        ],
        [
         "Dan Miller",
         "The Rolling Stones",
         2.9699999999999998
        ],
        [
         "Dan Miller",
         "U2",
         2.9699999999999998
        ],
        [
         "Isabelle Mercier",
         "Foo Fighters",
         2.9699999999999998
        ],
        [
         "João Fernandes",
         "Green Day",
         2.9699999999999998
        ],
        [
         "Steve Murray",
         "Green Day",
         2.9699999999999998
        ],
        [
         "Fernanda Ramos",
         "Pearl Jam",
         2.9699999999999998
        ],
        [
         "Dan Miller",
         "Nirvana",
         2.9699999999999998
        ],
        [
         "Terhi Hämäläinen",
         "The Who",
         2.9699999999999998
        ],
        [
         "Mark Philips",
         "Lenny Kravitz",
         2.9699999999999998
        ],
        [
         "František Wichterlová",
         "The Clash",
         2.9699999999999998
        ],
        [
         "Luis Rojas",
         "Nirvana",
         2.9699999999999998
        ],
        [
         "Bjørn Hansen",
         "Green Day",
         2.9699999999999998
        ],
        [
         "Hannah Schneider",
         "Green Day",
         2.9699999999999998
        ],
        [
         "Phil Hughes",
         "Pink Floyd",
         2.9699999999999998
        ],
        [
         "Wyatt Girard",
         "Alice In Chains",
         2.9699999999999998
        ],
        [
         "John Gordon",
         "R.E.M.",
         2.9699999999999998
        ],
        [
         "Martha Silk",
         "Nirvana",
         2.9699999999999998
        ],
        [
         "Frank Harris",
         "AC/DC",
         2.9699999999999998
        ],
        [
         "Michelle Brooks",
         "Amy Winehouse",
         2.9699999999999998
        ],
        [
         "Frank Harris",
         "Jamiroquai",
         2.9699999999999998
        ],
        [
         "Martha Silk",
         "Queen",
         2.9699999999999998
        ],
        [
         "John Gordon",
         "Frank Sinatra",
         2.9699999999999998
        ],
        [
         "Wyatt Girard",
         "Led Zeppelin",
         2.9699999999999998
        ],
        [
         "Luís Gonçalves",
         "Aerosmith",
         2.9699999999999998
        ],
        [
         "Ladislav Kovács",
         "Foo Fighters",
         2.9699999999999998
        ],
        [
         "Eduardo Martins",
         "The Police",
         2.9699999999999998
        ],
        [
         "Heather Leacock",
         "Led Zeppelin",
         1.98
        ],
        [
         "Lucas Mancini",
         "Led Zeppelin",
         1.98
        ],
        [
         "Niklas Schröder",
         "Led Zeppelin",
         1.98
        ],
        [
         "Johannes Van der Berg",
         "Jimi Hendrix",
         1.98
        ],
        [
         "Stanisław Wójcik",
         "Black Sabbath",
         1.98
        ],
        [
         "Marc Dubois",
         "Van Halen",
         1.98
        ],
        [
         "Joakim Johansson",
         "The Police",
         1.98
        ],
        [
         "Johannes Van der Berg",
         "The Rolling Stones",
         1.98
        ],
        [
         "Johannes Van der Berg",
         "Eric Clapton",
         1.98
        ],
        [
         "Hugh O'Reilly",
         "Metallica",
         1.98
        ],
        [
         "Richard Cunningham",
         "Chris Cornell",
         1.98
        ],
        [
         "Julia Barnett",
         "Queen",
         1.98
        ],
        [
         "Fernanda Ramos",
         "Pink Floyd",
         1.98
        ],
        [
         "Hannah Schneider",
         "Scorpions",
         1.98
        ],
        [
         "Robert Brown",
         "James Brown",
         1.98
        ],
        [
         "Martha Silk",
         "Green Day",
         1.98
        ],
        [
         "Luis Rojas",
         "Deep Purple",
         1.98
        ],
        [
         "Leonie Köhler",
         "Faith No More",
         1.98
        ],
        [
         "Hannah Schneider",
         "Queen",
         1.98
        ],
        [
         "Jack Smith",
         "Soundgarden",
         1.98
        ],
        [
         "Frank Ralston",
         "Soundgarden",
         1.98
        ],
        [
         "Hannah Schneider",
         "The Who",
         1.98
        ],
        [
         "Manoj Pareek",
         "Velvet Revolver",
         1.98
        ],
        [
         "Hugh O'Reilly",
         "Amy Winehouse",
         1.98
        ],
        [
         "Wyatt Girard",
         "Queen",
         1.98
        ],
        [
         "Emma Jones",
         "Metallica",
         1.98
        ],
        [
         "Leonie Köhler",
         "The Police",
         1.98
        ],
        [
         "François Tremblay",
         "Soundgarden",
         1.98
        ],
        [
         "Ladislav Kovács",
         "Stone Temple Pilots",
         1.98
        ],
        [
         "Camille Bernard",
         "The Rolling Stones",
         1.98
        ],
        [
         "Richard Cunningham",
         "Alanis Morissette",
         1.98
        ],
        [
         "João Fernandes",
         "AC/DC",
         1.98
        ],
        [
         "Stanisław Wójcik",
         "Jimi Hendrix",
         1.98
        ],
        [
         "Terhi Hämäläinen",
         "System Of A Down",
         1.98
        ],
        [
         "Edward Francis",
         "Apocalyptica",
         1.98
        ],
        [
         "Michelle Brooks",
         "System Of A Down",
         1.98
        ],
        [
         "Hugh O'Reilly",
         "Scorpions",
         1.98
        ],
        [
         "John Gordon",
         "Eric Clapton",
         1.98
        ],
        [
         "Hannah Schneider",
         "The Police",
         1.98
        ],
        [
         "Jack Smith",
         "Queen",
         1.98
        ],
        [
         "Jennifer Peterson",
         "Alice In Chains",
         1.98
        ],
        [
         "Luis Rojas",
         "Eric Clapton",
         1.98
        ],
        [
         "Niklas Schröder",
         "Buddy Guy",
         1.98
        ],
        [
         "Helena Holý",
         "Santana",
         1.98
        ],
        [
         "Leonie Köhler",
         "Godsmack",
         1.98
        ],
        [
         "Enrique Muñoz",
         "Apocalyptica",
         1.98
        ],
        [
         "Jack Smith",
         "Deep Purple",
         1.98
        ],
        [
         "Bjørn Hansen",
         "Black Sabbath",
         1.98
        ],
        [
         "Leonie Köhler",
         "Pink Floyd",
         1.98
        ],
        [
         "Helena Holý",
         "Foo Fighters",
         1.98
        ],
        [
         "Ladislav Kovács",
         "Soundgarden",
         1.98
        ],
        [
         "Phil Hughes",
         "Led Zeppelin",
         1.98
        ],
        [
         "Steve Murray",
         "Miles Davis",
         1.98
        ],
        [
         "Jennifer Peterson",
         "Chris Cornell",
         1.98
        ],
        [
         "František Wichterlová",
         "Creedence Clearwater Revival",
         1.98
        ],
        [
         "Patrick Gray",
         "The Rolling Stones",
         1.98
        ],
        [
         "Heather Leacock",
         "Judas Priest",
         1.98
        ],
        [
         "Roberto Almeida",
         "Aerosmith",
         1.98
        ],
        [
         "Terhi Hämäläinen",
         "U2",
         1.98
        ],
        [
         "Steve Murray",
         "R.E.M.",
         1.98
        ],
        [
         "Phil Hughes",
         "Van Halen",
         1.98
        ],
        [
         "Jennifer Peterson",
         "Queen",
         1.98
        ],
        [
         "Roberto Almeida",
         "Frank Sinatra",
         1.98
        ],
        [
         "Terhi Hämäläinen",
         "UB40",
         1.98
        ],
        [
         "Heather Leacock",
         "Creedence Clearwater Revival",
         1.98
        ],
        [
         "Marc Dubois",
         "Lenny Kravitz",
         1.98
        ],
        [
         "Jack Smith",
         "Apocalyptica",
         1.98
        ],
        [
         "Terhi Hämäläinen",
         "Alice In Chains",
         1.98
        ],
        [
         "Wyatt Girard",
         "Jimi Hendrix",
         1.98
        ],
        [
         "Alexandre Rocha",
         "The Who",
         1.98
        ],
        [
         "František Wichterlová",
         "Ozzy Osbourne",
         1.98
        ],
        [
         "Kathy Chase",
         "Foo Fighters",
         1.98
        ],
        [
         "Manoj Pareek",
         "Nirvana",
         1.98
        ],
        [
         "Bjørn Hansen",
         "Nirvana",
         1.98
        ],
        [
         "Martha Silk",
         "Amy Winehouse",
         1.98
        ],
        [
         "Enrique Muñoz",
         "Ozzy Osbourne",
         1.98
        ],
        [
         "Richard Cunningham",
         "James Brown",
         1.98
        ],
        [
         "Helena Holý",
         "The Cult",
         1.98
        ],
        [
         "Fernanda Ramos",
         "The Police",
         1.98
        ],
        [
         "Jack Smith",
         "Frank Sinatra",
         1.98
        ],
        [
         "Enrique Muñoz",
         "Black Sabbath",
         1.98
        ],
        [
         "Luis Rojas",
         "Miles Davis",
         1.98
        ],
        [
         "Madalena Sampaio",
         "Pearl Jam",
         1.98
        ],
        [
         "Johannes Van der Berg",
         "Buddy Guy",
         1.98
        ],
        [
         "Isabelle Mercier",
         "Alice In Chains",
         1.98
        ],
        [
         "Luís Gonçalves",
         "Iron Maiden",
         1.98
        ],
        [
         "Manoj Pareek",
         "Guns N' Roses",
         1.98
        ],
        [
         "Camille Bernard",
         "Jimi Hendrix",
         1.98
        ],
        [
         "Wyatt Girard",
         "Motörhead",
         1.98
        ],
        [
         "Roberto Almeida",
         "Jamiroquai",
         1.98
        ],
        [
         "Jack Smith",
         "Alice In Chains",
         1.98
        ],
        [
         "Roberto Almeida",
         "Black Sabbath",
         1.98
        ],
        [
         "Kara Nielsen",
         "AC/DC",
         1.98
        ],
        [
         "Enrique Muñoz",
         "Metallica",
         1.98
        ],
        [
         "Madalena Sampaio",
         "Queen",
         1.98
        ],
        [
         "František Wichterlová",
         "Godsmack",
         1.98
        ],
        [
         "Edward Francis",
         "Faith No More",
         1.98
        ],
        [
         "Dan Miller",
         "Stone Temple Pilots",
         1.98
        ],
        [
         "Bjørn Hansen",
         "Iron Maiden",
         1.98
        ],
        [
         "Frank Harris",
         "The Clash",
         1.98
        ],
        [
         "Niklas Schröder",
         "Eric Clapton",
         1.98
        ],
        [
         "Helena Holý",
         "Velvet Revolver",
         1.98
        ],
        [
         "Mark Taylor",
         "Deep Purple",
         1.98
        ],
        [
         "Mark Taylor",
         "Pearl Jam",
         1.98
        ],
        [
         "Jennifer Peterson",
         "Metallica",
         1.98
        ],
        [
         "Luis Rojas",
         "Queen",
         1.98
        ],
        [
         "Hannah Schneider",
         "The Clash",
         1.98
        ],
        [
         "Daan Peeters",
         "Aerosmith",
         1.98
        ],
        [
         "Alexandre Rocha",
         "Green Day",
         1.98
        ],
        [
         "Eduardo Martins",
         "Nirvana",
         1.98
        ],
        [
         "František Wichterlová",
         "U2",
         1.98
        ],
        [
         "Frank Ralston",
         "Kiss",
         1.98
        ],
        [
         "Johannes Van der Berg",
         "Queen",
         1.98
        ],
        [
         "Luis Rojas",
         "Creedence Clearwater Revival",
         1.98
        ],
        [
         "Kara Nielsen",
         "Audioslave",
         1.98
        ],
        [
         "Daan Peeters",
         "JET",
         1.98
        ],
        [
         "Niklas Schröder",
         "Guns N' Roses",
         1.98
        ],
        [
         "Johannes Van der Berg",
         "Red Hot Chili Peppers",
         1.98
        ],
        [
         "Martha Silk",
         "The Police",
         1.98
        ],
        [
         "Johannes Van der Berg",
         "Nirvana",
         1.98
        ],
        [
         "Madalena Sampaio",
         "Red Hot Chili Peppers",
         1.98
        ],
        [
         "Fernanda Ramos",
         "Kiss",
         1.98
        ],
        [
         "Jack Smith",
         "Legião Urbana",
         1.98
        ],
        [
         "Wyatt Girard",
         "Black Sabbath",
         1.98
        ],
        [
         "Kara Nielsen",
         "U2",
         1.98
        ],
        [
         "Tim Goyer",
         "Green Day",
         1.98
        ],
        [
         "Rishabh Mishra",
         "Alanis Morissette",
         1.98
        ],
        [
         "François Tremblay",
         "Metallica",
         1.98
        ],
        [
         "Julia Barnett",
         "Alanis Morissette",
         1.98
        ],
        [
         "Mark Taylor",
         "The Doors",
         1.98
        ],
        [
         "František Wichterlová",
         "The Police",
         1.98
        ],
        [
         "Frank Harris",
         "Queen",
         1.98
        ],
        [
         "Stanisław Wójcik",
         "Stone Temple Pilots",
         1.98
        ],
        [
         "Tim Goyer",
         "Eric Clapton",
         1.98
        ],
        [
         "Wyatt Girard",
         "Foo Fighters",
         1.98
        ],
        [
         "Astrid Gruber",
         "Foo Fighters",
         1.98
        ],
        [
         "Frank Ralston",
         "The Police",
         1.98
        ],
        [
         "Wyatt Girard",
         "Pearl Jam",
         1.98
        ],
        [
         "Niklas Schröder",
         "The Doors",
         1.98
        ],
        [
         "Tim Goyer",
         "Van Halen",
         1.98
        ],
        [
         "Kathy Chase",
         "Marvin Gaye",
         1.98
        ],
        [
         "Astrid Gruber",
         "Aerosmith",
         1.98
        ],
        [
         "Johannes Van der Berg",
         "U2",
         1.98
        ],
        [
         "Stanisław Wójcik",
         "Nirvana",
         1.98
        ],
        [
         "Martha Silk",
         "R.E.M.",
         1.98
        ],
        [
         "Phil Hughes",
         "Santana",
         1.98
        ],
        [
         "Johannes Van der Berg",
         "Soundgarden",
         1.98
        ],
        [
         "Johannes Van der Berg",
         "R.E.M.",
         1.98
        ],
        [
         "François Tremblay",
         "Aerosmith",
         1.98
        ],
        [
         "Enrique Muñoz",
         "Amy Winehouse",
         1.98
        ],
        [
         "Steve Murray",
         "Led Zeppelin",
         1.98
        ],
        [
         "Aaron Mitchell",
         "Creedence Clearwater Revival",
         1.98
        ],
        [
         "Jack Smith",
         "Audioslave",
         1.98
        ],
        [
         "Michelle Brooks",
         "Velvet Revolver",
         1.98
        ],
        [
         "Edward Francis",
         "U2",
         1.98
        ],
        [
         "Luis Rojas",
         "Led Zeppelin",
         1.98
        ],
        [
         "Hannah Schneider",
         "Iron Maiden",
         1.98
        ],
        [
         "Kara Nielsen",
         "System Of A Down",
         1.98
        ],
        [
         "Emma Jones",
         "The Rolling Stones",
         1.98
        ],
        [
         "Edward Francis",
         "Ozzy Osbourne",
         1.98
        ],
        [
         "John Gordon",
         "Godsmack",
         1.98
        ],
        [
         "Camille Bernard",
         "Pearl Jam",
         1.98
        ],
        [
         "Manoj Pareek",
         "Stone Temple Pilots",
         1.98
        ],
        [
         "Alexandre Rocha",
         "Soundgarden",
         1.98
        ],
        [
         "Stanisław Wójcik",
         "Alice In Chains",
         1.98
        ],
        [
         "Ladislav Kovács",
         "Metallica",
         1.98
        ],
        [
         "Fernanda Ramos",
         "Itzhak Perlman",
         1.98
        ],
        [
         "Rishabh Mishra",
         "Jamiroquai",
         1.98
        ],
        [
         "Isabelle Mercier",
         "Scorpions",
         1.98
        ],
        [
         "Wyatt Girard",
         "Red Hot Chili Peppers",
         1.98
        ],
        [
         "Isabelle Mercier",
         "Judas Priest",
         1.98
        ],
        [
         "Ellie Sullivan",
         "Black Sabbath",
         1.98
        ],
        [
         "Terhi Hämäläinen",
         "House Of Pain",
         1.98
        ],
        [
         "João Fernandes",
         "James Brown",
         1.98
        ],
        [
         "João Fernandes",
         "Metallica",
         1.98
        ],
        [
         "Fynn Zimmermann",
         "Led Zeppelin",
         1.98
        ],
        [
         "Luis Rojas",
         "Ozzy Osbourne",
         1.98
        ],
        [
         "Heather Leacock",
         "U2",
         1.98
        ],
        [
         "Mark Taylor",
         "Green Day",
         1.98
        ],
        [
         "František Wichterlová",
         "Guns N' Roses",
         1.98
        ],
        [
         "Rishabh Mishra",
         "Judas Priest",
         1.98
        ],
        [
         "Mark Philips",
         "The Clash",
         1.98
        ],
        [
         "Terhi Hämäläinen",
         "Motörhead",
         1.98
        ],
        [
         "Heather Leacock",
         "Nirvana",
         1.98
        ],
        [
         "Luís Gonçalves",
         "Queen",
         1.98
        ],
        [
         "Aaron Mitchell",
         "Nirvana",
         1.98
        ],
        [
         "Dan Miller",
         "Lenny Kravitz",
         1.98
        ],
        [
         "Luis Rojas",
         "James Brown",
         1.98
        ],
        [
         "Madalena Sampaio",
         "Black Sabbath",
         1.98
        ],
        [
         "John Gordon",
         "Guns N' Roses",
         1.98
        ],
        [
         "Leonie Köhler",
         "Van Halen",
         1.98
        ],
        [
         "Helena Holý",
         "R.E.M.",
         1.98
        ],
        [
         "Ladislav Kovács",
         "Audioslave",
         1.98
        ],
        [
         "Helena Holý",
         "Nirvana",
         1.98
        ],
        [
         "Hugh O'Reilly",
         "Faith No More",
         1.98
        ],
        [
         "Luís Gonçalves",
         "U2",
         1.98
        ],
        [
         "Heather Leacock",
         "The Who",
         1.98
        ],
        [
         "Hannah Schneider",
         "Foo Fighters",
         1.98
        ],
        [
         "Fernanda Ramos",
         "Santana",
         1.98
        ],
        [
         "Roberto Almeida",
         "JET",
         1.98
        ],
        [
         "Heather Leacock",
         "Deep Purple",
         1.98
        ],
        [
         "Terhi Hämäläinen",
         "Judas Priest",
         1.98
        ],
        [
         "Ellie Sullivan",
         "Judas Priest",
         1.98
        ],
        [
         "Dan Miller",
         "Apocalyptica",
         1.98
        ],
        [
         "Steve Murray",
         "Guns N' Roses",
         1.98
        ],
        [
         "Kathy Chase",
         "R.E.M.",
         1.98
        ],
        [
         "Michelle Brooks",
         "Pink Floyd",
         1.98
        ],
        [
         "Enrique Muñoz",
         "Iron Maiden",
         1.98
        ],
        [
         "Madalena Sampaio",
         "Godsmack",
         1.98
        ],
        [
         "Dan Miller",
         "Godsmack",
         1.98
        ],
        [
         "Astrid Gruber",
         "Alice In Chains",
         1.98
        ],
        [
         "Madalena Sampaio",
         "Stone Temple Pilots",
         1.98
        ],
        [
         "Helena Holý",
         "Guns N' Roses",
         1.98
        ],
        [
         "Madalena Sampaio",
         "Miles Davis",
         1.98
        ],
        [
         "Luís Gonçalves",
         "Alanis Morissette",
         1.98
        ],
        [
         "Manoj Pareek",
         "R.E.M.",
         1.98
        ],
        [
         "František Wichterlová",
         "JET",
         1.98
        ],
        [
         "Hannah Schneider",
         "Alanis Morissette",
         1.98
        ],
        [
         "Kara Nielsen",
         "The Rolling Stones",
         1.98
        ],
        [
         "Terhi Hämäläinen",
         "Metallica",
         1.98
        ],
        [
         "Roberto Almeida",
         "Pearl Jam",
         1.98
        ],
        [
         "František Wichterlová",
         "Motörhead",
         1.98
        ],
        [
         "Richard Cunningham",
         "The Doors",
         1.98
        ],
        [
         "Enrique Muñoz",
         "The Rolling Stones",
         1.98
        ],
        [
         "Roberto Almeida",
         "Pink Floyd",
         1.98
        ],
        [
         "Julia Barnett",
         "Foo Fighters",
         1.98
        ],
        [
         "Marc Dubois",
         "The Rolling Stones",
         1.98
        ],
        [
         "Jack Smith",
         "JET",
         1.98
        ],
        [
         "Rishabh Mishra",
         "Marisa Monte",
         1.98
        ],
        [
         "Enrique Muñoz",
         "Green Day",
         1.98
        ],
        [
         "Niklas Schröder",
         "Pink Floyd",
         1.98
        ],
        [
         "Astrid Gruber",
         "The Doors",
         1.98
        ],
        [
         "Helena Holý",
         "Led Zeppelin",
         1.98
        ],
        [
         "Richard Cunningham",
         "Ozzy Osbourne",
         1.98
        ],
        [
         "Edward Francis",
         "AC/DC",
         1.98
        ],
        [
         "Luís Gonçalves",
         "Audioslave",
         1.98
        ],
        [
         "Manoj Pareek",
         "System Of A Down",
         1.98
        ],
        [
         "Roberto Almeida",
         "Amy Winehouse",
         1.98
        ],
        [
         "Helena Holý",
         "Audioslave",
         1.98
        ],
        [
         "Phil Hughes",
         "Black Sabbath",
         1.98
        ],
        [
         "Ellie Sullivan",
         "The Police",
         1.98
        ],
        [
         "Rishabh Mishra",
         "Audioslave",
         1.98
        ],
        [
         "Terhi Hämäläinen",
         "Lenny Kravitz",
         1.98
        ],
        [
         "Camille Bernard",
         "Temple of the Dog",
         1.98
        ],
        [
         "Enrique Muñoz",
         "Deep Purple",
         1.98
        ],
        [
         "Victor Stevens",
         "Led Zeppelin",
         1.98
        ],
        [
         "Daan Peeters",
         "Iron Maiden",
         1.98
        ],
        [
         "Patrick Gray",
         "Iron Maiden",
         1.98
        ],
        [
         "Frank Ralston",
         "Lenny Kravitz",
         1.98
        ],
        [
         "Fernanda Ramos",
         "System Of A Down",
         1.98
        ],
        [
         "Astrid Gruber",
         "System Of A Down",
         1.98
        ],
        [
         "Stanisław Wójcik",
         "Iron Maiden",
         1.98
        ],
        [
         "Kathy Chase",
         "Scorpions",
         1.98
        ],
        [
         "Edward Francis",
         "Red Hot Chili Peppers",
         1.98
        ],
        [
         "Leonie Köhler",
         "Ozzy Osbourne",
         1.98
        ],
        [
         "Enrique Muñoz",
         "Kiss",
         1.98
        ],
        [
         "Luis Rojas",
         "The Doors",
         1.98
        ],
        [
         "Kathy Chase",
         "Guns N' Roses",
         1.98
        ],
        [
         "Marc Dubois",
         "Eric Clapton",
         1.98
        ],
        [
         "Marc Dubois",
         "Green Day",
         1.98
        ],
        [
         "Madalena Sampaio",
         "The Police",
         1.98
        ],
        [
         "Tim Goyer",
         "Audioslave",
         1.98
        ],
        [
         "Phil Hughes",
         "Godsmack",
         1.98
        ],
        [
         "Jack Smith",
         "System Of A Down",
         1.98
        ],
        [
         "Niklas Schröder",
         "Aerosmith",
         1.98
        ],
        [
         "Richard Cunningham",
         "Foo Fighters",
         1.98
        ],
        [
         "Roberto Almeida",
         "Motörhead",
         1.98
        ],
        [
         "Rishabh Mishra",
         "Guns N' Roses",
         1.98
        ],
        [
         "Terhi Hämäläinen",
         "Guns N' Roses",
         1.98
        ],
        [
         "František Wichterlová",
         "Frank Sinatra",
         1.98
        ],
        [
         "Robert Brown",
         "The Who",
         1.98
        ],
        [
         "Niklas Schröder",
         "Van Halen",
         1.98
        ],
        [
         "João Fernandes",
         "Red Hot Chili Peppers",
         1.98
        ],
        [
         "Luis Rojas",
         "Apocalyptica",
         1.98
        ],
        [
         "Manoj Pareek",
         "Miles Davis",
         1.98
        ],
        [
         "Patrick Gray",
         "AC/DC",
         1.98
        ],
        [
         "Eduardo Martins",
         "Marvin Gaye",
         1.98
        ],
        [
         "Madalena Sampaio",
         "Foo Fighters",
         1.98
        ],
        [
         "Luís Gonçalves",
         "Marisa Monte",
         1.98
        ],
        [
         "Fernanda Ramos",
         "Ozzy Osbourne",
         1.98
        ],
        [
         "Alexandre Rocha",
         "Queen",
         1.98
        ],
        [
         "Daan Peeters",
         "Stone Temple Pilots",
         1.98
        ],
        [
         "Joakim Johansson",
         "The Doors",
         1.98
        ],
        [
         "Richard Cunningham",
         "R.E.M.",
         1.98
        ],
        [
         "Aaron Mitchell",
         "U2",
         1.98
        ],
        [
         "Patrick Gray",
         "Rush",
         1.98
        ],
        [
         "Daan Peeters",
         "Queen",
         1.98
        ],
        [
         "João Fernandes",
         "The Rolling Stones",
         1.98
        ],
        [
         "František Wichterlová",
         "Chris Cornell",
         1.98
        ],
        [
         "Richard Cunningham",
         "Van Halen",
         1.98
        ],
        [
         "Marc Dubois",
         "Stone Temple Pilots",
         1.98
        ],
        [
         "Dominique Lefebvre",
         "The Clash",
         1.98
        ],
        [
         "Manoj Pareek",
         "Pearl Jam",
         1.98
        ],
        [
         "Marc Dubois",
         "Pink Floyd",
         1.98
        ],
        [
         "Kathy Chase",
         "The Rolling Stones",
         1.98
        ],
        [
         "Luis Rojas",
         "Godsmack",
         1.98
        ],
        [
         "Richard Cunningham",
         "System Of A Down",
         1.98
        ],
        [
         "Manoj Pareek",
         "Faith No More",
         1.98
        ],
        [
         "Stanisław Wójcik",
         "System Of A Down",
         1.98
        ],
        [
         "Helena Holý",
         "Chris Cornell",
         1.98
        ],
        [
         "Helena Holý",
         "Jamiroquai",
         1.98
        ],
        [
         "Richard Cunningham",
         "Guns N' Roses",
         1.98
        ],
        [
         "Ladislav Kovács",
         "The Doors",
         1.98
        ],
        [
         "Luís Gonçalves",
         "Pink Floyd",
         1.98
        ],
        [
         "Phil Hughes",
         "U2",
         1.98
        ],
        [
         "Edward Francis",
         "Aerosmith",
         1.98
        ],
        [
         "Isabelle Mercier",
         "The Doors",
         1.98
        ],
        [
         "Johannes Van der Berg",
         "Alice In Chains",
         1.98
        ],
        [
         "Edward Francis",
         "Antônio Carlos Jobim",
         1.98
        ],
        [
         "Jennifer Peterson",
         "The Clash",
         1.98
        ],
        [
         "Rishabh Mishra",
         "Soundgarden",
         1.98
        ],
        [
         "Fynn Zimmermann",
         "The Police",
         1.98
        ],
        [
         "Kara Nielsen",
         "The Doors",
         1.98
        ],
        [
         "Camille Bernard",
         "Red Hot Chili Peppers",
         1.98
        ],
        [
         "Terhi Hämäläinen",
         "Miles Davis",
         1.98
        ],
        [
         "Terhi Hämäläinen",
         "Queen",
         1.98
        ],
        [
         "Fernanda Ramos",
         "The Doors",
         1.98
        ],
        [
         "Julia Barnett",
         "Miles Davis",
         1.98
        ],
        [
         "Niklas Schröder",
         "Red Hot Chili Peppers",
         1.98
        ],
        [
         "Luís Gonçalves",
         "The Police",
         1.98
        ],
        [
         "João Fernandes",
         "The Clash",
         1.98
        ],
        [
         "Stanisław Wójcik",
         "The Who",
         1.98
        ],
        [
         "Robert Brown",
         "Foo Fighters",
         1.98
        ],
        [
         "Wyatt Girard",
         "Audioslave",
         1.98
        ],
        [
         "Dominique Lefebvre",
         "Marvin Gaye",
         1.98
        ],
        [
         "Leonie Köhler",
         "House Of Pain",
         1.98
        ],
        [
         "Edward Francis",
         "Foo Fighters",
         1.98
        ],
        [
         "Steve Murray",
         "Lenny Kravitz",
         1.98
        ],
        [
         "Jennifer Peterson",
         "Velvet Revolver",
         1.98
        ],
        [
         "František Wichterlová",
         "Jimi Hendrix",
         1.98
        ],
        [
         "Dominique Lefebvre",
         "Lenny Kravitz",
         1.98
        ],
        [
         "Luis Rojas",
         "Pink Floyd",
         1.98
        ],
        [
         "John Gordon",
         "The Doors",
         1.98
        ],
        [
         "František Wichterlová",
         "Led Zeppelin",
         1.98
        ],
        [
         "Michelle Brooks",
         "Frank Sinatra",
         1.98
        ],
        [
         "Frank Ralston",
         "Queen",
         1.98
        ],
        [
         "Edward Francis",
         "Nirvana",
         1.98
        ],
        [
         "Patrick Gray",
         "Santana",
         1.98
        ],
        [
         "Madalena Sampaio",
         "Men At Work",
         1.98
        ],
        [
         "Luís Gonçalves",
         "The Who",
         1.98
        ],
        [
         "Patrick Gray",
         "Van Halen",
         1.98
        ],
        [
         "Astrid Gruber",
         "The Rolling Stones",
         1.98
        ],
        [
         "Jennifer Peterson",
         "Green Day",
         1.98
        ],
        [
         "Rishabh Mishra",
         "Aerosmith",
         1.98
        ],
        [
         "François Tremblay",
         "Red Hot Chili Peppers",
         1.98
        ],
        [
         "Alexandre Rocha",
         "U2",
         1.98
        ],
        [
         "Helena Holý",
         "The Police",
         1.98
        ],
        [
         "Frank Ralston",
         "Jimi Hendrix",
         1.98
        ],
        [
         "François Tremblay",
         "Led Zeppelin",
         1.98
        ],
        [
         "Martha Silk",
         "The Who",
         1.98
        ],
        [
         "Jack Smith",
         "The Police",
         1.98
        ],
        [
         "Hugh O'Reilly",
         "Guns N' Roses",
         1.98
        ],
        [
         "Marc Dubois",
         "Metallica",
         1.98
        ],
        [
         "Patrick Gray",
         "Pearl Jam",
         1.98
        ],
        [
         "Hannah Schneider",
         "Guns N' Roses",
         1.98
        ],
        [
         "Helena Holý",
         "Accept",
         1.98
        ],
        [
         "Stanisław Wójcik",
         "Spyro Gyra",
         1.98
        ],
        [
         "Fernanda Ramos",
         "Green Day",
         1.98
        ],
        [
         "João Fernandes",
         "Pink Floyd",
         1.98
        ],
        [
         "Luis Rojas",
         "JET",
         1.98
        ],
        [
         "Luís Gonçalves",
         "Faith No More",
         1.98
        ],
        [
         "Emma Jones",
         "The Clash",
         1.98
        ],
        [
         "John Gordon",
         "James Brown",
         1.98
        ],
        [
         "Jennifer Peterson",
         "Scorpions",
         1.98
        ],
        [
         "Jack Smith",
         "The Doors",
         1.98
        ],
        [
         "Madalena Sampaio",
         "Faith No More",
         1.98
        ],
        [
         "Patrick Gray",
         "Velvet Revolver",
         1.98
        ],
        [
         "Madalena Sampaio",
         "Velvet Revolver",
         1.98
        ],
        [
         "Manoj Pareek",
         "Green Day",
         1.98
        ],
        [
         "Dan Miller",
         "AC/DC",
         1.98
        ],
        [
         "Dan Miller",
         "Amy Winehouse",
         1.98
        ],
        [
         "Emma Jones",
         "Chris Cornell",
         1.98
        ],
        [
         "Heather Leacock",
         "Jimi Hendrix",
         1.98
        ],
        [
         "Aaron Mitchell",
         "Men At Work",
         1.98
        ],
        [
         "Edward Francis",
         "Black Sabbath",
         1.98
        ],
        [
         "Frank Harris",
         "Jimi Hendrix",
         1.98
        ],
        [
         "Edward Francis",
         "Lenny Kravitz",
         1.98
        ],
        [
         "Roberto Almeida",
         "U2",
         1.98
        ],
        [
         "Ladislav Kovács",
         "Green Day",
         1.98
        ],
        [
         "Eduardo Martins",
         "Green Day",
         1.98
        ],
        [
         "Johannes Van der Berg",
         "Motörhead",
         1.98
        ],
        [
         "Fernanda Ramos",
         "R.E.M.",
         1.98
        ],
        [
         "Niklas Schröder",
         "Frank Sinatra",
         1.98
        ],
        [
         "Kara Nielsen",
         "Nirvana",
         1.98
        ],
        [
         "Aaron Mitchell",
         "Pearl Jam",
         1.98
        ],
        [
         "Lucas Mancini",
         "System Of A Down",
         1.98
        ],
        [
         "Astrid Gruber",
         "Deep Purple",
         1.98
        ],
        [
         "Tim Goyer",
         "Black Sabbath",
         1.98
        ],
        [
         "Dominique Lefebvre",
         "Metallica",
         1.98
        ],
        [
         "František Wichterlová",
         "Soundgarden",
         1.98
        ],
        [
         "Julia Barnett",
         "The Clash",
         1.98
        ],
        [
         "Helena Holý",
         "Pearl Jam",
         1.98
        ],
        [
         "Stanisław Wójcik",
         "Queen",
         1.98
        ],
        [
         "Alexandre Rocha",
         "The Rolling Stones",
         1.98
        ],
        [
         "Kathy Chase",
         "Eric Clapton",
         1.98
        ],
        [
         "Martha Silk",
         "System Of A Down",
         1.98
        ],
        [
         "Enrique Muñoz",
         "U2",
         1.98
        ],
        [
         "Daan Peeters",
         "Red Hot Chili Peppers",
         1.98
        ],
        [
         "Richard Cunningham",
         "Green Day",
         1.98
        ],
        [
         "Enrique Muñoz",
         "Incognito",
         1.98
        ],
        [
         "Kathy Chase",
         "Green Day",
         1.98
        ],
        [
         "Emma Jones",
         "Pearl Jam",
         1.98
        ],
        [
         "Steve Murray",
         "Motörhead",
         1.98
        ],
        [
         "François Tremblay",
         "The Black Crowes",
         1.98
        ],
        [
         "Rishabh Mishra",
         "Pink Floyd",
         1.98
        ],
        [
         "Hannah Schneider",
         "Audioslave",
         1.98
        ],
        [
         "John Gordon",
         "Metallica",
         1.98
        ],
        [
         "Hannah Schneider",
         "Alice In Chains",
         1.98
        ],
        [
         "Daan Peeters",
         "Guns N' Roses",
         1.98
        ],
        [
         "Kara Nielsen",
         "JET",
         1.98
        ],
        [
         "Helena Holý",
         "Aerosmith",
         1.98
        ],
        [
         "Madalena Sampaio",
         "Metallica",
         1.98
        ],
        [
         "Joakim Johansson",
         "System Of A Down",
         1.98
        ],
        [
         "Emma Jones",
         "Queen",
         1.98
        ],
        [
         "Richard Cunningham",
         "Amy Winehouse",
         1.98
        ],
        [
         "Diego Gutiérrez",
         "Eric Clapton",
         1.98
        ],
        [
         "Helena Holý",
         "Amy Winehouse",
         1.98
        ],
        [
         "Mark Taylor",
         "Frank Sinatra",
         1.98
        ],
        [
         "Jack Smith",
         "Raul Seixas",
         1.98
        ],
        [
         "Tim Goyer",
         "Jamiroquai",
         1.98
        ],
        [
         "John Gordon",
         "Audioslave",
         1.98
        ],
        [
         "Edward Francis",
         "Queen",
         1.98
        ],
        [
         "Wyatt Girard",
         "The Police",
         1.98
        ],
        [
         "Johannes Van der Berg",
         "Frank Sinatra",
         1.98
        ],
        [
         "Dan Miller",
         "Creedence Clearwater Revival",
         1.98
        ],
        [
         "Jennifer Peterson",
         "Led Zeppelin",
         1.98
        ],
        [
         "Niklas Schröder",
         "Santana",
         1.98
        ],
        [
         "Madalena Sampaio",
         "Amy Winehouse",
         1.98
        ],
        [
         "Marc Dubois",
         "The Who",
         1.98
        ],
        [
         "Luís Gonçalves",
         "Amy Winehouse",
         1.98
        ],
        [
         "Isabelle Mercier",
         "Eric Clapton",
         1.98
        ],
        [
         "Isabelle Mercier",
         "Alanis Morissette",
         1.98
        ],
        [
         "Julia Barnett",
         "Led Zeppelin",
         1.98
        ],
        [
         "Dan Miller",
         "Jamiroquai",
         1.98
        ],
        [
         "Roberto Almeida",
         "Foo Fighters",
         1.98
        ],
        [
         "Ladislav Kovács",
         "System Of A Down",
         1.98
        ],
        [
         "Fernanda Ramos",
         "Marvin Gaye",
         1.98
        ],
        [
         "Eduardo Martins",
         "The Doors",
         1.98
        ],
        [
         "Diego Gutiérrez",
         "Iron Maiden",
         1.98
        ],
        [
         "Michelle Brooks",
         "Soundgarden",
         1.98
        ],
        [
         "Madalena Sampaio",
         "Scorpions",
         1.98
        ],
        [
         "Stanisław Wójcik",
         "Godsmack",
         1.98
        ],
        [
         "Stanisław Wójcik",
         "The Clash",
         1.98
        ],
        [
         "Eduardo Martins",
         "Black Label Society",
         1.98
        ],
        [
         "Tim Goyer",
         "The Police",
         1.98
        ],
        [
         "Enrique Muñoz",
         "Godsmack",
         1.98
        ],
        [
         "František Wichterlová",
         "AC/DC",
         1.98
        ],
        [
         "Dominique Lefebvre",
         "Iron Maiden",
         1.98
        ],
        [
         "Mark Taylor",
         "Audioslave",
         1.98
        ],
        [
         "Hugh O'Reilly",
         "Eric Clapton",
         1.98
        ],
        [
         "Luis Rojas",
         "AC/DC",
         1.98
        ],
        [
         "Fernanda Ramos",
         "Amy Winehouse",
         0.99
        ],
        [
         "Julia Barnett",
         "Creedence Clearwater Revival",
         0.99
        ],
        [
         "Kara Nielsen",
         "Iron Maiden",
         0.99
        ],
        [
         "Wyatt Girard",
         "Chris Cornell",
         0.99
        ],
        [
         "Luís Gonçalves",
         "Page & Plant",
         0.99
        ],
        [
         "Stanisław Wójcik",
         "Creedence Clearwater Revival",
         0.99
        ],
        [
         "Manoj Pareek",
         "Metallica",
         0.99
        ],
        [
         "Hannah Schneider",
         "Stone Temple Pilots",
         0.99
        ],
        [
         "Ellie Sullivan",
         "Audioslave",
         0.99
        ],
        [
         "Enrique Muñoz",
         "Yo-Yo Ma",
         0.99
        ],
        [
         "Camille Bernard",
         "The Doors",
         0.99
        ],
        [
         "Ladislav Kovács",
         "Frank Sinatra",
         0.99
        ],
        [
         "Alexandre Rocha",
         "Def Leppard",
         0.99
        ],
        [
         "Niklas Schröder",
         "Alanis Morissette",
         0.99
        ],
        [
         "Luís Gonçalves",
         "Nirvana",
         0.99
        ],
        [
         "Isabelle Mercier",
         "Nirvana",
         0.99
        ],
        [
         "Phil Hughes",
         "Apocalyptica",
         0.99
        ],
        [
         "Astrid Gruber",
         "Kiss",
         0.99
        ],
        [
         "Hannah Schneider",
         "Motörhead",
         0.99
        ],
        [
         "Patrick Gray",
         "The Who",
         0.99
        ],
        [
         "Astrid Gruber",
         "Iron Maiden",
         0.99
        ],
        [
         "Phil Hughes",
         "Jota Quest",
         0.99
        ],
        [
         "Frank Ralston",
         "Deep Purple",
         0.99
        ],
        [
         "Johannes Van der Berg",
         "The Doors",
         0.99
        ],
        [
         "João Fernandes",
         "House Of Pain",
         0.99
        ],
        [
         "João Fernandes",
         "Men At Work",
         0.99
        ],
        [
         "Daan Peeters",
         "Van Halen",
         0.99
        ],
        [
         "Stanisław Wójcik",
         "Motörhead",
         0.99
        ],
        [
         "Johannes Van der Berg",
         "Faith No More",
         0.99
        ],
        [
         "Heather Leacock",
         "Faith No More",
         0.99
        ],
        [
         "Rishabh Mishra",
         "Alice In Chains",
         0.99
        ],
        [
         "Tim Goyer",
         "UB40",
         0.99
        ],
        [
         "Madalena Sampaio",
         "Chris Cornell",
         0.99
        ],
        [
         "Patrick Gray",
         "Cake",
         0.99
        ],
        [
         "Edward Francis",
         "Cake",
         0.99
        ],
        [
         "François Tremblay",
         "Pearl Jam",
         0.99
        ],
        [
         "John Gordon",
         "The Police",
         0.99
        ],
        [
         "František Wichterlová",
         "The Rolling Stones",
         0.99
        ],
        [
         "Marc Dubois",
         "Creedence Clearwater Revival",
         0.99
        ],
        [
         "Leonie Köhler",
         "Guns N' Roses",
         0.99
        ],
        [
         "Terhi Hämäläinen",
         "Faith No More",
         0.99
        ],
        [
         "Niklas Schröder",
         "Berliner Philharmoniker & Herbert Von Karajan",
         0.99
        ],
        [
         "Martha Silk",
         "The Clash",
         0.99
        ],
        [
         "Fernanda Ramos",
         "JET",
         0.99
        ],
        [
         "Kara Nielsen",
         "Aerosmith",
         0.99
        ],
        [
         "Julia Barnett",
         "U2",
         0.99
        ],
        [
         "Diego Gutiérrez",
         "Cake",
         0.99
        ],
        [
         "Bjørn Hansen",
         "Jamiroquai",
         0.99
        ],
        [
         "Manoj Pareek",
         "Black Sabbath",
         0.99
        ],
        [
         "Richard Cunningham",
         "Caetano Veloso",
         0.99
        ],
        [
         "František Wichterlová",
         "Miles Davis",
         0.99
        ],
        [
         "Kathy Chase",
         "The Who",
         0.99
        ],
        [
         "Ladislav Kovács",
         "AC/DC",
         0.99
        ],
        [
         "Mark Taylor",
         "Apocalyptica",
         0.99
        ],
        [
         "John Gordon",
         "Ed Motta",
         0.99
        ],
        [
         "Stanisław Wójcik",
         "Yo-Yo Ma",
         0.99
        ],
        [
         "Madalena Sampaio",
         "Alice In Chains",
         0.99
        ],
        [
         "Luis Rojas",
         "Bruce Dickinson",
         0.99
        ],
        [
         "Niklas Schröder",
         "Jamiroquai",
         0.99
        ],
        [
         "Frank Harris",
         "Kiss",
         0.99
        ],
        [
         "Joakim Johansson",
         "The Clash",
         0.99
        ],
        [
         "Marc Dubois",
         "Antônio Carlos Jobim",
         0.99
        ],
        [
         "Heather Leacock",
         "Def Leppard",
         0.99
        ],
        [
         "Johannes Van der Berg",
         "Led Zeppelin",
         0.99
        ],
        [
         "Fynn Zimmermann",
         "Alanis Morissette",
         0.99
        ],
        [
         "František Wichterlová",
         "The Doors",
         0.99
        ],
        [
         "Michelle Brooks",
         "Iron Maiden",
         0.99
        ],
        [
         "Rishabh Mishra",
         "Amy Winehouse",
         0.99
        ],
        [
         "Patrick Gray",
         "Ozzy Osbourne",
         0.99
        ],
        [
         "John Gordon",
         "Cássia Eller",
         0.99
        ],
        [
         "Helena Holý",
         "Milton Nascimento",
         0.99
        ],
        [
         "Ellie Sullivan",
         "R.E.M.",
         0.99
        ],
        [
         "Michelle Brooks",
         "Buddy Guy",
         0.99
        ],
        [
         "Camille Bernard",
         "Lenny Kravitz",
         0.99
        ],
        [
         "Kara Nielsen",
         "Foo Fighters",
         0.99
        ],
        [
         "Jennifer Peterson",
         "Kiss",
         0.99
        ],
        [
         "František Wichterlová",
         "Judas Priest",
         0.99
        ],
        [
         "Aaron Mitchell",
         "Alanis Morissette",
         0.99
        ],
        [
         "Marc Dubois",
         "System Of A Down",
         0.99
        ],
        [
         "Hannah Schneider",
         "Eric Clapton",
         0.99
        ],
        [
         "Aaron Mitchell",
         "The Rolling Stones",
         0.99
        ],
        [
         "Marc Dubois",
         "JET",
         0.99
        ],
        [
         "Helena Holý",
         "Motörhead",
         0.99
        ],
        [
         "Patrick Gray",
         "Jimi Hendrix",
         0.99
        ],
        [
         "Manoj Pareek",
         "Marisa Monte",
         0.99
        ],
        [
         "Rishabh Mishra",
         "AC/DC",
         0.99
        ],
        [
         "Fynn Zimmermann",
         "Creedence Clearwater Revival",
         0.99
        ],
        [
         "Frank Harris",
         "Passengers",
         0.99
        ],
        [
         "Roberto Almeida",
         "Rush",
         0.99
        ],
        [
         "Aaron Mitchell",
         "Green Day",
         0.99
        ],
        [
         "Madalena Sampaio",
         "Gustav Mahler",
         0.99
        ],
        [
         "Patrick Gray",
         "Faith No More",
         0.99
        ],
        [
         "Hugh O'Reilly",
         "The Rolling Stones",
         0.99
        ],
        [
         "John Gordon",
         "Spyro Gyra",
         0.99
        ],
        [
         "Robert Brown",
         "Nirvana",
         0.99
        ],
        [
         "Enrique Muñoz",
         "Faith No More",
         0.99
        ],
        [
         "Wyatt Girard",
         "System Of A Down",
         0.99
        ],
        [
         "Niklas Schröder",
         "System Of A Down",
         0.99
        ],
        [
         "Camille Bernard",
         "Deep Purple",
         0.99
        ],
        [
         "Rishabh Mishra",
         "Ed Motta",
         0.99
        ],
        [
         "Leonie Köhler",
         "Foo Fighters",
         0.99
        ],
        [
         "Wyatt Girard",
         "Van Halen",
         0.99
        ],
        [
         "Alexandre Rocha",
         "Itzhak Perlman",
         0.99
        ],
        [
         "Madalena Sampaio",
         "Ed Motta",
         0.99
        ],
        [
         "John Gordon",
         "Def Leppard",
         0.99
        ],
        [
         "Steve Murray",
         "Os Mutantes",
         0.99
        ],
        [
         "František Wichterlová",
         "Black Label Society",
         0.99
        ],
        [
         "Patrick Gray",
         "Led Zeppelin",
         0.99
        ],
        [
         "Eduardo Martins",
         "Soundgarden",
         0.99
        ],
        [
         "Phil Hughes",
         "Academy of St. Martin in the Fields & Sir Neville Marriner",
         0.99
        ],
        [
         "Marc Dubois",
         "Rush",
         0.99
        ],
        [
         "Lucas Mancini",
         "Aaron Goldberg",
         0.99
        ],
        [
         "Ellie Sullivan",
         "UB40",
         0.99
        ],
        [
         "Fernanda Ramos",
         "Incognito",
         0.99
        ],
        [
         "Dominique Lefebvre",
         "Black Label Society",
         0.99
        ],
        [
         "Phil Hughes",
         "Legião Urbana",
         0.99
        ],
        [
         "Camille Bernard",
         "Motörhead",
         0.99
        ],
        [
         "Jennifer Peterson",
         "Santana",
         0.99
        ],
        [
         "Kathy Chase",
         "Titãs",
         0.99
        ],
        [
         "Lucas Mancini",
         "Ozzy Osbourne",
         0.99
        ],
        [
         "Bjørn Hansen",
         "The Rolling Stones",
         0.99
        ],
        [
         "John Gordon",
         "Pearl Jam",
         0.99
        ],
        [
         "Bjørn Hansen",
         "Pink Floyd",
         0.99
        ],
        [
         "Roberto Almeida",
         "Scorpions",
         0.99
        ],
        [
         "Diego Gutiérrez",
         "JET",
         0.99
        ],
        [
         "Mark Philips",
         "Velvet Revolver",
         0.99
        ],
        [
         "John Gordon",
         "Velvet Revolver",
         0.99
        ],
        [
         "Edward Francis",
         "Van Halen",
         0.99
        ],
        [
         "Fynn Zimmermann",
         "Karsh Kale",
         0.99
        ],
        [
         "Bjørn Hansen",
         "Deep Purple",
         0.99
        ],
        [
         "Ladislav Kovács",
         "Aerosmith",
         0.99
        ],
        [
         "Phil Hughes",
         "Pearl Jam",
         0.99
        ],
        [
         "Luís Gonçalves",
         "Def Leppard",
         0.99
        ],
        [
         "Marc Dubois",
         "Foo Fighters",
         0.99
        ],
        [
         "Hugh O'Reilly",
         "Lenny Kravitz",
         0.99
        ],
        [
         "František Wichterlová",
         "House Of Pain",
         0.99
        ],
        [
         "Patrick Gray",
         "Vinícius De Moraes",
         0.99
        ],
        [
         "Camille Bernard",
         "Alanis Morissette",
         0.99
        ],
        [
         "Camille Bernard",
         "Luciano Pavarotti",
         0.99
        ],
        [
         "Luís Gonçalves",
         "Black Sabbath",
         0.99
        ],
        [
         "Kathy Chase",
         "Jota Quest",
         0.99
        ],
        [
         "Wyatt Girard",
         "U2",
         0.99
        ],
        [
         "Robert Brown",
         "The Clash",
         0.99
        ],
        [
         "Rishabh Mishra",
         "Metallica",
         0.99
        ],
        [
         "Luis Rojas",
         "Frank Sinatra",
         0.99
        ],
        [
         "Ladislav Kovács",
         "Queen",
         0.99
        ],
        [
         "Diego Gutiérrez",
         "Jimi Hendrix",
         0.99
        ],
        [
         "Heather Leacock",
         "System Of A Down",
         0.99
        ],
        [
         "Mark Taylor",
         "R.E.M.",
         0.99
        ],
        [
         "František Wichterlová",
         "Cake",
         0.99
        ],
        [
         "Madalena Sampaio",
         "Van Halen",
         0.99
        ],
        [
         "Jack Smith",
         "Godsmack",
         0.99
        ],
        [
         "Stanisław Wójcik",
         "Green Day",
         0.99
        ],
        [
         "Helena Holý",
         "Cake",
         0.99
        ],
        [
         "Luis Rojas",
         "Scorpions",
         0.99
        ],
        [
         "Hannah Schneider",
         "Chris Cornell",
         0.99
        ],
        [
         "Isabelle Mercier",
         "Pink Floyd",
         0.99
        ],
        [
         "John Gordon",
         "Lost",
         0.99
        ],
        [
         "František Wichterlová",
         "Rush",
         0.99
        ],
        [
         "Steve Murray",
         "Accept",
         0.99
        ],
        [
         "Isabelle Mercier",
         "Buddy Guy",
         0.99
        ],
        [
         "Isabelle Mercier",
         "AC/DC",
         0.99
        ],
        [
         "Hannah Schneider",
         "The Posies",
         0.99
        ],
        [
         "Aaron Mitchell",
         "Audioslave",
         0.99
        ],
        [
         "Camille Bernard",
         "Metallica",
         0.99
        ],
        [
         "João Fernandes",
         "Def Leppard",
         0.99
        ],
        [
         "Enrique Muñoz",
         "The Cult",
         0.99
        ],
        [
         "Niklas Schröder",
         "The Police",
         0.99
        ],
        [
         "Heather Leacock",
         "The Clash",
         0.99
        ],
        [
         "Julia Barnett",
         "Nirvana",
         0.99
        ],
        [
         "François Tremblay",
         "Legião Urbana",
         0.99
        ],
        [
         "Mark Taylor",
         "Mötley Crüe",
         0.99
        ],
        [
         "František Wichterlová",
         "Marvin Gaye",
         0.99
        ],
        [
         "Helena Holý",
         "Lulu Santos",
         0.99
        ],
        [
         "Luis Rojas",
         "Lenny Kravitz",
         0.99
        ],
        [
         "Heather Leacock",
         "Aerosmith",
         0.99
        ],
        [
         "Johannes Van der Berg",
         "Santana",
         0.99
        ],
        [
         "Manoj Pareek",
         "Alanis Morissette",
         0.99
        ],
        [
         "Madalena Sampaio",
         "Audioslave",
         0.99
        ],
        [
         "Terhi Hämäläinen",
         "Marvin Gaye",
         0.99
        ],
        [
         "Mark Taylor",
         "Gilberto Gil",
         0.99
        ],
        [
         "Stanisław Wójcik",
         "Def Leppard",
         0.99
        ],
        [
         "Hugh O'Reilly",
         "Velvet Revolver",
         0.99
        ],
        [
         "Heather Leacock",
         "Raimundos",
         0.99
        ],
        [
         "Tim Goyer",
         "Guns N' Roses",
         0.99
        ],
        [
         "Camille Bernard",
         "Cake",
         0.99
        ],
        [
         "Terhi Hämäläinen",
         "Def Leppard",
         0.99
        ],
        [
         "Rishabh Mishra",
         "The Rolling Stones",
         0.99
        ],
        [
         "João Fernandes",
         "JET",
         0.99
        ],
        [
         "František Wichterlová",
         "Pearl Jam",
         0.99
        ],
        [
         "Terhi Hämäläinen",
         "Mötley Crüe",
         0.99
        ],
        [
         "Emma Jones",
         "Lulu Santos",
         0.99
        ],
        [
         "Dominique Lefebvre",
         "Led Zeppelin",
         0.99
        ],
        [
         "Mark Philips",
         "Van Halen",
         0.99
        ],
        [
         "Steve Murray",
         "Cake",
         0.99
        ],
        [
         "João Fernandes",
         "The Police",
         0.99
        ],
        [
         "Victor Stevens",
         "Van Halen",
         0.99
        ],
        [
         "Ladislav Kovács",
         "Lenny Kravitz",
         0.99
        ],
        [
         "Isabelle Mercier",
         "UB40",
         0.99
        ],
        [
         "Aaron Mitchell",
         "Marvin Gaye",
         0.99
        ],
        [
         "Edward Francis",
         "Miles Davis",
         0.99
        ],
        [
         "Dan Miller",
         "Scorpions",
         0.99
        ],
        [
         "Terhi Hämäläinen",
         "Deep Purple",
         0.99
        ],
        [
         "Tim Goyer",
         "Frank Sinatra",
         0.99
        ],
        [
         "Dan Miller",
         "Black Sabbath",
         0.99
        ],
        [
         "Victor Stevens",
         "U2",
         0.99
        ],
        [
         "Patrick Gray",
         "Eric Clapton",
         0.99
        ],
        [
         "Joakim Johansson",
         "Rush",
         0.99
        ],
        [
         "Luís Gonçalves",
         "Caetano Veloso",
         0.99
        ],
        [
         "Helena Holý",
         "Miles Davis",
         0.99
        ],
        [
         "Ladislav Kovács",
         "Nicolaus Esterhazy Sinfonia",
         0.99
        ],
        [
         "Alexandre Rocha",
         "R.E.M.",
         0.99
        ],
        [
         "Madalena Sampaio",
         "Os Paralamas Do Sucesso",
         0.99
        ],
        [
         "Ladislav Kovács",
         "Lost",
         0.99
        ],
        [
         "Luis Rojas",
         "Kiss",
         0.99
        ],
        [
         "Martha Silk",
         "Pearl Jam",
         0.99
        ],
        [
         "Ladislav Kovács",
         "Jamiroquai",
         0.99
        ],
        [
         "Fernanda Ramos",
         "Godsmack",
         0.99
        ],
        [
         "Frank Harris",
         "Eric Clapton",
         0.99
        ],
        [
         "Robert Brown",
         "Ozzy Osbourne",
         0.99
        ],
        [
         "Michelle Brooks",
         "Men At Work",
         0.99
        ],
        [
         "Hannah Schneider",
         "Luciano Pavarotti",
         0.99
        ],
        [
         "Hugh O'Reilly",
         "Cake",
         0.99
        ],
        [
         "Eduardo Martins",
         "Aaron Goldberg",
         0.99
        ],
        [
         "Johannes Van der Berg",
         "Stone Temple Pilots",
         0.99
        ],
        [
         "Ellie Sullivan",
         "Pink Floyd",
         0.99
        ],
        [
         "Enrique Muñoz",
         "Van Halen",
         0.99
        ],
        [
         "Alexandre Rocha",
         "Jorge Ben",
         0.99
        ],
        [
         "Stanisław Wójcik",
         "The Black Crowes",
         0.99
        ],
        [
         "Roberto Almeida",
         "Faith No More",
         0.99
        ],
        [
         "Steve Murray",
         "Metallica",
         0.99
        ],
        [
         "Heather Leacock",
         "Foo Fighters",
         0.99
        ],
        [
         "Terhi Hämäläinen",
         "Itzhak Perlman",
         0.99
        ],
        [
         "Rishabh Mishra",
         "Queen",
         0.99
        ],
        [
         "Daan Peeters",
         "Incognito",
         0.99
        ],
        [
         "Ellie Sullivan",
         "Van Halen",
         0.99
        ],
        [
         "Ladislav Kovács",
         "JET",
         0.99
        ],
        [
         "Hannah Schneider",
         "Pink Floyd",
         0.99
        ],
        [
         "Dominique Lefebvre",
         "System Of A Down",
         0.99
        ],
        [
         "Aaron Mitchell",
         "Amy Winehouse",
         0.99
        ],
        [
         "Leonie Köhler",
         "Chico Buarque",
         0.99
        ],
        [
         "Frank Ralston",
         "Alice In Chains",
         0.99
        ],
        [
         "Hugh O'Reilly",
         "Raul Seixas",
         0.99
        ],
        [
         "Heather Leacock",
         "JET",
         0.99
        ],
        [
         "František Wichterlová",
         "Luciano Pavarotti",
         0.99
        ],
        [
         "Kara Nielsen",
         "The Cult",
         0.99
        ],
        [
         "Fernanda Ramos",
         "Audioslave",
         0.99
        ],
        [
         "Aaron Mitchell",
         "Godsmack",
         0.99
        ],
        [
         "Aaron Mitchell",
         "Mötley Crüe",
         0.99
        ],
        [
         "Eduardo Martins",
         "Joe Satriani",
         0.99
        ],
        [
         "Roberto Almeida",
         "Iron Maiden",
         0.99
        ],
        [
         "Aaron Mitchell",
         "Miles Davis",
         0.99
        ],
        [
         "Dan Miller",
         "The Doors",
         0.99
        ],
        [
         "Frank Harris",
         "Raimundos",
         0.99
        ],
        [
         "Edward Francis",
         "The Clash",
         0.99
        ],
        [
         "Heather Leacock",
         "Frank Sinatra",
         0.99
        ],
        [
         "Jennifer Peterson",
         "Apocalyptica",
         0.99
        ],
        [
         "Emma Jones",
         "Santana",
         0.99
        ],
        [
         "Jack Smith",
         "Stone Temple Pilots",
         0.99
        ],
        [
         "Johannes Van der Berg",
         "Metallica",
         0.99
        ],
        [
         "František Wichterlová",
         "Caetano Veloso",
         0.99
        ],
        [
         "Manoj Pareek",
         "Queen",
         0.99
        ],
        [
         "Jennifer Peterson",
         "Iron Maiden",
         0.99
        ],
        [
         "Leonie Köhler",
         "UB40",
         0.99
        ],
        [
         "Edward Francis",
         "Deep Purple",
         0.99
        ],
        [
         "Dan Miller",
         "Pearl Jam",
         0.99
        ],
        [
         "Manoj Pareek",
         "Page & Plant",
         0.99
        ],
        [
         "Ladislav Kovács",
         "Creedence Clearwater Revival",
         0.99
        ],
        [
         "Leonie Köhler",
         "AC/DC",
         0.99
        ],
        [
         "Mark Philips",
         "Temple of the Dog",
         0.99
        ],
        [
         "Emma Jones",
         "U2",
         0.99
        ],
        [
         "Steve Murray",
         "Van Halen",
         0.99
        ],
        [
         "Julia Barnett",
         "The Who",
         0.99
        ],
        [
         "Enrique Muñoz",
         "Soundgarden",
         0.99
        ],
        [
         "Lucas Mancini",
         "Alice In Chains",
         0.99
        ],
        [
         "Wyatt Girard",
         "Guns N' Roses",
         0.99
        ],
        [
         "Richard Cunningham",
         "The Rolling Stones",
         0.99
        ],
        [
         "Helena Holý",
         "Gustav Mahler",
         0.99
        ],
        [
         "Michelle Brooks",
         "Bruce Dickinson",
         0.99
        ],
        [
         "Rishabh Mishra",
         "U2",
         0.99
        ],
        [
         "Camille Bernard",
         "Soundgarden",
         0.99
        ],
        [
         "Joakim Johansson",
         "Scorpions",
         0.99
        ],
        [
         "Astrid Gruber",
         "The Police",
         0.99
        ],
        [
         "Terhi Hämäläinen",
         "James Brown",
         0.99
        ],
        [
         "Richard Cunningham",
         "Aerosmith",
         0.99
        ],
        [
         "Michelle Brooks",
         "Apocalyptica",
         0.99
        ],
        [
         "Luis Rojas",
         "The Rolling Stones",
         0.99
        ],
        [
         "František Wichterlová",
         "Amy Winehouse",
         0.99
        ],
        [
         "Camille Bernard",
         "Amy Winehouse",
         0.99
        ],
        [
         "Joakim Johansson",
         "Nicolaus Esterhazy Sinfonia",
         0.99
        ],
        [
         "Hugh O'Reilly",
         "Ed Motta",
         0.99
        ],
        [
         "Mark Philips",
         "AC/DC",
         0.99
        ],
        [
         "Richard Cunningham",
         "Godsmack",
         0.99
        ],
        [
         "Hugh O'Reilly",
         "AC/DC",
         0.99
        ],
        [
         "Heather Leacock",
         "Pink Floyd",
         0.99
        ],
        [
         "Phil Hughes",
         "James Brown",
         0.99
        ],
        [
         "Madalena Sampaio",
         "Jota Quest",
         0.99
        ],
        [
         "Frank Ralston",
         "Green Day",
         0.99
        ],
        [
         "Wyatt Girard",
         "Lenny Kravitz",
         0.99
        ],
        [
         "Hugh O'Reilly",
         "Foo Fighters",
         0.99
        ],
        [
         "Madalena Sampaio",
         "Marvin Gaye",
         0.99
        ],
        [
         "Leonie Köhler",
         "Metallica",
         0.99
        ],
        [
         "Heather Leacock",
         "Soundgarden",
         0.99
        ],
        [
         "František Wichterlová",
         "Falamansa",
         0.99
        ],
        [
         "Helena Holý",
         "Alanis Morissette",
         0.99
        ],
        [
         "Aaron Mitchell",
         "Def Leppard",
         0.99
        ],
        [
         "Phil Hughes",
         "Metallica",
         0.99
        ],
        [
         "Aaron Mitchell",
         "Scorpions",
         0.99
        ],
        [
         "Dan Miller",
         "Aerosmith",
         0.99
        ],
        [
         "Stanisław Wójcik",
         "Skank",
         0.99
        ],
        [
         "Roberto Almeida",
         "Van Halen",
         0.99
        ],
        [
         "Johannes Van der Berg",
         "Pearl Jam",
         0.99
        ],
        [
         "Stanisław Wójcik",
         "Kiss",
         0.99
        ],
        [
         "Tim Goyer",
         "AC/DC",
         0.99
        ],
        [
         "Mark Philips",
         "Aisha Duo",
         0.99
        ],
        [
         "Johannes Van der Berg",
         "Alanis Morissette",
         0.99
        ],
        [
         "Frank Ralston",
         "Scorpions",
         0.99
        ],
        [
         "Lucas Mancini",
         "Santana",
         0.99
        ],
        [
         "Mark Taylor",
         "Lenny Kravitz",
         0.99
        ],
        [
         "Emma Jones",
         "Marvin Gaye",
         0.99
        ],
        [
         "Roberto Almeida",
         "Skank",
         0.99
        ],
        [
         "Ladislav Kovács",
         "Skank",
         0.99
        ],
        [
         "Ellie Sullivan",
         "Legião Urbana",
         0.99
        ],
        [
         "Hugh O'Reilly",
         "U2",
         0.99
        ],
        [
         "Bjørn Hansen",
         "Body Count",
         0.99
        ],
        [
         "Patrick Gray",
         "Apocalyptica",
         0.99
        ],
        [
         "François Tremblay",
         "Buddy Guy",
         0.99
        ],
        [
         "Dan Miller",
         "Os Mutantes",
         0.99
        ],
        [
         "Bjørn Hansen",
         "Red Hot Chili Peppers",
         0.99
        ],
        [
         "Eduardo Martins",
         "Aerosmith",
         0.99
        ],
        [
         "Rishabh Mishra",
         "Apocalyptica",
         0.99
        ],
        [
         "Michelle Brooks",
         "Foo Fighters",
         0.99
        ],
        [
         "Alexandre Rocha",
         "Scorpions",
         0.99
        ],
        [
         "Emma Jones",
         "Green Day",
         0.99
        ],
        [
         "Julia Barnett",
         "Deep Purple",
         0.99
        ],
        [
         "Richard Cunningham",
         "Led Zeppelin",
         0.99
        ],
        [
         "Enrique Muñoz",
         "Judas Priest",
         0.99
        ],
        [
         "Richard Cunningham",
         "The Cult",
         0.99
        ],
        [
         "Wyatt Girard",
         "Soundgarden",
         0.99
        ],
        [
         "Ellie Sullivan",
         "Page & Plant",
         0.99
        ],
        [
         "Niklas Schröder",
         "The Clash",
         0.99
        ],
        [
         "Hugh O'Reilly",
         "Aerosmith",
         0.99
        ],
        [
         "Victor Stevens",
         "Green Day",
         0.99
        ],
        [
         "Rishabh Mishra",
         "Motörhead",
         0.99
        ],
        [
         "Hugh O'Reilly",
         "Battlestar Galactica",
         0.99
        ],
        [
         "Fernanda Ramos",
         "Gustav Mahler",
         0.99
        ],
        [
         "Jennifer Peterson",
         "Black Label Society",
         0.99
        ],
        [
         "John Gordon",
         "The Rolling Stones",
         0.99
        ],
        [
         "Leonie Köhler",
         "Scorpions",
         0.99
        ],
        [
         "Astrid Gruber",
         "The Who",
         0.99
        ],
        [
         "João Fernandes",
         "Amy Winehouse",
         0.99
        ],
        [
         "Enrique Muñoz",
         "Temple of the Dog",
         0.99
        ],
        [
         "John Gordon",
         "Marillion",
         0.99
        ],
        [
         "John Gordon",
         "Ozzy Osbourne",
         0.99
        ],
        [
         "Alexandre Rocha",
         "Guns N' Roses",
         0.99
        ],
        [
         "Ladislav Kovács",
         "Led Zeppelin",
         0.99
        ],
        [
         "Michelle Brooks",
         "Chris Cornell",
         0.99
        ],
        [
         "Ellie Sullivan",
         "Passengers",
         0.99
        ],
        [
         "Frank Ralston",
         "Accept",
         0.99
        ],
        [
         "Lucas Mancini",
         "Eric Clapton",
         0.99
        ],
        [
         "Alexandre Rocha",
         "Chico Buarque",
         0.99
        ],
        [
         "Tim Goyer",
         "Men At Work",
         0.99
        ],
        [
         "Hugh O'Reilly",
         "R.E.M.",
         0.99
        ],
        [
         "Diego Gutiérrez",
         "James Brown",
         0.99
        ],
        [
         "Ellie Sullivan",
         "Santana",
         0.99
        ],
        [
         "Jennifer Peterson",
         "U2",
         0.99
        ],
        [
         "Joakim Johansson",
         "U2",
         0.99
        ],
        [
         "Heather Leacock",
         "Red Hot Chili Peppers",
         0.99
        ],
        [
         "Johannes Van der Berg",
         "Iron Maiden",
         0.99
        ],
        [
         "Mark Philips",
         "Deep Purple",
         0.99
        ],
        [
         "Mark Taylor",
         "Alice In Chains",
         0.99
        ],
        [
         "Kathy Chase",
         "Calexico",
         0.99
        ],
        [
         "Joakim Johansson",
         "Audioslave",
         0.99
        ],
        [
         "John Gordon",
         "Buddy Guy",
         0.99
        ],
        [
         "Tim Goyer",
         "The Doors",
         0.99
        ],
        [
         "Astrid Gruber",
         "The Clash",
         0.99
        ],
        [
         "Hugh O'Reilly",
         "Santana",
         0.99
        ],
        [
         "Ellie Sullivan",
         "JET",
         0.99
        ],
        [
         "Edward Francis",
         "Metallica",
         0.99
        ],
        [
         "Hugh O'Reilly",
         "Raimundos",
         0.99
        ],
        [
         "Rishabh Mishra",
         "Cake",
         0.99
        ],
        [
         "Tim Goyer",
         "Santana",
         0.99
        ],
        [
         "Tim Goyer",
         "Billy Cobham",
         0.99
        ],
        [
         "Phil Hughes",
         "Kiss",
         0.99
        ],
        [
         "Stanisław Wójcik",
         "Calexico",
         0.99
        ],
        [
         "João Fernandes",
         "Milton Nascimento",
         0.99
        ],
        [
         "Hannah Schneider",
         "Frank Sinatra",
         0.99
        ],
        [
         "Camille Bernard",
         "The Police",
         0.99
        ],
        [
         "Leonie Köhler",
         "Miles Davis",
         0.99
        ],
        [
         "Rishabh Mishra",
         "The Doors",
         0.99
        ],
        [
         "Heather Leacock",
         "Eric Clapton",
         0.99
        ],
        [
         "Luis Rojas",
         "Foo Fighters",
         0.99
        ],
        [
         "Lucas Mancini",
         "JET",
         0.99
        ],
        [
         "Aaron Mitchell",
         "Black Sabbath",
         0.99
        ],
        [
         "Luis Rojas",
         "The Posies",
         0.99
        ],
        [
         "Alexandre Rocha",
         "Caetano Veloso",
         0.99
        ],
        [
         "Madalena Sampaio",
         "Ozzy Osbourne",
         0.99
        ],
        [
         "John Gordon",
         "Foo Fighters",
         0.99
        ],
        [
         "František Wichterlová",
         "Chico Buarque",
         0.99
        ],
        [
         "Jennifer Peterson",
         "Mötley Crüe",
         0.99
        ],
        [
         "Dominique Lefebvre",
         "Soundgarden",
         0.99
        ],
        [
         "Aaron Mitchell",
         "Red Hot Chili Peppers",
         0.99
        ],
        [
         "František Wichterlová",
         "Pink Floyd",
         0.99
        ],
        [
         "Hannah Schneider",
         "Rush",
         0.99
        ],
        [
         "Fynn Zimmermann",
         "Lenny Kravitz",
         0.99
        ],
        [
         "Kathy Chase",
         "UB40",
         0.99
        ],
        [
         "Mark Philips",
         "Jimi Hendrix",
         0.99
        ],
        [
         "Steve Murray",
         "Cidade Negra",
         0.99
        ],
        [
         "Michelle Brooks",
         "Caetano Veloso",
         0.99
        ],
        [
         "Diego Gutiérrez",
         "Guns N' Roses",
         0.99
        ],
        [
         "Luís Gonçalves",
         "Metallica",
         0.99
        ],
        [
         "John Gordon",
         "Chris Cornell",
         0.99
        ],
        [
         "Roberto Almeida",
         "Nirvana",
         0.99
        ],
        [
         "Jennifer Peterson",
         "Eric Clapton",
         0.99
        ],
        [
         "Helena Holý",
         "James Brown",
         0.99
        ],
        [
         "Michelle Brooks",
         "Miles Davis",
         0.99
        ],
        [
         "Bjørn Hansen",
         "Cake",
         0.99
        ],
        [
         "Tim Goyer",
         "Tim Maia",
         0.99
        ],
        [
         "Marc Dubois",
         "Def Leppard",
         0.99
        ],
        [
         "Camille Bernard",
         "Calexico",
         0.99
        ],
        [
         "Mark Taylor",
         "Creedence Clearwater Revival",
         0.99
        ],
        [
         "Eduardo Martins",
         "Black Sabbath",
         0.99
        ],
        [
         "Luís Gonçalves",
         "Pearl Jam",
         0.99
        ],
        [
         "Eduardo Martins",
         "The Rolling Stones",
         0.99
        ],
        [
         "Daan Peeters",
         "O Rappa",
         0.99
        ],
        [
         "Madalena Sampaio",
         "Led Zeppelin",
         0.99
        ],
        [
         "Julia Barnett",
         "Soundgarden",
         0.99
        ],
        [
         "Isabelle Mercier",
         "Lenny Kravitz",
         0.99
        ],
        [
         "František Wichterlová",
         "Metallica",
         0.99
        ],
        [
         "Mark Taylor",
         "Marillion",
         0.99
        ],
        [
         "Bjørn Hansen",
         "Jorge Ben",
         0.99
        ],
        [
         "Mark Philips",
         "The Who",
         0.99
        ],
        [
         "Luís Gonçalves",
         "Stone Temple Pilots",
         0.99
        ],
        [
         "Ladislav Kovács",
         "R.E.M.",
         0.99
        ],
        [
         "Enrique Muñoz",
         "Eric Clapton",
         0.99
        ],
        [
         "Luis Rojas",
         "Marvin Gaye",
         0.99
        ],
        [
         "Eduardo Martins",
         "Santana",
         0.99
        ],
        [
         "Isabelle Mercier",
         "The Police",
         0.99
        ],
        [
         "Julia Barnett",
         "Body Count",
         0.99
        ],
        [
         "Isabelle Mercier",
         "Red Hot Chili Peppers",
         0.99
        ],
        [
         "Steve Murray",
         "System Of A Down",
         0.99
        ],
        [
         "Mark Taylor",
         "Amy Winehouse",
         0.99
        ],
        [
         "Richard Cunningham",
         "Frank Sinatra",
         0.99
        ],
        [
         "Mark Taylor",
         "The Rolling Stones",
         0.99
        ],
        [
         "Joakim Johansson",
         "Def Leppard",
         0.99
        ],
        [
         "Terhi Hämäläinen",
         "R.E.M.",
         0.99
        ],
        [
         "Madalena Sampaio",
         "Cake",
         0.99
        ],
        [
         "Phil Hughes",
         "Gustav Mahler",
         0.99
        ],
        [
         "Camille Bernard",
         "AC/DC",
         0.99
        ],
        [
         "Joakim Johansson",
         "Funk Como Le Gusta",
         0.99
        ],
        [
         "Ellie Sullivan",
         "Scorpions",
         0.99
        ],
        [
         "Kathy Chase",
         "Amy Winehouse",
         0.99
        ],
        [
         "Fernanda Ramos",
         "The Cult",
         0.99
        ],
        [
         "Roberto Almeida",
         "Lenny Kravitz",
         0.99
        ],
        [
         "Mark Taylor",
         "Titãs",
         0.99
        ],
        [
         "Luís Gonçalves",
         "Foo Fighters",
         0.99
        ],
        [
         "Hannah Schneider",
         "Cake",
         0.99
        ],
        [
         "Luis Rojas",
         "Tim Maia",
         0.99
        ],
        [
         "Luis Rojas",
         "Calexico",
         0.99
        ],
        [
         "Patrick Gray",
         "Jamiroquai",
         0.99
        ],
        [
         "Frank Ralston",
         "Foo Fighters",
         0.99
        ],
        [
         "Martha Silk",
         "Deep Purple",
         0.99
        ],
        [
         "Luís Gonçalves",
         "System Of A Down",
         0.99
        ],
        [
         "Eduardo Martins",
         "AC/DC",
         0.99
        ],
        [
         "Aaron Mitchell",
         "House Of Pain",
         0.99
        ],
        [
         "Martha Silk",
         "Metallica",
         0.99
        ],
        [
         "Joakim Johansson",
         "Black Sabbath",
         0.99
        ],
        [
         "Julia Barnett",
         "Velvet Revolver",
         0.99
        ],
        [
         "Frank Harris",
         "Red Hot Chili Peppers",
         0.99
        ],
        [
         "Steve Murray",
         "Godsmack",
         0.99
        ],
        [
         "Roberto Almeida",
         "Stone Temple Pilots",
         0.99
        ],
        [
         "Alexandre Rocha",
         "System Of A Down",
         0.99
        ],
        [
         "João Fernandes",
         "Incognito",
         0.99
        ],
        [
         "František Wichterlová",
         "Temple of the Dog",
         0.99
        ],
        [
         "Patrick Gray",
         "R.E.M.",
         0.99
        ],
        [
         "Isabelle Mercier",
         "Pearl Jam",
         0.99
        ],
        [
         "Diego Gutiérrez",
         "The Doors",
         0.99
        ],
        [
         "Luís Gonçalves",
         "Santana",
         0.99
        ],
        [
         "François Tremblay",
         "Alice In Chains",
         0.99
        ],
        [
         "Rishabh Mishra",
         "O Rappa",
         0.99
        ],
        [
         "Camille Bernard",
         "Led Zeppelin",
         0.99
        ],
        [
         "Niklas Schröder",
         "The Who",
         0.99
        ],
        [
         "Martha Silk",
         "Men At Work",
         0.99
        ],
        [
         "Fernanda Ramos",
         "James Levine",
         0.99
        ],
        [
         "Wyatt Girard",
         "The Black Crowes",
         0.99
        ],
        [
         "Frank Ralston",
         "Pink Floyd",
         0.99
        ],
        [
         "Alexandre Rocha",
         "Black Sabbath",
         0.99
        ],
        [
         "Edward Francis",
         "Jimi Hendrix",
         0.99
        ],
        [
         "Roberto Almeida",
         "Audioslave",
         0.99
        ],
        [
         "Jennifer Peterson",
         "Foo Fighters",
         0.99
        ],
        [
         "Frank Harris",
         "Marvin Gaye",
         0.99
        ],
        [
         "Fernanda Ramos",
         "Jimi Hendrix",
         0.99
        ],
        [
         "Helena Holý",
         "Calexico",
         0.99
        ],
        [
         "Heather Leacock",
         "UB40",
         0.99
        ],
        [
         "Edward Francis",
         "Kiss",
         0.99
        ],
        [
         "Camille Bernard",
         "Pink Floyd",
         0.99
        ],
        [
         "Tim Goyer",
         "Alice In Chains",
         0.99
        ],
        [
         "Marc Dubois",
         "Aerosmith",
         0.99
        ],
        [
         "Victor Stevens",
         "Soundgarden",
         0.99
        ],
        [
         "Johannes Van der Berg",
         "Guns N' Roses",
         0.99
        ],
        [
         "Hannah Schneider",
         "Creedence Clearwater Revival",
         0.99
        ],
        [
         "Dominique Lefebvre",
         "UB40",
         0.99
        ],
        [
         "Marc Dubois",
         "Os Mutantes",
         0.99
        ],
        [
         "Aaron Mitchell",
         "Jota Quest",
         0.99
        ],
        [
         "Daan Peeters",
         "Nirvana",
         0.99
        ],
        [
         "Astrid Gruber",
         "Chico Buarque",
         0.99
        ],
        [
         "Manoj Pareek",
         "Jota Quest",
         0.99
        ],
        [
         "Helena Holý",
         "The Rolling Stones",
         0.99
        ],
        [
         "Isabelle Mercier",
         "Guns N' Roses",
         0.99
        ],
        [
         "Johannes Van der Berg",
         "Cake",
         0.99
        ],
        [
         "Marc Dubois",
         "James Brown",
         0.99
        ],
        [
         "Aaron Mitchell",
         "The Who",
         0.99
        ],
        [
         "Frank Ralston",
         "Metallica",
         0.99
        ],
        [
         "Stanisław Wójcik",
         "Eric Clapton",
         0.99
        ],
        [
         "Alexandre Rocha",
         "Jimi Hendrix",
         0.99
        ],
        [
         "Fernanda Ramos",
         "Luciana Souza/Romero Lubambo",
         0.99
        ],
        [
         "François Tremblay",
         "The Rolling Stones",
         0.99
        ],
        [
         "Enrique Muñoz",
         "JET",
         0.99
        ],
        [
         "Hannah Schneider",
         "Van Halen",
         0.99
        ],
        [
         "Richard Cunningham",
         "Temple of the Dog",
         0.99
        ],
        [
         "François Tremblay",
         "Kiss",
         0.99
        ],
        [
         "Madalena Sampaio",
         "Guns N' Roses",
         0.99
        ],
        [
         "Richard Cunningham",
         "Lulu Santos",
         0.99
        ],
        [
         "Fernanda Ramos",
         "Frank Sinatra",
         0.99
        ],
        [
         "John Gordon",
         "Deep Purple",
         0.99
        ],
        [
         "Leonie Köhler",
         "Motörhead",
         0.99
        ],
        [
         "Hugh O'Reilly",
         "The Police",
         0.99
        ],
        [
         "Victor Stevens",
         "Marillion",
         0.99
        ],
        [
         "Emma Jones",
         "Black Label Society",
         0.99
        ],
        [
         "František Wichterlová",
         "Velvet Revolver",
         0.99
        ],
        [
         "Leonie Köhler",
         "U2",
         0.99
        ],
        [
         "Aaron Mitchell",
         "Eric Clapton",
         0.99
        ],
        [
         "Niklas Schröder",
         "James Brown",
         0.99
        ],
        [
         "Ladislav Kovács",
         "Alice In Chains",
         0.99
        ],
        [
         "Madalena Sampaio",
         "Marisa Monte",
         0.99
        ],
        [
         "Jack Smith",
         "Pink Floyd",
         0.99
        ],
        [
         "Astrid Gruber",
         "Joe Satriani",
         0.99
        ],
        [
         "João Fernandes",
         "The Doors",
         0.99
        ],
        [
         "Aaron Mitchell",
         "Aerosmith",
         0.99
        ],
        [
         "Hannah Schneider",
         "Gilberto Gil",
         0.99
        ],
        [
         "Victor Stevens",
         "Red Hot Chili Peppers",
         0.99
        ],
        [
         "Dominique Lefebvre",
         "Men At Work",
         0.99
        ],
        [
         "Hannah Schneider",
         "Vinícius De Moraes",
         0.99
        ],
        [
         "Phil Hughes",
         "Guns N' Roses",
         0.99
        ],
        [
         "Frank Harris",
         "Def Leppard",
         0.99
        ],
        [
         "Martha Silk",
         "Kiss",
         0.99
        ],
        [
         "Ellie Sullivan",
         "Jimi Hendrix",
         0.99
        ],
        [
         "Terhi Hämäläinen",
         "Gilberto Gil",
         0.99
        ],
        [
         "Stanisław Wójcik",
         "Audioslave",
         0.99
        ],
        [
         "Frank Harris",
         "System Of A Down",
         0.99
        ],
        [
         "Daan Peeters",
         "Jimi Hendrix",
         0.99
        ],
        [
         "John Gordon",
         "UB40",
         0.99
        ],
        [
         "Jack Smith",
         "Accept",
         0.99
        ],
        [
         "Steve Murray",
         "Aerosmith",
         0.99
        ],
        [
         "François Tremblay",
         "Pink Floyd",
         0.99
        ],
        [
         "Niklas Schröder",
         "Deep Purple",
         0.99
        ],
        [
         "Dominique Lefebvre",
         "The Doors",
         0.99
        ],
        [
         "Niklas Schröder",
         "Christopher O'Riley",
         0.99
        ],
        [
         "Frank Ralston",
         "The Who",
         0.99
        ],
        [
         "Martha Silk",
         "Chris Cornell",
         0.99
        ],
        [
         "Camille Bernard",
         "Queen",
         0.99
        ],
        [
         "Michelle Brooks",
         "Godsmack",
         0.99
        ],
        [
         "Patrick Gray",
         "Red Hot Chili Peppers",
         0.99
        ],
        [
         "Isabelle Mercier",
         "Santana",
         0.99
        ],
        [
         "Luis Rojas",
         "Lulu Santos",
         0.99
        ],
        [
         "Niklas Schröder",
         "Miles Davis",
         0.99
        ],
        [
         "Niklas Schröder",
         "Kiss",
         0.99
        ],
        [
         "Jack Smith",
         "Santana",
         0.99
        ],
        [
         "Dan Miller",
         "Iron Maiden",
         0.99
        ],
        [
         "Isabelle Mercier",
         "The Black Crowes",
         0.99
        ],
        [
         "Julia Barnett",
         "Maurizio Pollini",
         0.99
        ],
        [
         "Johannes Van der Berg",
         "Judas Priest",
         0.99
        ],
        [
         "Julia Barnett",
         "Def Leppard",
         0.99
        ],
        [
         "Tim Goyer",
         "Luciano Pavarotti",
         0.99
        ],
        [
         "Marc Dubois",
         "Jamiroquai",
         0.99
        ],
        [
         "Julia Barnett",
         "Motörhead",
         0.99
        ],
        [
         "Helena Holý",
         "Luciano Pavarotti",
         0.99
        ],
        [
         "Rishabh Mishra",
         "Foo Fighters",
         0.99
        ],
        [
         "Luis Rojas",
         "Cake",
         0.99
        ],
        [
         "Wyatt Girard",
         "Pink Floyd",
         0.99
        ],
        [
         "Frank Harris",
         "The Who",
         0.99
        ],
        [
         "João Fernandes",
         "U2",
         0.99
        ],
        [
         "Jack Smith",
         "Eric Clapton",
         0.99
        ],
        [
         "Mark Taylor",
         "Itzhak Perlman",
         0.99
        ],
        [
         "François Tremblay",
         "Nirvana",
         0.99
        ],
        [
         "Enrique Muñoz",
         "Cake",
         0.99
        ],
        [
         "Leonie Köhler",
         "Judas Priest",
         0.99
        ],
        [
         "Emma Jones",
         "Olodum",
         0.99
        ],
        [
         "Daan Peeters",
         "System Of A Down",
         0.99
        ],
        [
         "Marc Dubois",
         "U2",
         0.99
        ],
        [
         "Camille Bernard",
         "House Of Pain",
         0.99
        ],
        [
         "Manoj Pareek",
         "Red Hot Chili Peppers",
         0.99
        ],
        [
         "Daan Peeters",
         "The Police",
         0.99
        ],
        [
         "Steve Murray",
         "Gustav Mahler",
         0.99
        ],
        [
         "Luís Gonçalves",
         "Apocalyptica",
         0.99
        ],
        [
         "Rishabh Mishra",
         "Kiss",
         0.99
        ],
        [
         "Kathy Chase",
         "Motörhead",
         0.99
        ],
        [
         "Ladislav Kovács",
         "Judas Priest",
         0.99
        ],
        [
         "Julia Barnett",
         "Judas Priest",
         0.99
        ],
        [
         "Julia Barnett",
         "Green Day",
         0.99
        ],
        [
         "Enrique Muñoz",
         "Pink Floyd",
         0.99
        ],
        [
         "Enrique Muñoz",
         "R.E.M.",
         0.99
        ],
        [
         "Mark Taylor",
         "Nirvana",
         0.99
        ],
        [
         "Roberto Almeida",
         "Black Label Society",
         0.99
        ],
        [
         "Dan Miller",
         "Miles Davis",
         0.99
        ],
        [
         "Michelle Brooks",
         "Audioslave",
         0.99
        ],
        [
         "Tim Goyer",
         "Queen",
         0.99
        ],
        [
         "Camille Bernard",
         "Djavan",
         0.99
        ],
        [
         "Ellie Sullivan",
         "Mötley Crüe",
         0.99
        ],
        [
         "Daan Peeters",
         "Velvet Revolver",
         0.99
        ],
        [
         "Helena Holý",
         "Antônio Carlos Jobim",
         0.99
        ],
        [
         "Ellie Sullivan",
         "Titãs",
         0.99
        ],
        [
         "Stanisław Wójcik",
         "David Coverdale",
         0.99
        ],
        [
         "Enrique Muñoz",
         "Gonzaguinha",
         0.99
        ],
        [
         "Isabelle Mercier",
         "Emerson String Quartet",
         0.99
        ],
        [
         "Michelle Brooks",
         "Ozzy Osbourne",
         0.99
        ],
        [
         "Diego Gutiérrez",
         "The Black Crowes",
         0.99
        ],
        [
         "Roberto Almeida",
         "Ozzy Osbourne",
         0.99
        ],
        [
         "Enrique Muñoz",
         "Alice In Chains",
         0.99
        ],
        [
         "Kathy Chase",
         "U2",
         0.99
        ],
        [
         "Alexandre Rocha",
         "James Brown",
         0.99
        ],
        [
         "Astrid Gruber",
         "Creedence Clearwater Revival",
         0.99
        ],
        [
         "Helena Holý",
         "O Rappa",
         0.99
        ],
        [
         "Camille Bernard",
         "Bruce Dickinson",
         0.99
        ],
        [
         "Daan Peeters",
         "Kiss",
         0.99
        ],
        [
         "Daan Peeters",
         "Cake",
         0.99
        ],
        [
         "Jack Smith",
         "AC/DC",
         0.99
        ],
        [
         "Julia Barnett",
         "Marvin Gaye",
         0.99
        ],
        [
         "Victor Stevens",
         "Black Label Society",
         0.99
        ],
        [
         "Mark Philips",
         "Judas Priest",
         0.99
        ],
        [
         "Michelle Brooks",
         "Yo-Yo Ma",
         0.99
        ],
        [
         "Diego Gutiérrez",
         "Frank Sinatra",
         0.99
        ],
        [
         "Tim Goyer",
         "Stone Temple Pilots",
         0.99
        ],
        [
         "Ellie Sullivan",
         "Def Leppard",
         0.99
        ],
        [
         "Lucas Mancini",
         "The Doors",
         0.99
        ],
        [
         "Rishabh Mishra",
         "Men At Work",
         0.99
        ],
        [
         "Isabelle Mercier",
         "Audioslave",
         0.99
        ],
        [
         "Enrique Muñoz",
         "Creedence Clearwater Revival",
         0.99
        ],
        [
         "Luís Gonçalves",
         "Van Halen",
         0.99
        ],
        [
         "Patrick Gray",
         "Marvin Gaye",
         0.99
        ],
        [
         "Jack Smith",
         "Jimi Hendrix",
         0.99
        ],
        [
         "Madalena Sampaio",
         "Temple of the Dog",
         0.99
        ],
        [
         "Frank Harris",
         "Pearl Jam",
         0.99
        ],
        [
         "Mark Philips",
         "JET",
         0.99
        ],
        [
         "Michelle Brooks",
         "Lenny Kravitz",
         0.99
        ],
        [
         "Ellie Sullivan",
         "Skank",
         0.99
        ],
        [
         "Terhi Hämäläinen",
         "Accept",
         0.99
        ],
        [
         "Richard Cunningham",
         "Funk Como Le Gusta",
         0.99
        ],
        [
         "Frank Ralston",
         "UB40",
         0.99
        ],
        [
         "Emma Jones",
         "Jota Quest",
         0.99
        ],
        [
         "Mark Philips",
         "Led Zeppelin",
         0.99
        ],
        [
         "Martha Silk",
         "Aerosmith",
         0.99
        ],
        [
         "Victor Stevens",
         "Os Mutantes",
         0.99
        ],
        [
         "Emma Jones",
         "Ozzy Osbourne",
         0.99
        ],
        [
         "Emma Jones",
         "Audioslave",
         0.99
        ],
        [
         "John Gordon",
         "Nirvana",
         0.99
        ],
        [
         "Robert Brown",
         "Pearl Jam",
         0.99
        ],
        [
         "Steve Murray",
         "Luciano Pavarotti",
         0.99
        ],
        [
         "Fernanda Ramos",
         "Miles Davis",
         0.99
        ],
        [
         "Luís Gonçalves",
         "Joe Satriani",
         0.99
        ],
        [
         "Roberto Almeida",
         "Creedence Clearwater Revival",
         0.99
        ],
        [
         "Daan Peeters",
         "Luciana Souza/Romero Lubambo",
         0.99
        ],
        [
         "Enrique Muñoz",
         "House Of Pain",
         0.99
        ],
        [
         "Ellie Sullivan",
         "The Clash",
         0.99
        ],
        [
         "Helena Holý",
         "Os Mutantes",
         0.99
        ],
        [
         "Astrid Gruber",
         "AC/DC",
         0.99
        ],
        [
         "Jack Smith",
         "Temple of the Dog",
         0.99
        ],
        [
         "Manoj Pareek",
         "The Who",
         0.99
        ],
        [
         "Lucas Mancini",
         "Green Day",
         0.99
        ],
        [
         "Kara Nielsen",
         "Def Leppard",
         0.99
        ],
        [
         "Daan Peeters",
         "Green Day",
         0.99
        ],
        [
         "Kathy Chase",
         "Frank Sinatra",
         0.99
        ],
        [
         "Edward Francis",
         "Frank Sinatra",
         0.99
        ],
        [
         "Steve Murray",
         "The Doors",
         0.99
        ],
        [
         "Terhi Hämäläinen",
         "Maurizio Pollini",
         0.99
        ],
        [
         "Leonie Köhler",
         "Apocalyptica",
         0.99
        ],
        [
         "Camille Bernard",
         "Men At Work",
         0.99
        ],
        [
         "Fernanda Ramos",
         "Queen",
         0.99
        ],
        [
         "Helena Holý",
         "Gonzaguinha",
         0.99
        ],
        [
         "Bjørn Hansen",
         "Foo Fighters",
         0.99
        ],
        [
         "John Gordon",
         "Apocalyptica",
         0.99
        ],
        [
         "Niklas Schröder",
         "Pearl Jam",
         0.99
        ],
        [
         "Wyatt Girard",
         "Men At Work",
         0.99
        ],
        [
         "Manoj Pareek",
         "U2",
         0.99
        ],
        [
         "Frank Ralston",
         "Iron Maiden",
         0.99
        ],
        [
         "Alexandre Rocha",
         "Motörhead",
         0.99
        ],
        [
         "Leonie Köhler",
         "Red Hot Chili Peppers",
         0.99
        ],
        [
         "Hugh O'Reilly",
         "Green Day",
         0.99
        ],
        [
         "Hannah Schneider",
         "Billy Cobham",
         0.99
        ],
        [
         "Wyatt Girard",
         "UB40",
         0.99
        ],
        [
         "Heather Leacock",
         "Men At Work",
         0.99
        ],
        [
         "Fernanda Ramos",
         "Tim Maia",
         0.99
        ],
        [
         "Isabelle Mercier",
         "Motörhead",
         0.99
        ],
        [
         "Wyatt Girard",
         "Antônio Carlos Jobim",
         0.99
        ],
        [
         "Richard Cunningham",
         "Pink Floyd",
         0.99
        ],
        [
         "Madalena Sampaio",
         "Joe Satriani",
         0.99
        ],
        [
         "Enrique Muñoz",
         "Queen",
         0.99
        ],
        [
         "Martha Silk",
         "Scorpions",
         0.99
        ],
        [
         "Fynn Zimmermann",
         "The Who",
         0.99
        ],
        [
         "Ladislav Kovács",
         "Motörhead",
         0.99
        ],
        [
         "Julia Barnett",
         "Billy Cobham",
         0.99
        ],
        [
         "John Gordon",
         "Stone Temple Pilots",
         0.99
        ],
        [
         "Terhi Hämäläinen",
         "The Doors",
         0.99
        ],
        [
         "František Wichterlová",
         "Vinícius De Moraes",
         0.99
        ],
        [
         "Stanisław Wójcik",
         "Velvet Revolver",
         0.99
        ],
        [
         "Diego Gutiérrez",
         "Lenny Kravitz",
         0.99
        ],
        [
         "Julia Barnett",
         "Eric Clapton",
         0.99
        ],
        [
         "Kathy Chase",
         "Alanis Morissette",
         0.99
        ],
        [
         "Luís Gonçalves",
         "Raimundos",
         0.99
        ],
        [
         "Leonie Köhler",
         "Soundgarden",
         0.99
        ],
        [
         "Luis Rojas",
         "Nicolaus Esterhazy Sinfonia",
         0.99
        ],
        [
         "Isabelle Mercier",
         "System Of A Down",
         0.99
        ],
        [
         "Patrick Gray",
         "Queen",
         0.99
        ],
        [
         "Eduardo Martins",
         "Eric Clapton",
         0.99
        ],
        [
         "Marc Dubois",
         "Nirvana",
         0.99
        ],
        [
         "Jack Smith",
         "James Brown",
         0.99
        ],
        [
         "Patrick Gray",
         "Miles Davis",
         0.99
        ],
        [
         "Dominique Lefebvre",
         "Alanis Morissette",
         0.99
        ],
        [
         "Terhi Hämäläinen",
         "Zeca Pagodinho",
         0.99
        ],
        [
         "Michelle Brooks",
         "Deep Purple",
         0.99
        ],
        [
         "Leonie Köhler",
         "Itzhak Perlman",
         0.99
        ],
        [
         "Luis Rojas",
         "Iron Maiden",
         0.99
        ],
        [
         "Diego Gutiérrez",
         "Judas Priest",
         0.99
        ],
        [
         "Astrid Gruber",
         "Calexico",
         0.99
        ],
        [
         "Fynn Zimmermann",
         "Marvin Gaye",
         0.99
        ],
        [
         "Terhi Hämäläinen",
         "Creedence Clearwater Revival",
         0.99
        ],
        [
         "Steve Murray",
         "Amy Winehouse",
         0.99
        ],
        [
         "François Tremblay",
         "Def Leppard",
         0.99
        ],
        [
         "Frank Harris",
         "Deep Purple",
         0.99
        ],
        [
         "Alexandre Rocha",
         "Frank Sinatra",
         0.99
        ],
        [
         "Luís Gonçalves",
         "Red Hot Chili Peppers",
         0.99
        ],
        [
         "Alexandre Rocha",
         "UB40",
         0.99
        ],
        [
         "František Wichterlová",
         "Van Halen",
         0.99
        ],
        [
         "Camille Bernard",
         "Foo Fighters",
         0.99
        ],
        [
         "Ladislav Kovács",
         "Joe Satriani",
         0.99
        ],
        [
         "Heather Leacock",
         "Jamiroquai",
         0.99
        ],
        [
         "Edward Francis",
         "JET",
         0.99
        ],
        [
         "Mark Taylor",
         "Yehudi Menuhin",
         0.99
        ],
        [
         "Edward Francis",
         "R.E.M.",
         0.99
        ],
        [
         "Joakim Johansson",
         "Faith No More",
         0.99
        ],
        [
         "Jennifer Peterson",
         "The Police",
         0.99
        ],
        [
         "Manoj Pareek",
         "Judas Priest",
         0.99
        ],
        [
         "João Fernandes",
         "Nirvana",
         0.99
        ],
        [
         "Eduardo Martins",
         "Pink Floyd",
         0.99
        ],
        [
         "František Wichterlová",
         "Def Leppard",
         0.99
        ],
        [
         "Tim Goyer",
         "Deep Purple",
         0.99
        ],
        [
         "Edward Francis",
         "Calexico",
         0.99
        ],
        [
         "John Gordon",
         "Joe Satriani",
         0.99
        ],
        [
         "Aaron Mitchell",
         "AC/DC",
         0.99
        ],
        [
         "João Fernandes",
         "Marvin Gaye",
         0.99
        ],
        [
         "Alexandre Rocha",
         "Led Zeppelin",
         0.99
        ],
        [
         "Martha Silk",
         "Foo Fighters",
         0.99
        ],
        [
         "Julia Barnett",
         "Frank Sinatra",
         0.99
        ],
        [
         "Leonie Köhler",
         "Spyro Gyra",
         0.99
        ],
        [
         "Stanisław Wójcik",
         "The Doors",
         0.99
        ],
        [
         "Luis Rojas",
         "Audioslave",
         0.99
        ],
        [
         "Manoj Pareek",
         "The Doors",
         0.99
        ],
        [
         "Fernanda Ramos",
         "Led Zeppelin",
         0.99
        ],
        [
         "Madalena Sampaio",
         "Aerosmith",
         0.99
        ],
        [
         "Niklas Schröder",
         "R.E.M.",
         0.99
        ],
        [
         "Wyatt Girard",
         "The Rolling Stones",
         0.99
        ],
        [
         "João Fernandes",
         "Spyro Gyra",
         0.99
        ],
        [
         "Johannes Van der Berg",
         "Scholars Baroque Ensemble",
         0.99
        ],
        [
         "Phil Hughes",
         "The Who",
         0.99
        ],
        [
         "Alexandre Rocha",
         "Nirvana",
         0.99
        ],
        [
         "Phil Hughes",
         "The Doors",
         0.99
        ],
        [
         "Luis Rojas",
         "Jamiroquai",
         0.99
        ],
        [
         "Daan Peeters",
         "Jamiroquai",
         0.99
        ],
        [
         "Leonie Köhler",
         "O Rappa",
         0.99
        ],
        [
         "Ladislav Kovács",
         "Djavan",
         0.99
        ],
        [
         "Ellie Sullivan",
         "Miles Davis",
         0.99
        ],
        [
         "Camille Bernard",
         "Nirvana",
         0.99
        ],
        [
         "Julia Barnett",
         "Alice In Chains",
         0.99
        ],
        [
         "Enrique Muñoz",
         "Zeca Pagodinho",
         0.99
        ],
        [
         "Dominique Lefebvre",
         "R.E.M.",
         0.99
        ],
        [
         "Wyatt Girard",
         "Stone Temple Pilots",
         0.99
        ],
        [
         "Frank Harris",
         "Black Sabbath",
         0.99
        ],
        [
         "Frank Ralston",
         "Marillion",
         0.99
        ],
        [
         "Frank Ralston",
         "Led Zeppelin",
         0.99
        ],
        [
         "Enrique Muñoz",
         "Calexico",
         0.99
        ],
        [
         "Bjørn Hansen",
         "Pearl Jam",
         0.99
        ],
        [
         "Rishabh Mishra",
         "Black Sabbath",
         0.99
        ],
        [
         "Wyatt Girard",
         "Creedence Clearwater Revival",
         0.99
        ],
        [
         "Dan Miller",
         "Mötley Crüe",
         0.99
        ],
        [
         "Enrique Muñoz",
         "Cidade Negra",
         0.99
        ],
        [
         "Ladislav Kovács",
         "The Police",
         0.99
        ],
        [
         "Heather Leacock",
         "R.E.M.",
         0.99
        ],
        [
         "Tim Goyer",
         "Godsmack",
         0.99
        ],
        [
         "Fernanda Ramos",
         "Metallica",
         0.99
        ],
        [
         "Patrick Gray",
         "Mötley Crüe",
         0.99
        ],
        [
         "Luis Rojas",
         "Metallica",
         0.99
        ],
        [
         "Alexandre Rocha",
         "Judas Priest",
         0.99
        ],
        [
         "Isabelle Mercier",
         "Caetano Veloso",
         0.99
        ],
        [
         "Marc Dubois",
         "Iron Maiden",
         0.99
        ],
        [
         "Joakim Johansson",
         "Buddy Guy",
         0.99
        ],
        [
         "Dominique Lefebvre",
         "Apocalyptica",
         0.99
        ],
        [
         "Eduardo Martins",
         "U2",
         0.99
        ],
        [
         "Richard Cunningham",
         "Red Hot Chili Peppers",
         0.99
        ],
        [
         "Hugh O'Reilly",
         "Black Sabbath",
         0.99
        ],
        [
         "Steve Murray",
         "Legião Urbana",
         0.99
        ],
        [
         "Johannes Van der Berg",
         "Spyro Gyra",
         0.99
        ],
        [
         "Stanisław Wójcik",
         "Alanis Morissette",
         0.99
        ],
        [
         "Kara Nielsen",
         "Red Hot Chili Peppers",
         0.99
        ],
        [
         "Edward Francis",
         "Alice In Chains",
         0.99
        ],
        [
         "Niklas Schröder",
         "Os Mutantes",
         0.99
        ],
        [
         "Emma Jones",
         "Alice In Chains",
         0.99
        ],
        [
         "João Fernandes",
         "Apocalyptica",
         0.99
        ],
        [
         "Rishabh Mishra",
         "James Brown",
         0.99
        ],
        [
         "Victor Stevens",
         "Faith No More",
         0.99
        ],
        [
         "Eduardo Martins",
         "Ozzy Osbourne",
         0.99
        ],
        [
         "Manoj Pareek",
         "Pink Floyd",
         0.99
        ],
        [
         "Wyatt Girard",
         "Gilberto Gil",
         0.99
        ],
        [
         "Michelle Brooks",
         "James Brown",
         0.99
        ],
        [
         "Wyatt Girard",
         "Marvin Gaye",
         0.99
        ],
        [
         "Helena Holý",
         "The Who",
         0.99
        ],
        [
         "João Fernandes",
         "Cake",
         0.99
        ],
        [
         "Frank Ralston",
         "Amy Winehouse",
         0.99
        ],
        [
         "Hugh O'Reilly",
         "Marvin Gaye",
         0.99
        ],
        [
         "Richard Cunningham",
         "Marisa Monte",
         0.99
        ],
        [
         "Jack Smith",
         "Lenny Kravitz",
         0.99
        ],
        [
         "Kara Nielsen",
         "R.E.M.",
         0.99
        ],
        [
         "Ladislav Kovács",
         "Deep Purple",
         0.99
        ],
        [
         "Eduardo Martins",
         "Amy Winehouse",
         0.99
        ],
        [
         "Fernanda Ramos",
         "The 12 Cellists of The Berlin Philharmonic",
         0.99
        ],
        [
         "Frank Ralston",
         "The Clash",
         0.99
        ],
        [
         "Richard Cunningham",
         "Def Leppard",
         0.99
        ],
        [
         "Astrid Gruber",
         "JET",
         0.99
        ],
        [
         "Richard Cunningham",
         "Deep Purple",
         0.99
        ],
        [
         "Steve Murray",
         "Velvet Revolver",
         0.99
        ],
        [
         "Richard Cunningham",
         "Cássia Eller",
         0.99
        ],
        [
         "Richard Cunningham",
         "Nirvana",
         0.99
        ],
        [
         "Rishabh Mishra",
         "System Of A Down",
         0.99
        ],
        [
         "Emma Jones",
         "The Police",
         0.99
        ],
        [
         "François Tremblay",
         "Alanis Morissette",
         0.99
        ],
        [
         "Victor Stevens",
         "Black Sabbath",
         0.99
        ],
        [
         "Robert Brown",
         "Chris Cornell",
         0.99
        ],
        [
         "Daan Peeters",
         "The Posies",
         0.99
        ],
        [
         "Luís Gonçalves",
         "The Clash",
         0.99
        ],
        [
         "Patrick Gray",
         "Deep Purple",
         0.99
        ],
        [
         "Stanisław Wójcik",
         "Gilberto Gil",
         0.99
        ],
        [
         "Ellie Sullivan",
         "The Who",
         0.99
        ],
        [
         "Ladislav Kovács",
         "Kiss",
         0.99
        ],
        [
         "Fernanda Ramos",
         "Skank",
         0.99
        ],
        [
         "Luis Rojas",
         "The Clash",
         0.99
        ],
        [
         "Edward Francis",
         "Stone Temple Pilots",
         0.99
        ],
        [
         "Robert Brown",
         "R.E.M.",
         0.99
        ],
        [
         "Steve Murray",
         "Iron Maiden",
         0.99
        ],
        [
         "Marc Dubois",
         "Led Zeppelin",
         0.99
        ],
        [
         "Luís Gonçalves",
         "Motörhead",
         0.99
        ],
        [
         "Ellie Sullivan",
         "Caetano Veloso",
         0.99
        ],
        [
         "Dominique Lefebvre",
         "Eric Clapton",
         0.99
        ],
        [
         "Stanisław Wójcik",
         "Gustav Mahler",
         0.99
        ],
        [
         "Isabelle Mercier",
         "Aaron Goldberg",
         0.99
        ],
        [
         "Jennifer Peterson",
         "Pink Floyd",
         0.99
        ],
        [
         "Daan Peeters",
         "Alanis Morissette",
         0.99
        ],
        [
         "João Fernandes",
         "Iron Maiden",
         0.99
        ],
        [
         "Madalena Sampaio",
         "Jamiroquai",
         0.99
        ],
        [
         "Edward Francis",
         "Audioslave",
         0.99
        ],
        [
         "Helena Holý",
         "Kiss",
         0.99
        ],
        [
         "Dan Miller",
         "Skank",
         0.99
        ],
        [
         "Leonie Köhler",
         "Frank Sinatra",
         0.99
        ],
        [
         "Patrick Gray",
         "U2",
         0.99
        ],
        [
         "Isabelle Mercier",
         "Creedence Clearwater Revival",
         0.99
        ],
        [
         "Lucas Mancini",
         "James Brown",
         0.99
        ],
        [
         "Enrique Muñoz",
         "The Posies",
         0.99
        ],
        [
         "Leonie Köhler",
         "Alice In Chains",
         0.99
        ],
        [
         "Heather Leacock",
         "Scorpions",
         0.99
        ],
        [
         "Rishabh Mishra",
         "Led Zeppelin",
         0.99
        ],
        [
         "Tim Goyer",
         "Iron Maiden",
         0.99
        ],
        [
         "John Gordon",
         "Karsh Kale",
         0.99
        ],
        [
         "François Tremblay",
         "Guns N' Roses",
         0.99
        ],
        [
         "Terhi Hämäläinen",
         "Led Zeppelin",
         0.99
        ],
        [
         "Niklas Schröder",
         "U2",
         0.99
        ],
        [
         "Jennifer Peterson",
         "The Doors",
         0.99
        ],
        [
         "Fernanda Ramos",
         "Jorge Ben",
         0.99
        ],
        [
         "Stanisław Wójcik",
         "Van Halen",
         0.99
        ],
        [
         "Frank Harris",
         "Motörhead",
         0.99
        ],
        [
         "Edward Francis",
         "Aisha Duo",
         0.99
        ],
        [
         "Wyatt Girard",
         "Nirvana",
         0.99
        ],
        [
         "Kathy Chase",
         "The Doors",
         0.99
        ],
        [
         "Astrid Gruber",
         "Raimundos",
         0.99
        ],
        [
         "Mark Taylor",
         "James Brown",
         0.99
        ],
        [
         "Lucas Mancini",
         "AC/DC",
         0.99
        ],
        [
         "Frank Harris",
         "Guns N' Roses",
         0.99
        ],
        [
         "František Wichterlová",
         "Stone Temple Pilots",
         0.99
        ],
        [
         "John Gordon",
         "Marvin Gaye",
         0.99
        ],
        [
         "Richard Cunningham",
         "Stone Temple Pilots",
         0.99
        ],
        [
         "Steve Murray",
         "Christopher O'Riley",
         0.99
        ],
        [
         "Rishabh Mishra",
         "Creedence Clearwater Revival",
         0.99
        ],
        [
         "Edward Francis",
         "Joe Satriani",
         0.99
        ],
        [
         "Madalena Sampaio",
         "Nirvana",
         0.99
        ],
        [
         "Hugh O'Reilly",
         "Os Mutantes",
         0.99
        ],
        [
         "Jack Smith",
         "R.E.M.",
         0.99
        ],
        [
         "Isabelle Mercier",
         "Frank Sinatra",
         0.99
        ],
        [
         "Phil Hughes",
         "Chico Buarque",
         0.99
        ],
        [
         "Madalena Sampaio",
         "UB40",
         0.99
        ],
        [
         "Wyatt Girard",
         "Aerosmith",
         0.99
        ],
        [
         "Heather Leacock",
         "Pearl Jam",
         0.99
        ],
        [
         "Victor Stevens",
         "Aerosmith",
         0.99
        ],
        [
         "Daan Peeters",
         "Black Sabbath",
         0.99
        ],
        [
         "John Gordon",
         "Led Zeppelin",
         0.99
        ],
        [
         "Astrid Gruber",
         "Temple of the Dog",
         0.99
        ],
        [
         "Camille Bernard",
         "Frank Sinatra",
         0.99
        ],
        [
         "Johannes Van der Berg",
         "Aerosmith",
         0.99
        ],
        [
         "Heather Leacock",
         "Velvet Revolver",
         0.99
        ],
        [
         "Patrick Gray",
         "Cássia Eller",
         0.99
        ],
        [
         "Mark Philips",
         "Apocalyptica",
         0.99
        ],
        [
         "Helena Holý",
         "Alice In Chains",
         0.99
        ],
        [
         "Ellie Sullivan",
         "Itzhak Perlman",
         0.99
        ],
        [
         "Madalena Sampaio",
         "Yo-Yo Ma",
         0.99
        ],
        [
         "Steve Murray",
         "Alice In Chains",
         0.99
        ],
        [
         "Niklas Schröder",
         "Motörhead",
         0.99
        ],
        [
         "Luís Gonçalves",
         "Djavan",
         0.99
        ],
        [
         "Jennifer Peterson",
         "Deep Purple",
         0.99
        ],
        [
         "Lucas Mancini",
         "Aerosmith",
         0.99
        ],
        [
         "Marc Dubois",
         "Marisa Monte",
         0.99
        ],
        [
         "Kathy Chase",
         "Gilberto Gil",
         0.99
        ],
        [
         "František Wichterlová",
         "James Brown",
         0.99
        ],
        [
         "Jack Smith",
         "Judas Priest",
         0.99
        ],
        [
         "Michelle Brooks",
         "Rush",
         0.99
        ],
        [
         "Mark Taylor",
         "Eric Clapton",
         0.99
        ],
        [
         "Rishabh Mishra",
         "Van Halen",
         0.99
        ],
        [
         "Michelle Brooks",
         "Mötley Crüe",
         0.99
        ],
        [
         "Dan Miller",
         "JET",
         0.99
        ],
        [
         "Mark Philips",
         "Page & Plant",
         0.99
        ],
        [
         "Helena Holý",
         "Chico Science & Nação Zumbi",
         0.99
        ],
        [
         "Bjørn Hansen",
         "Scorpions",
         0.99
        ],
        [
         "Frank Ralston",
         "Eric Clapton",
         0.99
        ],
        [
         "Dan Miller",
         "Rush",
         0.99
        ],
        [
         "Michelle Brooks",
         "Def Leppard",
         0.99
        ],
        [
         "Michelle Brooks",
         "Skank",
         0.99
        ],
        [
         "Fernanda Ramos",
         "The Rolling Stones",
         0.99
        ],
        [
         "Wyatt Girard",
         "Ozzy Osbourne",
         0.99
        ],
        [
         "Isabelle Mercier",
         "Iron Maiden",
         0.99
        ],
        [
         "François Tremblay",
         "Itzhak Perlman",
         0.99
        ],
        [
         "Leonie Köhler",
         "R.E.M.",
         0.99
        ],
        [
         "Dominique Lefebvre",
         "The Rolling Stones",
         0.99
        ],
        [
         "Frank Harris",
         "Chris Cornell",
         0.99
        ],
        [
         "Hugh O'Reilly",
         "House Of Pain",
         0.99
        ],
        [
         "Luis Rojas",
         "Caetano Veloso",
         0.99
        ],
        [
         "Kara Nielsen",
         "Marillion",
         0.99
        ],
        [
         "Diego Gutiérrez",
         "Def Leppard",
         0.99
        ],
        [
         "Johannes Van der Berg",
         "Green Day",
         0.99
        ],
        [
         "Mark Taylor",
         "The Who",
         0.99
        ],
        [
         "Jennifer Peterson",
         "Tim Maia",
         0.99
        ],
        [
         "Edward Francis",
         "Amy Winehouse",
         0.99
        ],
        [
         "Fynn Zimmermann",
         "Audioslave",
         0.99
        ],
        [
         "François Tremblay",
         "Spyro Gyra",
         0.99
        ],
        [
         "Wyatt Girard",
         "Metallica",
         0.99
        ],
        [
         "Luis Rojas",
         "Judas Priest",
         0.99
        ],
        [
         "Julia Barnett",
         "Os Mutantes",
         0.99
        ],
        [
         "Terhi Hämäläinen",
         "Santana",
         0.99
        ],
        [
         "Luís Gonçalves",
         "Godsmack",
         0.99
        ],
        [
         "Heather Leacock",
         "Incognito",
         0.99
        ],
        [
         "Lucas Mancini",
         "Ed Motta",
         0.99
        ],
        [
         "Fernanda Ramos",
         "Cake",
         0.99
        ],
        [
         "Manoj Pareek",
         "Black Label Society",
         0.99
        ],
        [
         "Diego Gutiérrez",
         "Red Hot Chili Peppers",
         0.99
        ],
        [
         "Aaron Mitchell",
         "JET",
         0.99
        ],
        [
         "Mark Taylor",
         "Queen",
         0.99
        ],
        [
         "Julia Barnett",
         "Cake",
         0.99
        ],
        [
         "Diego Gutiérrez",
         "The Rolling Stones",
         0.99
        ],
        [
         "Manoj Pareek",
         "James Brown",
         0.99
        ],
        [
         "Isabelle Mercier",
         "Chico Buarque",
         0.99
        ],
        [
         "Leonie Köhler",
         "Mötley Crüe",
         0.99
        ],
        [
         "Michelle Brooks",
         "Cake",
         0.99
        ],
        [
         "Bjørn Hansen",
         "Eric Clapton",
         0.99
        ],
        [
         "Dan Miller",
         "Luciana Souza/Romero Lubambo",
         0.99
        ],
        [
         "Joakim Johansson",
         "Passengers",
         0.99
        ],
        [
         "Daan Peeters",
         "Black Label Society",
         0.99
        ],
        [
         "Niklas Schröder",
         "Djavan",
         0.99
        ],
        [
         "Helena Holý",
         "Marisa Monte",
         0.99
        ],
        [
         "Frank Ralston",
         "System Of A Down",
         0.99
        ],
        [
         "Lucas Mancini",
         "The Clash",
         0.99
        ],
        [
         "Patrick Gray",
         "The Police",
         0.99
        ],
        [
         "João Fernandes",
         "Scorpions",
         0.99
        ],
        [
         "Julia Barnett",
         "House Of Pain",
         0.99
        ],
        [
         "Kathy Chase",
         "System Of A Down",
         0.99
        ],
        [
         "Emma Jones",
         "Foo Fighters",
         0.99
        ],
        [
         "Enrique Muñoz",
         "Nirvana",
         0.99
        ],
        [
         "Ellie Sullivan",
         "Creedence Clearwater Revival",
         0.99
        ],
        [
         "João Fernandes",
         "Pearl Jam",
         0.99
        ],
        [
         "Frank Harris",
         "Marisa Monte",
         0.99
        ],
        [
         "Aaron Mitchell",
         "Rush",
         0.99
        ],
        [
         "Edward Francis",
         "The Who",
         0.99
        ],
        [
         "Victor Stevens",
         "Alanis Morissette",
         0.99
        ],
        [
         "Bjørn Hansen",
         "Alice In Chains",
         0.99
        ],
        [
         "Phil Hughes",
         "Billy Cobham",
         0.99
        ],
        [
         "João Fernandes",
         "Guns N' Roses",
         0.99
        ],
        [
         "Dominique Lefebvre",
         "Ozzy Osbourne",
         0.99
        ],
        [
         "Fernanda Ramos",
         "Creedence Clearwater Revival",
         0.99
        ],
        [
         "Enrique Muñoz",
         "Chico Buarque",
         0.99
        ],
        [
         "Joakim Johansson",
         "Pink Floyd",
         0.99
        ],
        [
         "Martha Silk",
         "Eric Clapton",
         0.99
        ],
        [
         "Niklas Schröder",
         "Caetano Veloso",
         0.99
        ],
        [
         "Marc Dubois",
         "Audioslave",
         0.99
        ],
        [
         "Patrick Gray",
         "Alanis Morissette",
         0.99
        ],
        [
         "Ladislav Kovács",
         "Scorpions",
         0.99
        ],
        [
         "Marc Dubois",
         "Alice In Chains",
         0.99
        ],
        [
         "Luis Rojas",
         "Van Halen",
         0.99
        ],
        [
         "John Gordon",
         "Cake",
         0.99
        ],
        [
         "Johannes Van der Berg",
         "Jamiroquai",
         0.99
        ],
        [
         "Isabelle Mercier",
         "David Coverdale",
         0.99
        ],
        [
         "Richard Cunningham",
         "Queen",
         0.99
        ],
        [
         "Dominique Lefebvre",
         "Calexico",
         0.99
        ],
        [
         "Astrid Gruber",
         "R.E.M.",
         0.99
        ],
        [
         "Edward Francis",
         "Chico Buarque",
         0.99
        ],
        [
         "Dominique Lefebvre",
         "Creedence Clearwater Revival",
         0.99
        ],
        [
         "Johannes Van der Berg",
         "Audioslave",
         0.99
        ],
        [
         "Eduardo Martins",
         "Legião Urbana",
         0.99
        ],
        [
         "Victor Stevens",
         "Motörhead",
         0.99
        ],
        [
         "Robert Brown",
         "Metallica",
         0.99
        ],
        [
         "Alexandre Rocha",
         "Rush",
         0.99
        ],
        [
         "Frank Ralston",
         "Apocalyptica",
         0.99
        ],
        [
         "Ellie Sullivan",
         "Deep Purple",
         0.99
        ],
        [
         "Frank Ralston",
         "Ozzy Osbourne",
         0.99
        ],
        [
         "François Tremblay",
         "Frank Sinatra",
         0.99
        ],
        [
         "Richard Cunningham",
         "Antônio Carlos Jobim",
         0.99
        ],
        [
         "Steve Murray",
         "Santana",
         0.99
        ],
        [
         "Marc Dubois",
         "Jimi Hendrix",
         0.99
        ],
        [
         "Patrick Gray",
         "Amy Winehouse",
         0.99
        ],
        [
         "Mark Taylor",
         "Faith No More",
         0.99
        ],
        [
         "Frank Harris",
         "Mötley Crüe",
         0.99
        ],
        [
         "Daan Peeters",
         "Amy Winehouse",
         0.99
        ],
        [
         "Kara Nielsen",
         "Alanis Morissette",
         0.99
        ],
        [
         "Luís Gonçalves",
         "Mötley Crüe",
         0.99
        ],
        [
         "Manoj Pareek",
         "Luciano Pavarotti",
         0.99
        ],
        [
         "Manoj Pareek",
         "AC/DC",
         0.99
        ],
        [
         "John Gordon",
         "Black Sabbath",
         0.99
        ],
        [
         "Edward Francis",
         "Motörhead",
         0.99
        ],
        [
         "Terhi Hämäläinen",
         "Temple of the Dog",
         0.99
        ],
        [
         "Manoj Pareek",
         "Apocalyptica",
         0.99
        ],
        [
         "Hugh O'Reilly",
         "UB40",
         0.99
        ],
        [
         "Edward Francis",
         "Rush",
         0.99
        ],
        [
         "Niklas Schröder",
         "Green Day",
         0.99
        ],
        [
         "Hugh O'Reilly",
         "Jimi Hendrix",
         0.99
        ],
        [
         "Richard Cunningham",
         "Judas Priest",
         0.99
        ],
        [
         "Jennifer Peterson",
         "Raul Seixas",
         0.99
        ],
        [
         "Jack Smith",
         "The Cult",
         0.99
        ],
        [
         "François Tremblay",
         "Karsh Kale",
         0.99
        ],
        [
         "Aaron Mitchell",
         "Soundgarden",
         0.99
        ],
        [
         "João Fernandes",
         "Motörhead",
         0.99
        ],
        [
         "Steve Murray",
         "Jamiroquai",
         0.99
        ],
        [
         "Alexandre Rocha",
         "Aerosmith",
         0.99
        ],
        [
         "Terhi Hämäläinen",
         "Godsmack",
         0.99
        ],
        [
         "Fynn Zimmermann",
         "Red Hot Chili Peppers",
         0.99
        ],
        [
         "Michelle Brooks",
         "Jorge Ben",
         0.99
        ],
        [
         "Martha Silk",
         "The Posies",
         0.99
        ],
        [
         "Stanisław Wójcik",
         "Jorge Ben",
         0.99
        ],
        [
         "Michelle Brooks",
         "Van Halen",
         0.99
        ],
        [
         "Leonie Köhler",
         "Milton Nascimento",
         0.99
        ],
        [
         "Camille Bernard",
         "UB40",
         0.99
        ],
        [
         "Jennifer Peterson",
         "Rush",
         0.99
        ],
        [
         "Ladislav Kovács",
         "Van Halen",
         0.99
        ],
        [
         "Fernanda Ramos",
         "Black Label Society",
         0.99
        ],
        [
         "Rishabh Mishra",
         "Christopher O'Riley",
         0.99
        ],
        [
         "Ellie Sullivan",
         "Planet Hemp",
         0.99
        ],
        [
         "Heather Leacock",
         "Audioslave",
         0.99
        ],
        [
         "Victor Stevens",
         "Velvet Revolver",
         0.99
        ],
        [
         "Luís Gonçalves",
         "Yo-Yo Ma",
         0.99
        ],
        [
         "Frank Harris",
         "Pink Floyd",
         0.99
        ],
        [
         "Emma Jones",
         "Iron Maiden",
         0.99
        ],
        [
         "Robert Brown",
         "Green Day",
         0.99
        ],
        [
         "Manoj Pareek",
         "Cake",
         0.99
        ],
        [
         "Mark Philips",
         "Green Day",
         0.99
        ],
        [
         "Leonie Köhler",
         "Green Day",
         0.99
        ],
        [
         "Patrick Gray",
         "The Black Crowes",
         0.99
        ],
        [
         "Mark Philips",
         "Marvin Gaye",
         0.99
        ],
        [
         "Phil Hughes",
         "Alanis Morissette",
         0.99
        ],
        [
         "Edward Francis",
         "Green Day",
         0.99
        ],
        [
         "Rishabh Mishra",
         "Santana",
         0.99
        ],
        [
         "Kara Nielsen",
         "Lenny Kravitz",
         0.99
        ],
        [
         "Fynn Zimmermann",
         "Pink Floyd",
         0.99
        ],
        [
         "Ladislav Kovács",
         "Iron Maiden",
         0.99
        ],
        [
         "Lucas Mancini",
         "Frank Sinatra",
         0.99
        ],
        [
         "João Fernandes",
         "Van Halen",
         0.99
        ],
        [
         "Richard Cunningham",
         "AC/DC",
         0.99
        ],
        [
         "Edward Francis",
         "The Cult",
         0.99
        ],
        [
         "Astrid Gruber",
         "Amy Winehouse",
         0.99
        ],
        [
         "Luís Gonçalves",
         "R.E.M.",
         0.99
        ],
        [
         "Patrick Gray",
         "Men At Work",
         0.99
        ],
        [
         "Leonie Köhler",
         "The Who",
         0.99
        ],
        [
         "Mark Taylor",
         "Soundgarden",
         0.99
        ],
        [
         "Madalena Sampaio",
         "U2",
         0.99
        ],
        [
         "Manoj Pareek",
         "House Of Pain",
         0.99
        ],
        [
         "Hugh O'Reilly",
         "Mötley Crüe",
         0.99
        ],
        [
         "Joakim Johansson",
         "Judas Priest",
         0.99
        ],
        [
         "Stanisław Wójcik",
         "Judas Priest",
         0.99
        ],
        [
         "Mark Taylor",
         "Marvin Gaye",
         0.99
        ],
        [
         "Wyatt Girard",
         "Jamiroquai",
         0.99
        ],
        [
         "Wyatt Girard",
         "The Doors",
         0.99
        ],
        [
         "Heather Leacock",
         "Lenny Kravitz",
         0.99
        ],
        [
         "Stanisław Wójcik",
         "Deep Purple",
         0.99
        ],
        [
         "Ellie Sullivan",
         "Aerosmith",
         0.99
        ],
        [
         "Astrid Gruber",
         "Red Hot Chili Peppers",
         0.99
        ],
        [
         "Dan Miller",
         "System Of A Down",
         0.99
        ],
        [
         "Leonie Köhler",
         "Led Zeppelin",
         0.99
        ],
        [
         "Victor Stevens",
         "Miles Davis",
         0.99
        ],
        [
         "Hugh O'Reilly",
         "The Clash",
         0.99
        ],
        [
         "João Fernandes",
         "Santana",
         0.99
        ],
        [
         "Johannes Van der Berg",
         "The Who",
         0.99
        ],
        [
         "Kathy Chase",
         "Aerosmith",
         0.99
        ],
        [
         "Ellie Sullivan",
         "Motörhead",
         0.99
        ],
        [
         "Daan Peeters",
         "Deep Purple",
         0.99
        ],
        [
         "Rishabh Mishra",
         "Scorpions",
         0.99
        ],
        [
         "Heather Leacock",
         "Marisa Monte",
         0.99
        ],
        [
         "Madalena Sampaio",
         "Frank Sinatra",
         0.99
        ],
        [
         "Tim Goyer",
         "Jimi Hendrix",
         0.99
        ],
        [
         "Roberto Almeida",
         "System Of A Down",
         0.99
        ],
        [
         "Manoj Pareek",
         "Audioslave",
         0.99
        ],
        [
         "Diego Gutiérrez",
         "AC/DC",
         0.99
        ],
        [
         "Diego Gutiérrez",
         "Jamiroquai",
         0.99
        ],
        [
         "Kathy Chase",
         "The Clash",
         0.99
        ],
        [
         "Marc Dubois",
         "Kiss",
         0.99
        ],
        [
         "John Gordon",
         "Jimi Hendrix",
         0.99
        ],
        [
         "Camille Bernard",
         "Faith No More",
         0.99
        ],
        [
         "Marc Dubois",
         "Planet Hemp",
         0.99
        ],
        [
         "Johannes Van der Berg",
         "Kiss",
         0.99
        ],
        [
         "Diego Gutiérrez",
         "Pearl Jam",
         0.99
        ],
        [
         "Eduardo Martins",
         "Apocalyptica",
         0.99
        ],
        [
         "Bjørn Hansen",
         "Amy Winehouse",
         0.99
        ],
        [
         "Joakim Johansson",
         "UB40",
         0.99
        ],
        [
         "Aaron Mitchell",
         "Kiss",
         0.99
        ],
        [
         "Helena Holý",
         "Queen",
         0.99
        ],
        [
         "Madalena Sampaio",
         "R.E.M.",
         0.99
        ],
        [
         "Ladislav Kovács",
         "The Rolling Stones",
         0.99
        ],
        [
         "Joakim Johansson",
         "Cake",
         0.99
        ],
        [
         "Terhi Hämäläinen",
         "Nirvana",
         0.99
        ],
        [
         "Daan Peeters",
         "Alice In Chains",
         0.99
        ],
        [
         "Emma Jones",
         "Os Mutantes",
         0.99
        ],
        [
         "Richard Cunningham",
         "Mötley Crüe",
         0.99
        ],
        [
         "Enrique Muñoz",
         "James Brown",
         0.99
        ],
        [
         "Diego Gutiérrez",
         "The Clash",
         0.99
        ],
        [
         "Ellie Sullivan",
         "Green Day",
         0.99
        ],
        [
         "Fernanda Ramos",
         "Van Halen",
         0.99
        ],
        [
         "Michelle Brooks",
         "Raul Seixas",
         0.99
        ],
        [
         "Mark Taylor",
         "Ed Motta",
         0.99
        ],
        [
         "Madalena Sampaio",
         "Green Day",
         0.99
        ],
        [
         "Madalena Sampaio",
         "Marcos Valle",
         0.99
        ],
        [
         "Dominique Lefebvre",
         "Chico Buarque",
         0.99
        ],
        [
         "Enrique Muñoz",
         "The Doors",
         0.99
        ],
        [
         "Dominique Lefebvre",
         "Guns N' Roses",
         0.99
        ],
        [
         "Astrid Gruber",
         "Pink Floyd",
         0.99
        ],
        [
         "Stanisław Wójcik",
         "R.E.M.",
         0.99
        ],
        [
         "Helena Holý",
         "Frank Sinatra",
         0.99
        ],
        [
         "Camille Bernard",
         "Apocalyptica",
         0.99
        ],
        [
         "Luis Rojas",
         "The Black Crowes",
         0.99
        ],
        [
         "Johannes Van der Berg",
         "The Clash",
         0.99
        ],
        [
         "Eduardo Martins",
         "Audioslave",
         0.99
        ],
        [
         "Luis Rojas",
         "Soundgarden",
         0.99
        ],
        [
         "Tim Goyer",
         "Aerosmith",
         0.99
        ],
        [
         "Tim Goyer",
         "U2",
         0.99
        ],
        [
         "Daan Peeters",
         "Metallica",
         0.99
        ],
        [
         "Frank Ralston",
         "James Brown",
         0.99
        ],
        [
         "Jack Smith",
         "Scorpions",
         0.99
        ],
        [
         "Lucas Mancini",
         "Godsmack",
         0.99
        ],
        [
         "Martha Silk",
         "Pink Floyd",
         0.99
        ],
        [
         "Aaron Mitchell",
         "Pink Floyd",
         0.99
        ],
        [
         "Enrique Muñoz",
         "Pearl Jam",
         0.99
        ],
        [
         "Hannah Schneider",
         "Deep Purple",
         0.99
        ],
        [
         "Fernanda Ramos",
         "Judas Priest",
         0.99
        ],
        [
         "John Gordon",
         "Alanis Morissette",
         0.99
        ],
        [
         "Frank Ralston",
         "The Black Crowes",
         0.99
        ],
        [
         "Hugh O'Reilly",
         "Wilhelm Kempff",
         0.99
        ],
        [
         "Leonie Köhler",
         "Black Sabbath",
         0.99
        ],
        [
         "Mark Philips",
         "Rush",
         0.99
        ],
        [
         "Diego Gutiérrez",
         "R.E.M.",
         0.99
        ],
        [
         "João Fernandes",
         "Frank Sinatra",
         0.99
        ],
        [
         "François Tremblay",
         "Santana",
         0.99
        ],
        [
         "Julia Barnett",
         "Aerosmith",
         0.99
        ],
        [
         "Ladislav Kovács",
         "Raimundos",
         0.99
        ],
        [
         "Hugh O'Reilly",
         "James Brown",
         0.99
        ],
        [
         "Alexandre Rocha",
         "Titãs",
         0.99
        ],
        [
         "Daan Peeters",
         "U2",
         0.99
        ],
        [
         "Lucas Mancini",
         "Cake",
         0.99
        ],
        [
         "Michelle Brooks",
         "U2",
         0.99
        ],
        [
         "Edward Francis",
         "Buddy Guy",
         0.99
        ],
        [
         "Niklas Schröder",
         "Godsmack",
         0.99
        ],
        [
         "Edward Francis",
         "Scorpions",
         0.99
        ],
        [
         "Ellie Sullivan",
         "The Black Crowes",
         0.99
        ],
        [
         "Rishabh Mishra",
         "R.E.M.",
         0.99
        ],
        [
         "Leonie Köhler",
         "Deep Purple",
         0.99
        ],
        [
         "Tim Goyer",
         "Joe Satriani",
         0.99
        ],
        [
         "Richard Cunningham",
         "Buddy Guy",
         0.99
        ],
        [
         "Mark Philips",
         "Motörhead",
         0.99
        ],
        [
         "Helena Holý",
         "The Posies",
         0.99
        ],
        [
         "Johannes Van der Berg",
         "Van Halen",
         0.99
        ],
        [
         "John Gordon",
         "The Clash",
         0.99
        ],
        [
         "Dan Miller",
         "James Brown",
         0.99
        ],
        [
         "Isabelle Mercier",
         "Godsmack",
         0.99
        ],
        [
         "Isabelle Mercier",
         "Black Sabbath",
         0.99
        ],
        [
         "Frank Ralston",
         "Red Hot Chili Peppers",
         0.99
        ],
        [
         "Jennifer Peterson",
         "Guns N' Roses",
         0.99
        ],
        [
         "Luis Rojas",
         "Alice In Chains",
         0.99
        ],
        [
         "Alexandre Rocha",
         "Iron Maiden",
         0.99
        ],
        [
         "Luis Rojas",
         "Velvet Revolver",
         0.99
        ],
        [
         "Bjørn Hansen",
         "Miles Davis",
         0.99
        ],
        [
         "Luis Rojas",
         "Black Sabbath",
         0.99
        ],
        [
         "Jack Smith",
         "Iron Maiden",
         0.99
        ],
        [
         "Joakim Johansson",
         "Legião Urbana",
         0.99
        ],
        [
         "Luis Rojas",
         "Os Mutantes",
         0.99
        ],
        [
         "Wyatt Girard",
         "Milton Nascimento",
         0.99
        ],
        [
         "Alexandre Rocha",
         "Pink Floyd",
         0.99
        ],
        [
         "Lucas Mancini",
         "R.E.M.",
         0.99
        ],
        [
         "Helena Holý",
         "Skank",
         0.99
        ],
        [
         "Helena Holý",
         "The Clash",
         0.99
        ],
        [
         "Daan Peeters",
         "Marvin Gaye",
         0.99
        ],
        [
         "Emma Jones",
         "Def Leppard",
         0.99
        ],
        [
         "Isabelle Mercier",
         "Queen",
         0.99
        ],
        [
         "Mark Philips",
         "U2",
         0.99
        ],
        [
         "Niklas Schröder",
         "Marvin Gaye",
         0.99
        ],
        [
         "Niklas Schröder",
         "Black Sabbath",
         0.99
        ],
        [
         "Aaron Mitchell",
         "The Clash",
         0.99
        ],
        [
         "Kara Nielsen",
         "Incognito",
         0.99
        ],
        [
         "Luis Rojas",
         "U2",
         0.99
        ],
        [
         "Mark Philips",
         "The Rolling Stones",
         0.99
        ],
        [
         "Jack Smith",
         "Kiss",
         0.99
        ],
        [
         "Enrique Muñoz",
         "Aerosmith",
         0.99
        ],
        [
         "František Wichterlová",
         "Green Day",
         0.99
        ],
        [
         "Helena Holý",
         "Bruce Dickinson",
         0.99
        ],
        [
         "Marc Dubois",
         "Milton Nascimento",
         0.99
        ],
        [
         "František Wichterlová",
         "Iron Maiden",
         0.99
        ],
        [
         "Hugh O'Reilly",
         "Pink Floyd",
         0.99
        ],
        [
         "Joakim Johansson",
         "Lenny Kravitz",
         0.99
        ],
        [
         "Jennifer Peterson",
         "Def Leppard",
         0.99
        ],
        [
         "Frank Ralston",
         "Audioslave",
         0.99
        ],
        [
         "Michelle Brooks",
         "Eric Clapton",
         0.99
        ],
        [
         "František Wichterlová",
         "Aerosmith",
         0.99
        ],
        [
         "Ellie Sullivan",
         "Iron Maiden",
         0.99
        ],
        [
         "Aaron Mitchell",
         "Metallica",
         0.99
        ],
        [
         "Helena Holý",
         "Metallica",
         0.99
        ],
        [
         "Rishabh Mishra",
         "Stone Temple Pilots",
         0.99
        ],
        [
         "Stanisław Wójcik",
         "Amy Winehouse",
         0.99
        ],
        [
         "Kara Nielsen",
         "Joe Satriani",
         0.99
        ],
        [
         "Lucas Mancini",
         "Os Mutantes",
         0.99
        ],
        [
         "Leonie Köhler",
         "Gilberto Gil",
         0.99
        ],
        [
         "Marc Dubois",
         "The Doors",
         0.99
        ],
        [
         "Roberto Almeida",
         "Chico Science & Nação Zumbi",
         0.99
        ],
        [
         "Jennifer Peterson",
         "AC/DC",
         0.99
        ],
        [
         "Kara Nielsen",
         "UB40",
         0.99
        ],
        [
         "Roberto Almeida",
         "Judas Priest",
         0.99
        ],
        [
         "Fynn Zimmermann",
         "JET",
         0.99
        ],
        [
         "John Gordon",
         "Soundgarden",
         0.99
        ],
        [
         "Patrick Gray",
         "Marillion",
         0.99
        ],
        [
         "Ellie Sullivan",
         "Tim Maia",
         0.99
        ],
        [
         "Niklas Schröder",
         "Audioslave",
         0.99
        ],
        [
         "Edward Francis",
         "Godsmack",
         0.99
        ],
        [
         "Jack Smith",
         "Ozzy Osbourne",
         0.99
        ],
        [
         "Madalena Sampaio",
         "The Rolling Stones",
         0.99
        ],
        [
         "Johannes Van der Berg",
         "Rush",
         0.99
        ],
        [
         "Julia Barnett",
         "Jamiroquai",
         0.99
        ],
        [
         "Steve Murray",
         "The Police",
         0.99
        ],
        [
         "João Fernandes",
         "The Who",
         0.99
        ],
        [
         "Kathy Chase",
         "Raimundos",
         0.99
        ],
        [
         "Enrique Muñoz",
         "Motörhead",
         0.99
        ],
        [
         "Heather Leacock",
         "Queen",
         0.99
        ],
        [
         "Rishabh Mishra",
         "The Police",
         0.99
        ],
        [
         "Leonie Köhler",
         "Marillion",
         0.99
        ],
        [
         "João Fernandes",
         "Audioslave",
         0.99
        ],
        [
         "Mark Philips",
         "Alice In Chains",
         0.99
        ],
        [
         "Fernanda Ramos",
         "Eric Clapton",
         0.99
        ],
        [
         "Steve Murray",
         "Men At Work",
         0.99
        ],
        [
         "Ladislav Kovács",
         "Temple of the Dog",
         0.99
        ],
        [
         "Hugh O'Reilly",
         "System Of A Down",
         0.99
        ],
        [
         "Jack Smith",
         "UB40",
         0.99
        ],
        [
         "Astrid Gruber",
         "Lenny Kravitz",
         0.99
        ],
        [
         "Victor Stevens",
         "Aisha Duo",
         0.99
        ],
        [
         "František Wichterlová",
         "Black Sabbath",
         0.99
        ],
        [
         "João Fernandes",
         "Stone Temple Pilots",
         0.99
        ],
        [
         "Camille Bernard",
         "Spyro Gyra",
         0.99
        ],
        [
         "Martha Silk",
         "Faith No More",
         0.99
        ],
        [
         "Frank Ralston",
         "Os Mutantes",
         0.99
        ],
        [
         "Mark Taylor",
         "AC/DC",
         0.99
        ],
        [
         "Terhi Hämäläinen",
         "Cake",
         0.99
        ],
        [
         "Camille Bernard",
         "Aerosmith",
         0.99
        ],
        [
         "Madalena Sampaio",
         "Accept",
         0.99
        ],
        [
         "Hugh O'Reilly",
         "The Doors",
         0.99
        ],
        [
         "Martha Silk",
         "Led Zeppelin",
         0.99
        ],
        [
         "Edward Francis",
         "Gustav Mahler",
         0.99
        ],
        [
         "Daan Peeters",
         "Apocalyptica",
         0.99
        ],
        [
         "Emma Jones",
         "Black Sabbath",
         0.99
        ],
        [
         "Leonie Köhler",
         "Buddy Guy",
         0.99
        ],
        [
         "Manoj Pareek",
         "The Clash",
         0.99
        ],
        [
         "Roberto Almeida",
         "Apocalyptica",
         0.99
        ],
        [
         "Robert Brown",
         "Van Halen",
         0.99
        ],
        [
         "Rishabh Mishra",
         "Iron Maiden",
         0.99
        ],
        [
         "Isabelle Mercier",
         "Dread Zeppelin",
         0.99
        ],
        [
         "Isabelle Mercier",
         "Cake",
         0.99
        ],
        [
         "Frank Harris",
         "Iron Maiden",
         0.99
        ],
        [
         "Julia Barnett",
         "James Brown",
         0.99
        ],
        [
         "Terhi Hämäläinen",
         "Lulu Santos",
         0.99
        ],
        [
         "František Wichterlová",
         "UB40",
         0.99
        ],
        [
         "Stanisław Wójcik",
         "Chris Cornell",
         0.99
        ],
        [
         "Niklas Schröder",
         "Cake",
         0.99
        ],
        [
         "Michelle Brooks",
         "JET",
         0.99
        ],
        [
         "Dan Miller",
         "The Clash",
         0.99
        ],
        [
         "Edward Francis",
         "Marvin Gaye",
         0.99
        ],
        [
         "Camille Bernard",
         "U2",
         0.99
        ],
        [
         "Frank Ralston",
         "The Rolling Stones",
         0.99
        ],
        [
         "Michelle Brooks",
         "Metallica",
         0.99
        ],
        [
         "Hannah Schneider",
         "The Doors",
         0.99
        ],
        [
         "Daan Peeters",
         "AC/DC",
         0.99
        ],
        [
         "Enrique Muñoz",
         "Stone Temple Pilots",
         0.99
        ],
        [
         "Roberto Almeida",
         "Red Hot Chili Peppers",
         0.99
        ],
        [
         "Terhi Hämäläinen",
         "Scorpions",
         0.99
        ],
        [
         "Eduardo Martins",
         "Van Halen",
         0.99
        ],
        [
         "Jennifer Peterson",
         "Godsmack",
         0.99
        ],
        [
         "Helena Holý",
         "Green Day",
         0.99
        ],
        [
         "Edward Francis",
         "The Police",
         0.99
        ],
        [
         "Joakim Johansson",
         "Led Zeppelin",
         0.99
        ],
        [
         "Stanisław Wójcik",
         "Cake",
         0.99
        ],
        [
         "Lucas Mancini",
         "Metallica",
         0.99
        ],
        [
         "Ladislav Kovács",
         "Nirvana",
         0.99
        ],
        [
         "Patrick Gray",
         "Alice In Chains",
         0.99
        ],
        [
         "Hannah Schneider",
         "Jamiroquai",
         0.99
        ],
        [
         "Terhi Hämäläinen",
         "Jamiroquai",
         0.99
        ],
        [
         "Frank Ralston",
         "R.E.M.",
         0.99
        ],
        [
         "Joakim Johansson",
         "Aerosmith",
         0.99
        ],
        [
         "Hannah Schneider",
         "The Cult",
         0.99
        ],
        [
         "Richard Cunningham",
         "Cake",
         0.99
        ],
        [
         "Jack Smith",
         "Pearl Jam",
         0.99
        ],
        [
         "Daan Peeters",
         "Eric Clapton",
         0.99
        ],
        [
         "Marc Dubois",
         "R.E.M.",
         0.99
        ],
        [
         "Ellie Sullivan",
         "Foo Fighters",
         0.99
        ],
        [
         "Leonie Köhler",
         "Marvin Gaye",
         0.99
        ],
        [
         "Manoj Pareek",
         "Deep Purple",
         0.99
        ],
        [
         "Lucas Mancini",
         "Amy Winehouse",
         0.99
        ],
        [
         "Niklas Schröder",
         "The Rolling Stones",
         0.99
        ],
        [
         "Luís Gonçalves",
         "Frank Sinatra",
         0.99
        ],
        [
         "Edward Francis",
         "Men At Work",
         0.99
        ],
        [
         "Tim Goyer",
         "Pearl Jam",
         0.99
        ],
        [
         "Phil Hughes",
         "Lenny Kravitz",
         0.99
        ],
        [
         "François Tremblay",
         "Chico Buarque",
         0.99
        ],
        [
         "Emma Jones",
         "Gustav Mahler",
         0.99
        ],
        [
         "João Fernandes",
         "Accept",
         0.99
        ],
        [
         "Terhi Hämäläinen",
         "Foo Fighters",
         0.99
        ],
        [
         "Mark Taylor",
         "U2",
         0.99
        ],
        [
         "Fernanda Ramos",
         "Zeca Pagodinho",
         0.99
        ],
        [
         "Michelle Brooks",
         "The King's Singers",
         0.99
        ],
        [
         "Hannah Schneider",
         "Mötley Crüe",
         0.99
        ],
        [
         "Jennifer Peterson",
         "Alanis Morissette",
         0.99
        ],
        [
         "Martha Silk",
         "Iron Maiden",
         0.99
        ],
        [
         "Aaron Mitchell",
         "Guns N' Roses",
         0.99
        ],
        [
         "Rishabh Mishra",
         "Red Hot Chili Peppers",
         0.99
        ],
        [
         "Hannah Schneider",
         "The Rolling Stones",
         0.99
        ],
        [
         "Astrid Gruber",
         "Led Zeppelin",
         0.99
        ],
        [
         "Frank Harris",
         "Audioslave",
         0.99
        ],
        [
         "Mark Taylor",
         "Godsmack",
         0.99
        ],
        [
         "Hugh O'Reilly",
         "Van Halen",
         0.99
        ],
        [
         "Victor Stevens",
         "Guns N' Roses",
         0.99
        ],
        [
         "Michelle Brooks",
         "Marvin Gaye",
         0.99
        ],
        [
         "Dan Miller",
         "Led Zeppelin",
         0.99
        ],
        [
         "Camille Bernard",
         "JET",
         0.99
        ],
        [
         "Robert Brown",
         "Godsmack",
         0.99
        ],
        [
         "Robert Brown",
         "AC/DC",
         0.99
        ],
        [
         "Rishabh Mishra",
         "Godsmack",
         0.99
        ],
        [
         "Kathy Chase",
         "The Police",
         0.99
        ],
        [
         "François Tremblay",
         "Velvet Revolver",
         0.99
        ],
        [
         "Eduardo Martins",
         "Pearl Jam",
         0.99
        ],
        [
         "Roberto Almeida",
         "Alice In Chains",
         0.99
        ],
        [
         "Rishabh Mishra",
         "Caetano Veloso",
         0.99
        ],
        [
         "Camille Bernard",
         "Van Halen",
         0.99
        ],
        [
         "Luís Gonçalves",
         "Calexico",
         0.99
        ],
        [
         "Kara Nielsen",
         "Scorpions",
         0.99
        ],
        [
         "Enrique Muñoz",
         "Luciano Pavarotti",
         0.99
        ],
        [
         "Frank Harris",
         "Green Day",
         0.99
        ],
        [
         "Ellie Sullivan",
         "Nirvana",
         0.99
        ],
        [
         "Fernanda Ramos",
         "Soundgarden",
         0.99
        ],
        [
         "Tim Goyer",
         "Red Hot Chili Peppers",
         0.99
        ],
        [
         "Diego Gutiérrez",
         "Tim Maia",
         0.99
        ],
        [
         "Manoj Pareek",
         "Van Halen",
         0.99
        ],
        [
         "Richard Cunningham",
         "Rush",
         0.99
        ],
        [
         "Kathy Chase",
         "Jimi Hendrix",
         0.99
        ],
        [
         "John Gordon",
         "Creedence Clearwater Revival",
         0.99
        ],
        [
         "Camille Bernard",
         "Black Label Society",
         0.99
        ],
        [
         "Kara Nielsen",
         "Guns N' Roses",
         0.99
        ],
        [
         "Enrique Muñoz",
         "Tim Maia",
         0.99
        ],
        [
         "Fernanda Ramos",
         "Nirvana",
         0.99
        ],
        [
         "Marc Dubois",
         "Faith No More",
         0.99
        ],
        [
         "Patrick Gray",
         "Frank Sinatra",
         0.99
        ],
        [
         "Camille Bernard",
         "Guns N' Roses",
         0.99
        ],
        [
         "Madalena Sampaio",
         "Lenny Kravitz",
         0.99
        ],
        [
         "João Fernandes",
         "Foo Fighters",
         0.99
        ],
        [
         "Wyatt Girard",
         "Apocalyptica",
         0.99
        ],
        [
         "Mark Philips",
         "Eric Clapton",
         0.99
        ],
        [
         "Frank Ralston",
         "Cake",
         0.99
        ],
        [
         "Frank Ralston",
         "Marvin Gaye",
         0.99
        ],
        [
         "François Tremblay",
         "Foo Fighters",
         0.99
        ],
        [
         "Terhi Hämäläinen",
         "Frank Sinatra",
         0.99
        ],
        [
         "Richard Cunningham",
         "Motörhead",
         0.99
        ],
        [
         "Ellie Sullivan",
         "Stone Temple Pilots",
         0.99
        ],
        [
         "Manoj Pareek",
         "Creedence Clearwater Revival",
         0.99
        ],
        [
         "Luís Gonçalves",
         "Scorpions",
         0.99
        ],
        [
         "Bjørn Hansen",
         "The Clash",
         0.99
        ],
        [
         "Johannes Van der Berg",
         "AC/DC",
         0.99
        ],
        [
         "Camille Bernard",
         "Godsmack",
         0.99
        ],
        [
         "Edward Francis",
         "Accept",
         0.99
        ],
        [
         "Ladislav Kovács",
         "Black Sabbath",
         0.99
        ],
        [
         "Edward Francis",
         "Lulu Santos",
         0.99
        ],
        [
         "Daan Peeters",
         "Emerson String Quartet",
         0.99
        ],
        [
         "John Gordon",
         "JET",
         0.99
        ],
        [
         "Mark Philips",
         "Amy Winehouse",
         0.99
        ],
        [
         "Steve Murray",
         "Nirvana",
         0.99
        ],
        [
         "Fernanda Ramos",
         "AC/DC",
         0.99
        ],
        [
         "Jennifer Peterson",
         "The Rolling Stones",
         0.99
        ],
        [
         "Robert Brown",
         "Raul Seixas",
         0.99
        ],
        [
         "Jack Smith",
         "Velvet Revolver",
         0.99
        ],
        [
         "Emma Jones",
         "Cake",
         0.99
        ],
        [
         "Tim Goyer",
         "The Who",
         0.99
        ],
        [
         "Frank Harris",
         "Os Mutantes",
         0.99
        ],
        [
         "Dan Miller",
         "Metallica",
         0.99
        ],
        [
         "Stanisław Wójcik",
         "JET",
         0.99
        ],
        [
         "Helena Holý",
         "JET",
         0.99
        ],
        [
         "John Gordon",
         "U2",
         0.99
        ],
        [
         "Mark Taylor",
         "Santana",
         0.99
        ]
       ],
       "datasetInfos": [],
       "dbfsResultPath": null,
       "isJsonSchema": true,
       "metadata": {},
       "overflow": false,
       "plotOptions": {
        "customPlotOptions": {},
        "displayType": "table",
        "pivotAggregation": null,
        "pivotColumns": null,
        "xColumns": null,
        "yColumns": null
       },
       "removedWidgets": [],
       "schema": [
        {
         "metadata": "{\"__autoGeneratedAlias\":\"true\"}",
         "name": "concat_ws( , first_name, last_name)",
         "type": "\"string\""
        },
        {
         "metadata": "{}",
         "name": "name",
         "type": "\"string\""
        },
        {
         "metadata": "{}",
         "name": "Invoice",
         "type": "\"double\""
        }
       ],
       "type": "table"
      }
     },
     "output_type": "display_data"
    }
   ],
   "source": [
    "%sql\n",
    "select CONCAT_WS(' ',c.first_name,c.last_name),ar.name,SUM(il.unit_price*il.quantity) as Invoice\n",
    "from customer c join invoice i on c.customer_id = i.customer_id join invoice_line il on i.invoice_id = il.invoice_id join track t on \n",
    "il.track_id = t.track_id join album al on t.album_id = al.album_id join artist ar on al.artist_id = ar.artist_id \n",
    "group by CONCAT_WS(' ',c.first_name,c.last_name), i.customer_id,ar.name order by SUM(il.unit_price*il.quantity) desc;"
   ]
  },
  {
   "cell_type": "code",
   "execution_count": 0,
   "metadata": {
    "application/vnd.databricks.v1+cell": {
     "cellMetadata": {},
     "inputWidgets": {},
     "nuid": "ec43b2eb-a59b-41b8-8220-badbe187ce94",
     "showTitle": false,
     "title": ""
    }
   },
   "outputs": [],
   "source": []
  }
 ],
 "metadata": {
  "application/vnd.databricks.v1+notebook": {
   "dashboards": [],
   "language": "python",
   "notebookMetadata": {
    "mostRecentlyExecutedCommandWithImplicitDF": {
     "commandId": 3014262546748133,
     "dataframes": [
      "_sqldf"
     ]
    },
    "pythonIndentUnit": 4
   },
   "notebookName": "music store analysis",
   "widgets": {}
  }
 },
 "nbformat": 4,
 "nbformat_minor": 0
}
